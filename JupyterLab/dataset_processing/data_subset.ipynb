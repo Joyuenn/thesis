{
 "cells": [
  {
   "cell_type": "code",
   "execution_count": 1,
   "id": "03f5cfb1-ac2b-48c1-bead-127edf309666",
   "metadata": {},
   "outputs": [],
   "source": [
    "# Purpose: split training, development and testing datasets generated from data_splitting.py into 10min, 1hour, 5hour and 10hour subsets\n",
    "# Requirement: prepare_scripted_datasets.py (ipynb)\n",
    "#              group_speaker_id.py (ipynb)\n",
    "#              dataset_splitting.py (ipynb)"
   ]
  },
  {
   "cell_type": "code",
   "execution_count": 2,
   "id": "79fde83f-816c-4322-b6e5-10c27a0739e5",
   "metadata": {},
   "outputs": [],
   "source": [
    "# ------------------------------------------\n",
    "#        Importing libraies\n",
    "# ------------------------------------------\n",
    "\n",
    "# For dataframes\n",
    "import pandas as pd\n",
    "# For splitting data\n",
    "from sklearn.model_selection import train_test_split\n",
    "# For printing filepath\n",
    "import os"
   ]
  },
  {
   "cell_type": "code",
   "execution_count": 3,
   "id": "955c9c76-2089-4022-bc4a-161a8e2ed49e",
   "metadata": {},
   "outputs": [
    {
     "name": "stdout",
     "output_type": "stream",
     "text": [
      "\n",
      "------> Setting seed... ----------------------------------------------\n",
      "\n",
      "--> Setting seed as: 230\n"
     ]
    }
   ],
   "source": [
    "# ------------------------------------------\n",
    "#           Setting seed\n",
    "# ------------------------------------------\n",
    "print(\"\\n------> Setting seed... ----------------------------------------------\\n\")\n",
    "# Set a seed to ensure random split can be reproducible\n",
    "seed = 230\n",
    "print(\"--> Setting seed as:\", seed)"
   ]
  },
  {
   "cell_type": "code",
   "execution_count": 4,
   "id": "3020d8f8-874e-4544-953a-c9a140546439",
   "metadata": {},
   "outputs": [],
   "source": [
    "# -----------------------------------------------\n",
    "#           Setting train, dev, test proportion\n",
    "# -----------------------------------------------\n",
    "train_prop = 0.7\n",
    "dev_prop = 0.15\n",
    "test_prop = 0.15"
   ]
  },
  {
   "cell_type": "code",
   "execution_count": 5,
   "id": "0d4a5c26-ea64-46a4-b3c0-547c07e9b114",
   "metadata": {},
   "outputs": [],
   "source": [
    "# ------------------------------------------\n",
    "#        Setting filepath\n",
    "# ------------------------------------------\n",
    "# These data filepath contain dataframes generated from 'dataset_splitting.py'\n",
    "data_train_fp = '/srv/scratch/z5313567/thesis/CU_local/CU_full_train_dataframe_15sec.csv'\n",
    "data_dev_fp = '/srv/scratch/z5313567/thesis/CU_local/CU_full_dev_dataframe_15sec.csv'\n",
    "data_test_fp = '/srv/scratch/z5313567/thesis/CU_local/CU_full_test_dataframe_15sec.csv'"
   ]
  },
  {
   "cell_type": "code",
   "execution_count": 7,
   "id": "727cd5e9-a58e-4536-a8c3-cc0a632adb82",
   "metadata": {},
   "outputs": [],
   "source": [
    "# where 10min datasets are saved\n",
    "data_train_10min_fp = '/srv/scratch/z5313567/thesis/CU_local/5h/CU_10min_train_dataframe_15sec.csv'\n",
    "data_dev_10min_fp = '/srv/scratch/z5313567/thesis/CU_local/5h/CU_10min_train_dataframe_15sec.csv'\n",
    "data_test_10min_fp = '/srv/scratch/z5313567/thesis/CU_local/5h/CU_10min_train_dataframe_15sec.csv'"
   ]
  },
  {
   "cell_type": "code",
   "execution_count": 27,
   "id": "1c218f82-4b06-4fa4-b504-b970f306a28a",
   "metadata": {},
   "outputs": [],
   "source": [
    "# where 1hour datasets are saved\n",
    "data_train_1hour_fp = '/srv/scratch/z5313567/thesis/CU_local/5h/CU_1h_train_dataframe_15sec.csv'\n",
    "data_dev_1hour_fp = '/srv/scratch/z5313567/thesis/CU_local/5h/CU_1h_train_dataframe_15sec.csv'\n",
    "data_test_1hour_fp = '/srv/scratch/z5313567/thesis/CU_local/5h/CU_1h_train_dataframe_15sec.csv'"
   ]
  },
  {
   "cell_type": "code",
   "execution_count": 26,
   "id": "7d55f348-476e-4e98-a331-e3bb6fba2247",
   "metadata": {},
   "outputs": [],
   "source": [
    "# where 5hour datasets are saved\n",
    "data_train_5hour_fp = '/srv/scratch/z5313567/thesis/CU_local/4h/CU_4h_train_dataframe_15sec.csv'\n",
    "data_dev_5hour_fp = '/srv/scratch/z5313567/thesis/CU_local/4h/CU_4h_dev_dataframe_15sec.csv'\n",
    "data_test_5hour_fp = '/srv/scratch/z5313567/thesis/CU_local/4h//CU_4h_test_dataframe_15sec.csv'"
   ]
  },
  {
   "cell_type": "code",
   "execution_count": 29,
   "id": "d6c39e92-b80a-4e1d-9520-8fa5f0721e6a",
   "metadata": {},
   "outputs": [],
   "source": [
    "# where 10hour datasets are saved\n",
    "data_train_10hour_fp = '/srv/scratch/z5313567/thesis/OGI_local/new_10hour_datasets/10hour_OGI_scripted_train_dataframe.csv'\n",
    "data_dev_10hour_fp = '/srv/scratch/z5313567/thesis/OGI_local/new_10hour_datasets/10hour_OGI_scripted_dev_dataframe.csv'\n",
    "data_test_10hour_fp = '/srv/scratch/z5313567/thesis/OGI_local/new_10hour_datasets/10hour_OGI_scripted_test_dataframe.csv'"
   ]
  },
  {
   "cell_type": "code",
   "execution_count": 6,
   "id": "7bdabb3b-ad79-4971-bc69-3679f422075f",
   "metadata": {},
   "outputs": [],
   "source": [
    "# where 20hour datasets are saved\n",
    "data_train_20hour_fp = '/srv/scratch/z5313567/thesis/OGI_local/new_20hour_datasets/20hour_OGI_scripted_train_dataframe.csv'\n",
    "data_dev_20hour_fp = '/srv/scratch/z5313567/thesis/OGI_local/new_20hour_datasets/20hour_OGI_scripted_dev_dataframe.csv'\n",
    "data_test_20hour_fp = '/srv/scratch/z5313567/thesis/OGI_local/new_20hour_datasets/20hour_OGI_scripted_test_dataframe.csv'"
   ]
  },
  {
   "cell_type": "code",
   "execution_count": 27,
   "id": "7de8473d-e0f2-437a-b45f-fc4c1782703c",
   "metadata": {},
   "outputs": [],
   "source": [
    "# ------------------------------------------\n",
    "#        Reading in dataframe\n",
    "# ------------------------------------------\n",
    "# Reading in data dataframe from csv file, as string type\n",
    "# to preserve leading zeros in speaker id\n",
    "data_train_df = pd.read_csv(data_train_fp, dtype=str)\n",
    "data_dev_df = pd.read_csv(data_dev_fp, dtype=str)\n",
    "data_test_df = pd.read_csv(data_test_fp, dtype=str)\n",
    "# Converting duration column to float64\n",
    "data_train_df[\"duration\"] = data_train_df[\"duration\"].apply(pd.to_numeric)\n",
    "data_dev_df[\"duration\"] = data_dev_df[\"duration\"].apply(pd.to_numeric)\n",
    "data_test_df[\"duration\"] = data_test_df[\"duration\"].apply(pd.to_numeric)"
   ]
  },
  {
   "cell_type": "code",
   "execution_count": 28,
   "id": "e7877fd3-b604-47bc-8a29-22458311aa3d",
   "metadata": {},
   "outputs": [
    {
     "name": "stdout",
     "output_type": "stream",
     "text": [
      "Total duration in train dataframe is 169672.42476190475 seconds, 2827.8737460317457 minutes, 47.1312291005291 hours\n",
      "Total duration in dev dataframe is 32194.128480725623 seconds, 536.5688080120938 minutes, 8.942813466868229 hours\n",
      "Total duration in test dataframe is 30905.642947845805 seconds, 515.0940491307634 minutes, 8.584900818846057 hours\n"
     ]
    }
   ],
   "source": [
    "# ------------------------------------------\n",
    "#        Obtain total duration of train df\n",
    "# ------------------------------------------\n",
    "total_duration_train_df = data_train_df['duration'].sum()\n",
    "print(f'Total duration in train dataframe is {total_duration_train_df} seconds, {total_duration_train_df/60} minutes, {total_duration_train_df/(60*60)} hours')\n",
    "total_duration_dev_df = data_dev_df['duration'].sum()\n",
    "print(f'Total duration in dev dataframe is {total_duration_dev_df} seconds, {total_duration_dev_df/60} minutes, {total_duration_dev_df/(60*60)} hours')\n",
    "total_duration_test_df = data_test_df['duration'].sum()\n",
    "print(f'Total duration in test dataframe is {total_duration_test_df} seconds, {total_duration_test_df/60} minutes, {total_duration_test_df/(60*60)} hours')"
   ]
  },
  {
   "cell_type": "code",
   "execution_count": 29,
   "id": "f59e6350-751c-4af2-b601-2cb7919d34b6",
   "metadata": {},
   "outputs": [],
   "source": [
    "def GetSubset(subset_secs, total_secs, data_df, subset_fp, seed):\n",
    "    for i in range(len(subset_secs)):\n",
    "        prop_subset = (subset_secs[i]/total_secs) #proportion of subset compared to total\n",
    "        discard, subset = train_test_split(data_df, test_size=prop_subset, random_state=seed, shuffle=True) # subset can be either train, dev or test\n",
    "        print(f'For {subset_secs[i]/(60*60)}-hour dataset--> Hours in subset:', subset['duration'].sum()/(60*60))\n",
    "        subset.to_csv(subset_fp[i], index=False)\n",
    "        print(f'Successfully saved {subset_secs[i]/(60*60)}-hour dataset to {subset_fp[i]}')\n",
    "        print('Samples:', len(subset))\n",
    "        print('\\n')"
   ]
  },
  {
   "cell_type": "code",
   "execution_count": 33,
   "id": "25bd5cd8-1922-429c-be4a-4355d9df5d47",
   "metadata": {},
   "outputs": [
    {
     "name": "stdout",
     "output_type": "stream",
     "text": [
      "For 0.16666666666666666-hour dataset--> Hours in subset: 0.16514726631393298\n",
      "Successfully saved 0.16666666666666666-hour dataset to /srv/scratch/z5313567/thesis/OGI_local/new_10min_datasets/10min_OGI_scripted_train_dataframe.csv\n",
      "Samples: 173\n",
      "\n",
      "\n",
      "For 1.0-hour dataset--> Hours in subset: 1.0173574703955657\n",
      "Successfully saved 1.0-hour dataset to /srv/scratch/z5313567/thesis/OGI_local/new_1hour_datasets/1hour_OGI_scripted_train_dataframe.csv\n",
      "Samples: 1036\n",
      "\n",
      "\n",
      "For 5.0-hour dataset--> Hours in subset: 5.018006777525825\n",
      "Successfully saved 5.0-hour dataset to /srv/scratch/z5313567/thesis/OGI_local/new_5hour_datasets/5hour_OGI_scripted_train_dataframe.csv\n",
      "Samples: 5177\n",
      "\n",
      "\n",
      "For 10.0-hour dataset--> Hours in subset: 10.035672965482489\n",
      "Successfully saved 10.0-hour dataset to /srv/scratch/z5313567/thesis/OGI_local/new_10hour_datasets/10hour_OGI_scripted_train_dataframe.csv\n",
      "Samples: 10354\n",
      "\n",
      "\n"
     ]
    }
   ],
   "source": [
    "train_subset_secs = [10*60, 1*60*60, 5*60*60, 10*60*60]\n",
    "train_subset_fp = [data_train_10min_fp, data_train_1hour_fp, data_train_5hour_fp, data_train_10hour_fp]\n",
    "GetSubset(train_subset_secs, total_duration_train_df, data_train_df, train_subset_fp, seed)"
   ]
  },
  {
   "cell_type": "code",
   "execution_count": 34,
   "id": "b672e3d1-7164-46a2-beaa-d8db1e991f5c",
   "metadata": {},
   "outputs": [
    {
     "name": "stdout",
     "output_type": "stream",
     "text": [
      "For 0.03571428571428572-hour dataset--> Hours in subset: 0.039786104812295275\n",
      "Successfully saved 0.03571428571428572-hour dataset to /srv/scratch/z5313567/thesis/OGI_local/new_10min_datasets/10min_OGI_scripted_dev_dataframe.csv\n",
      "Samples: 37\n",
      "\n",
      "\n",
      "For 0.2142857142857143-hour dataset--> Hours in subset: 0.2248028974552784\n",
      "Successfully saved 0.2142857142857143-hour dataset to /srv/scratch/z5313567/thesis/OGI_local/new_1hour_datasets/1hour_OGI_scripted_dev_dataframe.csv\n",
      "Samples: 222\n",
      "\n",
      "\n",
      "For 1.0714285714285714-hour dataset--> Hours in subset: 1.0851111740992694\n",
      "Successfully saved 1.0714285714285714-hour dataset to /srv/scratch/z5313567/thesis/OGI_local/new_5hour_datasets/5hour_OGI_scripted_dev_dataframe.csv\n",
      "Samples: 1109\n",
      "\n",
      "\n",
      "For 2.142857142857143-hour dataset--> Hours in subset: 2.136513492063492\n",
      "Successfully saved 2.142857142857143-hour dataset to /srv/scratch/z5313567/thesis/OGI_local/new_10hour_datasets/10hour_OGI_scripted_dev_dataframe.csv\n",
      "Samples: 2217\n",
      "\n",
      "\n"
     ]
    }
   ],
   "source": [
    "dev_subset_secs = [(train_subset_secs[i] / train_prop) * dev_prop for i in range(len(train_subset_secs))]\n",
    "dev_subset_fp = [data_dev_10min_fp, data_dev_1hour_fp, data_dev_5hour_fp, data_dev_10hour_fp]\n",
    "GetSubset(dev_subset_secs, total_duration_dev_df, data_dev_df, dev_subset_fp, seed)"
   ]
  },
  {
   "cell_type": "code",
   "execution_count": 35,
   "id": "ba3b6f93-427c-4569-aa62-c28f38550b7e",
   "metadata": {},
   "outputs": [
    {
     "name": "stdout",
     "output_type": "stream",
     "text": [
      "For 0.03571428571428572-hour dataset--> Hours in subset: 0.039383282942806755\n",
      "Successfully saved 0.03571428571428572-hour dataset to /srv/scratch/z5313567/thesis/OGI_local/new_10min_datasets/10min_OGI_scripted_test_dataframe.csv\n",
      "Samples: 37\n",
      "\n",
      "\n",
      "For 0.2142857142857143-hour dataset--> Hours in subset: 0.22082228521038044\n",
      "Successfully saved 0.2142857142857143-hour dataset to /srv/scratch/z5313567/thesis/OGI_local/new_1hour_datasets/1hour_OGI_scripted_test_dataframe.csv\n",
      "Samples: 218\n",
      "\n",
      "\n",
      "For 1.0714285714285714-hour dataset--> Hours in subset: 1.0918419249181155\n",
      "Successfully saved 1.0714285714285714-hour dataset to /srv/scratch/z5313567/thesis/OGI_local/new_5hour_datasets/5hour_OGI_scripted_test_dataframe.csv\n",
      "Samples: 1086\n",
      "\n",
      "\n",
      "For 2.142857142857143-hour dataset--> Hours in subset: 2.1632552280171327\n",
      "Successfully saved 2.142857142857143-hour dataset to /srv/scratch/z5313567/thesis/OGI_local/new_10hour_datasets/10hour_OGI_scripted_test_dataframe.csv\n",
      "Samples: 2171\n",
      "\n",
      "\n"
     ]
    }
   ],
   "source": [
    "test_subset_secs = [(train_subset_secs[i] / train_prop) * test_prop for i in range(len(train_subset_secs))]\n",
    "test_subset_fp = [data_test_10min_fp, data_test_1hour_fp, data_test_5hour_fp, data_test_10hour_fp]\n",
    "GetSubset(test_subset_secs, total_duration_test_df, data_test_df, test_subset_fp, seed)"
   ]
  },
  {
   "cell_type": "code",
   "execution_count": 11,
   "id": "01807f3f-a2c4-4596-8405-c4341d9d9050",
   "metadata": {},
   "outputs": [
    {
     "name": "stdout",
     "output_type": "stream",
     "text": [
      "For 20.0-hour dataset--> Hours in subset: 19.959878584026203\n",
      "Successfully saved 20.0-hour dataset to /srv/scratch/z5313567/thesis/OGI_local/new_20hour_datasets/20hour_OGI_scripted_train_dataframe.csv\n",
      "Samples: 20707\n",
      "\n",
      "\n"
     ]
    }
   ],
   "source": [
    "train_subset_secs = [20*60*60]\n",
    "train_subset_fp = [data_train_20hour_fp]\n",
    "GetSubset(train_subset_secs, total_duration_train_df, data_train_df, train_subset_fp, seed)"
   ]
  },
  {
   "cell_type": "code",
   "execution_count": 12,
   "id": "5064cde4-eb5f-4100-b526-e0947c372452",
   "metadata": {},
   "outputs": [
    {
     "name": "stdout",
     "output_type": "stream",
     "text": [
      "For 4.285714285714286-hour dataset--> Hours in subset: 4.2601931972789115\n",
      "Successfully saved 4.285714285714286-hour dataset to /srv/scratch/z5313567/thesis/OGI_local/new_20hour_datasets/20hour_OGI_scripted_dev_dataframe.csv\n",
      "Samples: 4433\n",
      "\n",
      "\n"
     ]
    }
   ],
   "source": [
    "dev_subset_secs = [(train_subset_secs[i] / train_prop) * dev_prop for i in range(len(train_subset_secs))]\n",
    "dev_subset_fp = [data_dev_20hour_fp]\n",
    "GetSubset(dev_subset_secs, total_duration_dev_df, data_dev_df, dev_subset_fp, seed)"
   ]
  },
  {
   "cell_type": "code",
   "execution_count": 13,
   "id": "ce1c856f-2766-4837-aee4-94384cb03cc4",
   "metadata": {},
   "outputs": [
    {
     "name": "stdout",
     "output_type": "stream",
     "text": [
      "For 4.285714285714286-hour dataset--> Hours in subset: 4.3338754724111865\n",
      "Successfully saved 4.285714285714286-hour dataset to /srv/scratch/z5313567/thesis/OGI_local/new_20hour_datasets/20hour_OGI_scripted_test_dataframe.csv\n",
      "Samples: 4342\n",
      "\n",
      "\n"
     ]
    }
   ],
   "source": [
    "test_subset_secs = [(train_subset_secs[i] / train_prop) * test_prop for i in range(len(train_subset_secs))]\n",
    "test_subset_fp = [data_test_20hour_fp]\n",
    "GetSubset(test_subset_secs, total_duration_test_df, data_test_df, test_subset_fp, seed)"
   ]
  },
  {
   "cell_type": "code",
   "execution_count": 30,
   "id": "d7a9c237-6ed9-4ffa-b097-d39e81bb2daa",
   "metadata": {},
   "outputs": [
    {
     "name": "stdout",
     "output_type": "stream",
     "text": [
      "For 3.98-hour dataset--> Hours in subset: 4.069543121693122\n",
      "Successfully saved 3.98-hour dataset to /srv/scratch/z5313567/thesis/CU_local/4h/CU_4h_train_dataframe_15sec.csv\n",
      "Samples: 4842\n",
      "\n",
      "\n"
     ]
    }
   ],
   "source": [
    "train_subset_secs = [3.98*60*60]\n",
    "train_subset_fp = [data_train_5hour_fp]\n",
    "GetSubset(train_subset_secs, total_duration_train_df, data_train_df, train_subset_fp, seed)"
   ]
  },
  {
   "cell_type": "code",
   "execution_count": 31,
   "id": "59512e31-b21a-4f91-96ca-7ff7a79e0a8f",
   "metadata": {},
   "outputs": [
    {
     "name": "stdout",
     "output_type": "stream",
     "text": [
      "For 0.852857142857143-hour dataset--> Hours in subset: 0.8833593222474175\n",
      "Successfully saved 0.852857142857143-hour dataset to /srv/scratch/z5313567/thesis/CU_local/4h/CU_4h_dev_dataframe_15sec.csv\n",
      "Samples: 1055\n",
      "\n",
      "\n"
     ]
    }
   ],
   "source": [
    "dev_subset_secs = [(train_subset_secs[i] / train_prop) * dev_prop for i in range(len(train_subset_secs))]\n",
    "dev_subset_fp = [data_dev_5hour_fp]\n",
    "GetSubset(dev_subset_secs, total_duration_dev_df, data_dev_df, dev_subset_fp, seed)"
   ]
  },
  {
   "cell_type": "code",
   "execution_count": 32,
   "id": "95c5b2f2-1091-4ffa-8677-20a183653bb6",
   "metadata": {},
   "outputs": [
    {
     "name": "stdout",
     "output_type": "stream",
     "text": [
      "For 0.852857142857143-hour dataset--> Hours in subset: 0.8609941672965482\n",
      "Successfully saved 0.852857142857143-hour dataset to /srv/scratch/z5313567/thesis/CU_local/4h//CU_4h_test_dataframe_15sec.csv\n",
      "Samples: 1043\n",
      "\n",
      "\n"
     ]
    }
   ],
   "source": [
    "test_subset_secs = [(train_subset_secs[i] / train_prop) * test_prop for i in range(len(train_subset_secs))]\n",
    "test_subset_fp = [data_test_5hour_fp]\n",
    "GetSubset(test_subset_secs, total_duration_test_df, data_test_df, test_subset_fp, seed)"
   ]
  },
  {
   "cell_type": "code",
   "execution_count": null,
   "id": "aab9eaed-a475-4673-b1f2-fea741f369d4",
   "metadata": {},
   "outputs": [],
   "source": []
  }
 ],
 "metadata": {
  "kernelspec": {
   "display_name": "Python 3.10.8 (ipykernel)",
   "language": "python",
   "name": "python-3.10.8"
  },
  "language_info": {
   "codemirror_mode": {
    "name": "ipython",
    "version": 3
   },
   "file_extension": ".py",
   "mimetype": "text/x-python",
   "name": "python",
   "nbconvert_exporter": "python",
   "pygments_lexer": "ipython3",
   "version": "3.10.8"
  }
 },
 "nbformat": 4,
 "nbformat_minor": 5
}

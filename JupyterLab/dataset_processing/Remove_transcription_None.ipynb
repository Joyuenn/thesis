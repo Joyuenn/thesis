{
 "cells": [
  {
   "cell_type": "code",
   "execution_count": 43,
   "id": "3a01a67e-4b9a-47a5-b1e5-283330017e0c",
   "metadata": {},
   "outputs": [],
   "source": [
    "import pandas as pd"
   ]
  },
  {
   "cell_type": "code",
   "execution_count": 44,
   "id": "2dca6f37-0587-4e03-9c69-dfe809e13b94",
   "metadata": {},
   "outputs": [],
   "source": [
    "fp = '/srv/scratch/z5313567/thesis/CU_local/CU_stories_dataframe.csv'"
   ]
  },
  {
   "cell_type": "code",
   "execution_count": 45,
   "id": "ad3d83f9-361c-474c-b16e-317013d8d68a",
   "metadata": {},
   "outputs": [],
   "source": [
    "df = pd.read_csv(fp)"
   ]
  },
  {
   "cell_type": "code",
   "execution_count": 46,
   "id": "e28ac2f2-9d76-4b0f-a875-79105f8e6330",
   "metadata": {},
   "outputs": [],
   "source": [
    "# remove transcription with NaN or None\n",
    "cleaned_df = df.dropna(subset=['transcription'])"
   ]
  },
  {
   "cell_type": "code",
   "execution_count": 47,
   "id": "b7be7ab5-8195-49f4-b658-33a59e71c097",
   "metadata": {},
   "outputs": [
    {
     "name": "stdout",
     "output_type": "stream",
     "text": [
      "no rows with 'transcription' as None.\n"
     ]
    }
   ],
   "source": [
    "rows_none_transcription = cleaned_df[cleaned_df['transcription'].isnull()]\n",
    "\n",
    "if not rows_none_transcription.empty:\n",
    "    print(\"rows with 'transcription_clean' as None:\")\n",
    "    print(rows_none_transcription)\n",
    "    print('\\n')\n",
    "    print(\"corresponding filepaths:\")\n",
    "    for index, row in rows_none_transcription.iterrows():\n",
    "        print(row['filepath'])\n",
    "else:\n",
    "    print(\"no rows with 'transcription' as None.\")"
   ]
  },
  {
   "cell_type": "code",
   "execution_count": 48,
   "id": "e8412aab-ff90-4e2b-882f-432832c97f52",
   "metadata": {},
   "outputs": [
    {
     "name": "stdout",
     "output_type": "stream",
     "text": [
      "no empty transcriptions found.\n"
     ]
    }
   ],
   "source": [
    "empty_transcriptions = cleaned_df[cleaned_df['transcription'].str.strip().eq(\"  \")]\n",
    "\n",
    "if empty_transcriptions.empty:\n",
    "    print(\"no empty transcriptions found.\")\n",
    "else:\n",
    "    print(\"empty transcriptions found:\")\n",
    "    print(empty_transcriptions)"
   ]
  },
  {
   "cell_type": "code",
   "execution_count": 49,
   "id": "c2a1570f-f7a6-4f51-b991-c04ae7128177",
   "metadata": {},
   "outputs": [],
   "source": [
    "cleaned_df.to_csv(fp, index=False)"
   ]
  },
  {
   "cell_type": "code",
   "execution_count": null,
   "id": "2091a9f5-8e32-425b-8f9e-b59b3f7808fb",
   "metadata": {},
   "outputs": [],
   "source": []
  }
 ],
 "metadata": {
  "kernelspec": {
   "display_name": "Python 3.10.8 (ipykernel)",
   "language": "python",
   "name": "python-3.10.8"
  },
  "language_info": {
   "codemirror_mode": {
    "name": "ipython",
    "version": 3
   },
   "file_extension": ".py",
   "mimetype": "text/x-python",
   "name": "python",
   "nbconvert_exporter": "python",
   "pygments_lexer": "ipython3",
   "version": "3.10.8"
  }
 },
 "nbformat": 4,
 "nbformat_minor": 5
}

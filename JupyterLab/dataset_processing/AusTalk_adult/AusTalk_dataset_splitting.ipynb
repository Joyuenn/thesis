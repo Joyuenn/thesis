{
 "cells": [
  {
   "cell_type": "code",
   "execution_count": 18,
   "id": "4bd8c29f-9fe8-4234-bede-807fd7992f7c",
   "metadata": {},
   "outputs": [],
   "source": [
    "import pandas as pd\n",
    "from sklearn.model_selection import train_test_split"
   ]
  },
  {
   "cell_type": "code",
   "execution_count": 28,
   "id": "804771dc-c1ac-4f5a-a854-4ee915d1f23c",
   "metadata": {},
   "outputs": [],
   "source": [
    "full_df_fp = '/srv/scratch/z5313567/thesis/AusTalk_local/story_sentences/full/AusTalk_story_sentences_full_dataframe_15sec.csv'\n",
    "train_df_fp = '/srv/scratch/z5313567/thesis/AusTalk_local/story_sentences/full/AusTalk_story_sentences_full_train_dataframe_15sec.csv'\n",
    "dev_df_fp = '/srv/scratch/z5313567/thesis/AusTalk_local/story_sentences/full/AusTalk_story_sentences_full_dev_dataframe_15sec.csv'\n",
    "test_df_fp = '/srv/scratch/z5313567/thesis/AusTalk_local/story_sentences/full/AusTalk_story_sentences_full_test_dataframe_15sec.csv'"
   ]
  },
  {
   "cell_type": "code",
   "execution_count": 29,
   "id": "b881f48a-4362-4957-9a88-625c2f4d7e28",
   "metadata": {},
   "outputs": [],
   "source": [
    "df = pd.read_csv(full_df_fp, dtype={'speaker_id': str})"
   ]
  },
  {
   "cell_type": "code",
   "execution_count": 30,
   "id": "313f9031-b52d-4540-87fe-5ee41ae5fa6a",
   "metadata": {},
   "outputs": [],
   "source": [
    "seed = 230"
   ]
  },
  {
   "cell_type": "code",
   "execution_count": 31,
   "id": "bcfb5c26-d865-410c-9744-590cf696942a",
   "metadata": {},
   "outputs": [],
   "source": [
    "# 1.group by transcription\n",
    "group_by_transcription = df.groupby('transcription')['duration'].sum()\n",
    "group_by_transcription = group_by_transcription.reset_index()\n",
    "\n",
    "# 2.split the dataframe into training, development and testing sets based on transcription\n",
    "train_transcription, dev_test_transcription = train_test_split(group_by_transcription, test_size=0.6, random_state=seed, shuffle=True)\n",
    "dev_transcription, test_transcription = train_test_split(dev_test_transcription, test_size=0.5, random_state=seed, shuffle=True)"
   ]
  },
  {
   "cell_type": "code",
   "execution_count": 32,
   "id": "de459d17-a15a-47a5-8471-edc69985189b",
   "metadata": {},
   "outputs": [],
   "source": [
    "# 3.group by speaker_id\n",
    "group_by_speaker = df.groupby('speaker_id')['duration'].sum()\n",
    "group_by_speaker = group_by_speaker.reset_index()\n",
    "\n",
    "# 4.split the dataframe into training, development and testing sets based on speaker_id\n",
    "train_speaker, dev_test_speaker = train_test_split(group_by_speaker, test_size=0.3, random_state=seed, shuffle=True)\n",
    "dev_speaker, test_speaker = train_test_split(dev_test_speaker, test_size=0.5, random_state=seed, shuffle=True)"
   ]
  },
  {
   "cell_type": "code",
   "execution_count": 33,
   "id": "63dacbed-f26d-4958-b0e0-061a1f616aee",
   "metadata": {},
   "outputs": [
    {
     "name": "stdout",
     "output_type": "stream",
     "text": [
      "The number of matched speakers is:  542\n",
      "The number of matched transcriptions is:  26\n",
      "The number of matched speakers is:  116\n",
      "The number of matched transcriptions is:  19\n",
      "The number of matched speakers is:  117\n",
      "The number of matched transcriptions is:  20\n"
     ]
    }
   ],
   "source": [
    "# combine speaker_ids and transcriptions in training, development and testing sets \n",
    "def combine_sets(transcription_df, speaker_df):\n",
    "    # extract rows with matching speaker_ids from speaker_df\n",
    "    matched_speakers = df[df['speaker_id'].isin(speaker_df['speaker_id'])]\n",
    "    print('The number of matched speakers is: ', len(set(matched_speakers['speaker_id'])))\n",
    "    # extract rows with matching transcriptions from transcription_df\n",
    "    matched_transcriptions = df[df['transcription'].isin(transcription_df['transcription'])]\n",
    "    print('The number of matched transcriptions is: ', len(set(matched_transcriptions['transcription'])))\n",
    "    \n",
    "    # extract rows with both matching speaker_ids and transcriptions\n",
    "    matched_rows = df[df['speaker_id'].isin(speaker_df['speaker_id']) & df['transcription'].isin(transcription_df['transcription'])]\n",
    "    return matched_rows\n",
    "\n",
    "train_df = combine_sets(train_transcription, train_speaker)\n",
    "dev_df = combine_sets(dev_transcription, dev_speaker)\n",
    "test_df = combine_sets(test_transcription, test_speaker)"
   ]
  },
  {
   "cell_type": "code",
   "execution_count": 34,
   "id": "c2c10c09-0a8e-46d0-8329-7d1fb4590366",
   "metadata": {},
   "outputs": [
    {
     "name": "stdout",
     "output_type": "stream",
     "text": [
      "Number of speech files: 12260\n",
      "Total hours: 20.48828230032754\n",
      "Total minutes: 1229.2969380196523\n",
      "Total seconds: 73757.81628117914\n",
      "Successfully saved training dataframe to csv file at:  /srv/scratch/z5313567/thesis/AusTalk_local/story_sentences/full/AusTalk_story_sentences_full_train_dataframe_15sec.csv\n"
     ]
    }
   ],
   "source": [
    "train_df.to_csv(train_df_fp, index=False)\n",
    "\n",
    "print(\"Number of speech files:\", len(train_df))\n",
    "print(\"Total hours:\", train_df['duration'].sum()/(60*60))\n",
    "print(\"Total minutes:\", train_df['duration'].sum()/(60))\n",
    "print(\"Total seconds:\", train_df['duration'].sum())\n",
    "print('Successfully saved training dataframe to csv file at: ', train_df_fp)"
   ]
  },
  {
   "cell_type": "code",
   "execution_count": 35,
   "id": "fcc927a7-c041-425e-b379-8c42019b1d19",
   "metadata": {},
   "outputs": [
    {
     "name": "stdout",
     "output_type": "stream",
     "text": [
      "Number of speech files: 1830\n",
      "Total hours: 2.775826820357773\n",
      "Total minutes: 166.54960922146637\n",
      "Total seconds: 9992.976553287983\n",
      "Successfully saved development dataframe to csv file at:  /srv/scratch/z5313567/thesis/AusTalk_local/story_sentences/full/AusTalk_story_sentences_full_dev_dataframe_15sec.csv\n"
     ]
    }
   ],
   "source": [
    "dev_df.to_csv(dev_df_fp, index=False)\n",
    "\n",
    "print(\"Number of speech files:\", len(dev_df))\n",
    "print(\"Total hours:\", dev_df['duration'].sum()/(60*60))\n",
    "print(\"Total minutes:\", dev_df['duration'].sum()/(60))\n",
    "print(\"Total seconds:\", dev_df['duration'].sum())\n",
    "print('Successfully saved development dataframe to csv file at: ', dev_df_fp)"
   ]
  },
  {
   "cell_type": "code",
   "execution_count": 36,
   "id": "e30e2f39-b8f1-484c-bb25-2f16c58d015f",
   "metadata": {},
   "outputs": [
    {
     "name": "stdout",
     "output_type": "stream",
     "text": [
      "Number of speech files: 1895\n",
      "Total hours: 3.06150382968002\n",
      "Total minutes: 183.6902297808012\n",
      "Total seconds: 11021.413786848072\n",
      "Successfully saved testing dataset to csv file at:  /srv/scratch/z5313567/thesis/AusTalk_local/story_sentences/full/AusTalk_story_sentences_full_test_dataframe_15sec.csv\n"
     ]
    }
   ],
   "source": [
    "test_df.to_csv(test_df_fp, index=False)\n",
    "    \n",
    "print(\"Number of speech files:\", len(test_df))\n",
    "print(\"Total hours:\", test_df['duration'].sum()/(60*60))\n",
    "print(\"Total minutes:\", test_df['duration'].sum()/(60))\n",
    "print(\"Total seconds:\", test_df['duration'].sum())\n",
    "print('Successfully saved testing dataset to csv file at: ', test_df_fp)"
   ]
  },
  {
   "cell_type": "code",
   "execution_count": null,
   "id": "47c2b483-062b-41c5-9a7a-a99e62da8c59",
   "metadata": {},
   "outputs": [],
   "source": []
  },
  {
   "cell_type": "code",
   "execution_count": null,
   "id": "0c73f154-2445-4172-a28f-3931961d98ea",
   "metadata": {},
   "outputs": [],
   "source": []
  }
 ],
 "metadata": {
  "kernelspec": {
   "display_name": "Python 3.10.8 (ipykernel)",
   "language": "python",
   "name": "python-3.10.8"
  },
  "language_info": {
   "codemirror_mode": {
    "name": "ipython",
    "version": 3
   },
   "file_extension": ".py",
   "mimetype": "text/x-python",
   "name": "python",
   "nbconvert_exporter": "python",
   "pygments_lexer": "ipython3",
   "version": "3.10.8"
  }
 },
 "nbformat": 4,
 "nbformat_minor": 5
}

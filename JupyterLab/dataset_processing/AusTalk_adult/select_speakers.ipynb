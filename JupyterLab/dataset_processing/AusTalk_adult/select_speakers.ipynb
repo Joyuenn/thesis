{
 "cells": [
  {
   "cell_type": "code",
   "execution_count": 1,
   "id": "58be0580-0188-4757-b214-47fe203743f0",
   "metadata": {},
   "outputs": [],
   "source": [
    "# Extract the AusTalk dataframe such that only 4 speakers corresponding to each transcription"
   ]
  },
  {
   "cell_type": "code",
   "execution_count": 23,
   "id": "1c19de89-4990-403a-b1ff-5431e2d175f5",
   "metadata": {},
   "outputs": [],
   "source": [
    "import pandas as pd\n",
    "import random"
   ]
  },
  {
   "cell_type": "code",
   "execution_count": 24,
   "id": "7e560ea3-6a4b-4f76-afdd-56d723625b7d",
   "metadata": {},
   "outputs": [],
   "source": [
    "data_fp = '/srv/scratch/z5313567/thesis/AusTalk_local/story_sentences/full/AusTalk_story_sentences_full_dataframe.csv'\n",
    "save_fp = '/srv/scratch/z5313567/thesis/AusTalk_local/story_sentences/full_v4_select_speaker/AusTalk_story_sentences_full_dataframe_v4.csv'"
   ]
  },
  {
   "cell_type": "code",
   "execution_count": 25,
   "id": "fe9bdf51-70c5-4282-ac0d-a2e41535014f",
   "metadata": {},
   "outputs": [],
   "source": [
    "data = pd.read_csv(data_fp)"
   ]
  },
  {
   "cell_type": "code",
   "execution_count": 26,
   "id": "a8992058-5764-4d77-bb3a-35252cf1d9cd",
   "metadata": {},
   "outputs": [],
   "source": [
    "group_data = data.groupby('transcription')"
   ]
  },
  {
   "cell_type": "code",
   "execution_count": 27,
   "id": "8dd70c74-77e5-4c07-994d-6500ac48bc0a",
   "metadata": {},
   "outputs": [],
   "source": [
    "new_data = pd.DataFrame(columns=['filepath', 'duration', 'speaker_id', 'transcription', 'audio_id'])"
   ]
  },
  {
   "cell_type": "code",
   "execution_count": 28,
   "id": "4fc08e69-ef97-4b0d-867f-b820928a7625",
   "metadata": {},
   "outputs": [],
   "source": [
    "num_speakers_per_sentence = 4;"
   ]
  },
  {
   "cell_type": "code",
   "execution_count": 29,
   "id": "70ae1ae1-3300-4237-a50e-d28577c99160",
   "metadata": {},
   "outputs": [],
   "source": [
    "for _, group in group_data:\n",
    "    if len(group) >= num_speakers_per_sentence:\n",
    "        unique_speakers = group['speaker_id'].unique()\n",
    "        speakers = random.sample(list(unique_speakers), num_speakers_per_sentence)\n",
    "        for speaker in speakers:\n",
    "            new_rows = group[group['speaker_id'] == speaker]\n",
    "            new_data = pd.concat([new_data, new_rows], ignore_index=True)"
   ]
  },
  {
   "cell_type": "code",
   "execution_count": 30,
   "id": "bc175a82-6b99-41c3-838d-eec1885a3de7",
   "metadata": {},
   "outputs": [
    {
     "name": "stdout",
     "output_type": "stream",
     "text": [
      "\n",
      "---------------------------> Saving dataframe to csv file... ------------------\n",
      "\n",
      "Successfully saved dataframe to csv file at:  /srv/scratch/z5313567/thesis/AusTalk_local/story_sentences/full_v4_select_speaker/AusTalk_story_sentences_full_dataframe_v4.csv\n",
      "Total speech files: 201\n",
      "Total number of speakers: 175\n",
      "Total hours: 0.49523126732174355\n"
     ]
    }
   ],
   "source": [
    "print(\"\\n---------------------------> Saving dataframe to csv file... ------------------\\n\")\n",
    "new_data.to_csv(save_fp, index=False)\n",
    "print('Successfully saved dataframe to csv file at: ', save_fp)\n",
    "print(\"Total speech files:\", len(new_data[\"filepath\"]))\n",
    "print(\"Total number of speakers:\", len(set(new_data[\"speaker_id\"])))\n",
    "print(\"Total hours:\", new_data['duration'].sum()/(60*60))"
   ]
  },
  {
   "cell_type": "code",
   "execution_count": null,
   "id": "0743507e-08ba-4a61-bdba-198e4b4b4c2b",
   "metadata": {},
   "outputs": [],
   "source": []
  },
  {
   "cell_type": "code",
   "execution_count": null,
   "id": "23730ed3-39e0-48eb-8d4a-507d57491a37",
   "metadata": {},
   "outputs": [],
   "source": []
  },
  {
   "cell_type": "code",
   "execution_count": null,
   "id": "68aa7f52-de67-46fd-abfd-b515d65fc4ab",
   "metadata": {},
   "outputs": [],
   "source": []
  },
  {
   "cell_type": "code",
   "execution_count": null,
   "id": "b79745d8-49ce-4b95-a7c0-2dbefdcc5318",
   "metadata": {},
   "outputs": [],
   "source": []
  },
  {
   "cell_type": "code",
   "execution_count": 3,
   "id": "92a2db26-e899-4165-b684-356481127e4b",
   "metadata": {},
   "outputs": [],
   "source": [
    "data = pd.read_csv(data_fp)"
   ]
  },
  {
   "cell_type": "code",
   "execution_count": null,
   "id": "94e6f2a5-0865-45f3-bd24-f60ec0e7ea63",
   "metadata": {},
   "outputs": [],
   "source": [
    "num_speakers_per_sentence = 4;\n",
    "seed = 230;"
   ]
  },
  {
   "cell_type": "code",
   "execution_count": null,
   "id": "2ecb62a0-6df7-4cc4-ae67-9b06ca7e1419",
   "metadata": {},
   "outputs": [],
   "source": [
    "selected_speakers = data['speaker_id'].sample(n=num_speakers_per_sentence, random_state=seed).tolist()"
   ]
  },
  {
   "cell_type": "code",
   "execution_count": null,
   "id": "07e218e0-8924-4bf8-af06-f3abc6badad3",
   "metadata": {},
   "outputs": [],
   "source": [
    "new_dataset = data[data['speaker_id'].isin(selected_speakers)]"
   ]
  },
  {
   "cell_type": "code",
   "execution_count": null,
   "id": "be826121-2e71-4dac-89d7-daba7b6e14c8",
   "metadata": {},
   "outputs": [
    {
     "name": "stdout",
     "output_type": "stream",
     "text": [
      "\n",
      "---------------------------> Saving dataframe to csv file... ------------------\n",
      "\n",
      "Successfully saved dataframe to csv file at:  /srv/scratch/z5313567/thesis/AusTalk_local/story_sentences/full_v4_select_speaker/AusTalk_story_sentences_full_dataframe_v4.csv\n",
      "Total speech files: 262\n",
      "Total number of speakers: 4\n",
      "Total hours: 0.5344217309145881\n"
     ]
    }
   ],
   "source": [
    "print(\"\\n---------------------------> Saving dataframe to csv file... ------------------\\n\")\n",
    "new_dataset.to_csv(save_fp, index=False)\n",
    "print('Successfully saved dataframe to csv file at: ', save_fp)\n",
    "print(\"Total speech files:\", len(new_dataset[\"filepath\"]))\n",
    "print(\"Total number of speakers:\", len(set(new_dataset[\"speaker_id\"])))\n",
    "print(\"Total hours:\", new_dataset['duration'].sum()/(60*60))"
   ]
  },
  {
   "cell_type": "code",
   "execution_count": null,
   "id": "e86b8674-27ad-4662-a32a-27b3abb2eab6",
   "metadata": {},
   "outputs": [
    {
     "data": {
      "text/html": [
       "<div>\n",
       "<style scoped>\n",
       "    .dataframe tbody tr th:only-of-type {\n",
       "        vertical-align: middle;\n",
       "    }\n",
       "\n",
       "    .dataframe tbody tr th {\n",
       "        vertical-align: top;\n",
       "    }\n",
       "\n",
       "    .dataframe thead th {\n",
       "        text-align: right;\n",
       "    }\n",
       "</style>\n",
       "<table border=\"1\" class=\"dataframe\">\n",
       "  <thead>\n",
       "    <tr style=\"text-align: right;\">\n",
       "      <th></th>\n",
       "      <th>filepath</th>\n",
       "      <th>duration</th>\n",
       "      <th>speaker_id</th>\n",
       "      <th>transcription</th>\n",
       "      <th>audio_id</th>\n",
       "    </tr>\n",
       "  </thead>\n",
       "  <tbody>\n",
       "    <tr>\n",
       "      <th>7966</th>\n",
       "      <td>/srv/scratch/speechdata/speech-corpora/AusTalk...</td>\n",
       "      <td>21.362404</td>\n",
       "      <td>4_441</td>\n",
       "      <td>ONCE UPON A TIME THERE WAS A YOUNG RAT NAMED A...</td>\n",
       "      <td>4_441-4_441_1_3_001</td>\n",
       "    </tr>\n",
       "    <tr>\n",
       "      <th>7967</th>\n",
       "      <td>/srv/scratch/speechdata/speech-corpora/AusTalk...</td>\n",
       "      <td>32.693696</td>\n",
       "      <td>4_441</td>\n",
       "      <td>ONE FINE DAY HIS AUNT ZELDA APPEALED TO HIM NO...</td>\n",
       "      <td>4_441-4_441_1_3_002</td>\n",
       "    </tr>\n",
       "    <tr>\n",
       "      <th>7968</th>\n",
       "      <td>/srv/scratch/speechdata/speech-corpora/AusTalk...</td>\n",
       "      <td>40.588526</td>\n",
       "      <td>4_441</td>\n",
       "      <td>ONE NIGHT THE RATS HEARD A LOUD NOISE THEY LIV...</td>\n",
       "      <td>4_441-4_441_1_3_003</td>\n",
       "    </tr>\n",
       "    <tr>\n",
       "      <th>7969</th>\n",
       "      <td>/srv/scratch/speechdata/speech-corpora/AusTalk...</td>\n",
       "      <td>28.142585</td>\n",
       "      <td>4_441</td>\n",
       "      <td>A LITTLE LATER ON IN THE EVENING THEY CAME BAC...</td>\n",
       "      <td>4_441-4_441_1_3_004</td>\n",
       "    </tr>\n",
       "    <tr>\n",
       "      <th>7970</th>\n",
       "      <td>/srv/scratch/speechdata/speech-corpora/AusTalk...</td>\n",
       "      <td>13.467574</td>\n",
       "      <td>4_441</td>\n",
       "      <td>I THINK I'LL GO TOMORROW HE SAID TO HIMSELF BU...</td>\n",
       "      <td>4_441-4_441_1_3_006</td>\n",
       "    </tr>\n",
       "    <tr>\n",
       "      <th>...</th>\n",
       "      <td>...</td>\n",
       "      <td>...</td>\n",
       "      <td>...</td>\n",
       "      <td>...</td>\n",
       "      <td>...</td>\n",
       "    </tr>\n",
       "    <tr>\n",
       "      <th>29284</th>\n",
       "      <td>/srv/scratch/speechdata/speech-corpora/AusTalk...</td>\n",
       "      <td>3.715193</td>\n",
       "      <td>3_135</td>\n",
       "      <td>PLEASE I FEEL TOO LETHARGIC TO WASH UP TONIGHT</td>\n",
       "      <td>3_135-3_135_2_16_055</td>\n",
       "    </tr>\n",
       "    <tr>\n",
       "      <th>29285</th>\n",
       "      <td>/srv/scratch/speechdata/speech-corpora/AusTalk...</td>\n",
       "      <td>6.873152</td>\n",
       "      <td>3_135</td>\n",
       "      <td>THE PLANE FLEW DOWN LOW OVER THE RUNWAY THEN I...</td>\n",
       "      <td>3_135-3_135_2_16_056</td>\n",
       "    </tr>\n",
       "    <tr>\n",
       "      <th>29286</th>\n",
       "      <td>/srv/scratch/speechdata/speech-corpora/AusTalk...</td>\n",
       "      <td>6.315828</td>\n",
       "      <td>3_135</td>\n",
       "      <td>AFTER A GAFFE LIKE THAT IT IS FUTILE TO OFFER ...</td>\n",
       "      <td>3_135-3_135_2_16_057</td>\n",
       "    </tr>\n",
       "    <tr>\n",
       "      <th>29287</th>\n",
       "      <td>/srv/scratch/speechdata/speech-corpora/AusTalk...</td>\n",
       "      <td>6.315828</td>\n",
       "      <td>3_135</td>\n",
       "      <td>THE CHILL WIND CAUSED THE TWINS TO SHIVER VIOL...</td>\n",
       "      <td>3_135-3_135_2_16_058</td>\n",
       "    </tr>\n",
       "    <tr>\n",
       "      <th>29288</th>\n",
       "      <td>/srv/scratch/speechdata/speech-corpora/AusTalk...</td>\n",
       "      <td>7.801905</td>\n",
       "      <td>3_135</td>\n",
       "      <td>SHARON WATCHED THE HELICOPTER AS IT LIFTED OFF...</td>\n",
       "      <td>3_135-3_135_2_16_059</td>\n",
       "    </tr>\n",
       "  </tbody>\n",
       "</table>\n",
       "<p>262 rows × 5 columns</p>\n",
       "</div>"
      ],
      "text/plain": [
       "                                                filepath   duration   \n",
       "7966   /srv/scratch/speechdata/speech-corpora/AusTalk...  21.362404  \\\n",
       "7967   /srv/scratch/speechdata/speech-corpora/AusTalk...  32.693696   \n",
       "7968   /srv/scratch/speechdata/speech-corpora/AusTalk...  40.588526   \n",
       "7969   /srv/scratch/speechdata/speech-corpora/AusTalk...  28.142585   \n",
       "7970   /srv/scratch/speechdata/speech-corpora/AusTalk...  13.467574   \n",
       "...                                                  ...        ...   \n",
       "29284  /srv/scratch/speechdata/speech-corpora/AusTalk...   3.715193   \n",
       "29285  /srv/scratch/speechdata/speech-corpora/AusTalk...   6.873152   \n",
       "29286  /srv/scratch/speechdata/speech-corpora/AusTalk...   6.315828   \n",
       "29287  /srv/scratch/speechdata/speech-corpora/AusTalk...   6.315828   \n",
       "29288  /srv/scratch/speechdata/speech-corpora/AusTalk...   7.801905   \n",
       "\n",
       "      speaker_id                                      transcription   \n",
       "7966       4_441  ONCE UPON A TIME THERE WAS A YOUNG RAT NAMED A...  \\\n",
       "7967       4_441  ONE FINE DAY HIS AUNT ZELDA APPEALED TO HIM NO...   \n",
       "7968       4_441  ONE NIGHT THE RATS HEARD A LOUD NOISE THEY LIV...   \n",
       "7969       4_441  A LITTLE LATER ON IN THE EVENING THEY CAME BAC...   \n",
       "7970       4_441  I THINK I'LL GO TOMORROW HE SAID TO HIMSELF BU...   \n",
       "...          ...                                                ...   \n",
       "29284      3_135     PLEASE I FEEL TOO LETHARGIC TO WASH UP TONIGHT   \n",
       "29285      3_135  THE PLANE FLEW DOWN LOW OVER THE RUNWAY THEN I...   \n",
       "29286      3_135  AFTER A GAFFE LIKE THAT IT IS FUTILE TO OFFER ...   \n",
       "29287      3_135  THE CHILL WIND CAUSED THE TWINS TO SHIVER VIOL...   \n",
       "29288      3_135  SHARON WATCHED THE HELICOPTER AS IT LIFTED OFF...   \n",
       "\n",
       "                   audio_id  \n",
       "7966    4_441-4_441_1_3_001  \n",
       "7967    4_441-4_441_1_3_002  \n",
       "7968    4_441-4_441_1_3_003  \n",
       "7969    4_441-4_441_1_3_004  \n",
       "7970    4_441-4_441_1_3_006  \n",
       "...                     ...  \n",
       "29284  3_135-3_135_2_16_055  \n",
       "29285  3_135-3_135_2_16_056  \n",
       "29286  3_135-3_135_2_16_057  \n",
       "29287  3_135-3_135_2_16_058  \n",
       "29288  3_135-3_135_2_16_059  \n",
       "\n",
       "[262 rows x 5 columns]"
      ]
     },
     "execution_count": 40,
     "metadata": {},
     "output_type": "execute_result"
    }
   ],
   "source": [
    "new_dataset"
   ]
  },
  {
   "cell_type": "code",
   "execution_count": 26,
   "id": "c48d47b9-da86-49cb-8d1c-1f57a0f64c72",
   "metadata": {},
   "outputs": [],
   "source": [
    "new_data = pd.DataFrame(columns=['filepath', 'duration', 'speaker_id', 'transcription'])"
   ]
  },
  {
   "cell_type": "code",
   "execution_count": 27,
   "id": "9dd08e50-308b-47dd-b299-917ede6185a1",
   "metadata": {},
   "outputs": [],
   "source": [
    "# define the number of sentences to extract per speaker \n",
    "sentences_per_speaker = 3\n",
    "# define the seed\n",
    "seed = 230;"
   ]
  },
  {
   "cell_type": "code",
   "execution_count": 28,
   "id": "f0ed9d69-0d9b-45f4-b4c2-8ae2de40573a",
   "metadata": {},
   "outputs": [],
   "source": [
    "group_data = data.groupby('speaker_id')"
   ]
  },
  {
   "cell_type": "code",
   "execution_count": 29,
   "id": "0ab750ed-018a-45e6-bdea-dec56191f548",
   "metadata": {},
   "outputs": [],
   "source": [
    "for _, group in group_data:\n",
    "    if len(group) <= sentences_per_speaker:\n",
    "        new_data = pd.concat([new_data, group])\n",
    "    else:\n",
    "        random_sentences = group.sample(n=sentences_per_speaker, random_state=seed)\n",
    "        new_data = pd.concat([new_data, random_sentences])"
   ]
  },
  {
   "cell_type": "code",
   "execution_count": 25,
   "id": "4d6743b4-5272-41e7-abed-ba796dd23d6a",
   "metadata": {},
   "outputs": [
    {
     "name": "stdout",
     "output_type": "stream",
     "text": [
      "\n",
      "---------------------------> Saving dataframe to csv file... ------------------\n",
      "\n",
      "Successfully saved dataframe to csv file at:  /srv/scratch/z5313567/thesis/AusTalk_local/story_sentences/full_v4_select_speaker/AusTalk_story_sentences_full_dataframe_v4.csv\n",
      "Total speech files: 2327\n",
      "Total number of speakers: 777\n",
      "Total hours: 5.023844129503653\n"
     ]
    }
   ],
   "source": [
    "print(\"\\n---------------------------> Saving dataframe to csv file... ------------------\\n\")\n",
    "new_data.to_csv(save_fp, index=False)\n",
    "print('Successfully saved dataframe to csv file at: ', save_fp)\n",
    "print(\"Total speech files:\", len(new_data[\"filepath\"]))\n",
    "print(\"Total number of speakers:\", len(set(new_data[\"speaker_id\"])))\n",
    "print(\"Total hours:\", new_data['duration'].sum()/(60*60))"
   ]
  },
  {
   "cell_type": "code",
   "execution_count": null,
   "id": "dea194e0-692e-406d-bad4-228fb9e6cbfd",
   "metadata": {},
   "outputs": [],
   "source": []
  }
 ],
 "metadata": {
  "kernelspec": {
   "display_name": "Python 3 (ipykernel)",
   "language": "python",
   "name": "python3"
  },
  "language_info": {
   "codemirror_mode": {
    "name": "ipython",
    "version": 3
   },
   "file_extension": ".py",
   "mimetype": "text/x-python",
   "name": "python",
   "nbconvert_exporter": "python",
   "pygments_lexer": "ipython3",
   "version": "3.10.8"
  }
 },
 "nbformat": 4,
 "nbformat_minor": 5
}

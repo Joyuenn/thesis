{
 "cells": [
  {
   "cell_type": "code",
   "execution_count": null,
   "id": "a34b24e6-865a-4a3f-8c5a-a7794c8de21f",
   "metadata": {},
   "outputs": [],
   "source": [
    "# Random extract a certain number of random transcriptions from each speaker in the dataframe"
   ]
  },
  {
   "cell_type": "code",
   "execution_count": 112,
   "id": "8746848b-16e7-4404-999e-ed6c70ab6b8c",
   "metadata": {},
   "outputs": [],
   "source": [
    "import pandas as pd\n",
    "import numpy as np"
   ]
  },
  {
   "cell_type": "code",
   "execution_count": 127,
   "id": "f415cac3-0d0b-42d8-89ff-2cb4eef0a366",
   "metadata": {},
   "outputs": [],
   "source": [
    "data_fp = '/srv/scratch/z5313567/thesis/AusTalk_local/story_sentences/full_v2/AusTalk_story_sentences_full_test_dataframe_15sec_v2.csv'\n",
    "save_fp = '/srv/scratch/z5313567/thesis/AusTalk_local/story_sentences/full_v3_extract_transcription/AusTalk_story_sentences_full_test_dataframe_15sec_v3.csv'"
   ]
  },
  {
   "cell_type": "code",
   "execution_count": 128,
   "id": "113b136c-79cd-41ba-a286-8f8d76c88a84",
   "metadata": {},
   "outputs": [],
   "source": [
    "df = pd.read_csv(data_fp)"
   ]
  },
  {
   "cell_type": "code",
   "execution_count": 129,
   "id": "4144b3f1-8e1a-4d9a-a179-141c9a765c00",
   "metadata": {},
   "outputs": [],
   "source": [
    "new_df = pd.DataFrame(columns=df.columns)"
   ]
  },
  {
   "cell_type": "code",
   "execution_count": 130,
   "id": "0b5e23f1-3632-4e75-b707-d36d44e0d65e",
   "metadata": {},
   "outputs": [],
   "source": [
    "unique_speakers = df['speaker_id'].unique()"
   ]
  },
  {
   "cell_type": "code",
   "execution_count": 131,
   "id": "a9eb1078-3a16-48fc-ba7f-c6cd8e6c2159",
   "metadata": {},
   "outputs": [],
   "source": [
    "for speaker in unique_speakers:\n",
    "    speaker_data = df[df['speaker_id'] == speaker]\n",
    "    if len(speaker_data) >= 5:\n",
    "        # randomly select 5 transcriptions from each speaker in the datafraem\n",
    "        new_indices = np.random.choice(speaker_data.index, size=5, replace=False)\n",
    "        new_rows = speaker_data.loc[new_indices]\n",
    "        new_df = pd.concat([new_df, new_rows])\n",
    "    else:\n",
    "        # if there are fewer than 4 transcriptions per speaker, include all transcriptions.\n",
    "        new_df = pd.concat([new_df, speaker_data])"
   ]
  },
  {
   "cell_type": "code",
   "execution_count": 132,
   "id": "78b0f136-3485-495a-b663-c621388e9eeb",
   "metadata": {},
   "outputs": [
    {
     "data": {
      "text/html": [
       "<div>\n",
       "<style scoped>\n",
       "    .dataframe tbody tr th:only-of-type {\n",
       "        vertical-align: middle;\n",
       "    }\n",
       "\n",
       "    .dataframe tbody tr th {\n",
       "        vertical-align: top;\n",
       "    }\n",
       "\n",
       "    .dataframe thead th {\n",
       "        text-align: right;\n",
       "    }\n",
       "</style>\n",
       "<table border=\"1\" class=\"dataframe\">\n",
       "  <thead>\n",
       "    <tr style=\"text-align: right;\">\n",
       "      <th></th>\n",
       "      <th>filepath</th>\n",
       "      <th>duration</th>\n",
       "      <th>speaker_id</th>\n",
       "      <th>transcription</th>\n",
       "      <th>audio_id</th>\n",
       "    </tr>\n",
       "  </thead>\n",
       "  <tbody>\n",
       "    <tr>\n",
       "      <th>47</th>\n",
       "      <td>/srv/scratch/speechdata/speech-corpora/AusTalk...</td>\n",
       "      <td>5.572834</td>\n",
       "      <td>2_1151</td>\n",
       "      <td>THE DEAR OLD BISHOP WAS THRUST INTO TROUBLE WI...</td>\n",
       "      <td>2_1151-2_1151_2_16_047</td>\n",
       "    </tr>\n",
       "    <tr>\n",
       "      <th>33</th>\n",
       "      <td>/srv/scratch/speechdata/speech-corpora/AusTalk...</td>\n",
       "      <td>6.222948</td>\n",
       "      <td>2_1151</td>\n",
       "      <td>DON'T BREATHE A WORD OF THIS BUT THE TOPIC OF ...</td>\n",
       "      <td>2_1151-2_1151_2_16_033</td>\n",
       "    </tr>\n",
       "    <tr>\n",
       "      <th>26</th>\n",
       "      <td>/srv/scratch/speechdata/speech-corpora/AusTalk...</td>\n",
       "      <td>1.300317</td>\n",
       "      <td>2_1151</td>\n",
       "      <td>MR BOYD SAYS THESE PRACTICAL JOKES HAVE BEEN T...</td>\n",
       "      <td>2_1151-2_1151_2_16_026</td>\n",
       "    </tr>\n",
       "    <tr>\n",
       "      <th>4</th>\n",
       "      <td>/srv/scratch/speechdata/speech-corpora/AusTalk...</td>\n",
       "      <td>4.829751</td>\n",
       "      <td>2_1151</td>\n",
       "      <td>THE TABLE IS BADLY GLUED AND MADE SO SLOPPILY ...</td>\n",
       "      <td>2_1151-2_1151_2_16_003</td>\n",
       "    </tr>\n",
       "    <tr>\n",
       "      <th>13</th>\n",
       "      <td>/srv/scratch/speechdata/speech-corpora/AusTalk...</td>\n",
       "      <td>3.993832</td>\n",
       "      <td>2_1151</td>\n",
       "      <td>ALAN TOOK A HAM SANDWICH TO SCHOOL</td>\n",
       "      <td>2_1151-2_1151_2_16_012</td>\n",
       "    </tr>\n",
       "    <tr>\n",
       "      <th>...</th>\n",
       "      <td>...</td>\n",
       "      <td>...</td>\n",
       "      <td>...</td>\n",
       "      <td>...</td>\n",
       "      <td>...</td>\n",
       "    </tr>\n",
       "    <tr>\n",
       "      <th>6377</th>\n",
       "      <td>/srv/scratch/speechdata/speech-corpora/AusTalk...</td>\n",
       "      <td>6.222948</td>\n",
       "      <td>2_350</td>\n",
       "      <td>THE PLANE FLEW DOWN LOW OVER THE RUNWAY THEN I...</td>\n",
       "      <td>2_350-2_350_2_16_056</td>\n",
       "    </tr>\n",
       "    <tr>\n",
       "      <th>6356</th>\n",
       "      <td>/srv/scratch/speechdata/speech-corpora/AusTalk...</td>\n",
       "      <td>4.551156</td>\n",
       "      <td>2_350</td>\n",
       "      <td>WE'D BE HARD PUSHED FOR THE WHOLE SQUAD TO CAT...</td>\n",
       "      <td>2_350-2_350_2_16_035</td>\n",
       "    </tr>\n",
       "    <tr>\n",
       "      <th>6328</th>\n",
       "      <td>/srv/scratch/speechdata/speech-corpora/AusTalk...</td>\n",
       "      <td>4.086712</td>\n",
       "      <td>2_350</td>\n",
       "      <td>TROY FLICKS THROUGH A YUPPIE MAGAZINE WHEN HE ...</td>\n",
       "      <td>2_350-2_350_2_16_007</td>\n",
       "    </tr>\n",
       "    <tr>\n",
       "      <th>6373</th>\n",
       "      <td>/srv/scratch/speechdata/speech-corpora/AusTalk...</td>\n",
       "      <td>4.365397</td>\n",
       "      <td>2_350</td>\n",
       "      <td>APPARENTLY BULLDOG TERRIERS YAP ALMOST AS MUCH...</td>\n",
       "      <td>2_350-2_350_2_16_052</td>\n",
       "    </tr>\n",
       "    <tr>\n",
       "      <th>6325</th>\n",
       "      <td>/srv/scratch/speechdata/speech-corpora/AusTalk...</td>\n",
       "      <td>3.993832</td>\n",
       "      <td>2_350</td>\n",
       "      <td>WE'RE GLAD THAT THE PRICE RANGE IS SMALLER THA...</td>\n",
       "      <td>2_350-2_350_2_16_004</td>\n",
       "    </tr>\n",
       "  </tbody>\n",
       "</table>\n",
       "<p>553 rows × 5 columns</p>\n",
       "</div>"
      ],
      "text/plain": [
       "                                               filepath  duration speaker_id   \n",
       "47    /srv/scratch/speechdata/speech-corpora/AusTalk...  5.572834     2_1151  \\\n",
       "33    /srv/scratch/speechdata/speech-corpora/AusTalk...  6.222948     2_1151   \n",
       "26    /srv/scratch/speechdata/speech-corpora/AusTalk...  1.300317     2_1151   \n",
       "4     /srv/scratch/speechdata/speech-corpora/AusTalk...  4.829751     2_1151   \n",
       "13    /srv/scratch/speechdata/speech-corpora/AusTalk...  3.993832     2_1151   \n",
       "...                                                 ...       ...        ...   \n",
       "6377  /srv/scratch/speechdata/speech-corpora/AusTalk...  6.222948      2_350   \n",
       "6356  /srv/scratch/speechdata/speech-corpora/AusTalk...  4.551156      2_350   \n",
       "6328  /srv/scratch/speechdata/speech-corpora/AusTalk...  4.086712      2_350   \n",
       "6373  /srv/scratch/speechdata/speech-corpora/AusTalk...  4.365397      2_350   \n",
       "6325  /srv/scratch/speechdata/speech-corpora/AusTalk...  3.993832      2_350   \n",
       "\n",
       "                                          transcription   \n",
       "47    THE DEAR OLD BISHOP WAS THRUST INTO TROUBLE WI...  \\\n",
       "33    DON'T BREATHE A WORD OF THIS BUT THE TOPIC OF ...   \n",
       "26    MR BOYD SAYS THESE PRACTICAL JOKES HAVE BEEN T...   \n",
       "4     THE TABLE IS BADLY GLUED AND MADE SO SLOPPILY ...   \n",
       "13                   ALAN TOOK A HAM SANDWICH TO SCHOOL   \n",
       "...                                                 ...   \n",
       "6377  THE PLANE FLEW DOWN LOW OVER THE RUNWAY THEN I...   \n",
       "6356  WE'D BE HARD PUSHED FOR THE WHOLE SQUAD TO CAT...   \n",
       "6328  TROY FLICKS THROUGH A YUPPIE MAGAZINE WHEN HE ...   \n",
       "6373  APPARENTLY BULLDOG TERRIERS YAP ALMOST AS MUCH...   \n",
       "6325  WE'RE GLAD THAT THE PRICE RANGE IS SMALLER THA...   \n",
       "\n",
       "                    audio_id  \n",
       "47    2_1151-2_1151_2_16_047  \n",
       "33    2_1151-2_1151_2_16_033  \n",
       "26    2_1151-2_1151_2_16_026  \n",
       "4     2_1151-2_1151_2_16_003  \n",
       "13    2_1151-2_1151_2_16_012  \n",
       "...                      ...  \n",
       "6377    2_350-2_350_2_16_056  \n",
       "6356    2_350-2_350_2_16_035  \n",
       "6328    2_350-2_350_2_16_007  \n",
       "6373    2_350-2_350_2_16_052  \n",
       "6325    2_350-2_350_2_16_004  \n",
       "\n",
       "[553 rows x 5 columns]"
      ]
     },
     "execution_count": 132,
     "metadata": {},
     "output_type": "execute_result"
    }
   ],
   "source": [
    "new_df"
   ]
  },
  {
   "cell_type": "code",
   "execution_count": 133,
   "id": "534c3bd2-95af-4713-b3fe-e1d311b77868",
   "metadata": {},
   "outputs": [
    {
     "name": "stdout",
     "output_type": "stream",
     "text": [
      "\n",
      "---------------------------> Saving dataframe to csv file... ------------------\n",
      "\n",
      "Successfully saved dataframe to csv file at:  /srv/scratch/z5313567/thesis/AusTalk_local/story_sentences/full_v3_extract_transcription/AusTalk_story_sentences_full_test_dataframe_15sec_v3.csv\n",
      "Total speech files: 553\n",
      "Total number of speakers: 117\n",
      "Total hours: 0.9182557067271353\n"
     ]
    }
   ],
   "source": [
    "print(\"\\n---------------------------> Saving dataframe to csv file... ------------------\\n\")\n",
    "new_df.to_csv(save_fp, index=False)\n",
    "print('Successfully saved dataframe to csv file at: ', save_fp)\n",
    "print(\"Total speech files:\", len(new_df[\"filepath\"]))\n",
    "print(\"Total number of speakers:\", len(set(new_df[\"speaker_id\"])))\n",
    "print(\"Total hours:\", new_df['duration'].sum()/(60*60))"
   ]
  },
  {
   "cell_type": "code",
   "execution_count": null,
   "id": "b4056106-ac31-466f-89cc-a76d43b3b39b",
   "metadata": {},
   "outputs": [],
   "source": []
  },
  {
   "cell_type": "code",
   "execution_count": null,
   "id": "708e0dbc-3a19-4e0c-8eb8-7fd89a280a98",
   "metadata": {},
   "outputs": [],
   "source": []
  },
  {
   "cell_type": "code",
   "execution_count": null,
   "id": "379b0c5e-ab56-4663-acf5-5e7be7f9f538",
   "metadata": {},
   "outputs": [],
   "source": []
  }
 ],
 "metadata": {
  "kernelspec": {
   "display_name": "Python 3 (ipykernel)",
   "language": "python",
   "name": "python3"
  },
  "language_info": {
   "codemirror_mode": {
    "name": "ipython",
    "version": 3
   },
   "file_extension": ".py",
   "mimetype": "text/x-python",
   "name": "python",
   "nbconvert_exporter": "python",
   "pygments_lexer": "ipython3",
   "version": "3.10.8"
  }
 },
 "nbformat": 4,
 "nbformat_minor": 5
}

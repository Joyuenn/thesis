{
 "cells": [
  {
   "cell_type": "code",
   "execution_count": 1,
   "id": "f82d32f9-b134-4cff-9b17-53d0ae69dfae",
   "metadata": {},
   "outputs": [],
   "source": [
    "import pandas as pd\n",
    "import librosa"
   ]
  },
  {
   "cell_type": "code",
   "execution_count": 32,
   "id": "3143a866-c37d-4442-98a7-7c6f9f51c5fb",
   "metadata": {},
   "outputs": [],
   "source": [
    "wav_data = '/srv/scratch/speechdata/speech-corpora/AusTalk/wav.scp'\n",
    "text_data = '/srv/scratch/speechdata/speech-corpora/AusTalk/text'\n",
    "root_dir = '/srv/scratch/speechdata/speech-corpora/AusTalk/speakers/'\n",
    "save_df_fp = '/srv/scratch/z5313567/thesis/AusTalk_local/story_sentences/AusTalk_story_sentences_full_dataframe.csv'\n",
    "save_unique_df_fp = '/srv/scratch/z5313567/thesis/AusTalk_local/story_sentences/AusTalk_story_sentences_unique_transcription_dataframe.csv'"
   ]
  },
  {
   "cell_type": "code",
   "execution_count": 3,
   "id": "9c59fe96-f9c2-4856-b0e3-9a3f86a4ba5f",
   "metadata": {},
   "outputs": [],
   "source": [
    "# read the 'wav.scp' and extract the audio IDs and associated filepaths\n",
    "audio_paths = {}\n",
    "with open (wav_data, 'r') as wav_file:\n",
    "    for line in wav_file:\n",
    "        sections = line.strip().split()\n",
    "        audio_id = sections[0]\n",
    "        filepath = root_dir + sections[1]\n",
    "        audio_paths[audio_id] = filepath"
   ]
  },
  {
   "cell_type": "code",
   "execution_count": 4,
   "id": "c668d726-153c-4309-91b5-2dab6dc2567d",
   "metadata": {},
   "outputs": [],
   "source": [
    "# read the 'text' and extract the audio IDs and transcriptions\n",
    "transcriptions = {}\n",
    "with open (text_data, 'r') as text_file:\n",
    "    for line in text_file:\n",
    "        sections = line.strip().split()\n",
    "        audio_id = sections[0]\n",
    "        transcription = ' '.join(sections[1:])\n",
    "        transcriptions[audio_id] = transcription"
   ]
  },
  {
   "cell_type": "code",
   "execution_count": 5,
   "id": "d4d9733b-1258-4a5c-b56e-e1a99b685ca2",
   "metadata": {},
   "outputs": [],
   "source": [
    "def get_duration(wav_filepath):\n",
    "    signal, sample_rate = librosa.load(wav_filepath)\n",
    "    dur = len(signal)/sample_rate\n",
    "    return dur"
   ]
  },
  {
   "cell_type": "code",
   "execution_count": 15,
   "id": "dd6eb8ba-aa3f-46c5-8877-ab56a29976d6",
   "metadata": {},
   "outputs": [],
   "source": [
    "#story_audio_ids = [audio_id for audio_id in audio_paths if 'story' in audio_paths[audio_id]]\n",
    "story_sentences_audio_ids = [audio_id for audio_id in audio_paths if 'story' in audio_paths[audio_id] or 'sentences' in audio_paths[audio_id]]"
   ]
  },
  {
   "cell_type": "code",
   "execution_count": 16,
   "id": "14ac8398-5601-44fc-926b-2f2b2a3dfb80",
   "metadata": {},
   "outputs": [
    {
     "name": "stdout",
     "output_type": "stream",
     "text": [
      "There are 47212 files under the \"story\" and \"sentences\" directory\n"
     ]
    }
   ],
   "source": [
    "print(f'There are {len(story_sentences_audio_ids)} files under the \"story\" and \"sentences\" directory')"
   ]
  },
  {
   "cell_type": "code",
   "execution_count": 17,
   "id": "6d24b42c-ff50-4501-851c-9d3688a506c2",
   "metadata": {},
   "outputs": [],
   "source": [
    "story_sentences_audio_paths = []\n",
    "story_sentences_durations = []\n",
    "story_sentences_speaker_ids = []\n",
    "story_sentences_transcriptions = []\n",
    "story_sentences_audio_ids_extract = []"
   ]
  },
  {
   "cell_type": "code",
   "execution_count": 18,
   "id": "dcfb0fad-6136-47b8-9b07-cf495a1c475c",
   "metadata": {},
   "outputs": [],
   "source": [
    "for audio_id in story_sentences_audio_ids:\n",
    "    audio_path = audio_paths[audio_id]\n",
    "    transcription = transcriptions[audio_id]\n",
    "    duration = get_duration(audio_path)\n",
    "    speaker_id = audio_id.split('-')[0] # if the audio_id is \"1_982-1_982_2_16_004\", the corresponding speaker_id is 1_982\n",
    "    \n",
    "    story_sentences_audio_paths.append(audio_path)\n",
    "    story_sentences_durations.append(duration)\n",
    "    story_sentences_speaker_ids.append(speaker_id)\n",
    "    story_sentences_transcriptions.append(transcription)\n",
    "    story_sentences_audio_ids_extract.append(audio_id)\n",
    "    "
   ]
  },
  {
   "cell_type": "code",
   "execution_count": 19,
   "id": "4e7be05b-5e01-4858-9300-df3d2b5a3e8e",
   "metadata": {},
   "outputs": [
    {
     "name": "stdout",
     "output_type": "stream",
     "text": [
      "\n",
      "--------------------------> Generating dataframe ... -------------------------\n",
      "\n"
     ]
    }
   ],
   "source": [
    "print(\"\\n--------------------------> Generating dataframe ... -------------------------\\n\")\n",
    "df = pd.DataFrame(\n",
    "        {'filepath': story_sentences_audio_paths,\n",
    "         'duration': story_sentences_durations,\n",
    "         'speaker_id': story_sentences_speaker_ids,\n",
    "         'transcription': story_sentences_transcriptions,\n",
    "         'audio_id': story_sentences_audio_ids_extract\n",
    "         })\n",
    "# preverse leading zeros\n",
    "df['speaker_id'] = df['speaker_id'].astype(str) "
   ]
  },
  {
   "cell_type": "code",
   "execution_count": 25,
   "id": "db82388c-c772-48c6-b0b3-37bc0410520f",
   "metadata": {},
   "outputs": [
    {
     "name": "stdout",
     "output_type": "stream",
     "text": [
      "\n",
      "---------------------------> Saving dataframe to csv file... ------------------\n",
      "\n",
      "Successfully saved dataframe to csv file at:  /srv/scratch/z5313567/thesis/AusTalk_local/story_sentences/AusTalk_story_sentences_full_dataframe.csv\n",
      "Total number of speakers: 777\n",
      "Total hours: 114.78499428067525\n"
     ]
    }
   ],
   "source": [
    "# preverse leading zeros\n",
    "df['speaker_id'] = df['speaker_id'].astype(str) \n",
    "\n",
    "# when accessing the dataframe, run 'df = pd.read_csv(save_df_fp, dtype={'speaker_id': str})' to avoid missing leading zeros\n",
    "print(\"\\n---------------------------> Saving dataframe to csv file... ------------------\\n\")\n",
    "df.to_csv(save_df_fp, index=False)\n",
    "print('Successfully saved dataframe to csv file at: ', save_df_fp)\n",
    "print(\"Total number of speakers:\", len(set(df[\"speaker_id\"])))\n",
    "print(\"Total hours:\", df['duration'].sum()/(60*60))"
   ]
  },
  {
   "cell_type": "code",
   "execution_count": 61,
   "id": "ab82d1a2-0b90-4d7e-be16-558aabe0a34e",
   "metadata": {},
   "outputs": [
    {
     "name": "stdout",
     "output_type": "stream",
     "text": [
      "\n",
      "--------------------------> Generating unique transcription ... -------------------------\n",
      "\n",
      "\n",
      "---------------------------> Saving dataframe to csv file... ------------------\n",
      "\n",
      "Successfully saved dataframe to csv file at:  /srv/scratch/z5313567/thesis/AusTalk_local/story_sentences/AusTalk_story_sentences_unique_transcription_dataframe.csv\n",
      "Total number of speakers: 65\n",
      "Total hours: 0.16506199294532628\n"
     ]
    }
   ],
   "source": [
    "# keep unique transcriptions such that each transcription appears only once in the dataframe\n",
    "print(\"\\n--------------------------> Generating unique transcription ... -------------------------\\n\")\n",
    "# frac=1 ==> sample the entire DataFrame,include all rows in the sample\n",
    "# random_state=230 ==> seed\n",
    "shuffled_df = df.sample(frac=1, random_state=230).reset_index(drop=True)\n",
    "result_df = shuffled_df.drop_duplicates(subset='transcription', keep='first')\n",
    "\n",
    "print(\"\\n---------------------------> Saving dataframe to csv file... ------------------\\n\")\n",
    "result_df.to_csv(save_unique_df_fp, index=False)\n",
    "print('Successfully saved dataframe to csv file at: ', save_unique_df_fp)\n",
    "print(\"Total number of speakers:\", len(set(result_df[\"speaker_id\"])))\n",
    "print(\"Total hours:\", result_df['duration'].sum()/(60*60))"
   ]
  },
  {
   "cell_type": "code",
   "execution_count": 60,
   "id": "c8e85da7-89b5-4d96-90ac-2baa4afb269c",
   "metadata": {},
   "outputs": [
    {
     "data": {
      "text/html": [
       "<div>\n",
       "<style scoped>\n",
       "    .dataframe tbody tr th:only-of-type {\n",
       "        vertical-align: middle;\n",
       "    }\n",
       "\n",
       "    .dataframe tbody tr th {\n",
       "        vertical-align: top;\n",
       "    }\n",
       "\n",
       "    .dataframe thead th {\n",
       "        text-align: right;\n",
       "    }\n",
       "</style>\n",
       "<table border=\"1\" class=\"dataframe\">\n",
       "  <thead>\n",
       "    <tr style=\"text-align: right;\">\n",
       "      <th></th>\n",
       "      <th>filepath</th>\n",
       "      <th>duration</th>\n",
       "      <th>speaker_id</th>\n",
       "      <th>transcription</th>\n",
       "      <th>audio_id</th>\n",
       "    </tr>\n",
       "  </thead>\n",
       "  <tbody>\n",
       "    <tr>\n",
       "      <th>0</th>\n",
       "      <td>/srv/scratch/speechdata/speech-corpora/AusTalk...</td>\n",
       "      <td>5.479955</td>\n",
       "      <td>3_1027</td>\n",
       "      <td>THE FLAG CEREMONY OVERWHELMED ME AND I WAS MOV...</td>\n",
       "      <td>3_1027-3_1027_2_16_039</td>\n",
       "    </tr>\n",
       "    <tr>\n",
       "      <th>1</th>\n",
       "      <td>/srv/scratch/speechdata/speech-corpora/AusTalk...</td>\n",
       "      <td>6.687392</td>\n",
       "      <td>2_852</td>\n",
       "      <td>HELEN PICKED A GOOD SPOT NEAR THE WATER AND SP...</td>\n",
       "      <td>2_852-2_852_2_16_016</td>\n",
       "    </tr>\n",
       "    <tr>\n",
       "      <th>2</th>\n",
       "      <td>/srv/scratch/speechdata/speech-corpora/AusTalk...</td>\n",
       "      <td>5.294150</td>\n",
       "      <td>4_1328</td>\n",
       "      <td>HE GLIMPSED THE BADGE OF THE TRAFFIC COP OUT O...</td>\n",
       "      <td>4_1328-4_1328_2_16_042</td>\n",
       "    </tr>\n",
       "    <tr>\n",
       "      <th>3</th>\n",
       "      <td>/srv/scratch/speechdata/speech-corpora/AusTalk...</td>\n",
       "      <td>8.730703</td>\n",
       "      <td>4_1036</td>\n",
       "      <td>SHARON WATCHED THE HELICOPTER AS IT LIFTED OFF...</td>\n",
       "      <td>4_1036-4_1036_2_16_059</td>\n",
       "    </tr>\n",
       "    <tr>\n",
       "      <th>4</th>\n",
       "      <td>/srv/scratch/speechdata/speech-corpora/AusTalk...</td>\n",
       "      <td>4.458277</td>\n",
       "      <td>3_402</td>\n",
       "      <td>WAS IT THE BLUE GLOBE THAT BROKE WHEN HE SWITC...</td>\n",
       "      <td>3_402-3_402_2_16_040</td>\n",
       "    </tr>\n",
       "    <tr>\n",
       "      <th>...</th>\n",
       "      <td>...</td>\n",
       "      <td>...</td>\n",
       "      <td>...</td>\n",
       "      <td>...</td>\n",
       "      <td>...</td>\n",
       "    </tr>\n",
       "    <tr>\n",
       "      <th>191</th>\n",
       "      <td>/srv/scratch/speechdata/speech-corpora/AusTalk...</td>\n",
       "      <td>5.201270</td>\n",
       "      <td>3_846</td>\n",
       "      <td>ISN'T IT COMMON KNOWLEDGE THAT THE KANGAROO HA...</td>\n",
       "      <td>3_846-3_846_2_16_051</td>\n",
       "    </tr>\n",
       "    <tr>\n",
       "      <th>222</th>\n",
       "      <td>/srv/scratch/speechdata/speech-corpora/AusTalk...</td>\n",
       "      <td>48.390385</td>\n",
       "      <td>4_628</td>\n",
       "      <td>JUST THEN THE OLD RAT CAUGHT SIGHT OF YOUNG AR...</td>\n",
       "      <td>4_628-4_628_1_3_005</td>\n",
       "    </tr>\n",
       "    <tr>\n",
       "      <th>261</th>\n",
       "      <td>/srv/scratch/speechdata/speech-corpora/AusTalk...</td>\n",
       "      <td>41.331519</td>\n",
       "      <td>2_1078</td>\n",
       "      <td>ONCE UPON A TIME THERE WAS A YOUNG RAT NAMED A...</td>\n",
       "      <td>2_1078-2_1078_1_3_001</td>\n",
       "    </tr>\n",
       "    <tr>\n",
       "      <th>272</th>\n",
       "      <td>/srv/scratch/speechdata/speech-corpora/AusTalk...</td>\n",
       "      <td>4.829751</td>\n",
       "      <td>3_531</td>\n",
       "      <td>ALAN TOOK A HAM SANDWICH TO SCHOOL</td>\n",
       "      <td>3_531-3_531_2_16_012</td>\n",
       "    </tr>\n",
       "    <tr>\n",
       "      <th>285</th>\n",
       "      <td>/srv/scratch/speechdata/speech-corpora/AusTalk...</td>\n",
       "      <td>4.458277</td>\n",
       "      <td>2_1143</td>\n",
       "      <td>HE GRABBED A TOWEL AND THEN ANSWERED THE PHONE...</td>\n",
       "      <td>2_1143-2_1143_2_16_043</td>\n",
       "    </tr>\n",
       "  </tbody>\n",
       "</table>\n",
       "<p>67 rows × 5 columns</p>\n",
       "</div>"
      ],
      "text/plain": [
       "                                              filepath   duration speaker_id   \n",
       "0    /srv/scratch/speechdata/speech-corpora/AusTalk...   5.479955     3_1027  \\\n",
       "1    /srv/scratch/speechdata/speech-corpora/AusTalk...   6.687392      2_852   \n",
       "2    /srv/scratch/speechdata/speech-corpora/AusTalk...   5.294150     4_1328   \n",
       "3    /srv/scratch/speechdata/speech-corpora/AusTalk...   8.730703     4_1036   \n",
       "4    /srv/scratch/speechdata/speech-corpora/AusTalk...   4.458277      3_402   \n",
       "..                                                 ...        ...        ...   \n",
       "191  /srv/scratch/speechdata/speech-corpora/AusTalk...   5.201270      3_846   \n",
       "222  /srv/scratch/speechdata/speech-corpora/AusTalk...  48.390385      4_628   \n",
       "261  /srv/scratch/speechdata/speech-corpora/AusTalk...  41.331519     2_1078   \n",
       "272  /srv/scratch/speechdata/speech-corpora/AusTalk...   4.829751      3_531   \n",
       "285  /srv/scratch/speechdata/speech-corpora/AusTalk...   4.458277     2_1143   \n",
       "\n",
       "                                         transcription                audio_id  \n",
       "0    THE FLAG CEREMONY OVERWHELMED ME AND I WAS MOV...  3_1027-3_1027_2_16_039  \n",
       "1    HELEN PICKED A GOOD SPOT NEAR THE WATER AND SP...    2_852-2_852_2_16_016  \n",
       "2    HE GLIMPSED THE BADGE OF THE TRAFFIC COP OUT O...  4_1328-4_1328_2_16_042  \n",
       "3    SHARON WATCHED THE HELICOPTER AS IT LIFTED OFF...  4_1036-4_1036_2_16_059  \n",
       "4    WAS IT THE BLUE GLOBE THAT BROKE WHEN HE SWITC...    3_402-3_402_2_16_040  \n",
       "..                                                 ...                     ...  \n",
       "191  ISN'T IT COMMON KNOWLEDGE THAT THE KANGAROO HA...    3_846-3_846_2_16_051  \n",
       "222  JUST THEN THE OLD RAT CAUGHT SIGHT OF YOUNG AR...     4_628-4_628_1_3_005  \n",
       "261  ONCE UPON A TIME THERE WAS A YOUNG RAT NAMED A...   2_1078-2_1078_1_3_001  \n",
       "272                 ALAN TOOK A HAM SANDWICH TO SCHOOL    3_531-3_531_2_16_012  \n",
       "285  HE GRABBED A TOWEL AND THEN ANSWERED THE PHONE...  2_1143-2_1143_2_16_043  \n",
       "\n",
       "[67 rows x 5 columns]"
      ]
     },
     "execution_count": 60,
     "metadata": {},
     "output_type": "execute_result"
    }
   ],
   "source": [
    "result_df"
   ]
  }
 ],
 "metadata": {
  "kernelspec": {
   "display_name": "Python 3.10.8 (ipykernel)",
   "language": "python",
   "name": "python-3.10.8"
  },
  "language_info": {
   "codemirror_mode": {
    "name": "ipython",
    "version": 3
   },
   "file_extension": ".py",
   "mimetype": "text/x-python",
   "name": "python",
   "nbconvert_exporter": "python",
   "pygments_lexer": "ipython3",
   "version": "3.10.8"
  }
 },
 "nbformat": 4,
 "nbformat_minor": 5
}

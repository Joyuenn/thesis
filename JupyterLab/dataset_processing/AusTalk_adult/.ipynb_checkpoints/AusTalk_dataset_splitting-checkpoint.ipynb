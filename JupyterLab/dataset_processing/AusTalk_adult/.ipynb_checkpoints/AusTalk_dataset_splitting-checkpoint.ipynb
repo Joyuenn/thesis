{
 "cells": [
  {
   "cell_type": "code",
   "execution_count": 17,
   "id": "4bd8c29f-9fe8-4234-bede-807fd7992f7c",
   "metadata": {},
   "outputs": [],
   "source": [
    "import pandas as pd\n",
    "from sklearn.model_selection import train_test_split"
   ]
  },
  {
   "cell_type": "code",
   "execution_count": 18,
   "id": "804771dc-c1ac-4f5a-a854-4ee915d1f23c",
   "metadata": {},
   "outputs": [],
   "source": [
    "full_df_fp = '/srv/scratch/z5313567/thesis/AusTalk_local/story_sentences/full/AusTalk_story_sentences_full_dataframe.csv'\n",
    "train_df_fp = '/srv/scratch/z5313567/thesis/AusTalk_local/story_sentences/full/AusTalk_story_sentences_full_train_dataframe.csv'\n",
    "dev_df_fp = '/srv/scratch/z5313567/thesis/AusTalk_local/story_sentences/full/AusTalk_story_sentences_full_dev_dataframe.csv'\n",
    "test_df_fp = '/srv/scratch/z5313567/thesis/AusTalk_local/story_sentences/full/AusTalk_story_sentences_full_test_dataframe.csv'"
   ]
  },
  {
   "cell_type": "code",
   "execution_count": 19,
   "id": "b881f48a-4362-4957-9a88-625c2f4d7e28",
   "metadata": {},
   "outputs": [],
   "source": [
    "df = pd.read_csv(full_df_fp, dtype={'speaker_id': str})"
   ]
  },
  {
   "cell_type": "code",
   "execution_count": 20,
   "id": "2f9b68b9-c7f7-4967-a7ad-d7772770aecc",
   "metadata": {},
   "outputs": [],
   "source": [
    "# shuffle the dataframe\n",
    "df = df.sample(frac=1, random_state=230)"
   ]
  },
  {
   "cell_type": "code",
   "execution_count": 21,
   "id": "7b7ec44c-8d75-44da-b365-e2ae4d497f9b",
   "metadata": {},
   "outputs": [],
   "source": [
    "unique_transcriptions = df['transcription'].unique()\n",
    "train_transcriptions, valid_test_transcriptions = train_test_split(unique_transcriptions, test_size=0.4, random_state=42)\n",
    "valid_transcriptions, test_transcriptions = train_test_split(valid_test_transcriptions, test_size=0.5, random_state=42)\n",
    "\n",
    "train_set = df[df['transcription'].isin(train_transcriptions)]\n",
    "valid_set = df[df['transcription'].isin(valid_transcriptions)]\n",
    "test_set = df[df['transcription'].isin(test_transcriptions)]"
   ]
  },
  {
   "cell_type": "code",
   "execution_count": 22,
   "id": "c1fe1cf4-34cb-49ca-ad56-3912f22b6a96",
   "metadata": {},
   "outputs": [],
   "source": [
    "def split_by_speakers(data):\n",
    "    unique_speakers = data['speaker_id'].unique()\n",
    "    train_speakers, valid_test_speakers = train_test_split(unique_speakers, test_size=0.4, random_state=42)\n",
    "    valid_speakers, test_speakers = train_test_split(valid_test_speakers, test_size=0.5, random_state=42)\n",
    "\n",
    "    train_data = data[data['speaker_id'].isin(train_speakers)]\n",
    "    valid_data = data[data['speaker_id'].isin(valid_speakers)]\n",
    "    test_data = data[data['speaker_id'].isin(test_speakers)]\n",
    "\n",
    "    return train_data, valid_data, test_data\n",
    "\n",
    "train_set, valid_set, test_set = split_by_speakers(train_set), split_by_speakers(valid_set), split_by_speakers(test_set)\n"
   ]
  },
  {
   "cell_type": "code",
   "execution_count": 23,
   "id": "99b953b4-336d-4ad4-9335-3406b4520b64",
   "metadata": {},
   "outputs": [],
   "source": [
    "train_df, valid_df, test_df = train_set[0], valid_set[0], test_set[0]"
   ]
  },
  {
   "cell_type": "code",
   "execution_count": 27,
   "id": "bf48fd6b-4132-49fa-867b-4464cdad2e71",
   "metadata": {},
   "outputs": [
    {
     "data": {
      "text/plain": [
       "pandas.core.frame.DataFrame"
      ]
     },
     "execution_count": 27,
     "metadata": {},
     "output_type": "execute_result"
    }
   ],
   "source": [
    "type(train_df)"
   ]
  },
  {
   "cell_type": "code",
   "execution_count": 30,
   "id": "c2c10c09-0a8e-46d0-8329-7d1fb4590366",
   "metadata": {},
   "outputs": [
    {
     "name": "stdout",
     "output_type": "stream",
     "text": [
      "Number of speech files: 16728\n",
      "Total hours: 42.24523934240362\n",
      "Total minutes: 2534.7143605442175\n",
      "Total seconds: 152082.86163265305\n",
      "Successfully saved training dataframe to csv file at:  /srv/scratch/z5313567/thesis/AusTalk_local/story_sentences/full/AusTalk_story_sentences_full_train_dataframe\n"
     ]
    }
   ],
   "source": [
    "train_df['speaker_id'] = train_df['speaker_id'].astype(str)  # preverse leading zeros\n",
    "train_df.to_csv(train_df_fp, index=False)\n",
    "\n",
    "print(\"Number of speech files:\", len(train_df))\n",
    "print(\"Total hours:\", train_df['duration'].sum()/(60*60))\n",
    "print(\"Total minutes:\", train_df['duration'].sum()/(60))\n",
    "print(\"Total seconds:\", train_df['duration'].sum())\n",
    "print('Successfully saved training dataframe to csv file at: ', train_df_fp)"
   ]
  },
  {
   "cell_type": "code",
   "execution_count": 31,
   "id": "fcc927a7-c041-425e-b379-8c42019b1d19",
   "metadata": {},
   "outputs": [
    {
     "name": "stdout",
     "output_type": "stream",
     "text": [
      "Number of speech files: 5455\n",
      "Total hours: 9.858598437893676\n",
      "Total minutes: 591.5159062736205\n",
      "Total seconds: 35490.954376417234\n",
      "Successfully saved development dataframe to csv file at:  /srv/scratch/z5313567/thesis/AusTalk_local/story_sentences/full/AusTalk_story_sentences_full_dev_dataframe\n"
     ]
    }
   ],
   "source": [
    "valid_df['speaker_id'] = valid_df['speaker_id'].astype(str)  # preverse leading zeros\n",
    "valid_df.to_csv(dev_df_fp, index=False)\n",
    "\n",
    "print(\"Number of speech files:\", len(valid_df))\n",
    "print(\"Total hours:\", valid_df['duration'].sum()/(60*60))\n",
    "print(\"Total minutes:\", valid_df['duration'].sum()/(60))\n",
    "print(\"Total seconds:\", valid_df['duration'].sum())\n",
    "print('Successfully saved development dataframe to csv file at: ', dev_df_fp)"
   ]
  },
  {
   "cell_type": "code",
   "execution_count": 32,
   "id": "e30e2f39-b8f1-484c-bb25-2f16c58d015f",
   "metadata": {},
   "outputs": [
    {
     "name": "stdout",
     "output_type": "stream",
     "text": [
      "Number of speech files: 5941\n",
      "Total hours: 16.536351473922902\n",
      "Total minutes: 992.1810884353741\n",
      "Total seconds: 59530.86530612245\n",
      "Successfully saved testing dataset to csv file at:  /srv/scratch/z5313567/thesis/AusTalk_local/story_sentences/full/AusTalk_story_sentences_full_test_dataframe\n"
     ]
    }
   ],
   "source": [
    "test_df['speaker_id'] = test_df['speaker_id'].astype(str)  # preverse leading zeros\n",
    "test_df.to_csv(test_df_fp, index=False)\n",
    "    \n",
    "print(\"Number of speech files:\", len(test_df))\n",
    "print(\"Total hours:\", test_df['duration'].sum()/(60*60))\n",
    "print(\"Total minutes:\", test_df['duration'].sum()/(60))\n",
    "print(\"Total seconds:\", test_df['duration'].sum())\n",
    "print('Successfully saved testing dataset to csv file at: ', test_df_fp)"
   ]
  },
  {
   "cell_type": "code",
   "execution_count": null,
   "id": "47c2b483-062b-41c5-9a7a-a99e62da8c59",
   "metadata": {},
   "outputs": [],
   "source": []
  }
 ],
 "metadata": {
  "kernelspec": {
   "display_name": "Python 3.10.8 (ipykernel)",
   "language": "python",
   "name": "python-3.10.8"
  },
  "language_info": {
   "codemirror_mode": {
    "name": "ipython",
    "version": 3
   },
   "file_extension": ".py",
   "mimetype": "text/x-python",
   "name": "python",
   "nbconvert_exporter": "python",
   "pygments_lexer": "ipython3",
   "version": "3.10.8"
  }
 },
 "nbformat": 4,
 "nbformat_minor": 5
}

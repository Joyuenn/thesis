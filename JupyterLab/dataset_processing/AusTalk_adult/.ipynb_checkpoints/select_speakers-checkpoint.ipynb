{
 "cells": [
  {
   "cell_type": "code",
   "execution_count": 28,
   "id": "1c19de89-4990-403a-b1ff-5431e2d175f5",
   "metadata": {},
   "outputs": [],
   "source": [
    "import pandas as pd\n",
    "import random"
   ]
  },
  {
   "cell_type": "code",
   "execution_count": 29,
   "id": "7e560ea3-6a4b-4f76-afdd-56d723625b7d",
   "metadata": {},
   "outputs": [],
   "source": [
    "data_fp = '/srv/scratch/z5313567/thesis/AusTalk_local/story_sentences/full/AusTalk_story_sentences_full_dataframe.csv'\n",
    "save_fp = '/srv/scratch/z5313567/thesis/AusTalk_local/story_sentences/full_v4_select_speaker/AusTalk_story_sentences_full_dataframe_v4.csv'"
   ]
  },
  {
   "cell_type": "code",
   "execution_count": 30,
   "id": "92a2db26-e899-4165-b684-356481127e4b",
   "metadata": {},
   "outputs": [],
   "source": [
    "data = pd.read_csv(data_fp)"
   ]
  },
  {
   "cell_type": "code",
   "execution_count": 36,
   "id": "94e6f2a5-0865-45f3-bd24-f60ec0e7ea63",
   "metadata": {},
   "outputs": [],
   "source": [
    "num_speakers_per_sentence = 4;\n",
    "seed = 230;"
   ]
  },
  {
   "cell_type": "code",
   "execution_count": 37,
   "id": "2ecb62a0-6df7-4cc4-ae67-9b06ca7e1419",
   "metadata": {},
   "outputs": [],
   "source": [
    "selected_speakers = data['speaker_id'].sample(n=num_speakers_per_sentence, random_state=seed).tolist()"
   ]
  },
  {
   "cell_type": "code",
   "execution_count": 38,
   "id": "07e218e0-8924-4bf8-af06-f3abc6badad3",
   "metadata": {},
   "outputs": [],
   "source": [
    "new_dataset = data[data['speaker_id'].isin(selected_speakers)]"
   ]
  },
  {
   "cell_type": "code",
   "execution_count": 39,
   "id": "be826121-2e71-4dac-89d7-daba7b6e14c8",
   "metadata": {},
   "outputs": [
    {
     "name": "stdout",
     "output_type": "stream",
     "text": [
      "\n",
      "---------------------------> Saving dataframe to csv file... ------------------\n",
      "\n",
      "Successfully saved dataframe to csv file at:  /srv/scratch/z5313567/thesis/AusTalk_local/story_sentences/full_v4_select_speaker/AusTalk_story_sentences_full_dataframe_v4.csv\n",
      "Total speech files: 262\n",
      "Total number of speakers: 4\n",
      "Total hours: 0.5344217309145881\n"
     ]
    }
   ],
   "source": [
    "print(\"\\n---------------------------> Saving dataframe to csv file... ------------------\\n\")\n",
    "new_dataset.to_csv(save_fp, index=False)\n",
    "print('Successfully saved dataframe to csv file at: ', save_fp)\n",
    "print(\"Total speech files:\", len(new_dataset[\"filepath\"]))\n",
    "print(\"Total number of speakers:\", len(set(new_dataset[\"speaker_id\"])))\n",
    "print(\"Total hours:\", new_dataset['duration'].sum()/(60*60))"
   ]
  },
  {
   "cell_type": "code",
   "execution_count": null,
   "id": "e86b8674-27ad-4662-a32a-27b3abb2eab6",
   "metadata": {},
   "outputs": [],
   "source": []
  },
  {
   "cell_type": "code",
   "execution_count": null,
   "id": "4d6743b4-5272-41e7-abed-ba796dd23d6a",
   "metadata": {},
   "outputs": [],
   "source": []
  }
 ],
 "metadata": {
  "kernelspec": {
   "display_name": "Python 3 (ipykernel)",
   "language": "python",
   "name": "python3"
  },
  "language_info": {
   "codemirror_mode": {
    "name": "ipython",
    "version": 3
   },
   "file_extension": ".py",
   "mimetype": "text/x-python",
   "name": "python",
   "nbconvert_exporter": "python",
   "pygments_lexer": "ipython3",
   "version": "3.10.8"
  }
 },
 "nbformat": 4,
 "nbformat_minor": 5
}

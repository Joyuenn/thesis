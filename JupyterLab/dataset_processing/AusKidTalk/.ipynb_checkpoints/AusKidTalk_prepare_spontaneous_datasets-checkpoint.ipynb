{
 "cells": [
  {
   "cell_type": "code",
   "execution_count": null,
   "id": "ccfb6367-d0e2-4a03-947c-da4b1121e6ae",
   "metadata": {},
   "outputs": [],
   "source": [
    "# Based on \"https://www.khiajohnson.com/post/2021/textgrid-sqlite-database/\""
   ]
  },
  {
   "cell_type": "code",
   "execution_count": 27,
   "id": "b53a5ba8-1aec-4ac3-bc88-339d099baa7a",
   "metadata": {},
   "outputs": [],
   "source": [
    "from os.path import join\n",
    "from praatio import tgio\n",
    "import praatio\n",
    "from pydub import AudioSegment\n",
    "import pandas as pd\n",
    "import os\n",
    "import re\n"
   ]
  },
  {
   "cell_type": "code",
   "execution_count": 33,
   "id": "5a935021-e51c-425d-900a-684868a169ab",
   "metadata": {},
   "outputs": [
    {
     "name": "stdout",
     "output_type": "stream",
     "text": [
      "\n",
      "------> Loading directories and files... ------\n",
      "\n",
      "TextGrid directory is at: /srv/scratch/chacmod/auskidtalk_spontaneous/task3_samples\n",
      "Split .wav files are stored at: /srv/scratch/chacmod/auskidtalk_spontaneous\n",
      "Dataframe file is stored at: /srv/scratch/z5313567/thesis/AusKidTalk_local/AusKidTalk_spontaneous_dataframe.csv\n"
     ]
    }
   ],
   "source": [
    "print(\"\\n------> Loading directories and files... ------\\n\")\n",
    "tg_dir = '/srv/scratch/chacmod/auskidtalk_spontaneous/task3_samples'\n",
    "print(f'TextGrid directory is at: {tg_dir}')\n",
    "\n",
    "save_dir = '/srv/scratch/chacmod/auskidtalk_spontaneous'\n",
    "print(f'Split .wav files are stored at: {save_dir}')\n",
    "\n",
    "save_df_fp = '/srv/scratch/z5313567/thesis/AusKidTalk_local/AusKidTalk_spontaneous_dataframe.csv'\n",
    "print(f'Dataframe file is stored at: {save_df_fp}')"
   ]
  },
  {
   "cell_type": "code",
   "execution_count": 34,
   "id": "b82fc826-84c8-4177-9cc2-da911b0dbaff",
   "metadata": {},
   "outputs": [
    {
     "name": "stdout",
     "output_type": "stream",
     "text": [
      "\n",
      "------> Loading TextGrid files... ------\n",
      "\n",
      "The number of TextGrid files is 8\n",
      "\n",
      "TextGrid files include:\n",
      "/srv/scratch/chacmod/auskidtalk_spontaneous/task3_samples/819_task3.TextGrid\n",
      "/srv/scratch/chacmod/auskidtalk_spontaneous/task3_samples/1050_task3.TextGrid\n",
      "/srv/scratch/chacmod/auskidtalk_spontaneous/task3_samples/255_task3.TextGrid\n",
      "/srv/scratch/chacmod/auskidtalk_spontaneous/task3_samples/651_task3.TextGrid\n",
      "/srv/scratch/chacmod/auskidtalk_spontaneous/task3_samples/516_task3.TextGrid\n",
      "/srv/scratch/chacmod/auskidtalk_spontaneous/task3_samples/228_task3.TextGrid\n",
      "/srv/scratch/chacmod/auskidtalk_spontaneous/task3_samples/1150_task3.TextGrid\n",
      "/srv/scratch/chacmod/auskidtalk_spontaneous/task3_samples/1075_task3.TextGrid\n"
     ]
    }
   ],
   "source": [
    "print(\"\\n------> Loading TextGrid files... ------\\n\")\n",
    "tg_file_names = [file for file in os.listdir(tg_dir) if file.endswith('TextGrid')]\n",
    "tg_files = [tg_dir+'/'+file_name for file_name in tg_file_names]\n",
    "\n",
    "print(f'The number of TextGrid files is {len(tg_files)}\\n')\n",
    "print('TextGrid files include:')\n",
    "for tg_file in tg_files:\n",
    "    print(tg_file)"
   ]
  },
  {
   "cell_type": "code",
   "execution_count": 49,
   "id": "3e0d4945-4e88-46bc-aaa9-a80c53ef2386",
   "metadata": {},
   "outputs": [
    {
     "name": "stdout",
     "output_type": "stream",
     "text": [
      "\n",
      "------> Extracting speeches from TextGrid files... ------\n",
      "\n",
      "Currently Processing:\n",
      "TextGrid File: /srv/scratch/chacmod/auskidtalk_spontaneous/task3_samples/819_task3.TextGrid\n",
      "Tier names: ['text']\n",
      "\n",
      "\n",
      "Currently Processing:\n",
      "TextGrid File: /srv/scratch/chacmod/auskidtalk_spontaneous/task3_samples/1050_task3.TextGrid\n",
      "Tier names: ['text']\n",
      "\n",
      "\n",
      "Currently Processing:\n",
      "TextGrid File: /srv/scratch/chacmod/auskidtalk_spontaneous/task3_samples/255_task3.TextGrid\n",
      "Tier names: ['text']\n",
      "\n",
      "\n",
      "Currently Processing:\n",
      "TextGrid File: /srv/scratch/chacmod/auskidtalk_spontaneous/task3_samples/651_task3.TextGrid\n",
      "Tier names: ['text']\n",
      "\n",
      "\n",
      "Currently Processing:\n",
      "TextGrid File: /srv/scratch/chacmod/auskidtalk_spontaneous/task3_samples/516_task3.TextGrid\n",
      "Tier names: ['text']\n",
      "\n",
      "\n",
      "Currently Processing:\n",
      "TextGrid File: /srv/scratch/chacmod/auskidtalk_spontaneous/task3_samples/228_task3.TextGrid\n",
      "Tier names: ['text']\n",
      "\n",
      "\n",
      "Currently Processing:\n",
      "TextGrid File: /srv/scratch/chacmod/auskidtalk_spontaneous/task3_samples/1150_task3.TextGrid\n",
      "Tier names: ['text']\n",
      "\n",
      "\n",
      "Currently Processing:\n",
      "TextGrid File: /srv/scratch/chacmod/auskidtalk_spontaneous/task3_samples/1075_task3.TextGrid\n",
      "Tier names: ['text']\n",
      "\n",
      "\n"
     ]
    },
    {
     "data": {
      "text/plain": [
       "\"\\n        count1 = count1 + 1\\n        if count1 == 20:\\n            break\\n    count0 = count0 + 1\\n    if count0 == 1:\\n        break\\n    \\nprint('\\n')\\nprint(extracted_audio)\\nprint(extracted_transcription)\\nprint(extracted_speakerID)\\nprint(extracted_filepath)\\nprint(extracted_duration)\\n\""
      ]
     },
     "execution_count": 49,
     "metadata": {},
     "output_type": "execute_result"
    }
   ],
   "source": [
    "print(\"\\n------> Extracting speeches from TextGrid files... ------\\n\")\n",
    "#count0 = 0\n",
    "extracted_audio = []\n",
    "extracted_transcription = []\n",
    "extracted_speakerID = []\n",
    "extracted_filepath = []\n",
    "extracted_duration = []\n",
    "for tg_file in tg_files:\n",
    "# extract file_ID                                     '/srv/scratch/chacmod/auskidtalk_spontaneous/task3_samples/1075_task3.TextGrid'\n",
    "    file_basename = os.path.basename(tg_file)             # 1075_task3.TextGrid \n",
    "    task_ID = os.path.splitext(file_basename)[0]          # 1075_task3\n",
    "    split_by_underline = task_ID.split('_')               # ['1075','task3']\n",
    "    speaker_ID = split_by_underline[0]                    # 1075\n",
    "\n",
    "    # generate corresponding .wav.file\n",
    "    # if TextGrid filename is '1075_task3.TextGrid', then wav filename should be '1075_task3.wav'\n",
    "    wav_file = os.path.join(tg_dir, task_ID+'.wav')\n",
    "    audio = AudioSegment.from_wav(wav_file)\n",
    "\n",
    "    tg = tgio.openTextgrid(tg_file)  # Give it a file name, get back a Textgrid object\n",
    "    tier_names = tg.tierNameList\n",
    "\n",
    "    print('Currently Processing:')\n",
    "    print('TextGrid File:', tg_file)\n",
    "    print('Tier names:', tier_names)\n",
    "    print('\\n')\n",
    "    \n",
    "    #count1 = 0\n",
    "    \n",
    "    # tier_names[0] contains 'text'\n",
    "    count = 1\n",
    "    for xmin, xmax, text in tg.tierDict[tier_names[0]].entryList:\n",
    "        if text != 'sil':\n",
    "            split_audio = audio[xmin*1000:xmax*1000] # the unit is in milliseconds\n",
    "            save_filepath = os.path.join(save_dir, speaker_ID+'_'+str(count)+'.wav')\n",
    "            split_audio.export(save_filepath, format='wav')\n",
    "            \n",
    "            chars_to_ignore = '[\\,\\?\\.\\!\\-\\;\\_\\:\\\"]'\n",
    "            text = re.sub(chars_to_ignore, ' ', text).lower()\n",
    "            \n",
    "            extracted_audio.append(split_audio)\n",
    "            extracted_transcription.append(text)\n",
    "            extracted_speakerID.append(speaker_ID)\n",
    "            extracted_filepath.append(save_filepath)\n",
    "            extracted_duration.append(xmax-xmin)\n",
    "            \n",
    "            count = count+1\n",
    "'''\n",
    "        count1 = count1 + 1\n",
    "        if count1 == 20:\n",
    "            break\n",
    "    count0 = count0 + 1\n",
    "    if count0 == 1:\n",
    "        break\n",
    "    \n",
    "print('\\n')\n",
    "print(extracted_audio)\n",
    "print(extracted_transcription)\n",
    "print(extracted_speakerID)\n",
    "print(extracted_filepath)\n",
    "print(extracted_duration)\n",
    "'''"
   ]
  },
  {
   "cell_type": "code",
   "execution_count": 48,
   "id": "5a9728d5-b404-40e9-8f50-9a64f1aeca34",
   "metadata": {},
   "outputs": [
    {
     "name": "stdout",
     "output_type": "stream",
     "text": [
      "\n",
      "------> Generating dataframe ... ------\n",
      "\n",
      "\n",
      "------> Saving dataframe to csv file... ------\n",
      "\n",
      "Successfully saved dataframe to csv file at:  /srv/scratch/z5313567/thesis/AusKidTalk_local/AusKidTalk_spontaneous_dataframe.csv\n",
      "Total number of speakers: 8\n",
      "Total hours: 0.1021427761485315\n"
     ]
    }
   ],
   "source": [
    "print(\"\\n------> Generating dataframe ... ------\\n\")\n",
    "df = pd.DataFrame(\n",
    "        {'filepath': extracted_filepath,\n",
    "         'duration': extracted_duration,\n",
    "         'speaker_id': extracted_speakerID,\n",
    "         'transcription': extracted_transcription,\n",
    "         })\n",
    "\n",
    "print(\"\\n------> Saving dataframe to csv file... ------\\n\")\n",
    "df.to_csv(save_df_fp, index=False)\n",
    "print('Successfully saved dataframe to csv file at: ', save_df_fp)\n",
    "print(\"Total number of speakers:\", len(tg_files))\n",
    "print(\"Total hours:\", df['duration'].sum()/(60*60))"
   ]
  },
  {
   "cell_type": "code",
   "execution_count": null,
   "id": "746d2b1e-c837-4f7d-8789-79bf5504c3c8",
   "metadata": {},
   "outputs": [],
   "source": []
  },
  {
   "cell_type": "code",
   "execution_count": null,
   "id": "57127cee-7e22-4d56-86ab-dd3553d4d4e9",
   "metadata": {},
   "outputs": [],
   "source": []
  },
  {
   "cell_type": "code",
   "execution_count": 47,
   "id": "bcacc152-a4c8-485b-a5cd-49cc05d08602",
   "metadata": {},
   "outputs": [
    {
     "name": "stdout",
     "output_type": "stream",
     "text": [
      "/srv/scratch/chacmod/auskidtalk_spontaneous/task3_samples/1075_task3.TextGrid\n",
      "['text']\n",
      "1075_task3.TextGrid\n",
      "1075_task3\n",
      "['1075', 'task3']\n",
      "1075\n"
     ]
    }
   ],
   "source": [
    "tg = tgio.openTextgrid(\"/srv/scratch/chacmod/auskidtalk_spontaneous/task3_samples/1075_task3.TextGrid\")\n",
    "print(tg_file)\n",
    "print(tg.tierNameList)\n",
    "file_basename = os.path.basename(tg_file)\n",
    "print(file_basename)\n",
    "task_ID = os.path.splitext(file_basename)[0]\n",
    "print(file_ID)\n",
    "split_by_underline = file_ID.split('_') \n",
    "print(split_by_underline)\n",
    "speaker_ID = split_by_underline[0]\n",
    "print(speaker_ID)\n"
   ]
  },
  {
   "cell_type": "code",
   "execution_count": null,
   "id": "216de647-9681-4240-b3e7-0814d3c8970b",
   "metadata": {},
   "outputs": [],
   "source": []
  },
  {
   "cell_type": "code",
   "execution_count": null,
   "id": "09151513-53e1-4148-8c43-279871da60e2",
   "metadata": {},
   "outputs": [],
   "source": []
  },
  {
   "cell_type": "code",
   "execution_count": null,
   "id": "0a9f7c08-a7ca-4733-b1fb-779074bca4c9",
   "metadata": {},
   "outputs": [],
   "source": []
  },
  {
   "cell_type": "code",
   "execution_count": 20,
   "id": "a5f1ab09-095e-4646-9948-801cc5dbee40",
   "metadata": {},
   "outputs": [
    {
     "data": {
      "text/plain": [
       "'text'"
      ]
     },
     "execution_count": 20,
     "metadata": {},
     "output_type": "execute_result"
    }
   ],
   "source": [
    "tier_names[0]"
   ]
  },
  {
   "cell_type": "code",
   "execution_count": null,
   "id": "80244911-ee2a-4cb8-a0ba-5bebab63d32a",
   "metadata": {},
   "outputs": [],
   "source": []
  }
 ],
 "metadata": {
  "kernelspec": {
   "display_name": "Python 3.10.8 (ipykernel)",
   "language": "python",
   "name": "python-3.10.8"
  },
  "language_info": {
   "codemirror_mode": {
    "name": "ipython",
    "version": 3
   },
   "file_extension": ".py",
   "mimetype": "text/x-python",
   "name": "python",
   "nbconvert_exporter": "python",
   "pygments_lexer": "ipython3",
   "version": "3.10.8"
  }
 },
 "nbformat": 4,
 "nbformat_minor": 5
}

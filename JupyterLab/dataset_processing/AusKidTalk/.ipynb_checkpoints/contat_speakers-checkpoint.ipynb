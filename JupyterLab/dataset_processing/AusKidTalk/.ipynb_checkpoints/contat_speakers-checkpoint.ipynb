{
 "cells": [
  {
   "cell_type": "code",
   "execution_count": 4,
   "id": "cc46fb5f-c300-4142-a89a-733d5524e7dc",
   "metadata": {},
   "outputs": [],
   "source": [
    "import pandas as pd\n",
    "import os"
   ]
  },
  {
   "cell_type": "code",
   "execution_count": 12,
   "id": "2beb6e03-ea93-4857-88e6-0af5c965d490",
   "metadata": {},
   "outputs": [],
   "source": [
    "speaker_97_fp = '/srv/scratch/z5313567/thesis/AusKidTalk_local/spontaneous_v2/speaker_97'\n",
    "speaker_819_fp = '/srv/scratch/z5313567/thesis/AusKidTalk_local/spontaneous_v2/speaker_819'\n",
    "speaker_651_fp = '/srv/scratch/z5313567/thesis/AusKidTalk_local/spontaneous_v2/speaker_651'\n",
    "speaker_516_fp = '/srv/scratch/z5313567/thesis/AusKidTalk_local/spontaneous_v2/speaker_516'\n",
    "speaker_255_fp = '/srv/scratch/z5313567/thesis/AusKidTalk_local/spontaneous_v2/speaker_255'\n",
    "speaker_228_fp = '/srv/scratch/z5313567/thesis/AusKidTalk_local/spontaneous_v2/speaker_97'\n",
    "speaker_219_fp = '/srv/scratch/z5313567/thesis/AusKidTalk_local/spontaneous_v2/speaker_219'\n",
    "speaker_166_fp = '/srv/scratch/z5313567/thesis/AusKidTalk_local/spontaneous_v2/speaker_166'\n",
    "speaker_1150_fp = '/srv/scratch/z5313567/thesis/AusKidTalk_local/spontaneous_v2/speaker_1150'\n",
    "speaker_1075_fp = '/srv/scratch/z5313567/thesis/AusKidTalk_local/spontaneous_v2/speaker_1075'\n",
    "speaker_1050_fp = '/srv/scratch/z5313567/thesis/AusKidTalk_local/spontaneous_v2/speaker_1050'"
   ]
  },
  {
   "cell_type": "code",
   "execution_count": 13,
   "id": "6dcf988a-639b-42a5-9015-7008f7e6e3d5",
   "metadata": {},
   "outputs": [],
   "source": [
    "speaker_97_fp_train = '/srv/scratch/z5313567/thesis/AusKidTalk_local/spontaneous_v2/test_speaker_97/train.csv'\n",
    "speaker_819_fp_train = '/srv/scratch/z5313567/thesis/AusKidTalk_local/spontaneous_v2/test_speaker_819/train.csv'\n",
    "speaker_651_fp_train = '/srv/scratch/z5313567/thesis/AusKidTalk_local/spontaneous_v2/test_speaker_651/train.csv'\n",
    "speaker_516_fp_train = '/srv/scratch/z5313567/thesis/AusKidTalk_local/spontaneous_v2/test_speaker_516/train.csv'\n",
    "speaker_255_fp_train = '/srv/scratch/z5313567/thesis/AusKidTalk_local/spontaneous_v2/test_speaker_255/train.csv'\n",
    "speaker_228_fp_train = '/srv/scratch/z5313567/thesis/AusKidTalk_local/spontaneous_v2/test_speaker_97/train.csv'\n",
    "speaker_219_fp_train = '/srv/scratch/z5313567/thesis/AusKidTalk_local/spontaneous_v2/test_speaker_219/train.csv'\n",
    "speaker_166_fp_train = '/srv/scratch/z5313567/thesis/AusKidTalk_local/spontaneous_v2/test_speaker_166/train.csv'\n",
    "speaker_1150_fp_train = '/srv/scratch/z5313567/thesis/AusKidTalk_local/spontaneous_v2/test_speaker_1150/train.csv'\n",
    "speaker_1075_fp_train = '/srv/scratch/z5313567/thesis/AusKidTalk_local/spontaneous_v2/test_speaker_1075/train.csv'\n",
    "speaker_1050_fp_train = '/srv/scratch/z5313567/thesis/AusKidTalk_local/spontaneous_v2/test_speaker_1050/train.csv'"
   ]
  },
  {
   "cell_type": "code",
   "execution_count": 14,
   "id": "2d170f7f-55f3-4343-a34c-f5107ebdb58e",
   "metadata": {},
   "outputs": [],
   "source": [
    "speaker_97_fp_test = '/srv/scratch/z5313567/thesis/AusKidTalk_local/spontaneous_v2/test_speaker_97/test.csv'\n",
    "speaker_819_fp_test = '/srv/scratch/z5313567/thesis/AusKidTalk_local/spontaneous_v2/test_speaker_819/test.csv'\n",
    "speaker_651_fp_test = '/srv/scratch/z5313567/thesis/AusKidTalk_local/spontaneous_v2/test_speaker_651/test.csv'\n",
    "speaker_516_fp_test = '/srv/scratch/z5313567/thesis/AusKidTalk_local/spontaneous_v2/test_speaker_516/test.csv'\n",
    "speaker_255_fp_test = '/srv/scratch/z5313567/thesis/AusKidTalk_local/spontaneous_v2/test_speaker_255/test.csv'\n",
    "speaker_228_fp_test = '/srv/scratch/z5313567/thesis/AusKidTalk_local/spontaneous_v2/test_speaker_97/test.csv'\n",
    "speaker_219_fp_test = '/srv/scratch/z5313567/thesis/AusKidTalk_local/spontaneous_v2/test_speaker_219/test.csv'\n",
    "speaker_166_fp_test = '/srv/scratch/z5313567/thesis/AusKidTalk_local/spontaneous_v2/test_speaker_166/test.csv'\n",
    "speaker_1150_fp_test = '/srv/scratch/z5313567/thesis/AusKidTalk_local/spontaneous_v2/test_speaker_1150/test.csv'\n",
    "speaker_1075_fp_test = '/srv/scratch/z5313567/thesis/AusKidTalk_local/spontaneous_v2/test_speaker_1075/test.csv'\n",
    "speaker_1050_fp_test = '/srv/scratch/z5313567/thesis/AusKidTalk_local/spontaneous_v2/test_speaker_1050/test.csv'"
   ]
  },
  {
   "cell_type": "code",
   "execution_count": 15,
   "id": "a946748f-0beb-47cb-aa44-703d12a03cd7",
   "metadata": {},
   "outputs": [],
   "source": [
    "speaker_97 = pd.read_csv('/srv/scratch/z5313567/thesis/AusKidTalk_local/spontaneous_v2/speaker_97.csv')\n",
    "speaker_819 = pd.read_csv('/srv/scratch/z5313567/thesis/AusKidTalk_local/spontaneous_v2/speaker_819.csv')\n",
    "speaker_651 = pd.read_csv('/srv/scratch/z5313567/thesis/AusKidTalk_local/spontaneous_v2/speaker_651.csv')\n",
    "speaker_516 = pd.read_csv('/srv/scratch/z5313567/thesis/AusKidTalk_local/spontaneous_v2/speaker_516.csv')\n",
    "speaker_255 = pd.read_csv('/srv/scratch/z5313567/thesis/AusKidTalk_local/spontaneous_v2/speaker_255.csv')\n",
    "speaker_228 = pd.read_csv('/srv/scratch/z5313567/thesis/AusKidTalk_local/spontaneous_v2/speaker_97.csv')\n",
    "speaker_219 = pd.read_csv('/srv/scratch/z5313567/thesis/AusKidTalk_local/spontaneous_v2/speaker_219.csv')\n",
    "speaker_166 = pd.read_csv('/srv/scratch/z5313567/thesis/AusKidTalk_local/spontaneous_v2/speaker_166.csv')\n",
    "speaker_1150 = pd.read_csv('/srv/scratch/z5313567/thesis/AusKidTalk_local/spontaneous_v2/speaker_1150.csv')\n",
    "speaker_1075 = pd.read_csv('/srv/scratch/z5313567/thesis/AusKidTalk_local/spontaneous_v2/speaker_1075.csv')\n",
    "speaker_1050 = pd.read_csv('/srv/scratch/z5313567/thesis/AusKidTalk_local/spontaneous_v2/speaker_1050.csv')"
   ]
  },
  {
   "cell_type": "code",
   "execution_count": null,
   "id": "8f5985c6-dc6a-48a9-84db-1440e877e162",
   "metadata": {},
   "outputs": [],
   "source": [
    "speakers_dataframe = [speaker_97, speaker_819, speaker_651, speaker_516, speaker_255, speaker_228, speaker_219, speaker_166, speaker_1150, speaker_1075, speaker_1050]"
   ]
  },
  {
   "cell_type": "code",
   "execution_count": null,
   "id": "57d44196-7abd-4193-9553-074f79051c75",
   "metadata": {},
   "outputs": [],
   "source": [
    "for speaker in speakers_dataframe\n",
    "    test_speaker = speaker\n",
    "    # an empty list to store concatenated dataframes\n",
    "    concatenated_dataframes = []\n",
    "    \n",
    "    # for loop the dataframes and concatenate all except the test_speaker\n",
    "    for speaker_df in speakers_dataframe:\n",
    "        if speaker_df is not dataframes[test_speaker - 1]:  # Assuming 'test_speaker' is in the range 1 to 11\n",
    "            concatenated_dataframes.append(speaker_df)\n",
    "\n",
    "    # Concatenate all the selected dataframes\n",
    "    result_df = pd.concat(concatenated_dataframes, ignore_index=True)"
   ]
  },
  {
   "cell_type": "code",
   "execution_count": 16,
   "id": "7b235dc3-b4c5-45c1-8ea9-d9fccce200e9",
   "metadata": {},
   "outputs": [],
   "source": [
    "# add the filtered rows corresponding to the 5 speakers to df_new_175speakers\n",
    "df_combined_97_train = pd.concat([speaker_819, speaker_651,speaker_516,speaker_255,speaker_228,speaker_219,speaker_166,speaker_1150,speaker_1075,speaker_1050], ignore_index=True)\n",
    "df_combined_97_train.to_csv(speaker_97_fp_train, index=False)\n",
    "speaker_97.to_csv(speaker_97_fp_test, index=False)"
   ]
  },
  {
   "cell_type": "code",
   "execution_count": null,
   "id": "f1b141c3-75a6-4a81-907a-111f07a2dfc5",
   "metadata": {},
   "outputs": [],
   "source": [
    "df_combined_1050_train = pd.concat([speaker_819, speaker_651,speaker_516,speaker_255,speaker_228,speaker_219,speaker_166,speaker_1150,speaker_1075,speaker_1050], ignore_index=True)\n",
    "df_combined_1050_train.to_csv(speaker_97_fp_train, index=False)\n",
    "speaker_1050.to_csv(speaker_97_fp_test, index=False)"
   ]
  },
  {
   "cell_type": "code",
   "execution_count": null,
   "id": "b295720a-ebc0-4ed2-8b8c-1bd1d2430c4f",
   "metadata": {},
   "outputs": [],
   "source": []
  }
 ],
 "metadata": {
  "kernelspec": {
   "display_name": "Python 3.10.8 (ipykernel)",
   "language": "python",
   "name": "python-3.10.8"
  },
  "language_info": {
   "codemirror_mode": {
    "name": "ipython",
    "version": 3
   },
   "file_extension": ".py",
   "mimetype": "text/x-python",
   "name": "python",
   "nbconvert_exporter": "python",
   "pygments_lexer": "ipython3",
   "version": "3.10.8"
  }
 },
 "nbformat": 4,
 "nbformat_minor": 5
}

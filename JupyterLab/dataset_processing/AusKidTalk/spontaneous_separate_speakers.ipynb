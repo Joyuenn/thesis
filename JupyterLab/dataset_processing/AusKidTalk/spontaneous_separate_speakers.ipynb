{
 "cells": [
  {
   "cell_type": "code",
   "execution_count": null,
   "id": "cdb5b0f4-8eaf-4980-9a07-3f7c5667f3c7",
   "metadata": {},
   "outputs": [],
   "source": [
    "# Purpose: extract diffeerent  dataframes corresponding each speaker in the spontaneous speech datafra,e"
   ]
  },
  {
   "cell_type": "code",
   "execution_count": 5,
   "id": "2e06cdd0-5e73-4ef1-8d5f-aa3a10811ce6",
   "metadata": {},
   "outputs": [],
   "source": [
    "import pandas as pd"
   ]
  },
  {
   "cell_type": "code",
   "execution_count": 6,
   "id": "4afed9bb-b1e1-4310-b580-8969ce3d1625",
   "metadata": {},
   "outputs": [],
   "source": [
    "data_fp = '/srv/scratch/z5313567/thesis/AusKidTalk_local/spontaneous_v2/AusKidTalk_spontaneous_dataframe_combined_v2.csv'\n",
    "save_base_fp = '/srv/scratch/z5313567/thesis/AusKidTalk_local/spontaneous_v2/'"
   ]
  },
  {
   "cell_type": "code",
   "execution_count": 7,
   "id": "15ec65d3-6b80-4f6d-81a7-8b3ec5cbb72f",
   "metadata": {},
   "outputs": [],
   "source": [
    "df = pd.read_csv(data_fp)"
   ]
  },
  {
   "cell_type": "code",
   "execution_count": 8,
   "id": "1412d963-77e3-4dc9-8911-59974a06ca26",
   "metadata": {},
   "outputs": [],
   "source": [
    "speaker_groups = df.groupby('speaker_id')"
   ]
  },
  {
   "cell_type": "code",
   "execution_count": 9,
   "id": "ea63c518-43d9-4959-9a62-6b9097b5d72d",
   "metadata": {},
   "outputs": [
    {
     "data": {
      "text/plain": [
       "<pandas.core.groupby.generic.DataFrameGroupBy object at 0x14d794c25e70>"
      ]
     },
     "execution_count": 9,
     "metadata": {},
     "output_type": "execute_result"
    }
   ],
   "source": [
    "speaker_groups"
   ]
  },
  {
   "cell_type": "code",
   "execution_count": 13,
   "id": "0f999cd9-fa9c-4697-b66c-83c5ece6d059",
   "metadata": {},
   "outputs": [],
   "source": [
    "for speaker_id, group_df in speaker_groups:\n",
    "    # create a separate dataframe for each speaker\n",
    "    speaker_df = pd.DataFrame(group_df)\n",
    "\n",
    "    # .csv file name for each speaker\n",
    "    csv_file_name = f'{save_base_fp}speaker_{speaker_id}.csv'\n",
    "    \n",
    "    # save dataframe specific to individual speakers\n",
    "    speaker_df.to_csv(csv_file_name, index=False)"
   ]
  },
  {
   "cell_type": "code",
   "execution_count": 12,
   "id": "7ee33cce-9931-4cee-8225-6d27756d4d65",
   "metadata": {},
   "outputs": [
    {
     "data": {
      "text/html": [
       "<div>\n",
       "<style scoped>\n",
       "    .dataframe tbody tr th:only-of-type {\n",
       "        vertical-align: middle;\n",
       "    }\n",
       "\n",
       "    .dataframe tbody tr th {\n",
       "        vertical-align: top;\n",
       "    }\n",
       "\n",
       "    .dataframe thead th {\n",
       "        text-align: right;\n",
       "    }\n",
       "</style>\n",
       "<table border=\"1\" class=\"dataframe\">\n",
       "  <thead>\n",
       "    <tr style=\"text-align: right;\">\n",
       "      <th></th>\n",
       "      <th>filepath</th>\n",
       "      <th>duration</th>\n",
       "      <th>speaker_id</th>\n",
       "      <th>transcription</th>\n",
       "    </tr>\n",
       "  </thead>\n",
       "  <tbody>\n",
       "    <tr>\n",
       "      <th>128</th>\n",
       "      <td>/srv/scratch/chacmod/auskidtalk_spontaneous/11...</td>\n",
       "      <td>4.805111</td>\n",
       "      <td>1150</td>\n",
       "      <td>baby hulk was riding on a skateboard and then ...</td>\n",
       "    </tr>\n",
       "    <tr>\n",
       "      <th>129</th>\n",
       "      <td>/srv/scratch/chacmod/auskidtalk_spontaneous/11...</td>\n",
       "      <td>1.646074</td>\n",
       "      <td>1150</td>\n",
       "      <td>he hurt the egg</td>\n",
       "    </tr>\n",
       "    <tr>\n",
       "      <th>130</th>\n",
       "      <td>/srv/scratch/chacmod/auskidtalk_spontaneous/11...</td>\n",
       "      <td>1.440714</td>\n",
       "      <td>1150</td>\n",
       "      <td>he put his ear up to it</td>\n",
       "    </tr>\n",
       "    <tr>\n",
       "      <th>131</th>\n",
       "      <td>/srv/scratch/chacmod/auskidtalk_spontaneous/11...</td>\n",
       "      <td>1.859507</td>\n",
       "      <td>1150</td>\n",
       "      <td>the egg started cracking</td>\n",
       "    </tr>\n",
       "    <tr>\n",
       "      <th>132</th>\n",
       "      <td>/srv/scratch/chacmod/auskidtalk_spontaneous/11...</td>\n",
       "      <td>3.880460</td>\n",
       "      <td>1150</td>\n",
       "      <td>and the egg cracked and the dino baby dinosaur...</td>\n",
       "    </tr>\n",
       "    <tr>\n",
       "      <th>133</th>\n",
       "      <td>/srv/scratch/chacmod/auskidtalk_spontaneous/11...</td>\n",
       "      <td>3.249490</td>\n",
       "      <td>1150</td>\n",
       "      <td>the baby dinosaur was excited when a</td>\n",
       "    </tr>\n",
       "    <tr>\n",
       "      <th>134</th>\n",
       "      <td>/srv/scratch/chacmod/auskidtalk_spontaneous/11...</td>\n",
       "      <td>2.995265</td>\n",
       "      <td>1150</td>\n",
       "      <td>and went up to baby hulk but he was scared</td>\n",
       "    </tr>\n",
       "    <tr>\n",
       "      <th>135</th>\n",
       "      <td>/srv/scratch/chacmod/auskidtalk_spontaneous/11...</td>\n",
       "      <td>3.272660</td>\n",
       "      <td>1150</td>\n",
       "      <td>so he ran and hid behind a tree</td>\n",
       "    </tr>\n",
       "    <tr>\n",
       "      <th>136</th>\n",
       "      <td>/srv/scratch/chacmod/auskidtalk_spontaneous/11...</td>\n",
       "      <td>2.892423</td>\n",
       "      <td>1150</td>\n",
       "      <td>and the baby dinosaur didn't know where he was</td>\n",
       "    </tr>\n",
       "    <tr>\n",
       "      <th>137</th>\n",
       "      <td>/srv/scratch/chacmod/auskidtalk_spontaneous/11...</td>\n",
       "      <td>1.358503</td>\n",
       "      <td>1150</td>\n",
       "      <td>and then he was sad</td>\n",
       "    </tr>\n",
       "    <tr>\n",
       "      <th>138</th>\n",
       "      <td>/srv/scratch/chacmod/auskidtalk_spontaneous/11...</td>\n",
       "      <td>4.125823</td>\n",
       "      <td>1150</td>\n",
       "      <td>the baby dino being sad made baby hulk sad</td>\n",
       "    </tr>\n",
       "    <tr>\n",
       "      <th>139</th>\n",
       "      <td>/srv/scratch/chacmod/auskidtalk_spontaneous/11...</td>\n",
       "      <td>4.151096</td>\n",
       "      <td>1150</td>\n",
       "      <td>so he went up to the dinosaur and petted him o...</td>\n",
       "    </tr>\n",
       "    <tr>\n",
       "      <th>140</th>\n",
       "      <td>/srv/scratch/chacmod/auskidtalk_spontaneous/11...</td>\n",
       "      <td>1.981320</td>\n",
       "      <td>1150</td>\n",
       "      <td>then gave him his bottle</td>\n",
       "    </tr>\n",
       "    <tr>\n",
       "      <th>141</th>\n",
       "      <td>/srv/scratch/chacmod/auskidtalk_spontaneous/11...</td>\n",
       "      <td>2.033601</td>\n",
       "      <td>1150</td>\n",
       "      <td>and then he found it funny</td>\n",
       "    </tr>\n",
       "  </tbody>\n",
       "</table>\n",
       "</div>"
      ],
      "text/plain": [
       "                                              filepath  duration  speaker_id   \n",
       "128  /srv/scratch/chacmod/auskidtalk_spontaneous/11...  4.805111        1150  \\\n",
       "129  /srv/scratch/chacmod/auskidtalk_spontaneous/11...  1.646074        1150   \n",
       "130  /srv/scratch/chacmod/auskidtalk_spontaneous/11...  1.440714        1150   \n",
       "131  /srv/scratch/chacmod/auskidtalk_spontaneous/11...  1.859507        1150   \n",
       "132  /srv/scratch/chacmod/auskidtalk_spontaneous/11...  3.880460        1150   \n",
       "133  /srv/scratch/chacmod/auskidtalk_spontaneous/11...  3.249490        1150   \n",
       "134  /srv/scratch/chacmod/auskidtalk_spontaneous/11...  2.995265        1150   \n",
       "135  /srv/scratch/chacmod/auskidtalk_spontaneous/11...  3.272660        1150   \n",
       "136  /srv/scratch/chacmod/auskidtalk_spontaneous/11...  2.892423        1150   \n",
       "137  /srv/scratch/chacmod/auskidtalk_spontaneous/11...  1.358503        1150   \n",
       "138  /srv/scratch/chacmod/auskidtalk_spontaneous/11...  4.125823        1150   \n",
       "139  /srv/scratch/chacmod/auskidtalk_spontaneous/11...  4.151096        1150   \n",
       "140  /srv/scratch/chacmod/auskidtalk_spontaneous/11...  1.981320        1150   \n",
       "141  /srv/scratch/chacmod/auskidtalk_spontaneous/11...  2.033601        1150   \n",
       "\n",
       "                                         transcription  \n",
       "128  baby hulk was riding on a skateboard and then ...  \n",
       "129                                    he hurt the egg  \n",
       "130                            he put his ear up to it  \n",
       "131                           the egg started cracking  \n",
       "132  and the egg cracked and the dino baby dinosaur...  \n",
       "133               the baby dinosaur was excited when a  \n",
       "134         and went up to baby hulk but he was scared  \n",
       "135                    so he ran and hid behind a tree  \n",
       "136     and the baby dinosaur didn't know where he was  \n",
       "137                                and then he was sad  \n",
       "138         the baby dino being sad made baby hulk sad  \n",
       "139  so he went up to the dinosaur and petted him o...  \n",
       "140                           then gave him his bottle  \n",
       "141                         and then he found it funny  "
      ]
     },
     "execution_count": 12,
     "metadata": {},
     "output_type": "execute_result"
    }
   ],
   "source": []
  },
  {
   "cell_type": "code",
   "execution_count": null,
   "id": "e5fcc0ae-d69d-4bad-a600-e9f9d9bfb195",
   "metadata": {},
   "outputs": [],
   "source": [
    "pd.concat([df1, df2], axis=1)"
   ]
  }
 ],
 "metadata": {
  "kernelspec": {
   "display_name": "Python 3.10.8 (ipykernel)",
   "language": "python",
   "name": "python-3.10.8"
  },
  "language_info": {
   "codemirror_mode": {
    "name": "ipython",
    "version": 3
   },
   "file_extension": ".py",
   "mimetype": "text/x-python",
   "name": "python",
   "nbconvert_exporter": "python",
   "pygments_lexer": "ipython3",
   "version": "3.10.8"
  }
 },
 "nbformat": 4,
 "nbformat_minor": 5
}

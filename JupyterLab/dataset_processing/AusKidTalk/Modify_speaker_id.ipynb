{
 "cells": [
  {
   "cell_type": "code",
   "execution_count": 27,
   "id": "0802f421-0cee-4b92-baa8-da399ed3a920",
   "metadata": {},
   "outputs": [],
   "source": [
    "# This is to modify the speaker id of scripted dataframe\n",
    "# For example, the original scripted dataframe contains speaker_id \"1075_task1\"\n",
    "# This should be modified to \"1075\" only"
   ]
  },
  {
   "cell_type": "code",
   "execution_count": 28,
   "id": "a2a65664-91f2-4741-9105-d313353a506b",
   "metadata": {},
   "outputs": [],
   "source": [
    "import pandas as pd"
   ]
  },
  {
   "cell_type": "code",
   "execution_count": 46,
   "id": "13862a74-6aa8-4688-a045-c0e3d3e7073d",
   "metadata": {},
   "outputs": [],
   "source": [
    "fp = '/srv/scratch/z5313567/thesis/AusKidTalk_local/AusKidTalk_train_dataframe_shuffled.csv'"
   ]
  },
  {
   "cell_type": "code",
   "execution_count": 47,
   "id": "dfb0c1ac-6e7a-4681-94d9-59d5afb64e77",
   "metadata": {},
   "outputs": [],
   "source": [
    "df = pd.read_csv(fp)"
   ]
  },
  {
   "cell_type": "code",
   "execution_count": 48,
   "id": "4a43d9b3-dcd6-4ddf-a166-d39b69277c5f",
   "metadata": {},
   "outputs": [],
   "source": [
    "df['speaker_id'] = df['speaker_id'].str.replace('_task1','')"
   ]
  },
  {
   "cell_type": "code",
   "execution_count": 49,
   "id": "7e8301dc-4928-466b-9335-a5a4dda363a0",
   "metadata": {},
   "outputs": [],
   "source": [
    "df.to_csv(fp, index=False)"
   ]
  },
  {
   "cell_type": "code",
   "execution_count": null,
   "id": "1968fca0-139a-444e-98cf-8eb78fa5322e",
   "metadata": {},
   "outputs": [],
   "source": []
  },
  {
   "cell_type": "code",
   "execution_count": null,
   "id": "99a2ff08-9d13-484d-b485-6f9a4576f52d",
   "metadata": {},
   "outputs": [],
   "source": []
  }
 ],
 "metadata": {
  "kernelspec": {
   "display_name": "Python 3.10.8 (ipykernel)",
   "language": "python",
   "name": "python-3.10.8"
  },
  "language_info": {
   "codemirror_mode": {
    "name": "ipython",
    "version": 3
   },
   "file_extension": ".py",
   "mimetype": "text/x-python",
   "name": "python",
   "nbconvert_exporter": "python",
   "pygments_lexer": "ipython3",
   "version": "3.10.8"
  }
 },
 "nbformat": 4,
 "nbformat_minor": 5
}

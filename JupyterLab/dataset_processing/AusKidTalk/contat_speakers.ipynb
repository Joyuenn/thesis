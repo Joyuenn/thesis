{
 "cells": [
  {
   "cell_type": "code",
   "execution_count": 41,
   "id": "cc46fb5f-c300-4142-a89a-733d5524e7dc",
   "metadata": {},
   "outputs": [],
   "source": [
    "import pandas as pd\n",
    "import os"
   ]
  },
  {
   "cell_type": "code",
   "execution_count": 42,
   "id": "2beb6e03-ea93-4857-88e6-0af5c965d490",
   "metadata": {},
   "outputs": [],
   "source": [
    "speaker_97_fp = '/srv/scratch/z5313567/thesis/AusKidTalk_local/spontaneous_v2/speaker_97'\n",
    "speaker_819_fp = '/srv/scratch/z5313567/thesis/AusKidTalk_local/spontaneous_v2/speaker_819'\n",
    "speaker_651_fp = '/srv/scratch/z5313567/thesis/AusKidTalk_local/spontaneous_v2/speaker_651'\n",
    "speaker_516_fp = '/srv/scratch/z5313567/thesis/AusKidTalk_local/spontaneous_v2/speaker_516'\n",
    "speaker_255_fp = '/srv/scratch/z5313567/thesis/AusKidTalk_local/spontaneous_v2/speaker_255'\n",
    "speaker_228_fp = '/srv/scratch/z5313567/thesis/AusKidTalk_local/spontaneous_v2/speaker_228'\n",
    "speaker_219_fp = '/srv/scratch/z5313567/thesis/AusKidTalk_local/spontaneous_v2/speaker_219'\n",
    "speaker_166_fp = '/srv/scratch/z5313567/thesis/AusKidTalk_local/spontaneous_v2/speaker_166'\n",
    "speaker_1150_fp = '/srv/scratch/z5313567/thesis/AusKidTalk_local/spontaneous_v2/speaker_1150'\n",
    "speaker_1075_fp = '/srv/scratch/z5313567/thesis/AusKidTalk_local/spontaneous_v2/speaker_1075'\n",
    "speaker_1050_fp = '/srv/scratch/z5313567/thesis/AusKidTalk_local/spontaneous_v2/speaker_1050'"
   ]
  },
  {
   "cell_type": "code",
   "execution_count": 43,
   "id": "6dcf988a-639b-42a5-9015-7008f7e6e3d5",
   "metadata": {},
   "outputs": [],
   "source": [
    "speaker_97_fp_train = '/srv/scratch/z5313567/thesis/AusKidTalk_local/spontaneous_v2/test_speaker_97/train.csv'\n",
    "speaker_819_fp_train = '/srv/scratch/z5313567/thesis/AusKidTalk_local/spontaneous_v2/test_speaker_819/train.csv'\n",
    "speaker_651_fp_train = '/srv/scratch/z5313567/thesis/AusKidTalk_local/spontaneous_v2/test_speaker_651/train.csv'\n",
    "speaker_516_fp_train = '/srv/scratch/z5313567/thesis/AusKidTalk_local/spontaneous_v2/test_speaker_516/train.csv'\n",
    "speaker_255_fp_train = '/srv/scratch/z5313567/thesis/AusKidTalk_local/spontaneous_v2/test_speaker_255/train.csv'\n",
    "speaker_228_fp_train = '/srv/scratch/z5313567/thesis/AusKidTalk_local/spontaneous_v2/test_speaker_228/train.csv'\n",
    "speaker_219_fp_train = '/srv/scratch/z5313567/thesis/AusKidTalk_local/spontaneous_v2/test_speaker_219/train.csv'\n",
    "speaker_166_fp_train = '/srv/scratch/z5313567/thesis/AusKidTalk_local/spontaneous_v2/test_speaker_166/train.csv'\n",
    "speaker_1150_fp_train = '/srv/scratch/z5313567/thesis/AusKidTalk_local/spontaneous_v2/test_speaker_1150/train.csv'\n",
    "speaker_1075_fp_train = '/srv/scratch/z5313567/thesis/AusKidTalk_local/spontaneous_v2/test_speaker_1075/train.csv'\n",
    "speaker_1050_fp_train = '/srv/scratch/z5313567/thesis/AusKidTalk_local/spontaneous_v2/test_speaker_1050/train.csv'"
   ]
  },
  {
   "cell_type": "code",
   "execution_count": 44,
   "id": "2d170f7f-55f3-4343-a34c-f5107ebdb58e",
   "metadata": {},
   "outputs": [],
   "source": [
    "speaker_97_fp_test = '/srv/scratch/z5313567/thesis/AusKidTalk_local/spontaneous_v2/test_speaker_97/test.csv'\n",
    "speaker_819_fp_test = '/srv/scratch/z5313567/thesis/AusKidTalk_local/spontaneous_v2/test_speaker_819/test.csv'\n",
    "speaker_651_fp_test = '/srv/scratch/z5313567/thesis/AusKidTalk_local/spontaneous_v2/test_speaker_651/test.csv'\n",
    "speaker_516_fp_test = '/srv/scratch/z5313567/thesis/AusKidTalk_local/spontaneous_v2/test_speaker_516/test.csv'\n",
    "speaker_255_fp_test = '/srv/scratch/z5313567/thesis/AusKidTalk_local/spontaneous_v2/test_speaker_255/test.csv'\n",
    "speaker_228_fp_test = '/srv/scratch/z5313567/thesis/AusKidTalk_local/spontaneous_v2/test_speaker_228/test.csv'\n",
    "speaker_219_fp_test = '/srv/scratch/z5313567/thesis/AusKidTalk_local/spontaneous_v2/test_speaker_219/test.csv'\n",
    "speaker_166_fp_test = '/srv/scratch/z5313567/thesis/AusKidTalk_local/spontaneous_v2/test_speaker_166/test.csv'\n",
    "speaker_1150_fp_test = '/srv/scratch/z5313567/thesis/AusKidTalk_local/spontaneous_v2/test_speaker_1150/test.csv'\n",
    "speaker_1075_fp_test = '/srv/scratch/z5313567/thesis/AusKidTalk_local/spontaneous_v2/test_speaker_1075/test.csv'\n",
    "speaker_1050_fp_test = '/srv/scratch/z5313567/thesis/AusKidTalk_local/spontaneous_v2/test_speaker_1050/test.csv'"
   ]
  },
  {
   "cell_type": "code",
   "execution_count": 45,
   "id": "a946748f-0beb-47cb-aa44-703d12a03cd7",
   "metadata": {},
   "outputs": [],
   "source": [
    "speaker_97 = pd.read_csv('/srv/scratch/z5313567/thesis/AusKidTalk_local/spontaneous_v2/speaker_97.csv')\n",
    "speaker_819 = pd.read_csv('/srv/scratch/z5313567/thesis/AusKidTalk_local/spontaneous_v2/speaker_819.csv')\n",
    "speaker_651 = pd.read_csv('/srv/scratch/z5313567/thesis/AusKidTalk_local/spontaneous_v2/speaker_651.csv')\n",
    "speaker_516 = pd.read_csv('/srv/scratch/z5313567/thesis/AusKidTalk_local/spontaneous_v2/speaker_516.csv')\n",
    "speaker_255 = pd.read_csv('/srv/scratch/z5313567/thesis/AusKidTalk_local/spontaneous_v2/speaker_255.csv')\n",
    "speaker_228 = pd.read_csv('/srv/scratch/z5313567/thesis/AusKidTalk_local/spontaneous_v2/speaker_97.csv')\n",
    "speaker_219 = pd.read_csv('/srv/scratch/z5313567/thesis/AusKidTalk_local/spontaneous_v2/speaker_219.csv')\n",
    "speaker_166 = pd.read_csv('/srv/scratch/z5313567/thesis/AusKidTalk_local/spontaneous_v2/speaker_166.csv')\n",
    "speaker_1150 = pd.read_csv('/srv/scratch/z5313567/thesis/AusKidTalk_local/spontaneous_v2/speaker_1150.csv')\n",
    "speaker_1075 = pd.read_csv('/srv/scratch/z5313567/thesis/AusKidTalk_local/spontaneous_v2/speaker_1075.csv')\n",
    "speaker_1050 = pd.read_csv('/srv/scratch/z5313567/thesis/AusKidTalk_local/spontaneous_v2/speaker_1050.csv')"
   ]
  },
  {
   "cell_type": "code",
   "execution_count": 46,
   "id": "8f5985c6-dc6a-48a9-84db-1440e877e162",
   "metadata": {},
   "outputs": [],
   "source": [
    "speakers_dataframe = ['speaker_97', 'speaker_819', 'speaker_651', 'speaker_516', 'speaker_255', 'speaker_228', 'speaker_219', 'speaker_166', 'speaker_1150', 'speaker_1075', 'speaker_1050']"
   ]
  },
  {
   "cell_type": "code",
   "execution_count": 47,
   "id": "f1b141c3-75a6-4a81-907a-111f07a2dfc5",
   "metadata": {},
   "outputs": [],
   "source": [
    "df_combined_1050_train = pd.concat([speaker_97, speaker_819,speaker_651,speaker_516,speaker_255,speaker_228,speaker_219,speaker_166,speaker_1150,speaker_1075], ignore_index=True)\n",
    "df_combined_1050_train.to_csv(speaker_1050_fp_train, index=False)\n",
    "speaker_1050.to_csv(speaker_1050_fp_test, index=False)"
   ]
  },
  {
   "cell_type": "code",
   "execution_count": 48,
   "id": "b295720a-ebc0-4ed2-8b8c-1bd1d2430c4f",
   "metadata": {},
   "outputs": [],
   "source": [
    "df_combined_1075_train = pd.concat([speaker_97, speaker_819,speaker_651,speaker_516,speaker_255,speaker_228,speaker_219,speaker_166,speaker_1150,speaker_1050], ignore_index=True)\n",
    "df_combined_1075_train.to_csv(speaker_1075_fp_train, index=False)\n",
    "speaker_1075.to_csv(speaker_1075_fp_test, index=False)"
   ]
  },
  {
   "cell_type": "code",
   "execution_count": 49,
   "id": "6aff79bd-2376-400f-8df7-8fcf17e2de5c",
   "metadata": {},
   "outputs": [],
   "source": [
    "df_combined_1150_train = pd.concat([speaker_97, speaker_819,speaker_651,speaker_516,speaker_255,speaker_228,speaker_219,speaker_166,speaker_1075,speaker_1050], ignore_index=True)\n",
    "df_combined_1150_train.to_csv(speaker_1150_fp_train, index=False)\n",
    "speaker_1150.to_csv(speaker_1150_fp_test, index=False)"
   ]
  },
  {
   "cell_type": "code",
   "execution_count": 50,
   "id": "a6c0f51b-840d-4d78-a78c-64c97ad47bda",
   "metadata": {},
   "outputs": [],
   "source": [
    "df_combined_166_train = pd.concat([speaker_97, speaker_819,speaker_651,speaker_516,speaker_255,speaker_228,speaker_219,speaker_1150,speaker_1075,speaker_1050], ignore_index=True)\n",
    "df_combined_166_train.to_csv(speaker_166_fp_train, index=False)\n",
    "speaker_166.to_csv(speaker_166_fp_test, index=False)"
   ]
  },
  {
   "cell_type": "code",
   "execution_count": 51,
   "id": "381ce23d-cf43-4002-b5c5-1c2e57eb57f7",
   "metadata": {},
   "outputs": [],
   "source": [
    "df_combined_219_train = pd.concat([speaker_97, speaker_819,speaker_651,speaker_516,speaker_255,speaker_228,speaker_166,speaker_1150,speaker_1075,speaker_1050], ignore_index=True)\n",
    "df_combined_219_train.to_csv(speaker_219_fp_train, index=False)\n",
    "speaker_219.to_csv(speaker_219_fp_test, index=False)"
   ]
  },
  {
   "cell_type": "code",
   "execution_count": 52,
   "id": "b130d7fe-3bec-4e83-9b3b-c49e457a2b96",
   "metadata": {},
   "outputs": [],
   "source": [
    "df_combined_228_train = pd.concat([speaker_97, speaker_819,speaker_651,speaker_516,speaker_255,speaker_219,speaker_166,speaker_1150,speaker_1075,speaker_1050], ignore_index=True)\n",
    "df_combined_228_train.to_csv(speaker_228_fp_train, index=False)\n",
    "speaker_228.to_csv(speaker_228_fp_test, index=False)"
   ]
  },
  {
   "cell_type": "code",
   "execution_count": 53,
   "id": "d5ba5139-c47e-4920-8130-a04cbd357af8",
   "metadata": {},
   "outputs": [],
   "source": [
    "df_combined_255_train = pd.concat([speaker_97, speaker_819,speaker_651,speaker_516,speaker_228,speaker_219,speaker_166,speaker_1150,speaker_1075,speaker_1050], ignore_index=True)\n",
    "df_combined_255_train.to_csv(speaker_255_fp_train, index=False)\n",
    "speaker_255.to_csv(speaker_255_fp_test, index=False)"
   ]
  },
  {
   "cell_type": "code",
   "execution_count": 54,
   "id": "a945dd84-2ee8-4f51-88d2-6b46c8f71f3e",
   "metadata": {},
   "outputs": [],
   "source": [
    "df_combined_516_train = pd.concat([speaker_97, speaker_819,speaker_651,speaker_255,speaker_228,speaker_219,speaker_166,speaker_1150,speaker_1075,speaker_1050], ignore_index=True)\n",
    "df_combined_516_train.to_csv(speaker_516_fp_train, index=False)\n",
    "speaker_516.to_csv(speaker_516_fp_test, index=False)"
   ]
  },
  {
   "cell_type": "code",
   "execution_count": 55,
   "id": "957121a0-0bff-4003-86ef-81ff92c4512b",
   "metadata": {},
   "outputs": [],
   "source": [
    "df_combined_651_train = pd.concat([speaker_97, speaker_819,speaker_516,speaker_255,speaker_228,speaker_219,speaker_166,speaker_1150,speaker_1075,speaker_1050], ignore_index=True)\n",
    "df_combined_651_train.to_csv(speaker_651_fp_train, index=False)\n",
    "speaker_651.to_csv(speaker_651_fp_test, index=False)"
   ]
  },
  {
   "cell_type": "code",
   "execution_count": 56,
   "id": "51c80d97-399f-4c31-a735-0ad5bbfa578d",
   "metadata": {},
   "outputs": [],
   "source": [
    "df_combined_819_train = pd.concat([speaker_97, speaker_651,speaker_516,speaker_255,speaker_228,speaker_219,speaker_166,speaker_1150,speaker_1075,speaker_1050], ignore_index=True)\n",
    "df_combined_819_train.to_csv(speaker_819_fp_train, index=False)\n",
    "speaker_819.to_csv(speaker_819_fp_test, index=False)"
   ]
  },
  {
   "cell_type": "code",
   "execution_count": 57,
   "id": "8c49bda1-d77e-458a-bd56-44211b273467",
   "metadata": {},
   "outputs": [],
   "source": [
    "df_combined_97_train = pd.concat([speaker_819, speaker_651,speaker_516,speaker_255,speaker_228,speaker_219,speaker_166,speaker_1150,speaker_1075,speaker_1050], ignore_index=True)\n",
    "df_combined_97_train.to_csv(speaker_97_fp_train, index=False)\n",
    "speaker_97.to_csv(speaker_97_fp_test, index=False)"
   ]
  },
  {
   "cell_type": "code",
   "execution_count": null,
   "id": "507e1c62-1be4-4fe9-a91c-12b5669e9e8c",
   "metadata": {},
   "outputs": [],
   "source": []
  },
  {
   "cell_type": "code",
   "execution_count": null,
   "id": "1709612f-4a9e-419d-85f0-8288593ac7d0",
   "metadata": {},
   "outputs": [],
   "source": []
  }
 ],
 "metadata": {
  "kernelspec": {
   "display_name": "Python 3.10.8 (ipykernel)",
   "language": "python",
   "name": "python-3.10.8"
  },
  "language_info": {
   "codemirror_mode": {
    "name": "ipython",
    "version": 3
   },
   "file_extension": ".py",
   "mimetype": "text/x-python",
   "name": "python",
   "nbconvert_exporter": "python",
   "pygments_lexer": "ipython3",
   "version": "3.10.8"
  }
 },
 "nbformat": 4,
 "nbformat_minor": 5
}

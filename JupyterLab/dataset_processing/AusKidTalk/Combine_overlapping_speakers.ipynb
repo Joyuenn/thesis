{
 "cells": [
  {
   "cell_type": "code",
   "execution_count": 45,
   "id": "3c528c07-7118-4a06-97ae-c74f2a146be7",
   "metadata": {},
   "outputs": [],
   "source": [
    "import pandas as pd"
   ]
  },
  {
   "cell_type": "code",
   "execution_count": 46,
   "id": "c58a2b5c-edd2-4f6b-9c19-3d79de4239ef",
   "metadata": {},
   "outputs": [],
   "source": [
    "fp_new_175speakers = '/srv/scratch/z5313567/thesis/AusKidTalk_local/scripted_new/AusKidTalk_scripted_dataframe_new_175_speakers.csv'\n",
    "fp_old_79speakers = '/srv/scratch/z5313567/thesis/AusKidTalk_local/AusKidTalk_dataframe.csv'\n",
    "save_combined_df_fp = '/srv/scratch/z5313567/thesis/AusKidTalk_local/scripted_new/AusKidTalk_scripted_dataframe_new_180speakers.csv'"
   ]
  },
  {
   "cell_type": "code",
   "execution_count": 47,
   "id": "f67831a3-02d0-4d25-8aaa-3f44d2cc63d1",
   "metadata": {},
   "outputs": [],
   "source": [
    "df_new_175speakers = pd.read_csv(fp_new_175speakers)\n",
    "df_old_79speakers = pd.read_csv(fp_old_79speakers)"
   ]
  },
  {
   "cell_type": "code",
   "execution_count": 48,
   "id": "168005a0-f727-4542-b207-4f4eb7380c1d",
   "metadata": {},
   "outputs": [],
   "source": [
    "# Find the 5 speakers in df_old_79speakers that are not in df_new_175speakers\n",
    "new_speakers = set(df_old_79speakers['speaker_id']) - set(df_new_175speakers['speaker_id'])"
   ]
  },
  {
   "cell_type": "code",
   "execution_count": 49,
   "id": "80ec3eee-e55e-49c5-94e5-aafe46b04369",
   "metadata": {},
   "outputs": [
    {
     "data": {
      "text/plain": [
       "{173, 181, 190, 199, 259}"
      ]
     },
     "execution_count": 49,
     "metadata": {},
     "output_type": "execute_result"
    }
   ],
   "source": [
    "new_speakers"
   ]
  },
  {
   "cell_type": "code",
   "execution_count": 50,
   "id": "6759c769-90cc-4428-b647-6830e311013c",
   "metadata": {},
   "outputs": [],
   "source": [
    "# filter rows from df_old_79speakers for the 5 speakers\n",
    "new_speakers_data = df_old_79speakers[df_old_79speakers['speaker_id'].isin(new_speakers)]"
   ]
  },
  {
   "cell_type": "code",
   "execution_count": 51,
   "id": "d9debcb2-7fc0-4061-a739-ed60027132a5",
   "metadata": {},
   "outputs": [
    {
     "data": {
      "text/plain": [
       "array([259, 190, 181, 199, 173])"
      ]
     },
     "execution_count": 51,
     "metadata": {},
     "output_type": "execute_result"
    }
   ],
   "source": [
    "new_speakers_data['speaker_id'].unique()"
   ]
  },
  {
   "cell_type": "code",
   "execution_count": 52,
   "id": "af91ce61-377c-43b4-8363-2f8958f3d926",
   "metadata": {},
   "outputs": [],
   "source": [
    "# add the filtered rows corresponding to the 5 speakers to df_new_175speakers\n",
    "df_combined = pd.concat([df_new_175speakers, new_speakers_data], ignore_index=True)"
   ]
  },
  {
   "cell_type": "code",
   "execution_count": 53,
   "id": "a2a85360-019e-4a92-a6f8-9c311c31a887",
   "metadata": {},
   "outputs": [
    {
     "name": "stdout",
     "output_type": "stream",
     "text": [
      "\n",
      "------> Saving dataframe to csv file... ------\n",
      "\n",
      "Successfully saved dataframe to csv file at:  /srv/scratch/z5313567/thesis/AusKidTalk_local/scripted_new/AusKidTalk_scripted_dataframe_new_180speakers.csv\n",
      "Total number of speakers: 180\n",
      "Total hours: 5.537792781832424\n"
     ]
    }
   ],
   "source": [
    "print(\"\\n------> Saving dataframe to csv file... ------\\n\")\n",
    "df_combined.to_csv(save_combined_df_fp, index=False)\n",
    "print('Successfully saved dataframe to csv file at: ', save_combined_df_fp)\n",
    "print(\"Total number of speakers:\", len(set(df_combined['speaker_id'])))\n",
    "print(\"Total hours:\", df_combined['duration'].sum()/(60*60))"
   ]
  },
  {
   "cell_type": "code",
   "execution_count": null,
   "id": "891eeb00-98c9-4b4d-a37f-d4766f60ae76",
   "metadata": {},
   "outputs": [],
   "source": []
  }
 ],
 "metadata": {
  "kernelspec": {
   "display_name": "Python 3.10.8 (ipykernel)",
   "language": "python",
   "name": "python-3.10.8"
  },
  "language_info": {
   "codemirror_mode": {
    "name": "ipython",
    "version": 3
   },
   "file_extension": ".py",
   "mimetype": "text/x-python",
   "name": "python",
   "nbconvert_exporter": "python",
   "pygments_lexer": "ipython3",
   "version": "3.10.8"
  }
 },
 "nbformat": 4,
 "nbformat_minor": 5
}

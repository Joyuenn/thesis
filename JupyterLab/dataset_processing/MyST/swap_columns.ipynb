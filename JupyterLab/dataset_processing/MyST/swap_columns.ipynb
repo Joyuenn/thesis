{
 "cells": [
  {
   "cell_type": "code",
   "execution_count": 12,
   "id": "cbf8262a-f3ed-4f59-b745-408aa1075b5d",
   "metadata": {},
   "outputs": [],
   "source": [
    "import pandas as pd"
   ]
  },
  {
   "cell_type": "code",
   "execution_count": 18,
   "id": "8f1e4a76-72af-4db8-bb0c-15abde83b389",
   "metadata": {},
   "outputs": [],
   "source": [
    "fp = '/srv/scratch/z5313567/thesis/MyST_local/myST_test_15.csv'\n",
    "save_fp = '/srv/scratch/z5313567/thesis/MyST_local/myST_test_15sec.csv'"
   ]
  },
  {
   "cell_type": "code",
   "execution_count": 19,
   "id": "37b0b752-e8cf-45eb-a162-de04ac30f79b",
   "metadata": {},
   "outputs": [],
   "source": [
    "df = pd.read_csv(fp)"
   ]
  },
  {
   "cell_type": "code",
   "execution_count": 20,
   "id": "8d6bb413-5e29-4cca-8404-4c6d816e3c89",
   "metadata": {},
   "outputs": [],
   "source": [
    "# swap the positions of the columns\n",
    "df = df[['filepath', 'duration', 'spkr_id', 'transcription']]"
   ]
  },
  {
   "cell_type": "code",
   "execution_count": 21,
   "id": "a4242b79-ea5e-448e-9f1a-9c49cabf3aa8",
   "metadata": {},
   "outputs": [],
   "source": [
    "new_df = df.rename(columns={'spkr_id': 'speaker_id'})"
   ]
  },
  {
   "cell_type": "code",
   "execution_count": 22,
   "id": "b1add6f0-510d-4a64-a4fb-a6786361e54e",
   "metadata": {},
   "outputs": [],
   "source": [
    "new_df.to_csv(save_fp, index=False)"
   ]
  },
  {
   "cell_type": "code",
   "execution_count": null,
   "id": "24fea5e5-21f6-4654-a1ae-19a9976e9bc0",
   "metadata": {},
   "outputs": [],
   "source": []
  },
  {
   "cell_type": "code",
   "execution_count": null,
   "id": "90986617-e6fe-4132-b1c9-d4212d95b776",
   "metadata": {},
   "outputs": [],
   "source": []
  }
 ],
 "metadata": {
  "kernelspec": {
   "display_name": "Python 3.10.8 (ipykernel)",
   "language": "python",
   "name": "python-3.10.8"
  },
  "language_info": {
   "codemirror_mode": {
    "name": "ipython",
    "version": 3
   },
   "file_extension": ".py",
   "mimetype": "text/x-python",
   "name": "python",
   "nbconvert_exporter": "python",
   "pygments_lexer": "ipython3",
   "version": "3.10.8"
  }
 },
 "nbformat": 4,
 "nbformat_minor": 5
}

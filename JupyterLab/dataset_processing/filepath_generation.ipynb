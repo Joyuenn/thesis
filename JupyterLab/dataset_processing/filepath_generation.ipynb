{
 "cells": [
  {
   "cell_type": "code",
   "execution_count": null,
   "id": "57ae16e6-6278-47d4-92c7-50e617dd4062",
   "metadata": {},
   "outputs": [],
   "source": [
    "data_cache_fp = '/srv/scratch/chacmod/.cache/huggingface/datasets/Jordan-OGI-finetune'\n",
    "print(\"--> data_cache_fp:\", data_cache_fp)\n",
    "# Path to save vocab.json\n",
    "# vocab_fp = base_fp + train_name + \"_local/vocab_\" + experiment_id + \".json\"\n",
    "vocab_fp = '/srv/scratch/z5313567/thesis/wav2vec2/vocab/OGI_American/full/full_vocab_OGI_American_20230704_2.json'\n",
    "print(\"--> vocab_fp:\", vocab_fp)\n",
    "# Path to save model output\n",
    "#model_fp = base_fp + train_name + \"_local/\" + experiment_id\n",
    "model_fp = '/srv/scratch/z5313567/thesis/wav2vec2/model/OGI_American/full/full_model_OGI_American_20230704_2'\n",
    "print(\"--> model_fp:\", model_fp)\n",
    "# Path to save results output\n",
    "# baseline_results_fp = base_fp + train_name + \"_local/\" + experiment_id + \"_baseline_results.csv\" \n",
    "baseline_results_fp = '/srv/scratch/z5313567/thesis/wav2vec2/baseline_result/OGI_American/full/full_baseline_result_OGI_American_20230704_2.csv'\n",
    "print(\"--> baseline_results_fp:\", baseline_results_fp)\n",
    "# finetuned_results_fp = base_fp + train_name + \"_local/\" + experiment_id + \"_finetuned_results.csv\"\n",
    "finetuned_results_fp = '/srv/scratch/z5313567/thesis/wav2vec2/finetuned_result/OGI_American/full/full_finetuned_result_OGI_American_20230704_2.csv'\n",
    "print(\"--> finetuned_results_fp:\", finetuned_results_fp)\n",
    "# Pre-trained checkpoint model"
   ]
  },
  {
   "cell_type": "code",
   "execution_count": null,
   "id": "68f89e0c-43f0-4637-9e97-a0849e3af5ed",
   "metadata": {},
   "outputs": [],
   "source": [
    "import os"
   ]
  },
  {
   "cell_type": "code",
   "execution_count": 6,
   "id": "79130fdb-6633-4885-953e-fe8cec8138af",
   "metadata": {},
   "outputs": [],
   "source": [
    "base_fp = '/srv/scratch/z5313567/thesis/'\n",
    "model = 'wav2vec2'\n",
    "dataset_name = 'OGI_American'\n",
    "experiment_id = 'finetune_full_20230704_2'\n",
    "cache_name = 'Jordan-OGI-finetune'"
   ]
  },
  {
   "cell_type": "code",
   "execution_count": 7,
   "id": "ff9c1cf0-a3a1-4fc2-b161-db36860b1873",
   "metadata": {},
   "outputs": [
    {
     "name": "stdout",
     "output_type": "stream",
     "text": [
      "--> data_cache_fp: /srv/scratch/chacmod/.cache/huggingface/datasets/Jordan-OGI-finetune\n"
     ]
    }
   ],
   "source": [
    "data_cache_fp = '/srv/scratch/chacmod/.cache/huggingface/datasets/' + cache_name\n",
    "print(\"--> data_cache_fp:\", data_cache_fp)"
   ]
  },
  {
   "cell_type": "code",
   "execution_count": 16,
   "id": "132303c1-948d-4be3-bc50-282a9a0dcb6e",
   "metadata": {},
   "outputs": [
    {
     "name": "stdout",
     "output_type": "stream",
     "text": [
      "--> vocab_fp: /srv/scratch/z5313567/thesis/wav2vec2/vocab/OGI_American/finetune_full_20230704_2_vocab.json\n"
     ]
    }
   ],
   "source": [
    "vocab_fp =  base_fp + model + '/vocab/' + dataset_name + '/' + experiment_id + '_vocab.json'\n",
    "print(\"--> vocab_fp:\", vocab_fp)"
   ]
  },
  {
   "cell_type": "code",
   "execution_count": 17,
   "id": "8ec7d86e-7a0d-44f4-a334-7278c1f9ae99",
   "metadata": {},
   "outputs": [
    {
     "name": "stdout",
     "output_type": "stream",
     "text": [
      "--> model_fp: /srv/scratch/z5313567/thesis/wav2vec2/model/OGI_American/finetune_full_20230704_2\n"
     ]
    }
   ],
   "source": [
    "model_fp = base_fp + model + '/model/' + dataset_name + '/' + experiment_id\n",
    "print(\"--> model_fp:\", model_fp)"
   ]
  },
  {
   "cell_type": "code",
   "execution_count": 18,
   "id": "8468985c-2607-48ac-a22a-16060e32e6b2",
   "metadata": {},
   "outputs": [
    {
     "name": "stdout",
     "output_type": "stream",
     "text": [
      "--> baseline_results_fp: /srv/scratch/z5313567/thesis/wav2vec2/baseline_result/OGI_American/finetune_full_20230704_2_baseline_result.csv\n"
     ]
    }
   ],
   "source": [
    "baseline_results_fp = base_fp + model + '/baseline_result/' + dataset_name + '/'  + experiment_id + '_baseline_result.csv'\n",
    "print(\"--> baseline_results_fp:\", baseline_results_fp)"
   ]
  },
  {
   "cell_type": "code",
   "execution_count": 19,
   "id": "f2ec67ec-a41b-48ff-bc65-5c1ae3dc4a7b",
   "metadata": {},
   "outputs": [
    {
     "name": "stdout",
     "output_type": "stream",
     "text": [
      "--> finetuned_results_fp: /srv/scratch/z5313567/thesis/wav2vec2/finetune_result/OGI_American/finetune_full_20230704_2_finetune_result.csv\n"
     ]
    }
   ],
   "source": [
    "finetuned_results_fp = base_fp + model + '/finetuned_result/' + dataset_name + '/'  + experiment_id + 'finetuned_result.csv'\n",
    "print(\"--> finetuned_results_fp:\", finetuned_results_fp)"
   ]
  },
  {
   "cell_type": "code",
   "execution_count": null,
   "id": "164acb25-921e-4d10-ab54-9fc11d3df0b8",
   "metadata": {},
   "outputs": [],
   "source": []
  }
 ],
 "metadata": {
  "kernelspec": {
   "display_name": "Python 3.10.8 (ipykernel)",
   "language": "python",
   "name": "python-3.10.8"
  },
  "language_info": {
   "codemirror_mode": {
    "name": "ipython",
    "version": 3
   },
   "file_extension": ".py",
   "mimetype": "text/x-python",
   "name": "python",
   "nbconvert_exporter": "python",
   "pygments_lexer": "ipython3",
   "version": "3.10.8"
  }
 },
 "nbformat": 4,
 "nbformat_minor": 5
}

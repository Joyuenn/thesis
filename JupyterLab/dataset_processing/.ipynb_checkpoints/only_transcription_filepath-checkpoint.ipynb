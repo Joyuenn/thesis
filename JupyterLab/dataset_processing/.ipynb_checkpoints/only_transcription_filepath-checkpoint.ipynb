{
 "cells": [
  {
   "cell_type": "code",
   "execution_count": 1,
   "id": "18adbf57-b897-45b8-bcdf-c945112de0ff",
   "metadata": {},
   "outputs": [],
   "source": [
    "# Purpose: Process the dataset such that it only contains 'filepath' and 'transcription_clean'\n",
    "# Requirement: prepare_scripted_datasets.py (ipynb)\n",
    "#              Check_duration_15sec.py (ipynb)\n",
    "#              group_speaker_id.py (ipynb)\n",
    "#              dataset_splitting.py (ipynb)\n",
    "#  (optional)  shuffle_dataset.py (ipynb)"
   ]
  },
  {
   "cell_type": "code",
   "execution_count": 2,
   "id": "39d2ba36-a6aa-4252-ac3d-1cc833f5e113",
   "metadata": {},
   "outputs": [
    {
     "name": "stderr",
     "output_type": "stream",
     "text": [
      "/home/z5313567/.local/lib/python3.10/site-packages/pydub/utils.py:170: RuntimeWarning: Couldn't find ffmpeg or avconv - defaulting to ffmpeg, but may not work\n",
      "  warn(\"Couldn't find ffmpeg or avconv - defaulting to ffmpeg, but may not work\", RuntimeWarning)\n"
     ]
    }
   ],
   "source": [
    "from os.path import join\n",
    "from praatio import tgio\n",
    "from pydub import AudioSegment\n",
    "import pandas as pd\n",
    "import os"
   ]
  },
  {
   "cell_type": "code",
   "execution_count": 13,
   "id": "07419a87-9bd3-46fc-a373-c92a0e667504",
   "metadata": {},
   "outputs": [],
   "source": [
    "data_fp =  '/srv/scratch/z5313567/thesis/AusKidTalk_local/scripted_new/AusKidTalk_scripted_test_dataframe_new_180speakers_shuffled.csv'\n",
    "\n",
    "save_fp =  '/srv/scratch/z5313567/thesis/AusKidTalk_local/scripted_new/AusKidTalk_scripted_test_dataframe_new_180speakers_shuffled_15sec.csv'"
   ]
  },
  {
   "cell_type": "code",
   "execution_count": 14,
   "id": "b092de62-9c19-44ef-9854-c23aed60116b",
   "metadata": {},
   "outputs": [
    {
     "name": "stdout",
     "output_type": "stream",
     "text": [
      "\n",
      "------> Extracting transcription and filepath... ------\n",
      "\n"
     ]
    }
   ],
   "source": [
    "print(\"\\n------> Extracting transcription and filepath... ------\\n\")\n",
    "df = pd.read_csv(data_fp)\n",
    "new_df = df[['filepath', 'transcription']]"
   ]
  },
  {
   "cell_type": "code",
   "execution_count": 15,
   "id": "fe85f9e0-9ba6-4cc7-996a-589beead6200",
   "metadata": {},
   "outputs": [],
   "source": [
    "# rename the 'transcriptions' column to 'transcription_clean'\n",
    "new_df = new_df.rename(columns={'transcription': 'transcription_clean'})"
   ]
  },
  {
   "cell_type": "code",
   "execution_count": 16,
   "id": "d7ad523c-922e-4121-84f8-af7970adbc61",
   "metadata": {},
   "outputs": [
    {
     "name": "stdout",
     "output_type": "stream",
     "text": [
      "\n",
      "------> Saving dataframe to csv file... ------\n",
      "\n",
      "Successfully saved dataframe to csv file at:  /srv/scratch/z5313567/thesis/AusKidTalk_local/scripted_new/AusKidTalk_scripted_test_dataframe_new_180speakers_shuffled_15sec.csv\n"
     ]
    }
   ],
   "source": [
    "print(\"\\n------> Saving dataframe to csv file... ------\\n\")\n",
    "new_df.to_csv(save_fp, index=False)\n",
    "print('Successfully saved dataframe to csv file at: ', save_fp)"
   ]
  },
  {
   "cell_type": "code",
   "execution_count": 17,
   "id": "a976bf40-09dd-470b-9a59-13f387e8e81b",
   "metadata": {},
   "outputs": [
    {
     "data": {
      "text/html": [
       "<div>\n",
       "<style scoped>\n",
       "    .dataframe tbody tr th:only-of-type {\n",
       "        vertical-align: middle;\n",
       "    }\n",
       "\n",
       "    .dataframe tbody tr th {\n",
       "        vertical-align: top;\n",
       "    }\n",
       "\n",
       "    .dataframe thead th {\n",
       "        text-align: right;\n",
       "    }\n",
       "</style>\n",
       "<table border=\"1\" class=\"dataframe\">\n",
       "  <thead>\n",
       "    <tr style=\"text-align: right;\">\n",
       "      <th></th>\n",
       "      <th>filepath</th>\n",
       "      <th>transcription_clean</th>\n",
       "    </tr>\n",
       "  </thead>\n",
       "  <tbody>\n",
       "    <tr>\n",
       "      <th>0</th>\n",
       "      <td>/srv/scratch/chacmod/auskidtalk_scripted_audio...</td>\n",
       "      <td>bird</td>\n",
       "    </tr>\n",
       "    <tr>\n",
       "      <th>1</th>\n",
       "      <td>/srv/scratch/chacmod/auskidtalk_scripted_audio...</td>\n",
       "      <td>detective</td>\n",
       "    </tr>\n",
       "    <tr>\n",
       "      <th>2</th>\n",
       "      <td>/srv/scratch/chacmod/auskidtalk_scripted_audio...</td>\n",
       "      <td>short</td>\n",
       "    </tr>\n",
       "    <tr>\n",
       "      <th>3</th>\n",
       "      <td>/srv/scratch/chacmod/auskidtalk_scripted_audio...</td>\n",
       "      <td>cloud</td>\n",
       "    </tr>\n",
       "    <tr>\n",
       "      <th>4</th>\n",
       "      <td>/srv/scratch/chacmod/auskidtalk_scripted_audio...</td>\n",
       "      <td>that</td>\n",
       "    </tr>\n",
       "    <tr>\n",
       "      <th>...</th>\n",
       "      <td>...</td>\n",
       "      <td>...</td>\n",
       "    </tr>\n",
       "    <tr>\n",
       "      <th>3963</th>\n",
       "      <td>/srv/scratch/chacmod/auskidtalk_scripted_audio...</td>\n",
       "      <td>sprout</td>\n",
       "    </tr>\n",
       "    <tr>\n",
       "      <th>3964</th>\n",
       "      <td>/srv/scratch/chacmod/auskidtalk_scripted_audio...</td>\n",
       "      <td>one egg</td>\n",
       "    </tr>\n",
       "    <tr>\n",
       "      <th>3965</th>\n",
       "      <td>/srv/scratch/chacmod/auskidtalk_scripted_audio...</td>\n",
       "      <td>hole</td>\n",
       "    </tr>\n",
       "    <tr>\n",
       "      <th>3966</th>\n",
       "      <td>/srv/scratch/chacmod/auskidtalk_scripted_audio...</td>\n",
       "      <td>garden</td>\n",
       "    </tr>\n",
       "    <tr>\n",
       "      <th>3967</th>\n",
       "      <td>/srv/scratch/chacmod/auskidtalk_scripted_audio...</td>\n",
       "      <td>mouth</td>\n",
       "    </tr>\n",
       "  </tbody>\n",
       "</table>\n",
       "<p>3968 rows × 2 columns</p>\n",
       "</div>"
      ],
      "text/plain": [
       "                                               filepath transcription_clean\n",
       "0     /srv/scratch/chacmod/auskidtalk_scripted_audio...                bird\n",
       "1     /srv/scratch/chacmod/auskidtalk_scripted_audio...           detective\n",
       "2     /srv/scratch/chacmod/auskidtalk_scripted_audio...               short\n",
       "3     /srv/scratch/chacmod/auskidtalk_scripted_audio...               cloud\n",
       "4     /srv/scratch/chacmod/auskidtalk_scripted_audio...                that\n",
       "...                                                 ...                 ...\n",
       "3963  /srv/scratch/chacmod/auskidtalk_scripted_audio...              sprout\n",
       "3964  /srv/scratch/chacmod/auskidtalk_scripted_audio...             one egg\n",
       "3965  /srv/scratch/chacmod/auskidtalk_scripted_audio...                hole\n",
       "3966  /srv/scratch/chacmod/auskidtalk_scripted_audio...              garden\n",
       "3967  /srv/scratch/chacmod/auskidtalk_scripted_audio...               mouth\n",
       "\n",
       "[3968 rows x 2 columns]"
      ]
     },
     "execution_count": 17,
     "metadata": {},
     "output_type": "execute_result"
    }
   ],
   "source": [
    "new_df"
   ]
  }
 ],
 "metadata": {
  "kernelspec": {
   "display_name": "Python 3.10.8 (ipykernel)",
   "language": "python",
   "name": "python-3.10.8"
  },
  "language_info": {
   "codemirror_mode": {
    "name": "ipython",
    "version": 3
   },
   "file_extension": ".py",
   "mimetype": "text/x-python",
   "name": "python",
   "nbconvert_exporter": "python",
   "pygments_lexer": "ipython3",
   "version": "3.10.8"
  }
 },
 "nbformat": 4,
 "nbformat_minor": 5
}

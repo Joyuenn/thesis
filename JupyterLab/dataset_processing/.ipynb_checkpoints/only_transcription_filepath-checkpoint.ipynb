{
 "cells": [
  {
   "cell_type": "code",
   "execution_count": null,
   "id": "18adbf57-b897-45b8-bcdf-c945112de0ff",
   "metadata": {},
   "outputs": [],
   "source": [
    "# Purpose: Process the dataset such that it only contains 'filepath' and 'transcription_clean'\n",
    "# Requirement: prepare_scripted_datasets.py (ipynb)\n",
    "#              group_speaker_id.py (ipynb)\n",
    "#              dataset_splitting.py (ipynb)\n",
    "#  (optional)  full_dataset_shuffle.py (ipynb)"
   ]
  },
  {
   "cell_type": "code",
   "execution_count": 13,
   "id": "39d2ba36-a6aa-4252-ac3d-1cc833f5e113",
   "metadata": {},
   "outputs": [],
   "source": [
    "from os.path import join\n",
    "from praatio import tgio\n",
    "from pydub import AudioSegment\n",
    "import pandas as pd\n",
    "import os"
   ]
  },
  {
   "cell_type": "code",
   "execution_count": 14,
   "id": "07419a87-9bd3-46fc-a373-c92a0e667504",
   "metadata": {},
   "outputs": [],
   "source": [
    "data_fp = '/srv/scratch/z5313567/thesis/AusKidTalk_local/AusKidTalk_test_dataframe_shuffled.csv'\n",
    "save_fp = '/srv/scratch/z5313567/thesis/AusKidTalk_local/AusKidTalk_test_only_transcription_filepath.csv'"
   ]
  },
  {
   "cell_type": "code",
   "execution_count": 15,
   "id": "b092de62-9c19-44ef-9854-c23aed60116b",
   "metadata": {},
   "outputs": [
    {
     "name": "stdout",
     "output_type": "stream",
     "text": [
      "\n",
      "------> Extracting transcription and filepath... ------\n",
      "\n"
     ]
    }
   ],
   "source": [
    "print(\"\\n------> Extracting transcription and filepath... ------\\n\")\n",
    "df = pd.read_csv(data_fp)\n",
    "new_df = df[['filepath', 'transcription']]\n",
    "\n",
    "# rename the 'transcriptions' column to 'transcription_clean'\n",
    "new_df = new_df.rename(columns={'transcription': 'transcription_clean'})"
   ]
  },
  {
   "cell_type": "code",
   "execution_count": 16,
   "id": "d7ad523c-922e-4121-84f8-af7970adbc61",
   "metadata": {},
   "outputs": [
    {
     "name": "stdout",
     "output_type": "stream",
     "text": [
      "\n",
      "------> Saving dataframe to csv file... ------\n",
      "\n",
      "Successfully saved dataframe to csv file at:  /srv/scratch/z5313567/thesis/AusKidTalk_local/AusKidTalk_test_only_transcription_filepath.csv\n"
     ]
    }
   ],
   "source": [
    "print(\"\\n------> Saving dataframe to csv file... ------\\n\")\n",
    "new_df.to_csv(save_fp, index=False)\n",
    "print('Successfully saved dataframe to csv file at: ', save_fp)"
   ]
  },
  {
   "cell_type": "code",
   "execution_count": 17,
   "id": "a976bf40-09dd-470b-9a59-13f387e8e81b",
   "metadata": {},
   "outputs": [
    {
     "data": {
      "text/html": [
       "<div>\n",
       "<style scoped>\n",
       "    .dataframe tbody tr th:only-of-type {\n",
       "        vertical-align: middle;\n",
       "    }\n",
       "\n",
       "    .dataframe tbody tr th {\n",
       "        vertical-align: top;\n",
       "    }\n",
       "\n",
       "    .dataframe thead th {\n",
       "        text-align: right;\n",
       "    }\n",
       "</style>\n",
       "<table border=\"1\" class=\"dataframe\">\n",
       "  <thead>\n",
       "    <tr style=\"text-align: right;\">\n",
       "      <th></th>\n",
       "      <th>filepath</th>\n",
       "      <th>transcription_clean</th>\n",
       "    </tr>\n",
       "  </thead>\n",
       "  <tbody>\n",
       "    <tr>\n",
       "      <th>0</th>\n",
       "      <td>/srv/scratch/chacmod/auskidtalk_audio/135_task...</td>\n",
       "      <td>canoe</td>\n",
       "    </tr>\n",
       "    <tr>\n",
       "      <th>1</th>\n",
       "      <td>/srv/scratch/chacmod/auskidtalk_audio/135_task...</td>\n",
       "      <td>circus</td>\n",
       "    </tr>\n",
       "    <tr>\n",
       "      <th>2</th>\n",
       "      <td>/srv/scratch/chacmod/auskidtalk_audio/130_task...</td>\n",
       "      <td>spaghetti</td>\n",
       "    </tr>\n",
       "    <tr>\n",
       "      <th>3</th>\n",
       "      <td>/srv/scratch/chacmod/auskidtalk_audio/135_task...</td>\n",
       "      <td>toy</td>\n",
       "    </tr>\n",
       "    <tr>\n",
       "      <th>4</th>\n",
       "      <td>/srv/scratch/chacmod/auskidtalk_audio/135_task...</td>\n",
       "      <td>three</td>\n",
       "    </tr>\n",
       "    <tr>\n",
       "      <th>...</th>\n",
       "      <td>...</td>\n",
       "      <td>...</td>\n",
       "    </tr>\n",
       "    <tr>\n",
       "      <th>457</th>\n",
       "      <td>/srv/scratch/chacmod/auskidtalk_audio/135_task...</td>\n",
       "      <td>mouth</td>\n",
       "    </tr>\n",
       "    <tr>\n",
       "      <th>458</th>\n",
       "      <td>/srv/scratch/chacmod/auskidtalk_audio/130_task...</td>\n",
       "      <td>pool</td>\n",
       "    </tr>\n",
       "    <tr>\n",
       "      <th>459</th>\n",
       "      <td>/srv/scratch/chacmod/auskidtalk_audio/130_task...</td>\n",
       "      <td>that</td>\n",
       "    </tr>\n",
       "    <tr>\n",
       "      <th>460</th>\n",
       "      <td>/srv/scratch/chacmod/auskidtalk_audio/135_task...</td>\n",
       "      <td>clock</td>\n",
       "    </tr>\n",
       "    <tr>\n",
       "      <th>461</th>\n",
       "      <td>/srv/scratch/chacmod/auskidtalk_audio/135_task...</td>\n",
       "      <td>yoyo</td>\n",
       "    </tr>\n",
       "  </tbody>\n",
       "</table>\n",
       "<p>462 rows × 2 columns</p>\n",
       "</div>"
      ],
      "text/plain": [
       "                                              filepath transcription_clean\n",
       "0    /srv/scratch/chacmod/auskidtalk_audio/135_task...               canoe\n",
       "1    /srv/scratch/chacmod/auskidtalk_audio/135_task...              circus\n",
       "2    /srv/scratch/chacmod/auskidtalk_audio/130_task...           spaghetti\n",
       "3    /srv/scratch/chacmod/auskidtalk_audio/135_task...                 toy\n",
       "4    /srv/scratch/chacmod/auskidtalk_audio/135_task...               three\n",
       "..                                                 ...                 ...\n",
       "457  /srv/scratch/chacmod/auskidtalk_audio/135_task...               mouth\n",
       "458  /srv/scratch/chacmod/auskidtalk_audio/130_task...                pool\n",
       "459  /srv/scratch/chacmod/auskidtalk_audio/130_task...                that\n",
       "460  /srv/scratch/chacmod/auskidtalk_audio/135_task...               clock\n",
       "461  /srv/scratch/chacmod/auskidtalk_audio/135_task...                yoyo\n",
       "\n",
       "[462 rows x 2 columns]"
      ]
     },
     "execution_count": 17,
     "metadata": {},
     "output_type": "execute_result"
    }
   ],
   "source": [
    "new_df"
   ]
  }
 ],
 "metadata": {
  "kernelspec": {
   "display_name": "Python 3.10.8 (ipykernel)",
   "language": "python",
   "name": "python-3.10.8"
  },
  "language_info": {
   "codemirror_mode": {
    "name": "ipython",
    "version": 3
   },
   "file_extension": ".py",
   "mimetype": "text/x-python",
   "name": "python",
   "nbconvert_exporter": "python",
   "pygments_lexer": "ipython3",
   "version": "3.10.8"
  }
 },
 "nbformat": 4,
 "nbformat_minor": 5
}

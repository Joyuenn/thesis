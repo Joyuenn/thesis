{
 "cells": [
  {
   "cell_type": "code",
   "execution_count": null,
   "id": "82cfdbf9-8a52-47e0-96ac-d2d84267908e",
   "metadata": {},
   "outputs": [],
   "source": [
    "# Purpose: shuffle the full dataset of training, development and testing sets\n",
    "# Requirement: prepare_scripted_datasets.py (ipynb)\n",
    "#              group_speaker_id.py (ipynb)\n",
    "#              dataset_splitting.py (ipynb)"
   ]
  },
  {
   "cell_type": "code",
   "execution_count": 1,
   "id": "7d3964cc-f20e-48b9-b1cc-a5a2adf0403b",
   "metadata": {},
   "outputs": [],
   "source": [
    "# ------------------------------------------\n",
    "#        Importing libraies\n",
    "# ------------------------------------------\n",
    "\n",
    "# For dataframes\n",
    "import pandas as pd\n",
    "# For splitting data\n",
    "from sklearn.model_selection import train_test_split\n",
    "# For printing filepath\n",
    "import os"
   ]
  },
  {
   "cell_type": "code",
   "execution_count": 2,
   "id": "e9626e50-8290-474d-8ab7-c13f139c73d5",
   "metadata": {},
   "outputs": [
    {
     "name": "stdout",
     "output_type": "stream",
     "text": [
      "\n",
      "------> Setting seed... ----------------------------------------------\n",
      "\n",
      "--> Setting seed as: 230\n"
     ]
    }
   ],
   "source": [
    "# ------------------------------------------\n",
    "#           Setting seed\n",
    "# ------------------------------------------\n",
    "print(\"\\n------> Setting seed... ----------------------------------------------\\n\")\n",
    "# Set a seed to ensure random split can be reproducible\n",
    "seed = 230\n",
    "print(\"--> Setting seed as:\", seed)"
   ]
  },
  {
   "cell_type": "code",
   "execution_count": 7,
   "id": "74bcac2f-e002-4692-aa0a-1c55f1148f40",
   "metadata": {},
   "outputs": [],
   "source": [
    "# ------------------------------------------\n",
    "#        Setting filepath\n",
    "# ------------------------------------------\n",
    "# These data filepath contain dataframes generated from 'dataset_splitting.py'\n",
    "#data_train_fp = '/srv/scratch/z5313567/thesis/OGI_local/OGI_scripted_train_dataframe.csv'\n",
    "#data_dev_fp = '/srv/scratch/z5313567/thesis/OGI_local/OGI_scripted_dev_dataframe.csv'\n",
    "#data_test_fp = '/srv/scratch/z5313567/thesis/OGI_local/OGI_scripted_test_dataframe.csv'\n",
    "\n",
    "data_train_fp = '/srv/scratch/z5313567/thesis/AusKidTalk_local/AusKidTalk_train_dataframe.csv'\n",
    "data_dev_fp = '/srv/scratch/z5313567/thesis/AusKidTalk_local/AusKidTalk_dev_dataframe.csv'\n",
    "data_test_fp = '/srv/scratch/z5313567/thesis/AusKidTalk_local/AusKidTalk_test_dataframe.csv'"
   ]
  },
  {
   "cell_type": "code",
   "execution_count": 8,
   "id": "51dae384-e3f8-404d-b929-0487cefbac68",
   "metadata": {},
   "outputs": [],
   "source": [
    "# where full datasets are saved\n",
    "data_train_full_fp = '/srv/scratch/z5313567/thesis/AusKidTalk_local/AusKidTalk_train_dataframe_shuffled.csv'\n",
    "data_dev_full_fp = '/srv/scratch/z5313567/thesis/AusKidTalk_local/AusKidTalk_dev_dataframe_shuffled.csv'\n",
    "data_test_full_fp = '/srv/scratch/z5313567/thesis/AusKidTalk_local/AusKidTalk_test_dataframe_shuffled.csv'"
   ]
  },
  {
   "cell_type": "code",
   "execution_count": 9,
   "id": "effa8868-f92e-4a4a-b06b-3f3b63c586a1",
   "metadata": {},
   "outputs": [],
   "source": [
    "# ------------------------------------------\n",
    "#        Reading in dataframe\n",
    "# ------------------------------------------\n",
    "# Reading in data dataframe from csv file, as string type\n",
    "# to preserve leading zeros in speaker id\n",
    "data_train_df = pd.read_csv(data_train_fp, dtype=str)\n",
    "data_dev_df = pd.read_csv(data_dev_fp, dtype=str)\n",
    "data_test_df = pd.read_csv(data_test_fp, dtype=str)\n",
    "# Converting duration column to float64\n",
    "data_train_df[\"duration\"] = data_train_df[\"duration\"].apply(pd.to_numeric)\n",
    "data_dev_df[\"duration\"] = data_dev_df[\"duration\"].apply(pd.to_numeric)\n",
    "data_test_df[\"duration\"] = data_test_df[\"duration\"].apply(pd.to_numeric)"
   ]
  },
  {
   "cell_type": "code",
   "execution_count": 14,
   "id": "e9700014-b105-4695-aef7-971d98f40b2b",
   "metadata": {},
   "outputs": [
    {
     "name": "stdout",
     "output_type": "stream",
     "text": [
      "Total duration in train dataset is 0.38628393055555477 hours\n",
      "                                               filepath  duration  speaker_id   \n",
      "0     /srv/scratch/chacmod/auskidtalk_audio/181_task...      0.57   181_task1  \\\n",
      "1     /srv/scratch/chacmod/auskidtalk_audio/1050_tas...      0.84  1050_task1   \n",
      "2     /srv/scratch/chacmod/auskidtalk_audio/172_task...      0.60   172_task1   \n",
      "3     /srv/scratch/chacmod/auskidtalk_audio/172_task...      0.54   172_task1   \n",
      "4     /srv/scratch/chacmod/auskidtalk_audio/181_task...      0.26   181_task1   \n",
      "...                                                 ...       ...         ...   \n",
      "2715  /srv/scratch/chacmod/auskidtalk_audio/176_task...      0.33   176_task1   \n",
      "2716  /srv/scratch/chacmod/auskidtalk_audio/172_task...      0.84   172_task1   \n",
      "2717  /srv/scratch/chacmod/auskidtalk_audio/1075_tas...      0.81  1075_task1   \n",
      "2718  /srv/scratch/chacmod/auskidtalk_audio/1150_tas...      0.66  1150_task1   \n",
      "2719  /srv/scratch/chacmod/auskidtalk_audio/176_task...      0.57   176_task1   \n",
      "\n",
      "     transcription  \n",
      "0              two  \n",
      "1       watermelon  \n",
      "2            tooth  \n",
      "3          feather  \n",
      "4              get  \n",
      "...            ...  \n",
      "2715           one  \n",
      "2716       sausage  \n",
      "2717         story  \n",
      "2718         snake  \n",
      "2719          eggs  \n",
      "\n",
      "[2720 rows x 4 columns]\n"
     ]
    }
   ],
   "source": [
    "shuffled_train = data_train_df.sample(frac=1.0, random_state=seed)\n",
    "shuffled_train = shuffled_train.reset_index(drop=True)\n",
    "shuffled_train.to_csv(data_train_full_fp, index=False)\n",
    "duration = shuffled_train['duration'].sum()\n",
    "print(f'Total duration in train dataset is {duration/(60*60)} hours')\n",
    "print(shuffled_train)"
   ]
  },
  {
   "cell_type": "code",
   "execution_count": 15,
   "id": "dd42bac0-eb1a-4df4-9df5-ae1f492c336d",
   "metadata": {},
   "outputs": [
    {
     "name": "stdout",
     "output_type": "stream",
     "text": [
      "Total duration in dev dataset is 0.08670000000000003 hours\n",
      "                                              filepath  duration speaker_id   \n",
      "0    /srv/scratch/chacmod/auskidtalk_audio/122_task...      0.93  122_task1  \\\n",
      "1    /srv/scratch/chacmod/auskidtalk_audio/122_task...      0.96  122_task1   \n",
      "2    /srv/scratch/chacmod/auskidtalk_audio/173_task...      0.96  173_task1   \n",
      "3    /srv/scratch/chacmod/auskidtalk_audio/122_task...      0.99  122_task1   \n",
      "4    /srv/scratch/chacmod/auskidtalk_audio/122_task...      0.48  122_task1   \n",
      "..                                                 ...       ...        ...   \n",
      "456  /srv/scratch/chacmod/auskidtalk_audio/122_task...      0.93  122_task1   \n",
      "457  /srv/scratch/chacmod/auskidtalk_audio/173_task...      0.58  173_task1   \n",
      "458  /srv/scratch/chacmod/auskidtalk_audio/173_task...      0.82  173_task1   \n",
      "459  /srv/scratch/chacmod/auskidtalk_audio/122_task...      0.69  122_task1   \n",
      "460  /srv/scratch/chacmod/auskidtalk_audio/122_task...      0.79  122_task1   \n",
      "\n",
      "    transcription  \n",
      "0          flower  \n",
      "1         tonight  \n",
      "2         sausage  \n",
      "3     caterpillar  \n",
      "4           three  \n",
      "..            ...  \n",
      "456         shell  \n",
      "457          eggs  \n",
      "458      thursday  \n",
      "459         clock  \n",
      "460         tooth  \n",
      "\n",
      "[461 rows x 4 columns]\n"
     ]
    }
   ],
   "source": [
    "shuffled_dev = data_dev_df.sample(frac=1.0, random_state=seed)\n",
    "shuffled_dev = shuffled_dev.reset_index(drop=True)\n",
    "shuffled_dev.to_csv(data_dev_full_fp, index=False)\n",
    "duration = shuffled_dev['duration'].sum()\n",
    "print(f'Total duration in dev dataset is {duration/(60*60)} hours')\n",
    "print(shuffled_dev)"
   ]
  },
  {
   "cell_type": "code",
   "execution_count": 16,
   "id": "7c2ed880-17d7-4de8-ae53-e00357eca2b5",
   "metadata": {},
   "outputs": [
    {
     "name": "stdout",
     "output_type": "stream",
     "text": [
      "Total duration in test dataset is 0.07303055555555564 hours\n",
      "                                              filepath  duration speaker_id   \n",
      "0    /srv/scratch/chacmod/auskidtalk_audio/135_task...      0.51  135_task1  \\\n",
      "1    /srv/scratch/chacmod/auskidtalk_audio/135_task...      0.81  135_task1   \n",
      "2    /srv/scratch/chacmod/auskidtalk_audio/130_task...      0.72  130_task1   \n",
      "3    /srv/scratch/chacmod/auskidtalk_audio/135_task...      0.48  135_task1   \n",
      "4    /srv/scratch/chacmod/auskidtalk_audio/135_task...      0.37  135_task1   \n",
      "..                                                 ...       ...        ...   \n",
      "457  /srv/scratch/chacmod/auskidtalk_audio/135_task...      0.78  135_task1   \n",
      "458  /srv/scratch/chacmod/auskidtalk_audio/130_task...      0.20  130_task1   \n",
      "459  /srv/scratch/chacmod/auskidtalk_audio/130_task...      0.53  130_task1   \n",
      "460  /srv/scratch/chacmod/auskidtalk_audio/135_task...      0.57  135_task1   \n",
      "461  /srv/scratch/chacmod/auskidtalk_audio/135_task...      0.46  135_task1   \n",
      "\n",
      "    transcription  \n",
      "0           canoe  \n",
      "1          circus  \n",
      "2       spaghetti  \n",
      "3             toy  \n",
      "4           three  \n",
      "..            ...  \n",
      "457         mouth  \n",
      "458          pool  \n",
      "459          that  \n",
      "460         clock  \n",
      "461          yoyo  \n",
      "\n",
      "[462 rows x 4 columns]\n"
     ]
    }
   ],
   "source": [
    "shuffled_test = data_test_df.sample(frac=1.0, random_state=seed)\n",
    "shuffled_test = shuffled_test.reset_index(drop=True)\n",
    "shuffled_test.to_csv(data_test_full_fp, index=False)\n",
    "duration = shuffled_test['duration'].sum()\n",
    "print(f'Total duration in test dataset is {duration/(60*60)} hours')\n",
    "print(shuffled_test)"
   ]
  },
  {
   "cell_type": "code",
   "execution_count": null,
   "id": "048ca63c-4111-4ad7-be21-e1ad1479ff81",
   "metadata": {},
   "outputs": [],
   "source": []
  },
  {
   "cell_type": "code",
   "execution_count": 13,
   "id": "5f77fc18-e68c-498a-a06a-01f8fbfc0943",
   "metadata": {},
   "outputs": [
    {
     "data": {
      "text/plain": [
       "312.1200000000001"
      ]
     },
     "execution_count": 13,
     "metadata": {},
     "output_type": "execute_result"
    }
   ],
   "source": [
    "shuffled_dev['duration'].sum()"
   ]
  },
  {
   "cell_type": "code",
   "execution_count": null,
   "id": "12115e3f-a0e7-4a9e-8c5f-7adc27fcf0d8",
   "metadata": {},
   "outputs": [],
   "source": []
  }
 ],
 "metadata": {
  "kernelspec": {
   "display_name": "Python 3.10.8 (ipykernel)",
   "language": "python",
   "name": "python-3.10.8"
  },
  "language_info": {
   "codemirror_mode": {
    "name": "ipython",
    "version": 3
   },
   "file_extension": ".py",
   "mimetype": "text/x-python",
   "name": "python",
   "nbconvert_exporter": "python",
   "pygments_lexer": "ipython3",
   "version": "3.10.8"
  }
 },
 "nbformat": 4,
 "nbformat_minor": 5
}

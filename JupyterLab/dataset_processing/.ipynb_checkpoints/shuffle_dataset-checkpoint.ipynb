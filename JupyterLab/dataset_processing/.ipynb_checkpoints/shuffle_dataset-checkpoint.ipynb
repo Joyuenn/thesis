{
 "cells": [
  {
   "cell_type": "code",
   "execution_count": 6,
   "id": "82cfdbf9-8a52-47e0-96ac-d2d84267908e",
   "metadata": {},
   "outputs": [],
   "source": [
    "# Purpose: shuffle the full dataset of training, development and testing sets\n",
    "# Requirement: prepare_scripted_datasets.py (ipynb)\n",
    "#              Check_duration_15sec.py (ipynb)\n",
    "#              group_speaker_id.py (ipynb)\n",
    "#              dataset_splitting.py (ipynb)"
   ]
  },
  {
   "cell_type": "code",
   "execution_count": 7,
   "id": "7d3964cc-f20e-48b9-b1cc-a5a2adf0403b",
   "metadata": {},
   "outputs": [],
   "source": [
    "# ------------------------------------------\n",
    "#        Importing libraies\n",
    "# ------------------------------------------\n",
    "\n",
    "# For dataframes\n",
    "import pandas as pd\n",
    "# For splitting data\n",
    "from sklearn.model_selection import train_test_split\n",
    "# For printing filepath\n",
    "import os"
   ]
  },
  {
   "cell_type": "code",
   "execution_count": 8,
   "id": "e9626e50-8290-474d-8ab7-c13f139c73d5",
   "metadata": {},
   "outputs": [
    {
     "name": "stdout",
     "output_type": "stream",
     "text": [
      "\n",
      "------> Setting seed... ----------------------------------------------\n",
      "\n",
      "--> Setting seed as: 230\n"
     ]
    }
   ],
   "source": [
    "# ------------------------------------------\n",
    "#           Setting seed\n",
    "# ------------------------------------------\n",
    "print(\"\\n------> Setting seed... ----------------------------------------------\\n\")\n",
    "# Set a seed to ensure random split can be reproducible\n",
    "seed = 230\n",
    "print(\"--> Setting seed as:\", seed)"
   ]
  },
  {
   "cell_type": "code",
   "execution_count": 9,
   "id": "74bcac2f-e002-4692-aa0a-1c55f1148f40",
   "metadata": {},
   "outputs": [],
   "source": [
    "# ------------------------------------------\n",
    "#        Setting filepath\n",
    "# ------------------------------------------\n",
    "# These data filepath contain dataframes generated from 'dataset_splitting.py'\n",
    "#data_train_fp = '/srv/scratch/z5313567/thesis/OGI_local/OGI_scripted_train_dataframe.csv'\n",
    "#data_dev_fp = '/srv/scratch/z5313567/thesis/OGI_local/OGI_scripted_dev_dataframe.csv'\n",
    "#data_test_fp = '/srv/scratch/z5313567/thesis/OGI_local/OGI_scripted_test_dataframe.csv'\n",
    "\n",
    "#data_train_fp = '/srv/scratch/z5313567/thesis/OGI_AusKidTalk_local/scripted_OGI_scripted_AusKidTalk_train_dataframe.csv'\n",
    "data_train_fp = '/srv/scratch/z5313567/thesis/AusKidTalk_local/scripted_new/AusKidTalk_scripted_train_dataframe_new_180speakers.csv'\n",
    "data_dev_fp = '/srv/scratch/z5313567/thesis/AusKidTalk_local/scripted_new/AusKidTalk_scripted_dev_dataframe_new_180speakers.csv'\n",
    "data_test_fp = '/srv/scratch/z5313567/thesis/AusKidTalk_local/scripted_new/AusKidTalk_scripted_test_dataframe_new_180speakers.csv'"
   ]
  },
  {
   "cell_type": "code",
   "execution_count": 10,
   "id": "51dae384-e3f8-404d-b929-0487cefbac68",
   "metadata": {},
   "outputs": [],
   "source": [
    "# where shuffled datasets are saved\n",
    "data_train_shuffled_fp = '/srv/scratch/z5313567/thesis/AusKidTalk_local/scripted_new/AusKidTalk_scripted_train_dataframe_new_180speakers_shuffled.csv'\n",
    "data_dev_shuffled_fp = '/srv/scratch/z5313567/thesis/AusKidTalk_local/scripted_new/AusKidTalk_scripted_dev_dataframe_new_180speakers_shuffled.csv'\n",
    "data_test_shuffled_fp = '/srv/scratch/z5313567/thesis/AusKidTalk_local/scripted_new/AusKidTalk_scripted_test_dataframe_new_180speakers_shuffled.csv'"
   ]
  },
  {
   "cell_type": "code",
   "execution_count": 11,
   "id": "effa8868-f92e-4a4a-b06b-3f3b63c586a1",
   "metadata": {},
   "outputs": [],
   "source": [
    "# ------------------------------------------\n",
    "#        Reading in dataframe\n",
    "# ------------------------------------------\n",
    "# Reading in data dataframe from csv file, as string type\n",
    "# to preserve leading zeros in speaker id\n",
    "#data_train_df = pd.read_csv(data_train_fp, dtype={'speaker_id': str})\n",
    "#data_dev_df = pd.read_csv(data_dev_fp, dtype={'speaker_id': str})\n",
    "#data_test_df = pd.read_csv(data_test_fp, dtype={'speaker_id': str})\n",
    "data_train_df = pd.read_csv(data_train_fp, dtype=str)\n",
    "data_dev_df = pd.read_csv(data_dev_fp, dtype=str)\n",
    "data_test_df = pd.read_csv(data_test_fp, dtype=str)\n",
    "\n",
    "# Converting duration column to float64\n",
    "data_train_df[\"duration\"] = data_train_df[\"duration\"].apply(pd.to_numeric)\n",
    "data_dev_df[\"duration\"] = data_dev_df[\"duration\"].apply(pd.to_numeric)\n",
    "data_test_df[\"duration\"] = data_test_df[\"duration\"].apply(pd.to_numeric)"
   ]
  },
  {
   "cell_type": "code",
   "execution_count": 12,
   "id": "e9700014-b105-4695-aef7-971d98f40b2b",
   "metadata": {},
   "outputs": [
    {
     "name": "stdout",
     "output_type": "stream",
     "text": [
      "Total duration in train dataset is 3.8595801369851754 hours\n",
      "                                                filepath  duration speaker_id   \n",
      "0      /srv/scratch/chacmod/auskidtalk_scripted_audio...  1.255165        485  \\\n",
      "1      /srv/scratch/chacmod/auskidtalk_scripted_audio...  1.040000        603   \n",
      "2      /srv/scratch/chacmod/auskidtalk_scripted_audio...  0.540000        777   \n",
      "3      /srv/scratch/chacmod/auskidtalk_scripted_audio...  0.480000        748   \n",
      "4      /srv/scratch/chacmod/auskidtalk_scripted_audio...  0.690000        219   \n",
      "...                                                  ...       ...        ...   \n",
      "18379  /srv/scratch/chacmod/auskidtalk_scripted_audio...  0.680000        603   \n",
      "18380  /srv/scratch/chacmod/auskidtalk_scripted_audio...  0.570000        130   \n",
      "18381  /srv/scratch/chacmod/auskidtalk_scripted_audio...  0.450000       1464   \n",
      "18382  /srv/scratch/chacmod/auskidtalk_scripted_audio...  0.744746        456   \n",
      "18383  /srv/scratch/chacmod/auskidtalk_scripted_audio...  0.600000        250   \n",
      "\n",
      "      transcription  \n",
      "0       stethoscope  \n",
      "1         xylophone  \n",
      "2             sword  \n",
      "3              girl  \n",
      "4               zoo  \n",
      "...             ...  \n",
      "18379          hole  \n",
      "18380          ride  \n",
      "18381          five  \n",
      "18382         light  \n",
      "18383      elephant  \n",
      "\n",
      "[18384 rows x 4 columns]\n"
     ]
    }
   ],
   "source": [
    "shuffled_train = data_train_df.sample(frac=1.0, random_state=seed)\n",
    "shuffled_train = shuffled_train.reset_index(drop=True)\n",
    "shuffled_train['speaker_id'] = shuffled_train['speaker_id'].astype(str) # preverse leading zeros\n",
    "shuffled_train.to_csv(data_train_shuffled_fp, index=False)\n",
    "duration = shuffled_train['duration'].sum()\n",
    "print(f'Total duration in train dataset is {duration/(60*60)} hours')\n",
    "print(shuffled_train)"
   ]
  },
  {
   "cell_type": "code",
   "execution_count": 13,
   "id": "dd42bac0-eb1a-4df4-9df5-ae1f492c336d",
   "metadata": {},
   "outputs": [
    {
     "name": "stdout",
     "output_type": "stream",
     "text": [
      "Total duration in dev dataset is 0.8320461690562522 hours\n",
      "                                               filepath  duration speaker_id   \n",
      "0     /srv/scratch/chacmod/auskidtalk_scripted_audio...  1.188363        857  \\\n",
      "1     /srv/scratch/chacmod/auskidtalk_scripted_audio...  0.680000        222   \n",
      "2     /srv/scratch/chacmod/auskidtalk_scripted_audio...  0.690000        229   \n",
      "3     /srv/scratch/chacmod/auskidtalk_scripted_audio...  0.840000        547   \n",
      "4     /srv/scratch/chacmod/auskidtalk_scripted_audio...  0.440000        318   \n",
      "...                                                 ...       ...        ...   \n",
      "4014  /srv/scratch/chacmod/auskidtalk_scripted_audio...  0.411644        547   \n",
      "4015  /srv/scratch/chacmod/auskidtalk_scripted_audio...  0.655705        715   \n",
      "4016  /srv/scratch/chacmod/auskidtalk_scripted_audio...  0.420000       1150   \n",
      "4017  /srv/scratch/chacmod/auskidtalk_scripted_audio...  0.630000        218   \n",
      "4018  /srv/scratch/chacmod/auskidtalk_scripted_audio...  0.941976        776   \n",
      "\n",
      "     transcription  \n",
      "0        detective  \n",
      "1      grasshopper  \n",
      "2          vanilla  \n",
      "3          balloon  \n",
      "4             pull  \n",
      "...            ...  \n",
      "4014         eight  \n",
      "4015     xylophone  \n",
      "4016           two  \n",
      "4017         shell  \n",
      "4018  four o clock  \n",
      "\n",
      "[4019 rows x 4 columns]\n"
     ]
    }
   ],
   "source": [
    "shuffled_dev = data_dev_df.sample(frac=1.0, random_state=seed)\n",
    "shuffled_dev = shuffled_dev.reset_index(drop=True)\n",
    "shuffled_dev['speaker_id'] = shuffled_dev['speaker_id'].astype(str) # preverse leading zeros\n",
    "shuffled_dev.to_csv(data_dev_shuffled_fp, index=False)\n",
    "duration = shuffled_dev['duration'].sum()\n",
    "print(f'Total duration in dev dataset is {duration/(60*60)} hours')\n",
    "print(shuffled_dev)"
   ]
  },
  {
   "cell_type": "code",
   "execution_count": 14,
   "id": "7c2ed880-17d7-4de8-ae53-e00357eca2b5",
   "metadata": {},
   "outputs": [
    {
     "name": "stdout",
     "output_type": "stream",
     "text": [
      "Total duration in test dataset is 0.8461664757909966 hours\n",
      "                                               filepath  duration speaker_id   \n",
      "0     /srv/scratch/chacmod/auskidtalk_scripted_audio...  0.750000        203  \\\n",
      "1     /srv/scratch/chacmod/auskidtalk_scripted_audio...  0.960000        977   \n",
      "2     /srv/scratch/chacmod/auskidtalk_scripted_audio...  0.840000        743   \n",
      "3     /srv/scratch/chacmod/auskidtalk_scripted_audio...  0.661656        205   \n",
      "4     /srv/scratch/chacmod/auskidtalk_scripted_audio...  0.208904        977   \n",
      "...                                                 ...       ...        ...   \n",
      "3963  /srv/scratch/chacmod/auskidtalk_scripted_audio...  0.780000        774   \n",
      "3964  /srv/scratch/chacmod/auskidtalk_scripted_audio...  0.990000        973   \n",
      "3965  /srv/scratch/chacmod/auskidtalk_scripted_audio...  0.630000        203   \n",
      "3966  /srv/scratch/chacmod/auskidtalk_scripted_audio...  0.575779        620   \n",
      "3967  /srv/scratch/chacmod/auskidtalk_scripted_audio...  0.810000        353   \n",
      "\n",
      "     transcription  \n",
      "0             bird  \n",
      "1        detective  \n",
      "2            short  \n",
      "3            cloud  \n",
      "4             that  \n",
      "...            ...  \n",
      "3963        sprout  \n",
      "3964       one egg  \n",
      "3965          hole  \n",
      "3966        garden  \n",
      "3967         mouth  \n",
      "\n",
      "[3968 rows x 4 columns]\n"
     ]
    }
   ],
   "source": [
    "shuffled_test = data_test_df.sample(frac=1.0, random_state=seed)\n",
    "shuffled_test = shuffled_test.reset_index(drop=True)\n",
    "shuffled_test['speaker_id'] = shuffled_test['speaker_id'].astype(str) \n",
    "shuffled_test.to_csv(data_test_shuffled_fp, index=False)\n",
    "duration = shuffled_test['duration'].sum()\n",
    "print(f'Total duration in test dataset is {duration/(60*60)} hours')\n",
    "print(shuffled_test)"
   ]
  },
  {
   "cell_type": "code",
   "execution_count": null,
   "id": "048ca63c-4111-4ad7-be21-e1ad1479ff81",
   "metadata": {},
   "outputs": [],
   "source": []
  },
  {
   "cell_type": "code",
   "execution_count": 15,
   "id": "5f77fc18-e68c-498a-a06a-01f8fbfc0943",
   "metadata": {},
   "outputs": [
    {
     "data": {
      "text/plain": [
       "2995.366208602508"
      ]
     },
     "execution_count": 15,
     "metadata": {},
     "output_type": "execute_result"
    }
   ],
   "source": [
    "shuffled_dev['duration'].sum()"
   ]
  },
  {
   "cell_type": "code",
   "execution_count": null,
   "id": "12115e3f-a0e7-4a9e-8c5f-7adc27fcf0d8",
   "metadata": {},
   "outputs": [],
   "source": []
  },
  {
   "cell_type": "code",
   "execution_count": null,
   "id": "2eb90847-7350-4ba6-99d9-e007ac7ceaca",
   "metadata": {},
   "outputs": [],
   "source": []
  }
 ],
 "metadata": {
  "kernelspec": {
   "display_name": "Python 3.10.8 (ipykernel)",
   "language": "python",
   "name": "python-3.10.8"
  },
  "language_info": {
   "codemirror_mode": {
    "name": "ipython",
    "version": 3
   },
   "file_extension": ".py",
   "mimetype": "text/x-python",
   "name": "python",
   "nbconvert_exporter": "python",
   "pygments_lexer": "ipython3",
   "version": "3.10.8"
  }
 },
 "nbformat": 4,
 "nbformat_minor": 5
}

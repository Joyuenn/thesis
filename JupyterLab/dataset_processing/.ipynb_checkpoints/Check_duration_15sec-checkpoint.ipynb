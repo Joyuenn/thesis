{
 "cells": [
  {
   "cell_type": "code",
   "execution_count": 1,
   "id": "92fe675e-ba1a-46a9-ab88-cb35d0a1cc13",
   "metadata": {},
   "outputs": [],
   "source": [
    "import pandas as pd\n",
    "import librosa"
   ]
  },
  {
   "cell_type": "code",
   "execution_count": 24,
   "id": "e62bfe64-6037-4a1f-bf30-ca584179f674",
   "metadata": {},
   "outputs": [],
   "source": [
    "#fp = '/srv/scratch/chacmod/renee_thesis/s5/myST-OGI_local/THESIS_C/myST-OGI_data_dev_light.csv'\n",
    "#train_fp = \"/srv/scratch/z5313567/thesis/OGI_local/new_full_combined_scripted_spontaneous/full_OGI_combined_scripted_spontaneous_train_shuffle.csv\"\n",
    "#dev_fp = \"/srv/scratch/z5313567/thesis/OGI_local/new_full_combined_scripted_spontaneous/full_OGI_combined_scripted_spontaneous_dev_shuffle.csv\"\n",
    "#test_fp = \"/srv/scratch/z5313567/thesis/OGI_local/new_full_combined_scripted_spontaneous/full_OGI_combined_scripted_spontaneous_test_shuffle.csv\"\n",
    "\n",
    "#filtered_train_fp = \"/srv/scratch/z5313567/thesis/OGI_local/new_full_combined_scripted_spontaneous/full_OGI_combined_scripted_spontaneous_train_shuffle_less_than_15secs.csv\"\n",
    "#filtered_dev_fp = \"/srv/scratch/z5313567/thesis/OGI_local/new_full_combined_scripted_spontaneous/full_OGI_combined_scripted_spontaneous_dev_shuffle_less_than_15secs.csv\"\n",
    "#filtered_test_fp = \"/srv/scratch/z5313567/thesis/OGI_local/new_full_combined_scripted_spontaneous/full_OGI_combined_scripted_spontaneous_test_shuffle_less_than_15secs.csv\"\n",
    "fp = \"/srv/scratch/z5313567/thesis/CU_local/CU_full_dataframs.csv\"\n",
    "filtered_fp = \"/srv/scratch/z5313567/thesis/CU_local/CU_full_dataframe_15sec.csv\""
   ]
  },
  {
   "cell_type": "code",
   "execution_count": 30,
   "id": "c6bf61c4-b01d-4e2b-9930-7b421aa6c46b",
   "metadata": {},
   "outputs": [],
   "source": [
    "def process_dataset(csv_filepath, filtered_fp):\n",
    "    #df = pd.read_csv(csv_filepath)\n",
    "    df = pd.read_csv(csv_filepath, dtype={'speaker_id': str})\n",
    "    print(f'The number of speeches in total is {len(df)}')\n",
    "    #df['duration'] = df['filepath'].apply(get_duration)\n",
    "    num_exceed_15secs = len(df[df['duration']>15])\n",
    "    print(f'The number of speeches in {csv_filepath} that exceed 15 seconds are {num_exceed_15secs}')\n",
    "        \n",
    "    print('\\n')\n",
    "    print('Removing speeches that are longer than 15 seconds...... \\n')\n",
    "    df = df[df['duration']<=15]\n",
    "    #df = df.drop('duration', axis=1)\n",
    "\n",
    "    df.to_csv(filtered_fp, index=False)\n",
    "    print(f'Filtered csv file is stored in {filtered_fp}')\n",
    "    print(f'The number of speeches in filtered csv file is {len(df)}')\n",
    "    print(\"Total hours in filtered csv file:\", df['duration'].sum()/(60*60))\n",
    "   "
   ]
  },
  {
   "cell_type": "code",
   "execution_count": 31,
   "id": "7dc0be6c-b4fc-4194-97ea-f8f7574c6bd8",
   "metadata": {},
   "outputs": [],
   "source": [
    "def get_duration(filepath):\n",
    "    audio, _ = librosa.load(filepath)\n",
    "    duration = librosa.get_duration(y=audio)\n",
    "    return duration"
   ]
  },
  {
   "cell_type": "code",
   "execution_count": 32,
   "id": "6793094b-eaee-467d-9823-697c82fa0d20",
   "metadata": {},
   "outputs": [
    {
     "name": "stdout",
     "output_type": "stream",
     "text": [
      "The number of speeches in total is 80034\n",
      "The number of speeches in /srv/scratch/z5313567/thesis/CU_local/CU_full_dataframs.csv that exceed 15 seconds are 1159\n",
      "\n",
      "\n",
      "Removing speeches that are longer than 15 seconds...... \n",
      "\n",
      "Filtered csv file is stored in /srv/scratch/z5313567/thesis/CU_local/CU_full_dataframe_15sec.csv\n",
      "The number of speeches in filtered csv file is 78875\n",
      "Total hours in filtered csv file: 64.65894338624338\n"
     ]
    }
   ],
   "source": [
    "'''\n",
    "for fp in fps:\n",
    "    process_dataset(fp, filtered_fp)\n",
    "    print('\\n')\n",
    "    '''\n",
    "process_dataset(fp, filtered_fp)"
   ]
  },
  {
   "cell_type": "raw",
   "id": "f93f87fd-ba72-45f5-84a7-ca1b0b33da24",
   "metadata": {},
   "source": []
  }
 ],
 "metadata": {
  "kernelspec": {
   "display_name": "Python 3.10.8 (ipykernel)",
   "language": "python",
   "name": "python-3.10.8"
  },
  "language_info": {
   "codemirror_mode": {
    "name": "ipython",
    "version": 3
   },
   "file_extension": ".py",
   "mimetype": "text/x-python",
   "name": "python",
   "nbconvert_exporter": "python",
   "pygments_lexer": "ipython3",
   "version": "3.10.8"
  }
 },
 "nbformat": 4,
 "nbformat_minor": 5
}

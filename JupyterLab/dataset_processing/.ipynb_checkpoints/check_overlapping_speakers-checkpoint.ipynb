{
 "cells": [
  {
   "cell_type": "code",
   "execution_count": 28,
   "id": "fd355f8e-392a-47c7-bcd5-a697ace2f51b",
   "metadata": {},
   "outputs": [],
   "source": [
    "import pandas as pd"
   ]
  },
  {
   "cell_type": "code",
   "execution_count": 29,
   "id": "1a048749-ee13-44ee-bec5-618d7108592f",
   "metadata": {},
   "outputs": [],
   "source": [
    "target_fp1 = '/srv/scratch/z5313567/thesis/OGI_local/new_spontaneous_datasets/full_OGI_spontaneous_train_dataframe.csv'\n",
    "target_fp2 = '/srv/scratch/z5313567/thesis/OGI_local/new_spontaneous_datasets/full_OGI_spontaneous_dev_dataframe.csv'\n",
    "target_fp3 = '/srv/scratch/z5313567/thesis/OGI_local/new_spontaneous_datasets/full_OGI_spontaneous_test_dataframe.csv'\n",
    "\n",
    "check_fp1 = '/srv/scratch/z5313567/thesis/OGI_local/new_full_datasets/full_OGI_scripted_train_dataframe.csv'\n",
    "check_fp2 = '/srv/scratch/z5313567/thesis/OGI_local/new_full_datasets/full_OGI_scripted_dev_dataframe.csv'\n",
    "check_fp3 = '/srv/scratch/z5313567/thesis/OGI_local/new_full_datasets/full_OGI_scripted_test_dataframe.csv'"
   ]
  },
  {
   "cell_type": "code",
   "execution_count": 34,
   "id": "3c61b36a-0e5a-43dc-9dc1-4e5261894730",
   "metadata": {},
   "outputs": [],
   "source": [
    "target_fp1 = '/srv/scratch/z5313567/thesis/AusKidTalk_local/scripted_new/AusKidTalk_scripted_dataframe_new_180speakers.csv'\n",
    "target_fp2 = '/srv/scratch/z5313567/thesis/AusKidTalk_local/scripted_new/AusKidTalk_scripted_dataframe_new_180speakers.csv'\n",
    "target_fp3 = '/srv/scratch/z5313567/thesis/AusKidTalk_local/scripted_new/AusKidTalk_scripted_dataframe_new_180speakers.csv'\n",
    "\n",
    "check_fp1 = '/srv/scratch/z5313567/thesis/AusKidTalk_local/AusKidTalk_dataframe.csv'\n",
    "check_fp2 = '/srv/scratch/z5313567/thesis/AusKidTalk_local/AusKidTalk_dataframe.csv'\n",
    "check_fp3 = '/srv/scratch/z5313567/thesis/AusKidTalk_local/AusKidTalk_dataframe.csv'"
   ]
  },
  {
   "cell_type": "code",
   "execution_count": 35,
   "id": "bdb48a5f-719a-4d27-8303-d7f0bd29a333",
   "metadata": {},
   "outputs": [],
   "source": [
    "target_fps = [target_fp1, target_fp2, target_fp3]\n",
    "check_fps = [check_fp1, check_fp2, check_fp3]"
   ]
  },
  {
   "cell_type": "code",
   "execution_count": 36,
   "id": "53203d5a-8df5-4b3c-a916-e29ea608a22c",
   "metadata": {},
   "outputs": [],
   "source": [
    "def check_overlapping(target_fp, check_fp):\n",
    "    target_df = pd.read_csv(target_fp)\n",
    "    check_df = pd.read_csv(check_fp)\n",
    "    \n",
    "    # obtain the uniques speakers from both dataframes\n",
    "    target_speakers = set(target_df['speaker_id'])\n",
    "    check_speakers = set(check_df['speaker_id'])\n",
    "    \n",
    "    # obtain the numbers of speakers in both dataframes\n",
    "    num_target_speakers = len(target_speakers)\n",
    "    num_check_speakers = len(check_speakers)\n",
    "    \n",
    "    # Determine the overlapping spealers\n",
    "    overlapping_speakers = target_speakers.intersection(check_speakers)\n",
    "    num_overlapping_speakers = len(overlapping_speakers)\n",
    "    \n",
    "    print(f'The number of speakers in {target_fp} is: {num_target_speakers}')\n",
    "    print(f'The number of speakers in {check_fp} is: {num_check_speakers}')\n",
    "    print(f'The number of overlapping speakers is: {num_overlapping_speakers}')\n",
    "    print(f'The overlapping speakers are: {overlapping_speakers}')\n",
    "    print('\\n')"
   ]
  },
  {
   "cell_type": "code",
   "execution_count": 37,
   "id": "500aacbf-6b34-486b-9e12-c3c0a386e4e8",
   "metadata": {},
   "outputs": [
    {
     "name": "stdout",
     "output_type": "stream",
     "text": [
      "The number of speakers in /srv/scratch/z5313567/thesis/AusKidTalk_local/scripted_new/AusKidTalk_scripted_dataframe_new_180speakers.csv is: 180\n",
      "The number of speakers in /srv/scratch/z5313567/thesis/AusKidTalk_local/AusKidTalk_dataframe.csv is: 79\n",
      "The number of overlapping speakers is: 79\n",
      "The overlapping speakers are: {516, 1050, 1075, 97, 118, 122, 1150, 130, 135, 651, 166, 172, 173, 176, 181, 190, 191, 193, 197, 199, 203, 205, 208, 211, 216, 218, 219, 220, 221, 222, 228, 229, 230, 232, 237, 243, 246, 250, 251, 255, 259, 260, 263, 264, 266, 270, 272, 282, 289, 301, 302, 303, 304, 819, 307, 310, 313, 316, 318, 320, 321, 322, 323, 325, 326, 328, 339, 342, 343, 346, 349, 351, 352, 353, 377, 378, 379, 389, 393}\n",
      "\n",
      "\n",
      "The number of speakers in /srv/scratch/z5313567/thesis/AusKidTalk_local/scripted_new/AusKidTalk_scripted_dataframe_new_180speakers.csv is: 180\n",
      "The number of speakers in /srv/scratch/z5313567/thesis/AusKidTalk_local/AusKidTalk_dataframe.csv is: 79\n",
      "The number of overlapping speakers is: 79\n",
      "The overlapping speakers are: {516, 1050, 1075, 97, 118, 122, 1150, 130, 135, 651, 166, 172, 173, 176, 181, 190, 191, 193, 197, 199, 203, 205, 208, 211, 216, 218, 219, 220, 221, 222, 228, 229, 230, 232, 237, 243, 246, 250, 251, 255, 259, 260, 263, 264, 266, 270, 272, 282, 289, 301, 302, 303, 304, 819, 307, 310, 313, 316, 318, 320, 321, 322, 323, 325, 326, 328, 339, 342, 343, 346, 349, 351, 352, 353, 377, 378, 379, 389, 393}\n",
      "\n",
      "\n",
      "The number of speakers in /srv/scratch/z5313567/thesis/AusKidTalk_local/scripted_new/AusKidTalk_scripted_dataframe_new_180speakers.csv is: 180\n",
      "The number of speakers in /srv/scratch/z5313567/thesis/AusKidTalk_local/AusKidTalk_dataframe.csv is: 79\n",
      "The number of overlapping speakers is: 79\n",
      "The overlapping speakers are: {516, 1050, 1075, 97, 118, 122, 1150, 130, 135, 651, 166, 172, 173, 176, 181, 190, 191, 193, 197, 199, 203, 205, 208, 211, 216, 218, 219, 220, 221, 222, 228, 229, 230, 232, 237, 243, 246, 250, 251, 255, 259, 260, 263, 264, 266, 270, 272, 282, 289, 301, 302, 303, 304, 819, 307, 310, 313, 316, 318, 320, 321, 322, 323, 325, 326, 328, 339, 342, 343, 346, 349, 351, 352, 353, 377, 378, 379, 389, 393}\n",
      "\n",
      "\n",
      "The number of speakers in /srv/scratch/z5313567/thesis/AusKidTalk_local/scripted_new/AusKidTalk_scripted_dataframe_new_180speakers.csv is: 180\n",
      "The number of speakers in /srv/scratch/z5313567/thesis/AusKidTalk_local/AusKidTalk_dataframe.csv is: 79\n",
      "The number of overlapping speakers is: 79\n",
      "The overlapping speakers are: {516, 1050, 1075, 97, 118, 122, 1150, 130, 135, 651, 166, 172, 173, 176, 181, 190, 191, 193, 197, 199, 203, 205, 208, 211, 216, 218, 219, 220, 221, 222, 228, 229, 230, 232, 237, 243, 246, 250, 251, 255, 259, 260, 263, 264, 266, 270, 272, 282, 289, 301, 302, 303, 304, 819, 307, 310, 313, 316, 318, 320, 321, 322, 323, 325, 326, 328, 339, 342, 343, 346, 349, 351, 352, 353, 377, 378, 379, 389, 393}\n",
      "\n",
      "\n",
      "The number of speakers in /srv/scratch/z5313567/thesis/AusKidTalk_local/scripted_new/AusKidTalk_scripted_dataframe_new_180speakers.csv is: 180\n",
      "The number of speakers in /srv/scratch/z5313567/thesis/AusKidTalk_local/AusKidTalk_dataframe.csv is: 79\n",
      "The number of overlapping speakers is: 79\n",
      "The overlapping speakers are: {516, 1050, 1075, 97, 118, 122, 1150, 130, 135, 651, 166, 172, 173, 176, 181, 190, 191, 193, 197, 199, 203, 205, 208, 211, 216, 218, 219, 220, 221, 222, 228, 229, 230, 232, 237, 243, 246, 250, 251, 255, 259, 260, 263, 264, 266, 270, 272, 282, 289, 301, 302, 303, 304, 819, 307, 310, 313, 316, 318, 320, 321, 322, 323, 325, 326, 328, 339, 342, 343, 346, 349, 351, 352, 353, 377, 378, 379, 389, 393}\n",
      "\n",
      "\n",
      "The number of speakers in /srv/scratch/z5313567/thesis/AusKidTalk_local/scripted_new/AusKidTalk_scripted_dataframe_new_180speakers.csv is: 180\n",
      "The number of speakers in /srv/scratch/z5313567/thesis/AusKidTalk_local/AusKidTalk_dataframe.csv is: 79\n",
      "The number of overlapping speakers is: 79\n",
      "The overlapping speakers are: {516, 1050, 1075, 97, 118, 122, 1150, 130, 135, 651, 166, 172, 173, 176, 181, 190, 191, 193, 197, 199, 203, 205, 208, 211, 216, 218, 219, 220, 221, 222, 228, 229, 230, 232, 237, 243, 246, 250, 251, 255, 259, 260, 263, 264, 266, 270, 272, 282, 289, 301, 302, 303, 304, 819, 307, 310, 313, 316, 318, 320, 321, 322, 323, 325, 326, 328, 339, 342, 343, 346, 349, 351, 352, 353, 377, 378, 379, 389, 393}\n",
      "\n",
      "\n",
      "The number of speakers in /srv/scratch/z5313567/thesis/AusKidTalk_local/scripted_new/AusKidTalk_scripted_dataframe_new_180speakers.csv is: 180\n",
      "The number of speakers in /srv/scratch/z5313567/thesis/AusKidTalk_local/AusKidTalk_dataframe.csv is: 79\n",
      "The number of overlapping speakers is: 79\n",
      "The overlapping speakers are: {516, 1050, 1075, 97, 118, 122, 1150, 130, 135, 651, 166, 172, 173, 176, 181, 190, 191, 193, 197, 199, 203, 205, 208, 211, 216, 218, 219, 220, 221, 222, 228, 229, 230, 232, 237, 243, 246, 250, 251, 255, 259, 260, 263, 264, 266, 270, 272, 282, 289, 301, 302, 303, 304, 819, 307, 310, 313, 316, 318, 320, 321, 322, 323, 325, 326, 328, 339, 342, 343, 346, 349, 351, 352, 353, 377, 378, 379, 389, 393}\n",
      "\n",
      "\n",
      "The number of speakers in /srv/scratch/z5313567/thesis/AusKidTalk_local/scripted_new/AusKidTalk_scripted_dataframe_new_180speakers.csv is: 180\n",
      "The number of speakers in /srv/scratch/z5313567/thesis/AusKidTalk_local/AusKidTalk_dataframe.csv is: 79\n",
      "The number of overlapping speakers is: 79\n",
      "The overlapping speakers are: {516, 1050, 1075, 97, 118, 122, 1150, 130, 135, 651, 166, 172, 173, 176, 181, 190, 191, 193, 197, 199, 203, 205, 208, 211, 216, 218, 219, 220, 221, 222, 228, 229, 230, 232, 237, 243, 246, 250, 251, 255, 259, 260, 263, 264, 266, 270, 272, 282, 289, 301, 302, 303, 304, 819, 307, 310, 313, 316, 318, 320, 321, 322, 323, 325, 326, 328, 339, 342, 343, 346, 349, 351, 352, 353, 377, 378, 379, 389, 393}\n",
      "\n",
      "\n",
      "The number of speakers in /srv/scratch/z5313567/thesis/AusKidTalk_local/scripted_new/AusKidTalk_scripted_dataframe_new_180speakers.csv is: 180\n",
      "The number of speakers in /srv/scratch/z5313567/thesis/AusKidTalk_local/AusKidTalk_dataframe.csv is: 79\n",
      "The number of overlapping speakers is: 79\n",
      "The overlapping speakers are: {516, 1050, 1075, 97, 118, 122, 1150, 130, 135, 651, 166, 172, 173, 176, 181, 190, 191, 193, 197, 199, 203, 205, 208, 211, 216, 218, 219, 220, 221, 222, 228, 229, 230, 232, 237, 243, 246, 250, 251, 255, 259, 260, 263, 264, 266, 270, 272, 282, 289, 301, 302, 303, 304, 819, 307, 310, 313, 316, 318, 320, 321, 322, 323, 325, 326, 328, 339, 342, 343, 346, 349, 351, 352, 353, 377, 378, 379, 389, 393}\n",
      "\n",
      "\n"
     ]
    }
   ],
   "source": [
    "for target_fp in target_fps:\n",
    "    for check_fp in check_fps:\n",
    "        check_overlapping(target_fp, check_fp)"
   ]
  },
  {
   "cell_type": "code",
   "execution_count": null,
   "id": "39fcac52-c0d3-4a19-bca5-88c35901ec67",
   "metadata": {},
   "outputs": [],
   "source": []
  },
  {
   "cell_type": "code",
   "execution_count": null,
   "id": "30ddf3e3-3be8-454d-8ee7-4f910ec6bc5c",
   "metadata": {},
   "outputs": [],
   "source": []
  }
 ],
 "metadata": {
  "kernelspec": {
   "display_name": "Python 3.10.8 (ipykernel)",
   "language": "python",
   "name": "python-3.10.8"
  },
  "language_info": {
   "codemirror_mode": {
    "name": "ipython",
    "version": 3
   },
   "file_extension": ".py",
   "mimetype": "text/x-python",
   "name": "python",
   "nbconvert_exporter": "python",
   "pygments_lexer": "ipython3",
   "version": "3.10.8"
  }
 },
 "nbformat": 4,
 "nbformat_minor": 5
}

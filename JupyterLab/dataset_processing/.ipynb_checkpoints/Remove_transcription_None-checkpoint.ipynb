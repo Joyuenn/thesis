{
 "cells": [
  {
   "cell_type": "code",
   "execution_count": 1,
   "id": "3a01a67e-4b9a-47a5-b1e5-283330017e0c",
   "metadata": {},
   "outputs": [],
   "source": [
    "import pandas as pd"
   ]
  },
  {
   "cell_type": "code",
   "execution_count": null,
   "id": "2dca6f37-0587-4e03-9c69-dfe809e13b94",
   "metadata": {},
   "outputs": [],
   "source": [
    "fp = '/srv/scratch/z5313567/thesis/CU_local/CU_full_dataframs.csv'"
   ]
  },
  {
   "cell_type": "code",
   "execution_count": 2,
   "id": "ad3d83f9-361c-474c-b16e-317013d8d68a",
   "metadata": {},
   "outputs": [],
   "source": [
    "df = pd.read_csv(fp)"
   ]
  },
  {
   "cell_type": "code",
   "execution_count": 3,
   "id": "e28ac2f2-9d76-4b0f-a875-79105f8e6330",
   "metadata": {},
   "outputs": [],
   "source": [
    "# Detect and remove rows with 'transcription' as None or NaN\n",
    "df_cleaned = df.dropna(subset=['transcription'])"
   ]
  },
  {
   "cell_type": "code",
   "execution_count": null,
   "id": "b7be7ab5-8195-49f4-b658-33a59e71c097",
   "metadata": {},
   "outputs": [],
   "source": []
  }
 ],
 "metadata": {
  "kernelspec": {
   "display_name": "Python 3.10.8 (ipykernel)",
   "language": "python",
   "name": "python-3.10.8"
  },
  "language_info": {
   "codemirror_mode": {
    "name": "ipython",
    "version": 3
   },
   "file_extension": ".py",
   "mimetype": "text/x-python",
   "name": "python",
   "nbconvert_exporter": "python",
   "pygments_lexer": "ipython3",
   "version": "3.10.8"
  }
 },
 "nbformat": 4,
 "nbformat_minor": 5
}

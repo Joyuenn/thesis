{
 "cells": [
  {
   "cell_type": "code",
   "execution_count": null,
   "id": "79b34c6a-cdbd-4876-b742-67410197e92e",
   "metadata": {},
   "outputs": [],
   "source": [
    "# Purpose: Extract and group the speakers from the datasets to ensure that the speakers appear in train datasets\n",
    "#          do not appear in dev or test datasets.\n",
    "#          (Optional) to extract speakers by the desired durations\n",
    "# Requirement: prepare_scripted_datasets.py (ipynb)\n",
    "# Based on https://github.com/monomest/Thesis/blob/3a15f747dfd934535ffb7a02bf3fee97d9c546cb/s5/wav2vec_projects/OGI_getSpkrs.py"
   ]
  },
  {
   "cell_type": "code",
   "execution_count": 1,
   "id": "7c9c3938-a822-453a-8550-1717e2c9e944",
   "metadata": {},
   "outputs": [
    {
     "name": "stdout",
     "output_type": "stream",
     "text": [
      "\n",
      "------> Importing libraries... ------\n",
      "\n"
     ]
    }
   ],
   "source": [
    "print(\"\\n------> Importing libraries... ------\\n\")\n",
    "\n",
    "import pandas as pd"
   ]
  },
  {
   "cell_type": "code",
   "execution_count": 24,
   "id": "519f34f1-34b1-4383-88c4-fa0c6041e81a",
   "metadata": {},
   "outputs": [
    {
     "name": "stdout",
     "output_type": "stream",
     "text": [
      "The desired duration of the training dataset is 3600 seconds, 60.0 minutes, and 1.0 hours\n",
      "The total duration including training, development and testing sets should be 857.1428571428572\n"
     ]
    }
   ],
   "source": [
    "extract_by_duration = True\n",
    "desired_training_duration = 60*60 # convert to seconds\n",
    "prop_training = 0.7 \n",
    "if extract_by_duration:\n",
    "    print(f'The desired duration of the training dataset is {desired_training_duration} seconds, {desired_training_duration/60} minutes, and {desired_training_duration/(60*60)} hours')\n",
    "    # Refer to data_splitting.ipynb, the entire dataset is split into training, development and testing sets by 0.7:0.15:0.15\n",
    "    total_duration = desired_duration / prop_training\n",
    "    print(f'The total duration including training, development and testing sets should be {total_duration}')"
   ]
  },
  {
   "cell_type": "code",
   "execution_count": 16,
   "id": "af7b8d32-cd5b-4590-b6d4-adaa78ab27bf",
   "metadata": {},
   "outputs": [
    {
     "name": "stdout",
     "output_type": "stream",
     "text": [
      "\n",
      "------> Loading files... ------\n",
      "\n",
      "OGI dataframe is stored at /srv/scratch/z5313567/thesis/OGI_local/OGI_scripted_dataframe.csv\n",
      "OGI group-by-speaker daraframe is stored at /srv/scratch/z5313567/thesis/OGI_local/OGI_scripted_speaker_dataframe.csv\n"
     ]
    }
   ],
   "source": [
    "print(\"\\n------> Loading files... ------\\n\")\n",
    "\n",
    "# Path where the OGI dataframe are stored\n",
    "OGI_df_fp = '/srv/scratch/z5313567/thesis/OGI_local/OGI_scripted_dataframe.csv'\n",
    "#OGI_df_fp = '/srv/scratch/z5313567/thesis/OGI_local/OGI_spontaneous_dataframe.csv'\n",
    "\n",
    "# Path to save the OGI group-by-speaker daraframe \n",
    "OGI_speaker_df_fp = '/srv/scratch/z5313567/thesis/OGI_local/OGI_scripted_speaker_dataframe.csv'\n",
    "#OGI_speaker_df_fp = '/srv/scratch/z5313567/thesis/OGI_local/OGI_spontaneous_speaker_dataframe.csv'\n",
    "\n",
    "# Path to save the OGI group-by-speaker dataframe according to desired duration\n",
    "OGI_speaker_duration_df_fp = '/srv/scratch/z5313567/thesis/OGI_local/10min_datasets'\n",
    "\n",
    "print(f'OGI dataframe is stored at {OGI_df_fp}')\n",
    "print(f'OGI group-by-speaker daraframe is stored at {OGI_speaker_df_fp}')"
   ]
  },
  {
   "cell_type": "code",
   "execution_count": 7,
   "id": "a18cb535-b020-4c95-9dee-3641949f2a67",
   "metadata": {},
   "outputs": [
    {
     "name": "stdout",
     "output_type": "stream",
     "text": [
      "\n",
      "------> Describing dataset... ------\n",
      "\n",
      "count     71999\n",
      "unique     1118\n",
      "top       ks737\n",
      "freq         68\n",
      "Name: speaker_id, dtype: object\n"
     ]
    }
   ],
   "source": [
    "OGI_df = pd.read_csv(OGI_df_fp)\n",
    "print(\"\\n------> Describing dataset... ------\\n\")\n",
    "print(OGI_df.speaker_id.describe())"
   ]
  },
  {
   "cell_type": "code",
   "execution_count": 8,
   "id": "43070a48-e377-4331-b83e-81a2faf1539d",
   "metadata": {},
   "outputs": [
    {
     "name": "stdout",
     "output_type": "stream",
     "text": [
      "\n",
      "------> Grouping according to speakers... ------\n",
      "\n",
      "     speaker_id    duration\n",
      "0         ks000  218.426803\n",
      "1         ks001  148.691202\n",
      "2         ks003  133.172018\n",
      "3         ks006  140.281134\n",
      "4         ks008  146.327075\n",
      "...         ...         ...\n",
      "1113      ksl1g  214.528934\n",
      "1114      ksl2t  203.015057\n",
      "1115      ksl2v  222.057143\n",
      "1116      ksl2w  220.096236\n",
      "1117      ksl2x  208.330159\n",
      "\n",
      "[1118 rows x 2 columns]\n"
     ]
    }
   ],
   "source": [
    "OGI_df.drop(columns=['filepath', 'transcription'], inplace=True)\n",
    "\n",
    "print(\"\\n------> Grouping according to speakers... ------\\n\")\n",
    "OGI_speaker_df = OGI_df.groupby('speaker_id')['duration'].sum()\n",
    "OGI_speaker_df = OGI_speaker_df.reset_index()\n",
    "print(OGI_speaker_df)"
   ]
  },
  {
   "cell_type": "code",
   "execution_count": 9,
   "id": "d1f5d9e1-7b62-48a2-94da-49e3d195c81b",
   "metadata": {},
   "outputs": [
    {
     "name": "stdout",
     "output_type": "stream",
     "text": [
      "\n",
      "------> Saving dataframe to csv file... ------\n",
      "\n",
      "Successfully saved group-by-speaker dataframe to csv file at: /srv/scratch/z5313567/thesis/OGI_local/OGI_scripted_speaker_dataframe.csv\n"
     ]
    }
   ],
   "source": [
    "print(\"\\n------> Saving dataframe to csv file... ------\\n\")\n",
    "OGI_speaker_df.to_csv(OGI_speaker_df_fp, index = False)\n",
    "print('Successfully saved group-by-speaker dataframe to csv file at:', OGI_speaker_df_fp)"
   ]
  },
  {
   "cell_type": "code",
   "execution_count": 10,
   "id": "f87b814e-6858-46fb-b746-1ae2ba2cc762",
   "metadata": {},
   "outputs": [
    {
     "name": "stdout",
     "output_type": "stream",
     "text": [
      "Total number of speakers: 1118\n",
      "Total hours: 69.78362239858907\n"
     ]
    }
   ],
   "source": [
    "print('Total number of speakers:', len(OGI_speaker_df))\n",
    "print(\"Total hours:\", OGI_speaker_df['duration'].sum()/(60*60))"
   ]
  },
  {
   "cell_type": "code",
   "execution_count": 17,
   "id": "e435b15b-ffef-41b9-8232-3fab4dbf2f90",
   "metadata": {},
   "outputs": [
    {
     "data": {
      "text/plain": [
       "pandas.core.frame.DataFrame"
      ]
     },
     "execution_count": 17,
     "metadata": {},
     "output_type": "execute_result"
    }
   ],
   "source": [
    "type(OGI_speaker_df)"
   ]
  },
  {
   "cell_type": "code",
   "execution_count": 23,
   "id": "02a849c7-dea8-4b72-928d-b1842f433ff9",
   "metadata": {},
   "outputs": [
    {
     "name": "stdout",
     "output_type": "stream",
     "text": [
      "Total number of speakers: 6\n",
      "Total hours: 0.2555744142101285\n",
      "Total minutes: 15.33446485260771\n",
      "Total seconds: 920.0678911564626\n"
     ]
    }
   ],
   "source": [
    "duration_count = 0\n",
    "extracted_rows = []\n",
    "if extract_by_duration:\n",
    "    for index, row in OGI_speaker_df.iterrows():\n",
    "        if duration_count <= total_duration:\n",
    "            extracted_rows.append(row)\n",
    "            duration_count += row['duration']\n",
    "    extracted_df_by_duration = pd.DataFrame(extracted_rows)\n",
    "    print('Total number of speakers:', len(extracted_df_by_duration))\n",
    "    print(\"Total hours:\", extracted_df_by_duration['duration'].sum()/(60*60))\n",
    "    print(\"Total minutes:\", extracted_df_by_duration['duration'].sum()/(60))\n",
    "    print(\"Total seconds:\", extracted_df_by_duration['duration'].sum())"
   ]
  },
  {
   "cell_type": "code",
   "execution_count": 21,
   "id": "6f4c2622-6c30-4e1d-a5d1-38fe8095ff27",
   "metadata": {},
   "outputs": [
    {
     "name": "stdout",
     "output_type": "stream",
     "text": [
      "  speaker_id    duration\n",
      "0      ks000  218.426803\n",
      "1      ks001  148.691202\n",
      "2      ks003  133.172018\n",
      "3      ks006  140.281134\n",
      "4      ks008  146.327075\n",
      "5      ks00b  133.169660\n"
     ]
    }
   ],
   "source": [
    "print(extracted_df_by_duration)"
   ]
  },
  {
   "cell_type": "code",
   "execution_count": null,
   "id": "becb4f5a-a58f-4c0d-8a4b-ae44efa8cf6e",
   "metadata": {},
   "outputs": [],
   "source": []
  },
  {
   "cell_type": "code",
   "execution_count": null,
   "id": "25fbe52c-39ec-4d5b-9b1d-fb9db33f3362",
   "metadata": {},
   "outputs": [],
   "source": []
  }
 ],
 "metadata": {
  "kernelspec": {
   "display_name": "Python 3.10.8 (ipykernel)",
   "language": "python",
   "name": "python-3.10.8"
  },
  "language_info": {
   "codemirror_mode": {
    "name": "ipython",
    "version": 3
   },
   "file_extension": ".py",
   "mimetype": "text/x-python",
   "name": "python",
   "nbconvert_exporter": "python",
   "pygments_lexer": "ipython3",
   "version": "3.10.8"
  }
 },
 "nbformat": 4,
 "nbformat_minor": 5
}

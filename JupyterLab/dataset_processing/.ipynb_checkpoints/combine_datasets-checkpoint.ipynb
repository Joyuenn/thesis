{
 "cells": [
  {
   "cell_type": "code",
   "execution_count": 2,
   "id": "a2283ba7-0845-4a44-8442-69f8695aa892",
   "metadata": {},
   "outputs": [],
   "source": [
    "import pandas as pd"
   ]
  },
  {
   "cell_type": "code",
   "execution_count": 3,
   "id": "fc6fb01f-44ba-4075-9cda-833509bd5301",
   "metadata": {},
   "outputs": [],
   "source": [
    "fp_1_train = '/srv/scratch/z5313567/thesis/AusKidTalk_local/spontaneous_v2/AusKidTalk_spontaneous_dataframe_v2.csv'\n",
    "\n",
    "fp_2_train = '/srv/scratch/z5313567/thesis/AusKidTalk_local/AusKidTalk_spontaneous_dataframe.csv'\n",
    "\n",
    "'''\n",
    "fp_1_dev = '/srv/scratch/z5313567/thesis/CU_local/CU_full_dev_dataframe_15sec.csv'\n",
    "fp_1_test = '/srv/scratch/z5313567/thesis/CU_local/CU_full_test_dataframe_15sec.csv'\n",
    "\n",
    "fp_2_train = '/srv/scratch/z5313567/thesis/MyST_local/myST_train_15sec.csv'\n",
    "fp_2_dev = '/srv/scratch/z5313567/thesis/MyST_local/myST_dev_15sec.csv'\n",
    "fp_2_test = '/srv/scratch/z5313567/thesis/MyST_local/myST_test_15sec.csv'\n",
    "\n",
    "fp_3_train = '/srv/scratch/z5313567/thesis/AusKidTalk_local/AusKidTalk_train_dataframe.csv'\n",
    "fp_3_dev = '/srv/scratch/z5313567/thesis/AusKidTalk_local/AusKidTalk_dev_dataframe.csv'\n",
    "fp_3_test = '/srv/scratch/z5313567/thesis/AusKidTalk_local/AusKidTalk_test_dataframe.csv'\n",
    "'''\n",
    "combined_fp_train = '/srv/scratch/z5313567/thesis/AusKidTalk_local/spontaneous_v2/AusKidTalk_spontaneous_dataframe_combined_v2.csv'\n",
    "#combined_fp_dev = '/srv/scratch/z5313567/thesis/CU_MyST_AusKidTalk_local/CU_MyST_AusKidTalk_dev_15sec.csv'\n",
    "#combined_fp_test = '/srv/scratch/z5313567/thesis/CU_MyST_AusKidTalk_local/CU_MyST_AusKidTalk_test_15sec.csv'"
   ]
  },
  {
   "cell_type": "code",
   "execution_count": 34,
   "id": "1048cccf-2192-48c5-846c-1e457306f1a8",
   "metadata": {},
   "outputs": [],
   "source": [
    "df_1_train = pd.read_csv(fp_1_train)\n",
    "df_1_dev = pd.read_csv(fp_1_dev)\n",
    "df_1_test = pd.read_csv(fp_1_test)\n",
    "\n",
    "df_2_train = pd.read_csv(fp_2_train)\n",
    "df_2_dev = pd.read_csv(fp_2_dev)\n",
    "df_2_test = pd.read_csv(fp_2_test)\n",
    "\n",
    "df_3_train = pd.read_csv(fp_3_train)\n",
    "df_3_dev = pd.read_csv(fp_3_dev)\n",
    "df_3_test = pd.read_csv(fp_3_test)"
   ]
  },
  {
   "cell_type": "code",
   "execution_count": 35,
   "id": "aac48c7a-93b6-44c5-aba9-1845cde60881",
   "metadata": {},
   "outputs": [],
   "source": [
    "combined_df_train = pd.concat([df_1_train, df_2_train, df_3_train], ignore_index=True)\n",
    "combined_df_dev = pd.concat([df_1_dev, df_2_dev, df_3_dev], ignore_index=True)\n",
    "combined_df_test = pd.concat([df_1_test, df_2_test, df_3_test], ignore_index=True)"
   ]
  },
  {
   "cell_type": "code",
   "execution_count": 36,
   "id": "a2fc93e5-b2a1-42d9-954a-c34286af5804",
   "metadata": {},
   "outputs": [
    {
     "name": "stdout",
     "output_type": "stream",
     "text": [
      "---------------Saving combined training dataframe to                                                  filepath  duration   \n",
      "0       /srv/scratch/chacmod/CU_2/corpus/data/train-pa...  5.580091  \\\n",
      "1       /srv/scratch/chacmod/CU_2/corpus/data/train-pa...  7.280000   \n",
      "2       /srv/scratch/chacmod/CU_2/corpus/data/train-pa...  9.410068   \n",
      "3       /srv/scratch/chacmod/CU_2/corpus/data/train-pa...  6.360091   \n",
      "4       /srv/scratch/chacmod/CU_2/corpus/data/train-pa...  2.540091   \n",
      "...                                                   ...       ...   \n",
      "123997  /srv/scratch/chacmod/auskidtalk_audio/1050_tas...  0.853436   \n",
      "123998  /srv/scratch/chacmod/auskidtalk_audio/1050_tas...  0.840000   \n",
      "123999  /srv/scratch/chacmod/auskidtalk_audio/1050_tas...  0.780000   \n",
      "124000  /srv/scratch/chacmod/auskidtalk_audio/1050_tas...  0.840000   \n",
      "124001  /srv/scratch/chacmod/auskidtalk_audio/1050_tas...  0.802460   \n",
      "\n",
      "        speaker_id  transcription  \n",
      "0           200247            PUT  \n",
      "1           200247            PUT  \n",
      "2           200247            PUT  \n",
      "3           200247            PUT  \n",
      "4           200247          OFTEN  \n",
      "...            ...            ...  \n",
      "123997        1050      four eggs  \n",
      "123998        1050    one o clock  \n",
      "123999        1050    two o clock  \n",
      "124000        1050  three o clock  \n",
      "124001        1050   four o clock  \n",
      "\n",
      "[124002 rows x 4 columns]-------------------\n",
      "\n",
      "Total duration in combined training dataset is 133.8245510306792 hours\n",
      "The total number of speakers is 1206\n",
      "The total number of speeches is 124002\n",
      "\n"
     ]
    }
   ],
   "source": [
    "print(f'---------------Saving combined training dataframe to {combined_df_train}-------------------\\n')\n",
    "combined_df_train.to_csv(combined_fp_train, index=False)\n",
    "\n",
    "duration = combined_df_train['duration'].sum()\n",
    "num_speakers = combined_df_train['speaker_id'].nunique()\n",
    "\n",
    "print(f'Total duration in combined training dataset is {duration/(60*60)} hours')\n",
    "print(f'The total number of speakers is {num_speakers}')\n",
    "print(f'The total number of speeches is {len(combined_df_train)}\\n')"
   ]
  },
  {
   "cell_type": "code",
   "execution_count": 37,
   "id": "14c7df9b-2c2b-47b9-bdb0-ed057fb55faf",
   "metadata": {},
   "outputs": [
    {
     "name": "stdout",
     "output_type": "stream",
     "text": [
      "---------------Saving combined development dataframe to                                                 filepath  duration   \n",
      "0      /srv/scratch/chacmod/CU_2/corpus/data/train-pa...  0.930023  \\\n",
      "1      /srv/scratch/chacmod/CU_2/corpus/data/train-pa...  3.525034   \n",
      "2      /srv/scratch/chacmod/CU_2/corpus/data/train-pa...  0.970023   \n",
      "3      /srv/scratch/chacmod/CU_2/corpus/data/train-pa...  1.170023   \n",
      "4      /srv/scratch/chacmod/CU_2/corpus/data/train-pa...  1.165034   \n",
      "...                                                  ...       ...   \n",
      "24582  /srv/scratch/chacmod/auskidtalk_audio/246_task...  1.040006   \n",
      "24583  /srv/scratch/chacmod/auskidtalk_audio/246_task...  0.960000   \n",
      "24584  /srv/scratch/chacmod/auskidtalk_audio/246_task...  0.870000   \n",
      "24585  /srv/scratch/chacmod/auskidtalk_audio/246_task...  0.870000   \n",
      "24586  /srv/scratch/chacmod/auskidtalk_audio/246_task...  0.971023   \n",
      "\n",
      "       speaker_id       transcription  \n",
      "0          301054               HUMID  \n",
      "1          301054  RED DEDE REDDENING  \n",
      "2          301054             HAITIAN  \n",
      "3          301054              MOUTHS  \n",
      "4          301054               AE AE  \n",
      "...           ...                 ...  \n",
      "24582         246           four eggs  \n",
      "24583         246         one o clock  \n",
      "24584         246         two o clock  \n",
      "24585         246       three o clock  \n",
      "24586         246        four o clock  \n",
      "\n",
      "[24587 rows x 4 columns]-------------------\n",
      "\n",
      "Total duration in combined development dataset is 26.61719993275077 hours\n",
      "The total number of speakers is 260\n",
      "The total number of speeches is 24587\n",
      "\n"
     ]
    }
   ],
   "source": [
    "print(f'---------------Saving combined development dataframe to {combined_df_dev}-------------------\\n')\n",
    "combined_df_dev.to_csv(combined_fp_dev, index=False)\n",
    "\n",
    "duration = combined_df_dev['duration'].sum()\n",
    "num_speakers = combined_df_dev['speaker_id'].nunique()\n",
    "\n",
    "print(f'Total duration in combined development dataset is {duration/(60*60)} hours')\n",
    "print(f'The total number of speakers is {num_speakers}')\n",
    "print(f'The total number of speeches is {len(combined_df_dev)}\\n')"
   ]
  },
  {
   "cell_type": "code",
   "execution_count": 38,
   "id": "3d97b516-5389-48a3-a929-61e51868bb50",
   "metadata": {},
   "outputs": [
    {
     "name": "stdout",
     "output_type": "stream",
     "text": [
      "---------------Saving combined testing dataframe to                                                 filepath  duration   \n",
      "0      /srv/scratch/chacmod/CU_2/corpus/data/train-pa...  1.525034  \\\n",
      "1      /srv/scratch/chacmod/CU_2/corpus/data/train-pa...  1.165034   \n",
      "2      /srv/scratch/chacmod/CU_2/corpus/data/train-pa...  2.895011   \n",
      "3      /srv/scratch/chacmod/CU_2/corpus/data/train-pa...  3.290023   \n",
      "4      /srv/scratch/chacmod/CU_2/corpus/data/train-pa...  0.920000   \n",
      "...                                                  ...       ...   \n",
      "24620  /srv/scratch/chacmod/auskidtalk_audio/166_task...  1.230000   \n",
      "24621  /srv/scratch/chacmod/auskidtalk_audio/166_task...  0.995224   \n",
      "24622  /srv/scratch/chacmod/auskidtalk_audio/166_task...  0.960000   \n",
      "24623  /srv/scratch/chacmod/auskidtalk_audio/166_task...  1.020000   \n",
      "24624  /srv/scratch/chacmod/auskidtalk_audio/166_task...  0.960000   \n",
      "\n",
      "       speaker_id                          transcription  \n",
      "0          402030                                     SH  \n",
      "1          402030                                  VYING  \n",
      "2          402030              FOUR NINE NINE THREE FIVE  \n",
      "3          402030  WATCH THE LOG FLOAT IN THE WIDE RIVER  \n",
      "4          402030                                     OF  \n",
      "...           ...                                    ...  \n",
      "24620         166                              four eggs  \n",
      "24621         166                            one o clock  \n",
      "24622         166                            two o clock  \n",
      "24623         166                          three o clock  \n",
      "24624         166                           four o clock  \n",
      "\n",
      "[24625 rows x 4 columns]-------------------\n",
      "\n",
      "Total duration in combined testing dataset is 27.265018993811456 hours\n",
      "The total number of speakers is 261\n",
      "The total number of speeches is 24625\n",
      "\n"
     ]
    }
   ],
   "source": [
    "print(f'---------------Saving combined testing dataframe to {combined_df_test}-------------------\\n')\n",
    "combined_df_test.to_csv(combined_fp_test, index=False)\n",
    "\n",
    "duration = combined_df_test['duration'].sum()\n",
    "num_speakers = combined_df_test['speaker_id'].nunique()\n",
    "\n",
    "print(f'Total duration in combined testing dataset is {duration/(60*60)} hours')\n",
    "print(f'The total number of speakers is {num_speakers}')\n",
    "print(f'The total number of speeches is {len(combined_df_test)}\\n')"
   ]
  },
  {
   "cell_type": "code",
   "execution_count": null,
   "id": "228a392e-ab95-41b3-857e-e5514cad2e07",
   "metadata": {},
   "outputs": [],
   "source": []
  },
  {
   "cell_type": "code",
   "execution_count": null,
   "id": "d0674539-2b04-4f62-bded-52191bd10431",
   "metadata": {},
   "outputs": [],
   "source": []
  }
 ],
 "metadata": {
  "kernelspec": {
   "display_name": "Python 3.10.8 (ipykernel)",
   "language": "python",
   "name": "python-3.10.8"
  },
  "language_info": {
   "codemirror_mode": {
    "name": "ipython",
    "version": 3
   },
   "file_extension": ".py",
   "mimetype": "text/x-python",
   "name": "python",
   "nbconvert_exporter": "python",
   "pygments_lexer": "ipython3",
   "version": "3.10.8"
  }
 },
 "nbformat": 4,
 "nbformat_minor": 5
}

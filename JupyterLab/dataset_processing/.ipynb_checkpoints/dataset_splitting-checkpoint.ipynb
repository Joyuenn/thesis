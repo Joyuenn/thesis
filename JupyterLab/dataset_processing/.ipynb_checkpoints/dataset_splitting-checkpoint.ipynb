{
 "cells": [
  {
   "cell_type": "code",
   "execution_count": 35,
   "id": "89c6fbfa-3d1d-464e-8bae-5dac627d17f6",
   "metadata": {},
   "outputs": [],
   "source": [
    "# Purpose: partition datasets into training, development and testiong sets\n",
    "# Requirement: prepare_scripted_datasets.py (ipynb)\n",
    "#              Check_duration_15sec.py (ipynb)\n",
    "#              group_speaker_id.py (ipynb)"
   ]
  },
  {
   "cell_type": "code",
   "execution_count": 36,
   "id": "ec47aec8-cf1c-44f4-8fbc-b38765f9e96e",
   "metadata": {},
   "outputs": [
    {
     "name": "stdout",
     "output_type": "stream",
     "text": [
      "\n",
      "------> Importing libraries... ------\n",
      "\n"
     ]
    }
   ],
   "source": [
    "print(\"\\n------> Importing libraries... ------\\n\")\n",
    "\n",
    "import pandas as pd\n",
    "from sklearn.model_selection import train_test_split"
   ]
  },
  {
   "cell_type": "code",
   "execution_count": 37,
   "id": "160d23b4-668a-4dc4-88ee-a5895c0f1a30",
   "metadata": {},
   "outputs": [],
   "source": [
    "# (cannot be changed) seed = 230\n",
    "seed = 230 \n",
    "\n",
    "# !!!!!! When changing the proportion, go to group_speaker_id.ipynb to change the parameter \"prop_training\"\n",
    "train_num = 0.70\n",
    "dev_num = 0.15\n",
    "test_num = 0.15"
   ]
  },
  {
   "cell_type": "code",
   "execution_count": 38,
   "id": "c4a12114-11ec-42cb-b5bd-a2739081530d",
   "metadata": {},
   "outputs": [
    {
     "name": "stdout",
     "output_type": "stream",
     "text": [
      "\n",
      "------> Loading files... ------\n",
      "\n",
      "Dataframe is stored at /srv/scratch/z5313567/thesis/AusKidTalk_local/scripted_new/AusKidTalk_scripted_dataframe_new_180speakers.csv\n",
      "Group-by-speaker dataframe is stored at /srv/scratch/z5313567/thesis/AusKidTalk_local/scripted_new/AusKidTalk_scripted_speaker_dataframe_new_180speakers.csv\n",
      "Training daraframe is stored at /srv/scratch/z5313567/thesis/AusKidTalk_local/scripted_new/AusKidTalk_scripted_train_dataframe_new_180speakers.csv\n",
      "Development daraframe is stored at /srv/scratch/z5313567/thesis/AusKidTalk_local/scripted_new/AusKidTalk_scripted_dev_dataframe_new_180speakers.csv\n",
      "Test daraframe is stored at /srv/scratch/z5313567/thesis/AusKidTalk_local/scripted_new/AusKidTalk_scripted_test_dataframe_new_180speakers.csv\n"
     ]
    }
   ],
   "source": [
    "print(\"\\n------> Loading files... ------\\n\")\n",
    "\n",
    "df_fp = '/srv/scratch/z5313567/thesis/AusKidTalk_local/scripted_new/AusKidTalk_scripted_dataframe_new_180speakers.csv'\n",
    "speaker_df_fp = '/srv/scratch/z5313567/thesis/AusKidTalk_local/scripted_new/AusKidTalk_scripted_speaker_dataframe_new_180speakers.csv'\n",
    "\n",
    "train_df_fp = '/srv/scratch/z5313567/thesis/AusKidTalk_local/scripted_new/AusKidTalk_scripted_train_dataframe_new_180speakers.csv'\n",
    "dev_df_fp = '/srv/scratch/z5313567/thesis/AusKidTalk_local/scripted_new/AusKidTalk_scripted_dev_dataframe_new_180speakers.csv'\n",
    "test_df_fp = '/srv/scratch/z5313567/thesis/AusKidTalk_local/scripted_new/AusKidTalk_scripted_test_dataframe_new_180speakers.csv'\n",
    "\n",
    "print(f'Dataframe is stored at {df_fp}')\n",
    "print(f'Group-by-speaker dataframe is stored at {speaker_df_fp}')\n",
    "print(f'Training daraframe is stored at {train_df_fp}')\n",
    "print(f'Development daraframe is stored at {dev_df_fp}')\n",
    "print(f'Test daraframe is stored at {test_df_fp}')"
   ]
  },
  {
   "cell_type": "code",
   "execution_count": 39,
   "id": "80e8a85c-5018-4ed7-8462-1034c6605991",
   "metadata": {},
   "outputs": [
    {
     "name": "stdout",
     "output_type": "stream",
     "text": [
      "\n",
      "------> Splitting the group-by-speaker dataframe... ------\n",
      "\n"
     ]
    }
   ],
   "source": [
    "print(\"\\n------> Splitting the group-by-speaker dataframe... ------\\n\")\n",
    "speaker_df = pd.read_csv(speaker_df_fp, dtype={'speaker_id': str})\n",
    "train_speaker_set, dev_test_speaker_set = train_test_split(speaker_df, test_size=(dev_num+test_num), random_state=seed, shuffle=True)\n",
    "\n",
    "prop_test = test_num/(dev_num+test_num)\n",
    "dev_speaker_set, test_speaker_set = train_test_split(dev_test_speaker_set, test_size=prop_test, random_state=seed, shuffle=True)"
   ]
  },
  {
   "cell_type": "code",
   "execution_count": 40,
   "id": "e30491f4-4c2a-4469-b271-bd41edd4cf27",
   "metadata": {},
   "outputs": [
    {
     "name": "stdout",
     "output_type": "stream",
     "text": [
      "Training dataset includes 126 speakers and 3.859580136985175 hours\n",
      "Development dataset includes 27 speakers and 0.8320461690562523 hours\n",
      "Testing dataset includes 27 speakers and 0.8461664757909966 hours\n"
     ]
    }
   ],
   "source": [
    "print(f\"Training dataset includes {len(train_speaker_set)} speakers and {train_speaker_set['duration'].sum()/(60*60)} hours\")\n",
    "print(f\"Development dataset includes {len(dev_speaker_set)} speakers and {dev_speaker_set['duration'].sum()/(60*60)} hours\")\n",
    "print(f\"Testing dataset includes {len(test_speaker_set)} speakers and {test_speaker_set['duration'].sum()/(60*60)} hours\")"
   ]
  },
  {
   "cell_type": "code",
   "execution_count": 41,
   "id": "3e59f0eb-55f2-4e94-af3d-1e73fc7d5836",
   "metadata": {},
   "outputs": [
    {
     "name": "stdout",
     "output_type": "stream",
     "text": [
      "                                               filepath  duration speaker_id   \n",
      "9013  /srv/scratch/chacmod/auskidtalk_scripted_audio...      0.48        208  \\\n",
      "9014  /srv/scratch/chacmod/auskidtalk_scripted_audio...      0.60        208   \n",
      "9015  /srv/scratch/chacmod/auskidtalk_scripted_audio...      0.48        208   \n",
      "9016  /srv/scratch/chacmod/auskidtalk_scripted_audio...      0.54        208   \n",
      "9017  /srv/scratch/chacmod/auskidtalk_scripted_audio...      0.42        208   \n",
      "...                                                 ...       ...        ...   \n",
      "9149  /srv/scratch/chacmod/auskidtalk_scripted_audio...      0.99        208   \n",
      "9150  /srv/scratch/chacmod/auskidtalk_scripted_audio...      0.84        208   \n",
      "9151  /srv/scratch/chacmod/auskidtalk_scripted_audio...      0.90        208   \n",
      "9152  /srv/scratch/chacmod/auskidtalk_scripted_audio...      0.93        208   \n",
      "9153  /srv/scratch/chacmod/auskidtalk_scripted_audio...      0.96        208   \n",
      "\n",
      "      transcription  \n",
      "9013           duck  \n",
      "9014           fish  \n",
      "9015            car  \n",
      "9016            key  \n",
      "9017           boat  \n",
      "...             ...  \n",
      "9149      four eggs  \n",
      "9150    one o clock  \n",
      "9151    two o clock  \n",
      "9152  three o clock  \n",
      "9153   four o clock  \n",
      "\n",
      "[141 rows x 4 columns]\n"
     ]
    }
   ],
   "source": [
    "# this code snippet is used for testing purposes\n",
    "df = pd.read_csv(df_fp, dtype={'speaker_id': str})\n",
    "\n",
    "id_to_match = train_speaker_set['speaker_id'].values[2]\n",
    "matching_row = df[df['speaker_id']==id_to_match]\n",
    "print(matching_row)"
   ]
  },
  {
   "cell_type": "code",
   "execution_count": 42,
   "id": "74d65747-ac54-46b8-9766-89d8a88d240b",
   "metadata": {},
   "outputs": [
    {
     "name": "stdout",
     "output_type": "stream",
     "text": [
      "\n",
      "------> Obtaining training dataframe... ------\n",
      "\n",
      "Number of speech files: 18384\n",
      "Number of speakers: 126\n",
      "Total hours: 3.8595801369851754\n",
      "Total minutes: 231.5748082191105\n",
      "Total seconds: 13894.488493146631\n",
      "Successfully saved training dataframe to csv file at:  /srv/scratch/z5313567/thesis/AusKidTalk_local/scripted_new/AusKidTalk_scripted_train_dataframe_new_180speakers.csv\n"
     ]
    }
   ],
   "source": [
    "print(\"\\n------> Obtaining training dataframe... ------\\n\")\n",
    "\n",
    "# Extra filepath, duration, speaker_id and transcription corresponsing training dataset from the original dataframe\n",
    "train_dp = pd.DataFrame(\n",
    "        {'filepath': [],\n",
    "         'duration': [],\n",
    "         'speaker_id': [],\n",
    "         'transcription': []\n",
    "         })\n",
    "for i in range(len(train_speaker_set)):\n",
    "    id_to_match = train_speaker_set['speaker_id'].values[i]\n",
    "    matching_speakers = df[df['speaker_id']==id_to_match]\n",
    "    train_dp = pd.concat([train_dp, matching_speakers], ignore_index=True)  # concatenate training dataframe with matching speakers, setting ignore_index=True to reindex the training dataframe\n",
    "\n",
    "train_dp['speaker_id'] = train_dp['speaker_id'].astype(str)  # preverse leading zeros\n",
    "train_dp.to_csv(train_df_fp, index=False)\n",
    "\n",
    "print(\"Number of speech files:\", len(train_dp))\n",
    "print(\"Number of speakers:\", len(set(train_dp['speaker_id'])))\n",
    "print(\"Total hours:\", train_dp['duration'].sum()/(60*60))\n",
    "print(\"Total minutes:\", train_dp['duration'].sum()/(60))\n",
    "print(\"Total seconds:\", train_dp['duration'].sum())\n",
    "print('Successfully saved training dataframe to csv file at: ', train_df_fp)"
   ]
  },
  {
   "cell_type": "code",
   "execution_count": 43,
   "id": "706d6005-b1d9-4457-a019-98d073e6a8eb",
   "metadata": {},
   "outputs": [
    {
     "name": "stdout",
     "output_type": "stream",
     "text": [
      "\n",
      "------> Obtaining development dataframe... ------\n",
      "\n",
      "Number of speech files: 4019\n",
      "Number of speakers: 27\n",
      "Total hours: 0.8320461690562523\n",
      "Total minutes: 49.92277014337514\n",
      "Total seconds: 2995.3662086025083\n",
      "Successfully saved development dataframe to csv file at:  /srv/scratch/z5313567/thesis/AusKidTalk_local/scripted_new/AusKidTalk_scripted_dev_dataframe_new_180speakers.csv\n"
     ]
    }
   ],
   "source": [
    "print(\"\\n------> Obtaining development dataframe... ------\\n\")\n",
    "\n",
    "# Extra filepath, duration, speaker_id and transcription corresponsing development dataset from the original dataframe\n",
    "dev_dp = pd.DataFrame(\n",
    "        {'filepath': [],\n",
    "         'duration': [],\n",
    "         'speaker_id': [],\n",
    "         'transcription': []\n",
    "         })\n",
    "for i in range(len(dev_speaker_set)):\n",
    "    id_to_match = dev_speaker_set['speaker_id'].values[i]\n",
    "    matching_speakers = df[df['speaker_id']==id_to_match]\n",
    "    dev_dp = pd.concat([dev_dp, matching_speakers], ignore_index=True)  # concatenate training dataframe with matching speakers, setting ignore_index=True to reindex the training dataframe\n",
    "\n",
    "dev_dp['speaker_id'] = dev_dp['speaker_id'].astype(str)  # preverse leading zeros\n",
    "dev_dp.to_csv(dev_df_fp, index=False)\n",
    "\n",
    "print(\"Number of speech files:\", len(dev_dp))\n",
    "print(\"Number of speakers:\", len(set(dev_dp['speaker_id'])))\n",
    "print(\"Total hours:\", dev_dp['duration'].sum()/(60*60))\n",
    "print(\"Total minutes:\", dev_dp['duration'].sum()/(60))\n",
    "print(\"Total seconds:\", dev_dp['duration'].sum())\n",
    "print('Successfully saved development dataframe to csv file at: ', dev_df_fp)"
   ]
  },
  {
   "cell_type": "code",
   "execution_count": 44,
   "id": "35c01de6-db62-4136-bbf1-2fe4751da727",
   "metadata": {},
   "outputs": [
    {
     "name": "stdout",
     "output_type": "stream",
     "text": [
      "\n",
      "------> Obtaining testing dataframe... ------\n",
      "\n",
      "Number of speech files: 3968\n",
      "Number of speakers: 27\n",
      "Total hours: 0.8461664757909966\n",
      "Total minutes: 50.769988547459796\n",
      "Total seconds: 3046.199312847588\n",
      "Successfully saved testing dataset to csv file at:  /srv/scratch/z5313567/thesis/AusKidTalk_local/scripted_new/AusKidTalk_scripted_test_dataframe_new_180speakers.csv\n"
     ]
    }
   ],
   "source": [
    "print(\"\\n------> Obtaining testing dataframe... ------\\n\")\n",
    "\n",
    "# Extra filepath, duration, speaker_id and transcription corresponsing testing dataset from the original dataframe\n",
    "test_dp = pd.DataFrame(\n",
    "        {'filepath': [],\n",
    "         'duration': [],\n",
    "         'speaker_id': [],\n",
    "         'transcription': []\n",
    "         })\n",
    "for i in range(len(test_speaker_set)):\n",
    "    id_to_match = test_speaker_set['speaker_id'].values[i]\n",
    "    matching_speakers = df[df['speaker_id']==id_to_match]\n",
    "    test_dp = pd.concat([test_dp, matching_speakers], ignore_index=True)  # concatenate training dataframe with matching speakers, setting ignore_index=True to reindex the training dataframe\n",
    "    \n",
    "test_dp['speaker_id'] = test_dp['speaker_id'].astype(str)  # preverse leading zeros\n",
    "test_dp.to_csv(test_df_fp, index=False)\n",
    "    \n",
    "print(\"Number of speech files:\", len(test_dp))\n",
    "print(\"Number of speakers:\", len(set(test_dp['speaker_id'])))\n",
    "print(\"Total hours:\", test_dp['duration'].sum()/(60*60))\n",
    "print(\"Total minutes:\", test_dp['duration'].sum()/(60))\n",
    "print(\"Total seconds:\", test_dp['duration'].sum())\n",
    "print('Successfully saved testing dataset to csv file at: ', test_df_fp)"
   ]
  },
  {
   "cell_type": "code",
   "execution_count": null,
   "id": "79e09ff8-b307-4dc8-a0d6-60510cc5de35",
   "metadata": {},
   "outputs": [],
   "source": []
  },
  {
   "cell_type": "code",
   "execution_count": null,
   "id": "5aae97d4-6c4b-4090-bf10-9ae50bc8cfbe",
   "metadata": {},
   "outputs": [],
   "source": []
  }
 ],
 "metadata": {
  "kernelspec": {
   "display_name": "Python 3.10.8 (ipykernel)",
   "language": "python",
   "name": "python-3.10.8"
  },
  "language_info": {
   "codemirror_mode": {
    "name": "ipython",
    "version": 3
   },
   "file_extension": ".py",
   "mimetype": "text/x-python",
   "name": "python",
   "nbconvert_exporter": "python",
   "pygments_lexer": "ipython3",
   "version": "3.10.8"
  }
 },
 "nbformat": 4,
 "nbformat_minor": 5
}

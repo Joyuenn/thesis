{
 "cells": [
  {
   "cell_type": "code",
   "execution_count": 1,
   "id": "89c6fbfa-3d1d-464e-8bae-5dac627d17f6",
   "metadata": {},
   "outputs": [],
   "source": [
    "# Purpose: partition datasets into training, development and testiong sets\n",
    "# Requirement: prepare_scripted_datasets.py (ipynb)\n",
    "#              group_speaker_id.py (ipynb)"
   ]
  },
  {
   "cell_type": "code",
   "execution_count": 2,
   "id": "ec47aec8-cf1c-44f4-8fbc-b38765f9e96e",
   "metadata": {},
   "outputs": [
    {
     "name": "stdout",
     "output_type": "stream",
     "text": [
      "\n",
      "------> Importing libraries... ------\n",
      "\n"
     ]
    }
   ],
   "source": [
    "print(\"\\n------> Importing libraries... ------\\n\")\n",
    "\n",
    "import pandas as pd\n",
    "from sklearn.model_selection import train_test_split"
   ]
  },
  {
   "cell_type": "code",
   "execution_count": 3,
   "id": "160d23b4-668a-4dc4-88ee-a5895c0f1a30",
   "metadata": {},
   "outputs": [],
   "source": [
    "# (cannot be changed) seed = 230\n",
    "seed = 230 \n",
    "\n",
    "# When changing the proportion, go to group_speaker_id.ipynb to change the parameter \"prop_training\"\n",
    "train_num = 0.70\n",
    "dev_num = 0.15\n",
    "test_num = 0.15"
   ]
  },
  {
   "cell_type": "code",
   "execution_count": 4,
   "id": "c4a12114-11ec-42cb-b5bd-a2739081530d",
   "metadata": {},
   "outputs": [
    {
     "name": "stdout",
     "output_type": "stream",
     "text": [
      "\n",
      "------> Loading files... ------\n",
      "\n",
      "OFI dataframe is stored at /srv/scratch/z5313567/thesis/OGI_local/OGI_scripted_dataframe.csv\n",
      "OGI group-by-speaker dataframe is stored at /srv/scratch/z5313567/thesis/OGI_local/OGI_scripted_train_dataframe.csv\n",
      "OGI train daraframe is stored at /srv/scratch/z5313567/thesis/OGI_local/OGI_scripted_train_dataframe.csv\n",
      "OGI development daraframe is stored at /srv/scratch/z5313567/thesis/OGI_local/OGI_scripted_dev_dataframe.csv\n",
      "OGI test daraframe is stored at /srv/scratch/z5313567/thesis/OGI_local/OGI_scripted_test_dataframe.csv\n"
     ]
    }
   ],
   "source": [
    "print(\"\\n------> Loading files... ------\\n\")\n",
    "OGI_df_fp = '/srv/scratch/z5313567/thesis/OGI_local/OGI_scripted_dataframe.csv'\n",
    "OGI_speaker_df_fp = '/srv/scratch/z5313567/thesis/OGI_local/OGI_scripted_speaker_dataframe.csv'\n",
    "\n",
    "OGI_train_df_fp = '/srv/scratch/z5313567/thesis/OGI_local/OGI_scripted_train_dataframe.csv'\n",
    "OGI_dev_df_fp = '/srv/scratch/z5313567/thesis/OGI_local/OGI_scripted_dev_dataframe.csv'\n",
    "OGI_test_df_fp = '/srv/scratch/z5313567/thesis/OGI_local/OGI_scripted_test_dataframe.csv'\n",
    "\n",
    "print(f'OFI dataframe is stored at {OGI_df_fp}')\n",
    "print(f'OGI group-by-speaker dataframe is stored at {OGI_train_df_fp}')\n",
    "print(f'OGI train daraframe is stored at {OGI_train_df_fp}')\n",
    "print(f'OGI development daraframe is stored at {OGI_dev_df_fp}')\n",
    "print(f'OGI test daraframe is stored at {OGI_test_df_fp}')"
   ]
  },
  {
   "cell_type": "code",
   "execution_count": 5,
   "id": "80e8a85c-5018-4ed7-8462-1034c6605991",
   "metadata": {},
   "outputs": [
    {
     "name": "stdout",
     "output_type": "stream",
     "text": [
      "\n",
      "------> Splitting the group-by-speaker dataframe... ------\n",
      "\n"
     ]
    }
   ],
   "source": [
    "print(\"\\n------> Splitting the group-by-speaker dataframe... ------\\n\")\n",
    "OGI_speaker_df = pd.read_csv(OGI_speaker_df_fp)\n",
    "train_speaker_set, dev_test_speaker_set = train_test_split(OGI_speaker_df, test_size=(dev_num+test_num), random_state=seed, shuffle=True)\n",
    "\n",
    "prop_test = test_num/(dev_num+test_num)\n",
    "dev_speaker_set, test_speaker_set = train_test_split(dev_test_speaker_set, test_size=prop_test, random_state=seed, shuffle=True)"
   ]
  },
  {
   "cell_type": "code",
   "execution_count": 6,
   "id": "e30491f4-4c2a-4469-b271-bd41edd4cf27",
   "metadata": {},
   "outputs": [
    {
     "name": "stdout",
     "output_type": "stream",
     "text": [
      "Training dataset includes 782 speakers and 48.47577176870748 hours\n",
      "Development dataset includes 168 speakers and 10.60130604686319 hours\n",
      "Testing dataset includes 168 speakers and 10.706544583018394 hours\n"
     ]
    }
   ],
   "source": [
    "print(f\"Training dataset includes {len(train_speaker_set)} speakers and {train_speaker_set['duration'].sum()/(60*60)} hours\")\n",
    "print(f\"Development dataset includes {len(dev_speaker_set)} speakers and {dev_speaker_set['duration'].sum()/(60*60)} hours\")\n",
    "print(f\"Testing dataset includes {len(test_speaker_set)} speakers and {test_speaker_set['duration'].sum()/(60*60)} hours\")"
   ]
  },
  {
   "cell_type": "code",
   "execution_count": 7,
   "id": "3e59f0eb-55f2-4e94-af3d-1e73fc7d5836",
   "metadata": {},
   "outputs": [
    {
     "name": "stdout",
     "output_type": "stream",
     "text": [
      "                                                filepath  duration speaker_id   \n",
      "44850  /srv/scratch/chacmod/OGI/speech/scripted/09/0/...  3.877188      ksk13  \\\n",
      "44851  /srv/scratch/chacmod/OGI/speech/scripted/09/0/...  1.967710      ksk13   \n",
      "44852  /srv/scratch/chacmod/OGI/speech/scripted/09/0/...  1.968345      ksk13   \n",
      "44853  /srv/scratch/chacmod/OGI/speech/scripted/09/0/...  4.599456      ksk13   \n",
      "44854  /srv/scratch/chacmod/OGI/speech/scripted/09/0/...  3.156327      ksk13   \n",
      "...                                                  ...       ...        ...   \n",
      "44913  /srv/scratch/chacmod/OGI/speech/scripted/09/0/...  5.343628      ksk13   \n",
      "44914  /srv/scratch/chacmod/OGI/speech/scripted/09/0/...  1.967574      ksk13   \n",
      "44915  /srv/scratch/chacmod/OGI/speech/scripted/09/0/...  2.798095      ksk13   \n",
      "44916  /srv/scratch/chacmod/OGI/speech/scripted/09/0/...  1.587664      ksk13   \n",
      "44917  /srv/scratch/chacmod/OGI/speech/scripted/09/0/...  3.156916      ksk13   \n",
      "\n",
      "                          transcription  \n",
      "44850           will you sing this song  \n",
      "44851                            submit  \n",
      "44852                           wagging  \n",
      "44853     a feather was in the birdcage  \n",
      "44854                           gumshoe  \n",
      "...                                 ...  \n",
      "44913  every month i eat some chocolate  \n",
      "44914                         boomerang  \n",
      "44915                           picture  \n",
      "44916                              five  \n",
      "44917                         scrapbook  \n",
      "\n",
      "[68 rows x 4 columns]\n"
     ]
    }
   ],
   "source": [
    "# this code snippet is used for testing purposes\n",
    "OGI_df = pd.read_csv(OGI_df_fp)\n",
    "\n",
    "id_to_match = train_speaker_set['speaker_id'].values[2]\n",
    "matching_row = OGI_df[OGI_df['speaker_id']==id_to_match]\n",
    "print(matching_row)"
   ]
  },
  {
   "cell_type": "code",
   "execution_count": 8,
   "id": "d84a8d57-3110-4687-8256-e1a18efc18fc",
   "metadata": {},
   "outputs": [],
   "source": [
    "OGI_df = pd.read_csv(OGI_df_fp)"
   ]
  },
  {
   "cell_type": "code",
   "execution_count": 17,
   "id": "74d65747-ac54-46b8-9766-89d8a88d240b",
   "metadata": {},
   "outputs": [
    {
     "name": "stdout",
     "output_type": "stream",
     "text": [
      "\n",
      "------> Obtaining training dataframe... ------\n",
      "\n",
      "Number of speech files: 50187\n",
      "Total hours: 48.47577176870748\n",
      "Successfully saved training dataframe to csv file at:  /srv/scratch/z5313567/thesis/OGI_local/OGI_scripted_train_dataframe.csv\n"
     ]
    }
   ],
   "source": [
    "print(\"\\n------> Obtaining training dataframe... ------\\n\")\n",
    "\n",
    "# Extra filepath, duration, speaker_id and transcription corresponsing training dataset from the original OGI dataframe\n",
    "train_dp = pd.DataFrame(\n",
    "        {'filepath': [],\n",
    "         'duration': [],\n",
    "         'speaker_id': [],\n",
    "         'transcription': []\n",
    "         })\n",
    "for i in range(len(train_speaker_set)):\n",
    "    id_to_match = train_speaker_set['speaker_id'].values[i]\n",
    "    matching_speakers = OGI_df[OGI_df['speaker_id']==id_to_match]\n",
    "    train_dp = pd.concat([train_dp, matching_speakers], ignore_index=True)  # Concatenate training dataframe with matching speakers, setting ignore_index=True to reindex the training dataframe\n",
    "    train_dp.to_csv(OGI_train_df_fp, index=False)\n",
    "\n",
    "print(\"Number of speech files:\", len(train_dp))\n",
    "print(\"Total hours:\", train_dp['duration'].sum()/(60*60))\n",
    "print('Successfully saved training dataframe to csv file at: ', OGI_train_df_fp)"
   ]
  },
  {
   "cell_type": "code",
   "execution_count": 15,
   "id": "706d6005-b1d9-4457-a019-98d073e6a8eb",
   "metadata": {},
   "outputs": [
    {
     "name": "stdout",
     "output_type": "stream",
     "text": [
      "\n",
      "------> Obtaining development dataframe... ------\n",
      "\n",
      "Number of speech files: 10965\n",
      "Total hours: 10.60130604686319\n",
      "Successfully saved development dataframe to csv file at:  /srv/scratch/z5313567/thesis/OGI_local/OGI_scripted_dev_dataframe.csv\n"
     ]
    }
   ],
   "source": [
    "print(\"\\n------> Obtaining development dataframe... ------\\n\")\n",
    "\n",
    "# Extra filepath, duration, speaker_id and transcription corresponsing development dataset from the original OGI dataframe\n",
    "dev_dp = pd.DataFrame(\n",
    "        {'filepath': [],\n",
    "         'duration': [],\n",
    "         'speaker_id': [],\n",
    "         'transcription': []\n",
    "         })\n",
    "for i in range(len(dev_speaker_set)):\n",
    "    id_to_match = dev_speaker_set['speaker_id'].values[i]\n",
    "    matching_speakers = OGI_df[OGI_df['speaker_id']==id_to_match]\n",
    "    dev_dp = pd.concat([dev_dp, matching_speakers], ignore_index=True)  # Concatenate training dataframe with matching speakers, setting ignore_index=True to reindex the training dataframe\n",
    "    dev_dp.to_csv(OGI_dev_df_fp, index=False)\n",
    "    \n",
    "print(\"Number of speech files:\", len(dev_dp))\n",
    "print(\"Total hours:\", dev_dp['duration'].sum()/(60*60))\n",
    "print('Successfully saved development dataframe to csv file at: ', OGI_dev_df_fp)"
   ]
  },
  {
   "cell_type": "code",
   "execution_count": 16,
   "id": "35c01de6-db62-4136-bbf1-2fe4751da727",
   "metadata": {},
   "outputs": [
    {
     "name": "stdout",
     "output_type": "stream",
     "text": [
      "\n",
      "------> Obtaining testing dataframe... ------\n",
      "\n",
      "Number of speech files: 10847\n",
      "Total hours: 10.706544583018392\n",
      "Successfully saved testing dataset to csv file at:  /srv/scratch/z5313567/thesis/OGI_local/OGI_scripted_test_dataframe.csv\n"
     ]
    }
   ],
   "source": [
    "print(\"\\n------> Obtaining testing dataframe... ------\\n\")\n",
    "\n",
    "# Extra filepath, duration, speaker_id and transcription corresponsing testing dataset from the original OGI dataframe\n",
    "test_dp = pd.DataFrame(\n",
    "        {'filepath': [],\n",
    "         'duration': [],\n",
    "         'speaker_id': [],\n",
    "         'transcription': []\n",
    "         })\n",
    "for i in range(len(test_speaker_set)):\n",
    "    id_to_match = test_speaker_set['speaker_id'].values[i]\n",
    "    matching_speakers = OGI_df[OGI_df['speaker_id']==id_to_match]\n",
    "    test_dp = pd.concat([test_dp, matching_speakers], ignore_index=True)  # Concatenate training dataframe with matching speakers, setting ignore_index=True to reindex the training dataframe\n",
    "    test_dp.to_csv(OGI_test_df_fp, index=False)\n",
    "    \n",
    "print(\"Number of speech files:\", len(test_dp))\n",
    "print(\"Total hours:\", test_dp['duration'].sum()/(60*60))\n",
    "print('Successfully saved testing dataset to csv file at: ', OGI_test_df_fp)"
   ]
  },
  {
   "cell_type": "code",
   "execution_count": null,
   "id": "79e09ff8-b307-4dc8-a0d6-60510cc5de35",
   "metadata": {},
   "outputs": [],
   "source": []
  }
 ],
 "metadata": {
  "kernelspec": {
   "display_name": "Python 3.10.8 (ipykernel)",
   "language": "python",
   "name": "python-3.10.8"
  },
  "language_info": {
   "codemirror_mode": {
    "name": "ipython",
    "version": 3
   },
   "file_extension": ".py",
   "mimetype": "text/x-python",
   "name": "python",
   "nbconvert_exporter": "python",
   "pygments_lexer": "ipython3",
   "version": "3.10.8"
  }
 },
 "nbformat": 4,
 "nbformat_minor": 5
}

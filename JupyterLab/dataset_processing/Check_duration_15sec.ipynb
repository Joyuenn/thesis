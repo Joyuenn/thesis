{
 "cells": [
  {
   "cell_type": "code",
   "execution_count": 7,
   "id": "92fe675e-ba1a-46a9-ab88-cb35d0a1cc13",
   "metadata": {},
   "outputs": [],
   "source": [
    "import pandas as pd\n",
    "import librosa"
   ]
  },
  {
   "cell_type": "code",
   "execution_count": 5,
   "id": "e62bfe64-6037-4a1f-bf30-ca584179f674",
   "metadata": {},
   "outputs": [],
   "source": [
    "#fp = '/srv/scratch/chacmod/renee_thesis/s5/myST-OGI_local/THESIS_C/myST-OGI_data_dev_light.csv'\n",
    "myST_OGI_TLT17_data_finetune_light = '/srv/scratch/chacmod/renee_thesis/s5/myST-OGI-TLT17_local/THESIS_C/myST-OGI-TLT17_data_finetune_light.csv'\n",
    "myST_data_dev_light = '/srv/scratch/chacmod/renee_thesis/s5/myST_local/THESIS_C/myST_data_dev_light.csv'\n",
    "myST_OGI_data_finetune_light = '/srv/scratch/chacmod/renee_thesis/s5/myST-OGI_local/THESIS_C/myST-OGI_data_finetune_light.csv'\n",
    "myST_OGI_data_dev_light = '/srv/scratch/chacmod/renee_thesis/s5/myST-OGI_local/THESIS_C/myST-OGI_data_dev_light.csv'\n",
    "fps = [myST_OGI_TLT17_data_finetune_light, myST_data_dev_light, myST_OGI_data_finetune_light, myST_OGI_data_dev_light]\n",
    "filtered_fp = '/srv/scratch/z5313567/thesis/OGI_local/Renee_datasets/myST-OGI_data_dev_light.csv'"
   ]
  },
  {
   "cell_type": "code",
   "execution_count": 3,
   "id": "c6bf61c4-b01d-4e2b-9930-7b421aa6c46b",
   "metadata": {},
   "outputs": [],
   "source": [
    "def process_dataset(csv_filepath, filtered_fp):\n",
    "    df = pd.read_csv(csv_filepath)\n",
    "    print(f'The number of speeches in total is {len(df)}')\n",
    "    df['duration'] = df['filepath'].apply(get_duration)\n",
    "    num_exceed_15secs = len(df[df['duration']>15])\n",
    "    print(f'The number of speeches in {csv_filepath} that exceed 15 seconds are {num_exceed_15secs}')\n",
    "    '''    \n",
    "    print('\\n')\n",
    "    print('Removing speeches that are longer than 15 seconds...... \\n')\n",
    "    df = df[df['duration']<=15]\n",
    "    df = df.drop('duration', axis=1)\n",
    "\n",
    "    df.to_csv(filtered_filepath, index=False)\n",
    "    print(f'Filtered csv file is stored in {filtered_fp}')\n",
    "    print(f'The number of speeches in filtered csv file is {len(df)}')\n",
    "    '''"
   ]
  },
  {
   "cell_type": "code",
   "execution_count": 4,
   "id": "7dc0be6c-b4fc-4194-97ea-f8f7574c6bd8",
   "metadata": {},
   "outputs": [],
   "source": [
    "def get_duration(filepath):\n",
    "    audio, _ = librosa.load(filepath)\n",
    "    duration = librosa.get_duration(y=audio)\n",
    "    return duration"
   ]
  },
  {
   "cell_type": "code",
   "execution_count": 9,
   "id": "6793094b-eaee-467d-9823-697c82fa0d20",
   "metadata": {},
   "outputs": [
    {
     "name": "stdout",
     "output_type": "stream",
     "text": [
      "The number of speeches in total is 130620\n",
      "The number of speeches in /srv/scratch/chacmod/renee_thesis/s5/myST-OGI-TLT17_local/THESIS_C/myST-OGI-TLT17_data_finetune_light.csv that exceed 15 seconds are 185\n",
      "\n",
      "\n",
      "The number of speeches in total is 3452\n",
      "The number of speeches in /srv/scratch/chacmod/renee_thesis/s5/myST_local/THESIS_C/myST_data_dev_light.csv that exceed 15 seconds are 482\n",
      "\n",
      "\n",
      "The number of speeches in total is 128484\n",
      "The number of speeches in /srv/scratch/chacmod/renee_thesis/s5/myST-OGI_local/THESIS_C/myST-OGI_data_finetune_light.csv that exceed 15 seconds are 0\n",
      "\n",
      "\n",
      "The number of speeches in total is 11360\n",
      "The number of speeches in /srv/scratch/chacmod/renee_thesis/s5/myST-OGI_local/THESIS_C/myST-OGI_data_dev_light.csv that exceed 15 seconds are 638\n",
      "\n",
      "\n"
     ]
    }
   ],
   "source": [
    "for fp in fps:\n",
    "    process_dataset(fp, filtered_fp)\n",
    "    print('\\n')"
   ]
  },
  {
   "cell_type": "code",
   "execution_count": null,
   "id": "be74a5d0-e401-430f-95d8-2a0f80fa09fc",
   "metadata": {},
   "outputs": [],
   "source": []
  }
 ],
 "metadata": {
  "kernelspec": {
   "display_name": "Python 3.10.8 (ipykernel)",
   "language": "python",
   "name": "python-3.10.8"
  },
  "language_info": {
   "codemirror_mode": {
    "name": "ipython",
    "version": 3
   },
   "file_extension": ".py",
   "mimetype": "text/x-python",
   "name": "python",
   "nbconvert_exporter": "python",
   "pygments_lexer": "ipython3",
   "version": "3.10.8"
  }
 },
 "nbformat": 4,
 "nbformat_minor": 5
}

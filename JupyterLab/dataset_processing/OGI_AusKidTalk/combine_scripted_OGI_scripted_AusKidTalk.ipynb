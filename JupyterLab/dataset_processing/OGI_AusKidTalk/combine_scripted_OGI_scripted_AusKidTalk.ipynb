{
 "cells": [
  {
   "cell_type": "code",
   "execution_count": 6,
   "id": "fb27aa1d-dd32-442f-ac24-a0af2e68ba36",
   "metadata": {},
   "outputs": [],
   "source": [
    "import pandas as pd"
   ]
  },
  {
   "cell_type": "code",
   "execution_count": 10,
   "id": "5b01e530-2018-4b35-8d18-27cf9cfc2156",
   "metadata": {},
   "outputs": [],
   "source": [
    "OGI_scripted_train_fp = '/srv/scratch/z5313567/thesis/OGI_local/new_full_datasets/full_OGI_scripted_train_dataframe.csv'\n",
    "OGI_scripted_dev_fp = '/srv/scratch/z5313567/thesis/OGI_local/new_full_datasets/full_OGI_scripted_dev_dataframe.csv'\n",
    "OGI_scripted_test_fp = '/srv/scratch/z5313567/thesis/OGI_local/new_full_datasets/full_OGI_scripted_test_dataframe.csv'\n",
    "\n",
    "AusKidTalk_scripted_train_fp = '/srv/scratch/z5313567/thesis/AusKidTalk_local/AusKidTalk_train_dataframe_shuffled.csv'\n",
    "AusKidTalk_scripted_dev_fp = '/srv/scratch/z5313567/thesis/AusKidTalk_local/AusKidTalk_dev_dataframe_shuffled.csv'\n",
    "AusKidTalk_scripted_test_fp = '/srv/scratch/z5313567/thesis/AusKidTalk_local/AusKidTalk_test_dataframe_shuffled.csv'\n",
    "\n",
    "scripted_OGI_scripted_AusKidTalk_train_fp = '/srv/scratch/z5313567/thesis/OGI_AusKidTalk_local/scripted_OGI_scripted_AusKidTalk_train_dataframe.csv'\n",
    "scripted_OGI_scripted_AusKidTalk_dev_fp = '/srv/scratch/z5313567/thesis/OGI_AusKidTalk_local/scripted_OGI_scripted_AusKidTalk_dev_dataframe.csv'\n",
    "scripted_OGI_scripted_AusKidTalk_test_fp = '/srv/scratch/z5313567/thesis/OGI_AusKidTalk_local/scripted_OGI_scripted_AusKidTalk_test_dataframe.csv'"
   ]
  },
  {
   "cell_type": "code",
   "execution_count": 15,
   "id": "ab86fe77-127b-44b5-b32c-d8e42a248d16",
   "metadata": {},
   "outputs": [
    {
     "name": "stdout",
     "output_type": "stream",
     "text": [
      "---------------Saving combined training dataframe to /srv/scratch/z5313567/thesis/OGI_AusKidTalk_local/scripted_OGI_scripted_AusKidTalk_train_dataframe.csv-------------------\n",
      "\n",
      "Total duration in combined training dataset is 50.08878482732982 hours\n",
      "The total number of speakers is 837\n",
      "The total number of speeches is 58280\n",
      "\n"
     ]
    }
   ],
   "source": [
    "OGI_scripted_train_df = pd.read_csv(OGI_scripted_train_fp)\n",
    "AusKidTalk_scripted_train_df = pd.read_csv(AusKidTalk_scripted_train_fp)\n",
    "\n",
    "combined_scripted_train_df = pd.concat([OGI_scripted_train_df, AusKidTalk_scripted_train_df], ignore_index=True)\n",
    "\n",
    "print(f'---------------Saving combined training dataframe to {scripted_OGI_scripted_AusKidTalk_train_fp}-------------------\\n')\n",
    "combined_scripted_train_df.to_csv(scripted_OGI_scripted_AusKidTalk_train_fp, index=False)\n",
    "\n",
    "duration = combined_scripted_train_df['duration'].sum()\n",
    "num_speakers = combined_scripted_train_df['speaker_id'].nunique()\n",
    "\n",
    "print(f'Total duration in combined training dataset is {duration/(60*60)} hours')\n",
    "print(f'The total number of speakers is {num_speakers}')\n",
    "print(f'The total number of speeches is {len(combined_scripted_train_df)}\\n')"
   ]
  },
  {
   "cell_type": "code",
   "execution_count": 14,
   "id": "6faedbf2-184e-4581-876e-779bb0835d9e",
   "metadata": {},
   "outputs": [
    {
     "name": "stdout",
     "output_type": "stream",
     "text": [
      "---------------Saving combined development dataframe to /srv/scratch/z5313567/thesis/OGI_AusKidTalk_local/scripted_OGI_scripted_AusKidTalk_dev_dataframe.csv-------------------\n",
      "\n",
      "Total duration in combined development dataset is 10.983213207190174 hours\n",
      "The total number of speakers is 180\n",
      "The total number of speeches is 12709\n",
      "\n"
     ]
    }
   ],
   "source": [
    "OGI_scripted_dev_df = pd.read_csv(OGI_scripted_dev_fp)\n",
    "AusKidTalk_scripted_dev_df = pd.read_csv(AusKidTalk_scripted_dev_fp)\n",
    "\n",
    "combined_scripted_dev_df = pd.concat([OGI_scripted_dev_df, AusKidTalk_scripted_dev_df], ignore_index=True)\n",
    "\n",
    "print(f'---------------Saving combined development dataframe to {scripted_OGI_scripted_AusKidTalk_dev_fp}-------------------\\n')\n",
    "combined_scripted_dev_df.to_csv(scripted_OGI_scripted_AusKidTalk_dev_fp, index=False)\n",
    "\n",
    "duration = combined_scripted_dev_df['duration'].sum()\n",
    "num_speakers = combined_scripted_dev_df['speaker_id'].nunique()\n",
    "\n",
    "print(f'Total duration in combined development dataset is {duration/(60*60)} hours')\n",
    "print(f'The total number of speakers is {num_speakers}')\n",
    "print(f'The total number of speeches is {len(combined_scripted_dev_df)}\\n')"
   ]
  },
  {
   "cell_type": "code",
   "execution_count": 16,
   "id": "e8b15014-cbf8-4ffe-b87b-108f43391fc2",
   "metadata": {},
   "outputs": [
    {
     "name": "stdout",
     "output_type": "stream",
     "text": [
      "---------------Saving combined testing dataframe to /srv/scratch/z5313567/thesis/OGI_AusKidTalk_local/scripted_OGI_scripted_AusKidTalk_test_dataframe.csv-------------------\n",
      "\n",
      "Total duration in combined testing dataset is 11.062592237150461 hours\n",
      "The total number of speakers is 180\n",
      "The total number of speeches is 12621\n",
      "\n"
     ]
    }
   ],
   "source": [
    "OGI_scripted_test_df = pd.read_csv(OGI_scripted_test_fp)\n",
    "AusKidTalk_scripted_test_df = pd.read_csv(AusKidTalk_scripted_test_fp)\n",
    "\n",
    "combined_scripted_test_df = pd.concat([OGI_scripted_test_df, AusKidTalk_scripted_test_df], ignore_index=True)\n",
    "\n",
    "print(f'---------------Saving combined testing dataframe to {scripted_OGI_scripted_AusKidTalk_test_fp}-------------------\\n')\n",
    "combined_scripted_test_df.to_csv(scripted_OGI_scripted_AusKidTalk_test_fp, index=False)\n",
    "\n",
    "duration = combined_scripted_test_df['duration'].sum()\n",
    "num_speakers = combined_scripted_test_df['speaker_id'].nunique()\n",
    "\n",
    "print(f'Total duration in combined testing dataset is {duration/(60*60)} hours')\n",
    "print(f'The total number of speakers is {num_speakers}')\n",
    "print(f'The total number of speeches is {len(combined_scripted_test_df)}\\n')"
   ]
  }
 ],
 "metadata": {
  "kernelspec": {
   "display_name": "Python 3.10.8 (ipykernel)",
   "language": "python",
   "name": "python-3.10.8"
  },
  "language_info": {
   "codemirror_mode": {
    "name": "ipython",
    "version": 3
   },
   "file_extension": ".py",
   "mimetype": "text/x-python",
   "name": "python",
   "nbconvert_exporter": "python",
   "pygments_lexer": "ipython3",
   "version": "3.10.8"
  }
 },
 "nbformat": 4,
 "nbformat_minor": 5
}

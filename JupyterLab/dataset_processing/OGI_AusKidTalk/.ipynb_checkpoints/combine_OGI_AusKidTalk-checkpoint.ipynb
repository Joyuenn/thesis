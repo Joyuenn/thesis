{
 "cells": [
  {
   "cell_type": "code",
   "execution_count": 1,
   "id": "a2283ba7-0845-4a44-8442-69f8695aa892",
   "metadata": {},
   "outputs": [],
   "source": [
    "import pandas as pd"
   ]
  },
  {
   "cell_type": "code",
   "execution_count": 2,
   "id": "fc6fb01f-44ba-4075-9cda-833509bd5301",
   "metadata": {},
   "outputs": [],
   "source": [
    "OGI_scripted_fp = '/srv/scratch/z5313567/thesis/OGI_local/OGI_scripted_dataframe.csv'\n",
    "OGI_spontaneous_fp = '/srv/scratch/z5313567/thesis/OGI_local/OGI_spontaneous_dataframe.csv'\n",
    "AusKidTalk_scripted_fp = '/srv/scratch/z5313567/thesis/AusKidTalk_local/AusKidTalk_dataframe.csv'\n",
    "AusKidTalk_spontaneous_fp = '/srv/scratch/z5313567/thesis/AusKidTalk_local/AusKidTalk_spontaneous_dataframe.csv'"
   ]
  },
  {
   "cell_type": "code",
   "execution_count": 3,
   "id": "1048cccf-2192-48c5-846c-1e457306f1a8",
   "metadata": {},
   "outputs": [],
   "source": [
    "OGI_scripted_df = pd.read_csv(OGI_scripted_fp)\n",
    "OGI_spontaneous_df = pd.read_csv(OGI_spontaneous_fp)\n",
    "AusKidTalk_scripted_df = pd.read_csv(AusKidTalk_scripted_fp)\n",
    "AusKidTalk_spontaneous_df = pd.read_csv(AusKidTalk_spontaneous_fp)"
   ]
  },
  {
   "cell_type": "code",
   "execution_count": null,
   "id": "aac48c7a-93b6-44c5-aba9-1845cde60881",
   "metadata": {},
   "outputs": [],
   "source": [
    "combined_df = pd.concat([OGI_scripted_df, OGI_spontaneous_df, AusKidTalk_scripted_df, AusKidTalk_spontaneous_df], ignore_index=True)"
   ]
  }
 ],
 "metadata": {
  "kernelspec": {
   "display_name": "Python 3.10.8 (ipykernel)",
   "language": "python",
   "name": "python-3.10.8"
  },
  "language_info": {
   "codemirror_mode": {
    "name": "ipython",
    "version": 3
   },
   "file_extension": ".py",
   "mimetype": "text/x-python",
   "name": "python",
   "nbconvert_exporter": "python",
   "pygments_lexer": "ipython3",
   "version": "3.10.8"
  }
 },
 "nbformat": 4,
 "nbformat_minor": 5
}

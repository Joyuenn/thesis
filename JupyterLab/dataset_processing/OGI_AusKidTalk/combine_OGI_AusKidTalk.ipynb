{
 "cells": [
  {
   "cell_type": "code",
   "execution_count": 3,
   "id": "a2283ba7-0845-4a44-8442-69f8695aa892",
   "metadata": {},
   "outputs": [],
   "source": [
    "import pandas as pd"
   ]
  },
  {
   "cell_type": "code",
   "execution_count": 4,
   "id": "fc6fb01f-44ba-4075-9cda-833509bd5301",
   "metadata": {},
   "outputs": [],
   "source": [
    "OGI_scripted_fp = '/srv/scratch/z5313567/thesis/OGI_local/OGI_scripted_dataframe.csv'\n",
    "OGI_spontaneous_fp = '/srv/scratch/z5313567/thesis/OGI_local/OGI_spontaneous_dataframe.csv'\n",
    "AusKidTalk_scripted_fp = '/srv/scratch/z5313567/thesis/AusKidTalk_local/AusKidTalk_dataframe.csv'\n",
    "AusKidTalk_spontaneous_fp = '/srv/scratch/z5313567/thesis/AusKidTalk_local/AusKidTalk_spontaneous_dataframe.csv'\n",
    "\n",
    "combined_fp = '/srv/scratch/z5313567/thesis/OGI_AusKidTalk_local/full_OGI_AusKidTalk_scripted_spontaneous.csv'"
   ]
  },
  {
   "cell_type": "code",
   "execution_count": 5,
   "id": "1048cccf-2192-48c5-846c-1e457306f1a8",
   "metadata": {},
   "outputs": [],
   "source": [
    "OGI_scripted_df = pd.read_csv(OGI_scripted_fp)\n",
    "OGI_spontaneous_df = pd.read_csv(OGI_spontaneous_fp)\n",
    "AusKidTalk_scripted_df = pd.read_csv(AusKidTalk_scripted_fp)\n",
    "AusKidTalk_spontaneous_df = pd.read_csv(AusKidTalk_spontaneous_fp)"
   ]
  },
  {
   "cell_type": "code",
   "execution_count": 6,
   "id": "aac48c7a-93b6-44c5-aba9-1845cde60881",
   "metadata": {},
   "outputs": [],
   "source": [
    "combined_df = pd.concat([OGI_scripted_df, OGI_spontaneous_df, AusKidTalk_scripted_df, AusKidTalk_spontaneous_df], ignore_index=True)"
   ]
  },
  {
   "cell_type": "code",
   "execution_count": 8,
   "id": "a2fc93e5-b2a1-42d9-954a-c34286af5804",
   "metadata": {},
   "outputs": [
    {
     "name": "stdout",
     "output_type": "stream",
     "text": [
      "---------------Saving combined training dataframe to /srv/scratch/z5313567/thesis/OGI_AusKidTalk_local/full_OGI_AusKidTalk_scripted_spontaneous.csv-------------------\n",
      "\n",
      "Total duration in combined dataset is 102.8360193541934 hours\n",
      "The total number of speakers is 1197\n",
      "The total number of speeches is 84822\n",
      "\n"
     ]
    }
   ],
   "source": [
    "print(f'---------------Saving combined training dataframe to {combined_fp}-------------------\\n')\n",
    "combined_df.to_csv(combined_fp, index=False)\n",
    "\n",
    "duration = combined_df['duration'].sum()\n",
    "num_speakers = combined_df['speaker_id'].nunique()\n",
    "\n",
    "print(f'Total duration in combined dataset is {duration/(60*60)} hours')\n",
    "print(f'The total number of speakers is {num_speakers}')\n",
    "print(f'The total number of speeches is {len(combined_df)}\\n')"
   ]
  },
  {
   "cell_type": "code",
   "execution_count": null,
   "id": "3d97b516-5389-48a3-a929-61e51868bb50",
   "metadata": {},
   "outputs": [],
   "source": []
  }
 ],
 "metadata": {
  "kernelspec": {
   "display_name": "Python 3.10.8 (ipykernel)",
   "language": "python",
   "name": "python-3.10.8"
  },
  "language_info": {
   "codemirror_mode": {
    "name": "ipython",
    "version": 3
   },
   "file_extension": ".py",
   "mimetype": "text/x-python",
   "name": "python",
   "nbconvert_exporter": "python",
   "pygments_lexer": "ipython3",
   "version": "3.10.8"
  }
 },
 "nbformat": 4,
 "nbformat_minor": 5
}

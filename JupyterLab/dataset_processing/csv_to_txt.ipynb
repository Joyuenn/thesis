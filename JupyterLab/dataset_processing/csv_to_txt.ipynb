{
 "cells": [
  {
   "cell_type": "code",
   "execution_count": 4,
   "id": "299b72e3-0cb0-4f3e-9b3f-f0e230057af9",
   "metadata": {},
   "outputs": [],
   "source": [
    "import pandas as pd"
   ]
  },
  {
   "cell_type": "code",
   "execution_count": 5,
   "id": "d9c465fe-221f-4f65-b703-7817468203af",
   "metadata": {},
   "outputs": [],
   "source": [
    "data_read_fp = '/srv/scratch/z5313567/thesis/AusKidTalk_local/AusKidTalk_spontaneous_dataframe.csv'"
   ]
  },
  {
   "cell_type": "code",
   "execution_count": 6,
   "id": "c3c12ea0-8562-4253-9a98-86db28a11c9c",
   "metadata": {},
   "outputs": [],
   "source": [
    "data_save_fp = '/srv/scratch/z5313567/thesis/AusKidTalk_local/spontaneous/AusKidTalk_spontaneous_transcription_new.txt'"
   ]
  },
  {
   "cell_type": "code",
   "execution_count": 7,
   "id": "bff2c324-15c4-4ec3-bd47-447eaa27b1ca",
   "metadata": {},
   "outputs": [],
   "source": [
    "df = pd.read_csv(data_fp)"
   ]
  },
  {
   "cell_type": "code",
   "execution_count": 9,
   "id": "03ce3342-0c8f-4671-9cf2-307d28479987",
   "metadata": {},
   "outputs": [],
   "source": [
    "df['transcription'].to_csv(data_save_fp, sep='\\t', index=False)"
   ]
  },
  {
   "cell_type": "code",
   "execution_count": null,
   "id": "81fc554b-772f-4a21-8e46-99040cee5ea0",
   "metadata": {},
   "outputs": [],
   "source": []
  }
 ],
 "metadata": {
  "kernelspec": {
   "display_name": "Python 3.10.8 (ipykernel)",
   "language": "python",
   "name": "python-3.10.8"
  },
  "language_info": {
   "codemirror_mode": {
    "name": "ipython",
    "version": 3
   },
   "file_extension": ".py",
   "mimetype": "text/x-python",
   "name": "python",
   "nbconvert_exporter": "python",
   "pygments_lexer": "ipython3",
   "version": "3.10.8"
  }
 },
 "nbformat": 4,
 "nbformat_minor": 5
}

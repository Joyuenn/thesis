{
 "cells": [
  {
   "cell_type": "code",
   "execution_count": 2,
   "id": "ad36ae4a-1c0f-4103-a495-8bc0f9137df3",
   "metadata": {},
   "outputs": [],
   "source": [
    "import pandas as pd"
   ]
  },
  {
   "cell_type": "code",
   "execution_count": 49,
   "id": "4dd896ca-eb08-41ca-9a94-ff64fd872419",
   "metadata": {},
   "outputs": [],
   "source": [
    "scripted_train_fp = '/srv/scratch/z5313567/thesis/AusKidTalk_local/AusKidTalk_train_dataframe.csv'\n",
    "scripted_dev_fp = '/srv/scratch/z5313567/thesis/AusKidTalk_local/AusKidTalk_dev_dataframe.csv'\n",
    "scripted_test_fp = '/srv/scratch/z5313567/thesis/AusKidTalk_local/AusKidTalk_test_dataframe.csv'\n",
    "spontaneous_fp = '/srv/scratch/z5313567/thesis/AusKidTalk_local/AusKidTalk_spontaneous_dataframe.csv'\n",
    "\n",
    "combined_train_fp = '/srv/scratch/z5313567/thesis/AusKidTalk_local/full_AusKidTalk_combined_scripted_spontaneous_train_dataframe.csv'\n",
    "combined_dev_fp = '/srv/scratch/z5313567/thesis/AusKidTalk_local/full_AusKidTalk_combined_scripted_spontaneous_dev_dataframe.csv'\n",
    "combined_test_fp = '/srv/scratch/z5313567/thesis/AusKidTalk_local/full_AusKidTalk_combined_scripted_spontaneous_test_dataframe.csv'"
   ]
  },
  {
   "cell_type": "code",
   "execution_count": 50,
   "id": "fafbc599-72f9-463a-a18d-2f7196158a5f",
   "metadata": {},
   "outputs": [],
   "source": [
    "scripted_df = pd.read_csv(scripted_train_fp)\n",
    "spontaneous_df = pd.read_csv(spontaneous_fp)"
   ]
  },
  {
   "cell_type": "code",
   "execution_count": 51,
   "id": "686980df-98af-433e-bde7-82a77394fef5",
   "metadata": {},
   "outputs": [],
   "source": [
    "scripted_speaker_ids = scripted_df[\"speaker_id\"].unique()"
   ]
  },
  {
   "cell_type": "code",
   "execution_count": 52,
   "id": "6a5c0565-0580-41c4-b372-f8ba3402fccd",
   "metadata": {},
   "outputs": [],
   "source": [
    "filtered_spontaneous_df = spontaneous_df[spontaneous_df['speaker_id'].isin(scripted_speaker_ids)]"
   ]
  },
  {
   "cell_type": "code",
   "execution_count": 53,
   "id": "afb4d679-ddeb-4ce4-a889-2dda369c3807",
   "metadata": {},
   "outputs": [],
   "source": [
    "combined_df = pd.concat([scripted_df, filtered_spontaneous_df], ignore_index=True)"
   ]
  },
  {
   "cell_type": "code",
   "execution_count": 54,
   "id": "718aefe2-8f8c-46f0-b48a-f2e8b56f1cf2",
   "metadata": {},
   "outputs": [],
   "source": [
    "def combine_scripted_spontaneous(scripted_fp, spontaneous_fp, combined_fp):\n",
    "    scripted_df = pd.read_csv(scripted_fp)\n",
    "    spontaneous_df = pd.read_csv(spontaneous_fp)\n",
    "    scripted_speaker_ids = scripted_df['speaker_id'].unique()\n",
    "    spontaneous_same_spkr_id_df = spontaneous_df[spontaneous_df['speaker_id'].isin(scripted_speaker_ids)]\n",
    "    combined_df = pd.concat([scripted_df, spontaneous_same_spkr_id_df], ignore_index=True)\n",
    "    print('------------------------------Saved Successfully-----------------------------\\n')\n",
    "    combined_df.to_csv(combined_fp, index=False)\n",
    "    \n",
    "    num_speakers = combined_df['speaker_id'].nunique()\n",
    "    total_duration = combined_df['duration'].sum()/(60*60) # in hours\n",
    "    \n",
    "    print(f'For the combined dataframe: {combined_fp}\\n')\n",
    "    print(f'The total number of speakers is {num_speakers}\\n')\n",
    "    print(f'The total duration of audio files is {total_duration} hours.\\n')\n",
    "    print(f'The number of scripted speeches is {len(scripted_df)}\\n')\n",
    "    print(f'The number of spontaneous speeches is {len(spontaneous_same_spkr_id_df)}\\n')"
   ]
  },
  {
   "cell_type": "code",
   "execution_count": 55,
   "id": "0d8194db-b645-441e-928e-024f832ec396",
   "metadata": {},
   "outputs": [
    {
     "name": "stdout",
     "output_type": "stream",
     "text": [
      "------------------------------Processing training dataset-----------------------------\n",
      "\n",
      "------------------------------Saved Successfully-----------------------------\n",
      "\n",
      "For the combined dataframe: /srv/scratch/z5313567/thesis/OGI_local/new_full_combined_scripted_spontaneous/full_OGI_combined_scripted_spontaneous_train_dataframe.csv\n",
      "\n",
      "The total number of speakers is 782\n",
      "\n",
      "The total duration of audio files is 69.86795187704712 hours.\n",
      "\n",
      "The number of scripted speeches is 50187\n",
      "\n",
      "The number of spontaneous speeches is 767\n",
      "\n"
     ]
    }
   ],
   "source": [
    "print('------------------------------Processing training dataset-----------------------------\\n')\n",
    "combine_scripted_spontaneous(scripted_train_fp, spontaneous_fp, combined_train_fp)"
   ]
  },
  {
   "cell_type": "code",
   "execution_count": 56,
   "id": "d01c066b-b124-459b-a938-c2bb7526d04e",
   "metadata": {},
   "outputs": [
    {
     "name": "stdout",
     "output_type": "stream",
     "text": [
      "------------------------------Processing development dataset-----------------------------\n",
      "\n",
      "------------------------------Saved Successfully-----------------------------\n",
      "\n",
      "For the combined dataframe: /srv/scratch/z5313567/thesis/OGI_local/new_full_combined_scripted_spontaneous/full_OGI_combined_scripted_spontaneous_dev_dataframe.csv\n",
      "\n",
      "The total number of speakers is 168\n",
      "\n",
      "The total duration of audio files is 15.218279768203576 hours.\n",
      "\n",
      "The number of scripted speeches is 10965\n",
      "\n",
      "The number of spontaneous speeches is 167\n",
      "\n"
     ]
    }
   ],
   "source": [
    "print('------------------------------Processing development dataset-----------------------------\\n')\n",
    "combine_scripted_spontaneous(scripted_dev_fp, spontaneous_fp, combined_dev_fp)"
   ]
  },
  {
   "cell_type": "code",
   "execution_count": 57,
   "id": "0d5e1384-5b95-4068-b7c7-cf2d33c84183",
   "metadata": {},
   "outputs": [
    {
     "name": "stdout",
     "output_type": "stream",
     "text": [
      "------------------------------Processing testing dataset-----------------------------\n",
      "\n",
      "------------------------------Saved Successfully-----------------------------\n",
      "\n",
      "For the combined dataframe: /srv/scratch/z5313567/thesis/OGI_local/new_full_combined_scripted_spontaneous/full_OGI_combined_scripted_spontaneous_test_dataframe.csv\n",
      "\n",
      "The total number of speakers is 168\n",
      "\n",
      "The total duration of audio files is 15.296677059712776 hours.\n",
      "\n",
      "The number of scripted speeches is 10847\n",
      "\n",
      "The number of spontaneous speeches is 167\n",
      "\n"
     ]
    }
   ],
   "source": [
    "print('------------------------------Processing testing dataset-----------------------------\\n')\n",
    "combine_scripted_spontaneous(scripted_test_fp, spontaneous_fp, combined_test_fp)"
   ]
  },
  {
   "cell_type": "code",
   "execution_count": 58,
   "id": "fe371fae-ab77-4c9f-893f-e0f9e6acd549",
   "metadata": {},
   "outputs": [
    {
     "name": "stdout",
     "output_type": "stream",
     "text": [
      "The proportion of training set is 0.6960144189724249\n",
      "\n",
      "The proportion of development set is 0.15160229928116342\n",
      "\n",
      "The proportion of testing set is 0.15238328174641175\n",
      "\n"
     ]
    }
   ],
   "source": [
    "print(f'The proportion of training set is {69.86795187704712/(69.86795187704712+15.218279768203576+15.296677059712776 )}\\n')\n",
    "print(f'The proportion of development set is {15.218279768203576 /(69.86795187704712+15.218279768203576+15.296677059712776 )}\\n')\n",
    "print(f'The proportion of testing set is {15.296677059712776/(69.86795187704712+15.218279768203576+15.296677059712776 )}\\n')\n"
   ]
  },
  {
   "cell_type": "code",
   "execution_count": null,
   "id": "9e887dd6-4f10-475d-a83f-e4a559a6597c",
   "metadata": {},
   "outputs": [],
   "source": []
  }
 ],
 "metadata": {
  "kernelspec": {
   "display_name": "Python 3.10.8 (ipykernel)",
   "language": "python",
   "name": "python-3.10.8"
  },
  "language_info": {
   "codemirror_mode": {
    "name": "ipython",
    "version": 3
   },
   "file_extension": ".py",
   "mimetype": "text/x-python",
   "name": "python",
   "nbconvert_exporter": "python",
   "pygments_lexer": "ipython3",
   "version": "3.10.8"
  }
 },
 "nbformat": 4,
 "nbformat_minor": 5
}

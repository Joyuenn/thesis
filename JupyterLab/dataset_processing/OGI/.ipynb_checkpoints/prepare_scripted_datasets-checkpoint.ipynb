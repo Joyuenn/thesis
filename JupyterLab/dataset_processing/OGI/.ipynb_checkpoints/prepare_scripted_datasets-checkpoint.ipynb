{
 "cells": [
  {
   "cell_type": "code",
   "execution_count": 10,
   "id": "dc101584-4f7e-4a48-be69-2bf53dfeb705",
   "metadata": {},
   "outputs": [],
   "source": [
    "# Purpose: prepare datasets for OGI scripted datasets"
   ]
  },
  {
   "cell_type": "code",
   "execution_count": 7,
   "id": "7826dd70-08d3-4e41-8329-190416dcb968",
   "metadata": {},
   "outputs": [
    {
     "name": "stdout",
     "output_type": "stream",
     "text": [
      "\n",
      "------> Importing libraries... ------\n",
      "\n"
     ]
    }
   ],
   "source": [
    "print(\"\\n------> Importing libraries... ------\\n\")\n",
    "import os\n",
    "import csv\n",
    "import re\n",
    "import librosa\n",
    "import pandas as pd"
   ]
  },
  {
   "cell_type": "code",
   "execution_count": 8,
   "id": "283a62ab-fe32-4368-9e1a-cb6e3f91859a",
   "metadata": {},
   "outputs": [
    {
     "name": "stdout",
     "output_type": "stream",
     "text": [
      "\n",
      "------> Loading files... ------\n",
      "\n",
      "Mapping file is stored at: /srv/scratch/z5313567/thesis/OGI_local/all.csv\n",
      "Speech files are stored at: /srv/scratch/chacmod/OGI/speech/scripted\n",
      "OGI scripted dataframe is stored at: /srv/scratch/z5313567/thesis/OGI_local/OGI_scripted_dataframe.csv\n"
     ]
    }
   ],
   "source": [
    "print(\"\\n------> Loading files... ------\\n\")\n",
    "map_fp = \"/srv/scratch/z5313567/thesis/OGI_local/all.csv\" \n",
    "print(f'Mapping file is stored at: {map_fp}')\n",
    "\n",
    "dataset_speech_fp = \"/srv/scratch/chacmod/OGI/speech/scripted\"\n",
    "scripted_trans_fp = \"/srv/scratch/z5313567/thesis/OGI_local/OGI_scripted_dataframe.csv\" \n",
    "print(f'Speech files are stored at: {dataset_speech_fp}')\n",
    "print(f'OGI scripted dataframe is stored at: {scripted_trans_fp}')"
   ]
  },
  {
   "cell_type": "code",
   "execution_count": 9,
   "id": "11e2c0a0-446c-4354-9e89-ac9dcc486b88",
   "metadata": {},
   "outputs": [
    {
     "name": "stdout",
     "output_type": "stream",
     "text": [
      "\n",
      "------> Obtaining .wav filepath + 2-digit speech ID... ------\n",
      "\n",
      "\n",
      "------> Also obtaining durations and speaker ID... ------\n",
      "\n",
      "The numbre of 2-digit speech IDs is 71999, and the number of speech_filepath is 71999\n"
     ]
    }
   ],
   "source": [
    "print(\"\\n------> Obtaining .wav filepath + 2-digit speech ID... ------\\n\")\n",
    "print(\"\\n------> Also obtaining durations and speaker ID... ------\\n\")\n",
    "speech_filepath = []\n",
    "key_speech_ids = []\n",
    "durations = []\n",
    "speaker_ids = []\n",
    "for i, (dirpath, dirnames, filenames) in enumerate(os.walk(dataset_speech_fp)):\n",
    "    if dirpath is not dataset_speech_fp:\n",
    "        #print(dirpath, \"     \", dirnames, \"    \",  filenames)    \n",
    "        # check if 'filenames' is empty and with 'wav' extension\n",
    "        if filenames and (filename.endswith(\".wav\") for filename in filenames): \n",
    "            for file_name in filenames:               \n",
    "                # obtain each .wav filepath\n",
    "                speech_fp = os.path.join(dirpath, file_name)\n",
    "                speech_filepath.append(speech_fp)\n",
    "                \n",
    "                # obtain speech id\n",
    "                # for example, /srv/scratch/chacmod/OGI/speech/scripted/00/0/ks001/ks001000.wav, ks001000 is extracted\n",
    "                # the 6th and 7th digits of ks001000, 00, map to the transcription 'advantage'\n",
    "                speech_id = file_name.replace('.wav', '')\n",
    "                key_speech_id = speech_id[5:7]\n",
    "                key_speech_ids.append(key_speech_id.upper())\n",
    "                \n",
    "                # obtain the signal, sampling rate, and hence the duration of each .wav file\n",
    "                signal, sample_rate = librosa.load(speech_fp)\n",
    "                dur = len(signal)/sample_rate\n",
    "                durations.append(dur)\n",
    "                \n",
    "                # obtain speaker id\n",
    "                # for example, /srv/scratch/chacmod/OGI/speech/scripted/00/0/ks001/ks001000.wav, ks001 is extracted\n",
    "                directories = speech_fp.split('/')\n",
    "                speaker_id = directories[-2]\n",
    "                speaker_ids.append(speaker_id)\n",
    "                \n",
    "print(f'The numbre of 2-digit speech IDs is {len(key_speech_ids)}, and the number of speech_filepath is {len(speech_filepath)}')"
   ]
  },
  {
   "cell_type": "code",
   "execution_count": 5,
   "id": "6b9224ef-164b-4a1b-aa92-173ff6f10a63",
   "metadata": {},
   "outputs": [],
   "source": [
    "#id_fp = {'filepath': speech_filepath, '2-digit speech ID': key_speech_ids, 'duration': }\n",
    "#id_fp_dp = pd.DataFrame(id_fp)\n",
    "id_fp_dp = pd.DataFrame(\n",
    "        {'filepath': speech_filepath,\n",
    "         '2-digit speech ID': key_speech_ids,\n",
    "         'duration': durations,\n",
    "         'speaker_id': speaker_ids\n",
    "         })"
   ]
  },
  {
   "cell_type": "code",
   "execution_count": 7,
   "id": "e99c5aa5-c5da-4474-aaa6-60b35909d8da",
   "metadata": {},
   "outputs": [
    {
     "name": "stdout",
     "output_type": "stream",
     "text": [
      "\n",
      "------> Creating 2-digit transcription ID + transcription dataframe... ------\n",
      "\n",
      "The number of 2-digit transcription IDs is 321 and the number of transcriptions is 321\n"
     ]
    }
   ],
   "source": [
    "print(\"\\n------> Creating 2-digit transcription ID + transcription dataframe... ------\\n\")\n",
    "trans = []\n",
    "trans_ids = []\n",
    "pattern = r'\\\"([^]\"+)\\\"'\n",
    "i = 0\n",
    "with open(map_fp, 'r') as map_file:\n",
    "    reader = csv.reader(map_file)\n",
    "    # each line is in the format: ['00 \"advantage\"']\n",
    "    for line in reader:\n",
    "        # check if the line is empty\n",
    "        if len(line) != 0:\n",
    "            # after split: line[0].split('\"') = ['00 ', 'advantage', '']\n",
    "            trans_id = line[0].split('\"')[0]\n",
    "            # remove the trailing space\n",
    "            trans_id = trans_id.replace(' ', '')\n",
    "            trans_ids.append(trans_id)\n",
    "            \n",
    "            keywords = line[0].split('\"')[1]\n",
    "            # remove unnecessary symbols\n",
    "            chars_to_ignore = '[\\,\\?\\.\\!\\-\\;\\:\\\"]'\n",
    "            keywords = re.sub(chars_to_ignore, '', keywords).lower()\n",
    "            trans.append(keywords)\n",
    "print(f'The number of 2-digit transcription IDs is {len(trans_ids)} and the number of transcriptions is {len(trans)}')"
   ]
  },
  {
   "cell_type": "code",
   "execution_count": 8,
   "id": "d42f2f1c-5d63-4287-b4da-914290134993",
   "metadata": {},
   "outputs": [],
   "source": [
    "#id_trans = {'2-digit transcription ID': trans_ids, 'transcription': trans}\n",
    "#id_trans_df = pd.DataFrame(id_trans)\n",
    "id_trans_df = pd.DataFrame(\n",
    "        {'2-digit transcription ID': trans_ids,\n",
    "         'transcription': trans\n",
    "         })\n",
    "#print(id_trans_df)"
   ]
  },
  {
   "cell_type": "code",
   "execution_count": 9,
   "id": "7ed76ee7-bc56-4e94-ad1f-a4950e941baa",
   "metadata": {},
   "outputs": [
    {
     "data": {
      "text/plain": [
       "\"\\n# can delete\\nid_to_match = id_fp_dp['2-digit speech ID'].values[1]\\nmatching_row = id_trans_df[id_trans_df['2-digit transcription ID']==id_to_match]\\nmatching_trans = matching_row['transcription'].values[0]\\nprint(type(matching_trans))\\n#matching_trans = id_trans_df\\n\""
      ]
     },
     "execution_count": 9,
     "metadata": {},
     "output_type": "execute_result"
    }
   ],
   "source": [
    "'''\n",
    "# can delete\n",
    "id_to_match = id_fp_dp['2-digit speech ID'].values[1]\n",
    "matching_row = id_trans_df[id_trans_df['2-digit transcription ID']==id_to_match]\n",
    "matching_trans = matching_row['transcription'].values[0]\n",
    "print(type(matching_trans))\n",
    "#matching_trans = id_trans_df\n",
    "'''"
   ]
  },
  {
   "cell_type": "code",
   "execution_count": 10,
   "id": "d537aa07-fa74-4833-aa2c-b21cfadff1f4",
   "metadata": {},
   "outputs": [
    {
     "name": "stdout",
     "output_type": "stream",
     "text": [
      "\n",
      "------> Matching 2-digit ID... ------\n",
      "\n"
     ]
    }
   ],
   "source": [
    "print(\"\\n------> Matching 2-digit ID... ------\\n\")\n",
    "extract_trans = []\n",
    "for i in range(len(id_fp_dp)):\n",
    "    id_to_match = id_fp_dp['2-digit speech ID'].values[i]\n",
    "    matching_row = id_trans_df[id_trans_df['2-digit transcription ID']==id_to_match]\n",
    "    matching_trans = matching_row['transcription'].values[0]\n",
    "    extract_trans.append(matching_trans)"
   ]
  },
  {
   "cell_type": "code",
   "execution_count": 11,
   "id": "be3e50fc-85bd-474e-a3aa-17719612d76b",
   "metadata": {},
   "outputs": [],
   "source": [
    "id_fp_dp['transcription'] = extract_trans"
   ]
  },
  {
   "cell_type": "code",
   "execution_count": 12,
   "id": "516dc296-eb91-4a96-bfbd-f9955cac9095",
   "metadata": {},
   "outputs": [],
   "source": [
    "#id_fp_dp['2-digit speech ID'] = id_fp_dp['2-digit speech ID'].astype(str)"
   ]
  },
  {
   "cell_type": "code",
   "execution_count": 12,
   "id": "785cd63e-69f0-45d9-ad56-d1ad5356caee",
   "metadata": {},
   "outputs": [],
   "source": [
    "id_fp_dp.drop(columns='2-digit speech ID', inplace=True)"
   ]
  },
  {
   "cell_type": "code",
   "execution_count": 13,
   "id": "6f478c81-a25f-4044-80b5-3ce77605491f",
   "metadata": {},
   "outputs": [
    {
     "name": "stdout",
     "output_type": "stream",
     "text": [
      "\n",
      "------> Saving dataframe to csv file... ------\n",
      "\n",
      "Successfully saved dataframe to csv file at:  /srv/scratch/z5313567/thesis/OGI_local/OGI_scripted_dataframe.csv\n",
      "Total number of speakers: 71999\n",
      "Total hours: 69.78362239858907\n"
     ]
    }
   ],
   "source": [
    "#| filepath | 2-digit speech ID | transcription |\n",
    "print(\"\\n------> Saving dataframe to csv file... ------\\n\")\n",
    "id_fp_dp.to_csv(scripted_trans_fp, index=False)\n",
    "print('Successfully saved dataframe to csv file at: ', scripted_trans_fp)\n",
    "print(\"Total number of speakers:\", len(id_fp_dp))\n",
    "print(\"Total hours:\", id_fp_dp['duration'].sum()/(60*60))"
   ]
  },
  {
   "cell_type": "code",
   "execution_count": null,
   "id": "1981e2e4-f2dc-41a6-b309-183132f03f41",
   "metadata": {},
   "outputs": [
    {
     "data": {
      "text/plain": [
       "\"\\n# obtain speech id\\n# for example, /srv/scratch/chacmod/OGI/speech/scripted/00/0/ks001/ks001000.wav, ks001000 is extracted\\n# the 6th and 7th digits of ks001000, 00, map to the transcription 'advantage'\\nfor filepath in speech_filepath:\\n    directories = filepath.split('/')\\n    speech_id = directories[-1]\\n    speech_id = speech_id.replace('.wav', '')\\n    key_speech_id = speech_id \\n\""
      ]
     },
     "execution_count": 95,
     "metadata": {},
     "output_type": "execute_result"
    }
   ],
   "source": [
    "'''\n",
    "# can delete\n",
    "\n",
    "\n",
    "# obtain speech id\n",
    "# for example, /srv/scratch/chacmod/OGI/speech/scripted/00/0/ks001/ks001000.wav, ks001000 is extracted\n",
    "# the 6th and 7th digits of ks001000, 00, map to the transcription 'advantage'\n",
    "for filepath in speech_filepath:\n",
    "    directories = filepath.split('/')\n",
    "    speech_id = directories[-1]\n",
    "    speech_id = speech_id.replace('.wav', '')\n",
    "    key_speech_id = speech_id \n",
    "'''"
   ]
  }
 ],
 "metadata": {
  "kernelspec": {
   "display_name": "Python 3.10.8 (ipykernel)",
   "language": "python",
   "name": "python-3.10.8"
  },
  "language_info": {
   "codemirror_mode": {
    "name": "ipython",
    "version": 3
   },
   "file_extension": ".py",
   "mimetype": "text/x-python",
   "name": "python",
   "nbconvert_exporter": "python",
   "pygments_lexer": "ipython3",
   "version": "3.10.8"
  }
 },
 "nbformat": 4,
 "nbformat_minor": 5
}

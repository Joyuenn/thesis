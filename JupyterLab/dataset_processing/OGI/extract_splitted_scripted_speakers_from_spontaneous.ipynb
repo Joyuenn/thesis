{
 "cells": [
  {
   "cell_type": "code",
   "execution_count": 2,
   "id": "7059d08d-0e52-4a9a-83ab-d3c07b89b7e5",
   "metadata": {},
   "outputs": [],
   "source": [
    "import pandas as pd"
   ]
  },
  {
   "cell_type": "code",
   "execution_count": 3,
   "id": "7b875b14-d055-412d-ae7f-c43d3648c947",
   "metadata": {},
   "outputs": [],
   "source": [
    "scripted_train_fp = '/srv/scratch/z5313567/thesis/AusKidTalk_local/AusKidTalk_train_dataframe.csv'\n",
    "scripted_dev_fp = '/srv/scratch/z5313567/thesis/AusKidTalk_local/AusKidTalk_dev_dataframe.csv'\n",
    "scripted_test_fp = '/srv/scratch/z5313567/thesis/AusKidTalk_local/AusKidTalk_test_dataframe.csv'\n",
    "\n",
    "spontaneous_fp = '/srv/scratch/z5313567/thesis/AusKidTalk_local/AusKidTalk_spontaneous_dataframe.csv'\n",
    "spontaneous_train_fp = '/srv/scratch/z5313567/thesis/AusKidTalk_local/spontaneous/AusKidTalk_spontaneous_train_dataframe.csv'\n",
    "spontaneous_dev_fp = '/srv/scratch/z5313567/thesis/AusKidTalk_local/spontaneous/AusKidTalk_spontaneous_dev_dataframe.csv'\n",
    "spontaneous_test_fp = '/srv/scratch/z5313567/thesis/AusKidTalk_local/spontaneous/AusKidTalk_spontaneous_test_dataframe.csv'"
   ]
  },
  {
   "cell_type": "code",
   "execution_count": 4,
   "id": "7493b3f4-6c47-4857-bc4d-970db2fa505d",
   "metadata": {},
   "outputs": [],
   "source": [
    "def extract_speakers(scripted_fp, spontaneous_fp, spontaneous_save_fp):\n",
    "    scripted_df = pd.read_csv(scripted_fp)\n",
    "    spontaneous_df = pd.read_csv(spontaneous_fp)\n",
    "\n",
    "    speaker_ids = scripted_df['speaker_id'].unique()\n",
    "\n",
    "    # create a new dataframe with rows from the spontaneous_df that have the same speaker_id \n",
    "    extracted_df = spontaneous_df[spontaneous_df['speaker_id'].isin(speaker_ids)]\n",
    "\n",
    "    # save the extracted rows as a new CSV file\n",
    "    print(f'----------Saving to {spontaneous_save_fp}-------------\\n')\n",
    "    extracted_df.to_csv(spontaneous_save_fp, index=False)\n",
    "    \n",
    "    num_speakers = extracted_df['speaker_id'].nunique()\n",
    "    total_duration = extracted_df['duration'].sum()/(60*60) # in hours\n",
    "    \n",
    "    print(f'For {spontaneous_save_fp}')\n",
    "    print(f'The total number of speakers is {num_speakers}')\n",
    "    print(f'The total duration of audio files is {total_duration} hours')\n",
    "    print(f'The number of speeches is {len(extracted_df)}')"
   ]
  },
  {
   "cell_type": "code",
   "execution_count": 5,
   "id": "d5d846fc-a359-473b-bc06-36abd40bbdc8",
   "metadata": {},
   "outputs": [
    {
     "name": "stdout",
     "output_type": "stream",
     "text": [
      "----------Saving to /srv/scratch/z5313567/thesis/AusKidTalk_local/spontaneous/AusKidTalk_spontaneous_train_dataframe.csv-------------\n",
      "\n",
      "For /srv/scratch/z5313567/thesis/AusKidTalk_local/spontaneous/AusKidTalk_spontaneous_train_dataframe.csv\n",
      "The total number of speakers is 4\n",
      "The total duration of audio files is 0.060668187190523 hours\n",
      "The number of speeches is 60\n"
     ]
    }
   ],
   "source": [
    "extract_speakers(scripted_train_fp, spontaneous_fp, spontaneous_train_fp)"
   ]
  },
  {
   "cell_type": "code",
   "execution_count": 6,
   "id": "458afa8a-f5cc-4aea-9ac0-20872214a639",
   "metadata": {},
   "outputs": [
    {
     "name": "stdout",
     "output_type": "stream",
     "text": [
      "----------Saving to /srv/scratch/z5313567/thesis/AusKidTalk_local/spontaneous/AusKidTalk_spontaneous_dev_dataframe.csv-------------\n",
      "\n",
      "For /srv/scratch/z5313567/thesis/AusKidTalk_local/spontaneous/AusKidTalk_spontaneous_dev_dataframe.csv\n",
      "The total number of speakers is 2\n",
      "The total duration of audio files is 0.01915130335885518 hours\n",
      "The number of speeches is 27\n"
     ]
    }
   ],
   "source": [
    "extract_speakers(scripted_dev_fp, spontaneous_fp, spontaneous_dev_fp)"
   ]
  },
  {
   "cell_type": "code",
   "execution_count": 7,
   "id": "c723f6e2-a93c-4c2a-9e86-43b6028129de",
   "metadata": {},
   "outputs": [
    {
     "name": "stdout",
     "output_type": "stream",
     "text": [
      "----------Saving to /srv/scratch/z5313567/thesis/AusKidTalk_local/spontaneous/AusKidTalk_spontaneous_test_dataframe.csv-------------\n",
      "\n",
      "For /srv/scratch/z5313567/thesis/AusKidTalk_local/spontaneous/AusKidTalk_spontaneous_test_dataframe.csv\n",
      "The total number of speakers is 2\n",
      "The total duration of audio files is 0.022323285599153288 hours\n",
      "The number of speeches is 24\n"
     ]
    }
   ],
   "source": [
    "extract_speakers(scripted_test_fp, spontaneous_fp, spontaneous_test_fp)"
   ]
  },
  {
   "cell_type": "code",
   "execution_count": null,
   "id": "7e1e3cde-ef4f-494a-85ae-b70c3bb5f97e",
   "metadata": {},
   "outputs": [],
   "source": []
  }
 ],
 "metadata": {
  "kernelspec": {
   "display_name": "Python 3.10.8 (ipykernel)",
   "language": "python",
   "name": "python-3.10.8"
  },
  "language_info": {
   "codemirror_mode": {
    "name": "ipython",
    "version": 3
   },
   "file_extension": ".py",
   "mimetype": "text/x-python",
   "name": "python",
   "nbconvert_exporter": "python",
   "pygments_lexer": "ipython3",
   "version": "3.10.8"
  }
 },
 "nbformat": 4,
 "nbformat_minor": 5
}

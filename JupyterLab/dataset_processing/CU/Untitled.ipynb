{
 "cells": [
  {
   "cell_type": "code",
   "execution_count": null,
   "id": "44923c2f-fcef-42a2-be1b-1391795ecac2",
   "metadata": {},
   "outputs": [],
   "source": [
    "/srv/scratch/chacmod/CU_2/corpus/data/train-part1-cu/CC-02-25-00115/CC-02-25-00115-95001-01-0.wav"
   ]
  }
 ],
 "metadata": {
  "kernelspec": {
   "display_name": "Python 3.10.8 (ipykernel)",
   "language": "python",
   "name": "python-3.10.8"
  },
  "language_info": {
   "codemirror_mode": {
    "name": "ipython",
    "version": 3
   },
   "file_extension": ".py",
   "mimetype": "text/x-python",
   "name": "python",
   "nbconvert_exporter": "python",
   "pygments_lexer": "ipython3",
   "version": "3.10.8"
  }
 },
 "nbformat": 4,
 "nbformat_minor": 5
}

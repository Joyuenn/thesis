{
 "cells": [
  {
   "cell_type": "code",
   "execution_count": 17,
   "id": "e1c46336-1e4e-4876-bf8d-d584bd73df08",
   "metadata": {},
   "outputs": [],
   "source": [
    "save_df_fp = \"/srv/scratch/z5313567/thesis/CU_local/CU_full_test_dataframs_15sec.csv\""
   ]
  },
  {
   "cell_type": "code",
   "execution_count": 3,
   "id": "89f9bb2b-946c-418d-8cef-acd133bda926",
   "metadata": {},
   "outputs": [],
   "source": [
    "import pandas as pd\n"
   ]
  },
  {
   "cell_type": "code",
   "execution_count": 19,
   "id": "ae61d802-6ead-4ec9-b70e-5dc42410f6ba",
   "metadata": {},
   "outputs": [],
   "source": [
    "df = pd.read_csv(save_df_fp, dtype={'speaker_id': str})"
   ]
  },
  {
   "cell_type": "code",
   "execution_count": 20,
   "id": "f111c83a-5b64-42e1-b141-055987b74975",
   "metadata": {},
   "outputs": [
    {
     "data": {
      "text/plain": [
       "0        00089\n",
       "1        00089\n",
       "2        00089\n",
       "3        00089\n",
       "4        00089\n",
       "         ...  \n",
       "14887    00331\n",
       "14888    00331\n",
       "14889    00331\n",
       "14890    00331\n",
       "14891    00331\n",
       "Name: speaker_id, Length: 14892, dtype: object"
      ]
     },
     "execution_count": 20,
     "metadata": {},
     "output_type": "execute_result"
    }
   ],
   "source": [
    "df['speaker_id']"
   ]
  },
  {
   "cell_type": "code",
   "execution_count": null,
   "id": "040cc0c5-f0c8-4bb0-adf2-6bd84d645fe8",
   "metadata": {},
   "outputs": [],
   "source": [
    "#-----------------------------------------------------------------------------------------------------------------"
   ]
  },
  {
   "cell_type": "code",
   "execution_count": 10,
   "id": "bef1e1ee-cebd-4e36-950c-20851b8e1ac0",
   "metadata": {},
   "outputs": [],
   "source": [
    "import pandas as pd\n",
    "save_df_fp = '/srv/scratch/z5313567/thesis/CU_local/CU_full_dataframs.csv'\n",
    "\n",
    "df = pd.read_csv(save_df_fp, dtype={'speaker_id': str})"
   ]
  },
  {
   "cell_type": "code",
   "execution_count": 11,
   "id": "7c90eaea-c780-4b8c-beb7-f8ff62e397c4",
   "metadata": {},
   "outputs": [
    {
     "name": "stdout",
     "output_type": "stream",
     "text": [
      "No empty transcriptions found.\n"
     ]
    }
   ],
   "source": [
    "empty_transcriptions = df[df['transcription'].str.strip().eq(\"\")]\n",
    "\n",
    "if empty_transcriptions.empty:\n",
    "    print(\"No empty transcriptions found.\")\n",
    "else:\n",
    "    print(\"Empty transcriptions found:\")\n",
    "    print(empty_transcriptions)"
   ]
  },
  {
   "cell_type": "code",
   "execution_count": 12,
   "id": "a56509c8-8fba-4a96-ab01-1f870da37191",
   "metadata": {},
   "outputs": [
    {
     "name": "stdout",
     "output_type": "stream",
     "text": [
      "No rows with 'transcription' as None.\n"
     ]
    }
   ],
   "source": [
    "rows_none_transcription = df[df['transcription'].isnull()]\n",
    "\n",
    "if not rows_none_transcription.empty:\n",
    "    print(\"Rows with 'transcription' as None:\")\n",
    "    print(rows_none_transcription)\n",
    "    print(\"\\nCorresponding filepaths:\")\n",
    "    for index, row in rows_none_transcription.iterrows():\n",
    "        print(row['filepath'])\n",
    "else:\n",
    "    print(\"No rows with 'transcription' as None.\")\n",
    "\n",
    "\n"
   ]
  },
  {
   "cell_type": "code",
   "execution_count": null,
   "id": "0988d71c-23ae-431e-9e03-8d69c5343e17",
   "metadata": {},
   "outputs": [],
   "source": []
  },
  {
   "cell_type": "code",
   "execution_count": null,
   "id": "51b9820e-9b54-44d0-96cb-9ebc6ed4a87f",
   "metadata": {},
   "outputs": [],
   "source": []
  }
 ],
 "metadata": {
  "kernelspec": {
   "display_name": "Python 3.10.8 (ipykernel)",
   "language": "python",
   "name": "python-3.10.8"
  },
  "language_info": {
   "codemirror_mode": {
    "name": "ipython",
    "version": 3
   },
   "file_extension": ".py",
   "mimetype": "text/x-python",
   "name": "python",
   "nbconvert_exporter": "python",
   "pygments_lexer": "ipython3",
   "version": "3.10.8"
  }
 },
 "nbformat": 4,
 "nbformat_minor": 5
}

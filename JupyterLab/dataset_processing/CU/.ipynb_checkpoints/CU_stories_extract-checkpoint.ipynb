{
 "cells": [
  {
   "cell_type": "code",
   "execution_count": 1,
   "id": "43ca715c-123f-4b25-afd5-64d1178208cf",
   "metadata": {},
   "outputs": [],
   "source": [
    "import os\n",
    "import csv\n",
    "import librosa\n",
    "import re\n",
    "import pandas as pd"
   ]
  },
  {
   "cell_type": "code",
   "execution_count": 2,
   "id": "e215bbd1-7f55-40d0-b13f-55843f6e7519",
   "metadata": {},
   "outputs": [],
   "source": [
    "# directory containing the speech dataset\n",
    "data_directory = \"/srv/scratch/chacmod/CU_2/corpus/data/train-part3-cu-stories\"\n",
    "\n",
    "# directory containing the transcription dataset\n",
    "transcription_directory = '/srv/scratch/chacmod/CU_2/corpus/text_proc/train-part3-cu-stories'"
   ]
  },
  {
   "cell_type": "code",
   "execution_count": 3,
   "id": "de3ab8b3-813f-42e4-b43f-20623f1202b9",
   "metadata": {},
   "outputs": [],
   "source": [
    "# output CSV file\n",
    "save_df_fp = \"/srv/scratch/z5313567/thesis/CU_local/CU_stories_dataframe.csv\""
   ]
  },
  {
   "cell_type": "code",
   "execution_count": 4,
   "id": "d10298e8-a54c-439b-b83b-b16ad7340f51",
   "metadata": {},
   "outputs": [],
   "source": [
    "extracted_filepath = []\n",
    "extracted_duration = []\n",
    "extracted_speakerID = []\n",
    "extracted_transcription_clean = []"
   ]
  },
  {
   "cell_type": "code",
   "execution_count": 5,
   "id": "f754930d-8235-443f-856b-acf0e63bde09",
   "metadata": {},
   "outputs": [],
   "source": [
    "chars_to_ignore_regex = '[,?.!*\\-\\;\\:\\\"“%‘”�—’…–]'\n",
    "ignore_tags = ['br', 'ga', 'SIL']\n",
    "\n",
    "def clean_transcription(transcription):\n",
    "     # split the transcription into individual words\n",
    "    words = transcription.split()  \n",
    "    # filter out the unwanted tags\n",
    "    cleaned_words = [word for word in words if word not in ignore_tags]\n",
    "    # join invividual words\n",
    "    cleaned_transcription = ' '.join(cleaned_words)\n",
    "    # remove unnecessary symbols\n",
    "    cleaned_transcription = re.sub(chars_to_ignore_regex, \"\", cleaned_transcription)\n",
    "    # remove extra whitespace between words\n",
    "    cleaned_transcription = re.sub(r\"\\s+\", \" \", cleaned_transcription)\n",
    "    # convert to lower case\n",
    "    #cleaned_transcription = cleaned_transcription.lower()\n",
    "\n",
    "    return cleaned_transcription.strip()"
   ]
  },
  {
   "cell_type": "code",
   "execution_count": 6,
   "id": "5041db31-0407-4593-ac70-c53cd4960d2a",
   "metadata": {},
   "outputs": [
    {
     "ename": "NameError",
     "evalue": "name 'data_directory3' is not defined",
     "output_type": "error",
     "traceback": [
      "\u001b[0;31m---------------------------------------------------------------------------\u001b[0m",
      "\u001b[0;31mNameError\u001b[0m                                 Traceback (most recent call last)",
      "Cell \u001b[0;32mIn[6], line 20\u001b[0m\n\u001b[1;32m     18\u001b[0m \u001b[38;5;66;03m# extract the corresponding wav filepath\u001b[39;00m\n\u001b[1;32m     19\u001b[0m wav_filename \u001b[38;5;241m=\u001b[39m os\u001b[38;5;241m.\u001b[39mpath\u001b[38;5;241m.\u001b[39msplitext(transcription_file)[\u001b[38;5;241m0\u001b[39m] \u001b[38;5;241m+\u001b[39m \u001b[38;5;124m\"\u001b[39m\u001b[38;5;124m.wav\u001b[39m\u001b[38;5;124m\"\u001b[39m \u001b[38;5;66;03m# 9.wav\u001b[39;00m\n\u001b[0;32m---> 20\u001b[0m wav_filepath \u001b[38;5;241m=\u001b[39m os\u001b[38;5;241m.\u001b[39mpath\u001b[38;5;241m.\u001b[39mjoin(\u001b[43mdata_directory3\u001b[49m, series_folder, speaker_folder, wav_filename) \u001b[38;5;66;03m# /srv/scratch/chacmod/CU_2/corpus/data/train-part3-cu-stories/03/spk-03-031/spk-03-031-story-100.wav                            \u001b[39;00m\n\u001b[1;32m     22\u001b[0m \u001b[38;5;66;03m# Check if the wav file exists before getting its duration\u001b[39;00m\n\u001b[1;32m     23\u001b[0m \u001b[38;5;28;01mif\u001b[39;00m \u001b[38;5;129;01mnot\u001b[39;00m os\u001b[38;5;241m.\u001b[39mpath\u001b[38;5;241m.\u001b[39mexists(wav_filepath):\n",
      "\u001b[0;31mNameError\u001b[0m: name 'data_directory3' is not defined"
     ]
    }
   ],
   "source": [
    "# ---------------------------------------for the /srv/scratch/chacmod/CU_2/corpus/data/train-part3-cu-stories---------------------------------------------------\n",
    "for series_folder in os.listdir(transcription_directory):\n",
    "    series_filepath = os.path.join(transcription_directory, series_folder)\n",
    "    for speaker_folder in os.listdir(series_filepath):\n",
    "        speaker_filepath = os.path.join(series_filepath, speaker_folder)\n",
    "        if os.path.isdir(speaker_filepath): # check if this is a folder\n",
    "             # extract the speaker id from the folder name. For example, spk-05-106-sent, the speaker_id is 0500106, with two 0s inserted between 05 and 106\n",
    "            speaker_folder_parts = speaker_folder.split('-')\n",
    "            speaker_id = speaker_folder_parts[1] + '00' + speaker_folder_parts[2]    \n",
    "            #speaker_id = speaker_folder.split(\"-\")[2]\n",
    "            speaker_id = str(speaker_id) # preverse leading zeros\n",
    "            speaker_path = speaker_filepath # /srv/scratch/chacmod/CU_2/corpus/text_proc/train-part3-cu-stories/03/spk-03-031\n",
    "            \n",
    "            for transcription_file in os.listdir(speaker_path):\n",
    "                if transcription_file.endswith(\".txt\"): # 9.txt\n",
    "                    transcription_filepath = os.path.join(speaker_path, transcription_file) # /srv/scratch/chacmod/CU_2/corpus/text_proc/train-part3-cu-stories/03/spk-03-031/spk-03-031-story-100.txt\n",
    "\n",
    "                    # extract the corresponding wav filepath\n",
    "                    wav_filename = os.path.splitext(transcription_file)[0] + \".wav\" # 9.wav\n",
    "                    wav_filepath = os.path.join(data_directory, series_folder, speaker_folder, wav_filename) # /srv/scratch/chacmod/CU_2/corpus/data/train-part3-cu-stories/03/spk-03-031/spk-03-031-story-100.wav                            \n",
    "                    \n",
    "                    # Check if the wav file exists before getting its duration\n",
    "                    if not os.path.exists(wav_filepath):\n",
    "                        print(f\"Warning: .wav file not found for {transcription_filepath}. Skipping.\")\n",
    "                        continue\n",
    "                    # check if the .wav file is empty brfore getting its duration\n",
    "                    if os.path.getsize(wav_filepath) == 0:\n",
    "                        print(f\"Warning: .wav file {wav_filepath} is empty. Skipping.\")\n",
    "                        continue\n",
    "                    # Get the duration of the wav file\n",
    "                    duration = get_duration(wav_filepath)\n",
    "\n",
    "                    # extract the transcription from the file\n",
    "                    with open(transcription_filepath, \"r\") as f:\n",
    "                        transcription = f.read()            \n",
    "                    cleaned_transcription = clean_transcription(transcription)\n",
    "                    # check if the cleaned_transcription is empty\n",
    "                    if not cleaned_transcription:\n",
    "                        print(f\"Warning: Cleaned transcription is empty for {transcription_filepath}. Skipping.\")\n",
    "                        continue\n",
    "                    if cleaned_transcription is None:\n",
    "                        print(f\"Warning: Cleaned transcription is None for {transcription_filepath}. Skipping.\")\n",
    "                        continue\n",
    "\n",
    "                    extracted_filepath.append(wav_filepath)\n",
    "                    extracted_duration.append(duration)\n",
    "                    extracted_speakerID.append(speaker_id)\n",
    "                    #extracted_transcription_original.append(transcription)\n",
    "                    extracted_transcription_clean.append(cleaned_transcription)"
   ]
  },
  {
   "cell_type": "code",
   "execution_count": null,
   "id": "4136594c-902c-401d-8294-79417b49bc88",
   "metadata": {},
   "outputs": [],
   "source": [
    "print(\"\\n--------------------------> Generating dataframe ... -------------------------\\n\")\n",
    "df = pd.DataFrame(\n",
    "        {'filepath': extracted_filepath,\n",
    "         'duration': extracted_duration,\n",
    "         'speaker_id': extracted_speakerID,\n",
    "         'transcription': extracted_transcription_clean,\n",
    "         })\n",
    "# preverse leading zeros\n",
    "df['speaker_id'] = df['speaker_id'].astype(str) \n",
    "\n",
    "# when accessing the dataframe, run 'df = pd.read_csv(save_df_fp, dtype={'speaker_id': str})' to avoid missing leading \n",
    "print(\"\\n---------------------------> Saving dataframe to csv file... ------------------\\n\")\n",
    "df.to_csv(save_df_fp, index=False)\n",
    "print('Successfully saved dataframe to csv file at: ', save_df_fp)\n",
    "print(\"Total number of speakers:\", len(set(df[\"speaker_id\"])))\n",
    "print(\"Total hours:\", df['duration'].sum()/(60*60))"
   ]
  }
 ],
 "metadata": {
  "kernelspec": {
   "display_name": "Python 3.10.8 (ipykernel)",
   "language": "python",
   "name": "python-3.10.8"
  },
  "language_info": {
   "codemirror_mode": {
    "name": "ipython",
    "version": 3
   },
   "file_extension": ".py",
   "mimetype": "text/x-python",
   "name": "python",
   "nbconvert_exporter": "python",
   "pygments_lexer": "ipython3",
   "version": "3.10.8"
  }
 },
 "nbformat": 4,
 "nbformat_minor": 5
}

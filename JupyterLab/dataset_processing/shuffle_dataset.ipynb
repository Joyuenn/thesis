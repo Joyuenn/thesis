{
 "cells": [
  {
   "cell_type": "code",
   "execution_count": 1,
   "id": "82cfdbf9-8a52-47e0-96ac-d2d84267908e",
   "metadata": {},
   "outputs": [],
   "source": [
    "# Purpose: shuffle the full dataset of training, development and testing sets\n",
    "# Requirement: prepare_scripted_datasets.py (ipynb)\n",
    "#              Check_duration_15sec.py (ipynb)\n",
    "#              group_speaker_id.py (ipynb)\n",
    "#              dataset_splitting.py (ipynb)"
   ]
  },
  {
   "cell_type": "code",
   "execution_count": 1,
   "id": "7d3964cc-f20e-48b9-b1cc-a5a2adf0403b",
   "metadata": {},
   "outputs": [],
   "source": [
    "# ------------------------------------------\n",
    "#        Importing libraies\n",
    "# ------------------------------------------\n",
    "\n",
    "# For dataframes\n",
    "import pandas as pd\n",
    "# For splitting data\n",
    "from sklearn.model_selection import train_test_split\n",
    "# For printing filepath\n",
    "import os"
   ]
  },
  {
   "cell_type": "code",
   "execution_count": 2,
   "id": "e9626e50-8290-474d-8ab7-c13f139c73d5",
   "metadata": {},
   "outputs": [
    {
     "name": "stdout",
     "output_type": "stream",
     "text": [
      "\n",
      "------> Setting seed... ----------------------------------------------\n",
      "\n",
      "--> Setting seed as: 230\n"
     ]
    }
   ],
   "source": [
    "# ------------------------------------------\n",
    "#           Setting seed\n",
    "# ------------------------------------------\n",
    "print(\"\\n------> Setting seed... ----------------------------------------------\\n\")\n",
    "# Set a seed to ensure random split can be reproducible\n",
    "seed = 230\n",
    "print(\"--> Setting seed as:\", seed)"
   ]
  },
  {
   "cell_type": "code",
   "execution_count": 3,
   "id": "74bcac2f-e002-4692-aa0a-1c55f1148f40",
   "metadata": {},
   "outputs": [],
   "source": [
    "# ------------------------------------------\n",
    "#        Setting filepath\n",
    "# ------------------------------------------\n",
    "# These data filepath contain dataframes generated from 'dataset_splitting.py'\n",
    "#data_train_fp = '/srv/scratch/z5313567/thesis/OGI_local/OGI_scripted_train_dataframe.csv'\n",
    "#data_dev_fp = '/srv/scratch/z5313567/thesis/OGI_local/OGI_scripted_dev_dataframe.csv'\n",
    "#data_test_fp = '/srv/scratch/z5313567/thesis/OGI_local/OGI_scripted_test_dataframe.csv'\n",
    "\n",
    "#data_train_fp = '/srv/scratch/z5313567/thesis/OGI_AusKidTalk_local/scripted_OGI_scripted_AusKidTalk_train_dataframe.csv'\n",
    "data_train_fp = '/srv/scratch/z5313567/thesis/AusKidTalk_local/combined_scripted_spontaneous_v2/AusKidTalk_combined_scripted_spontaneous_train_dataframe_v2.csv'\n",
    "data_dev_fp = '/srv/scratch/z5313567/thesis/AusKidTalk_local/combined_scripted_spontaneous_v2/AusKidTalk_combined_scripted_spontaneous_dev_dataframe_v2.csv'\n",
    "data_test_fp = '/srv/scratch/z5313567/thesis/AusKidTalk_local/combined_scripted_spontaneous_v2/AusKidTalk_combined_scripted_spontaneous_test_dataframe_v2.csv'"
   ]
  },
  {
   "cell_type": "code",
   "execution_count": 4,
   "id": "51dae384-e3f8-404d-b929-0487cefbac68",
   "metadata": {},
   "outputs": [],
   "source": [
    "# where shuffled datasets are saved\n",
    "data_train_shuffled_fp = '/srv/scratch/z5313567/thesis/AusKidTalk_local/combined_scripted_spontaneous_v2/AusKidTalk_combined_scripted_spontaneous_train_dataframe_shuffled_v2.csv'\n",
    "data_dev_shuffled_fp = '/srv/scratch/z5313567/thesis/AusKidTalk_local/combined_scripted_spontaneous_v2/AusKidTalk_combined_scripted_spontaneous_dev_dataframe_shuffled_v2.csv'\n",
    "data_test_shuffled_fp = '/srv/scratch/z5313567/thesis/AusKidTalk_local/combined_scripted_spontaneous_v2/AusKidTalk_combined_scripted_spontaneous_test_dataframe_shuffled_v2.csv'"
   ]
  },
  {
   "cell_type": "code",
   "execution_count": 5,
   "id": "effa8868-f92e-4a4a-b06b-3f3b63c586a1",
   "metadata": {},
   "outputs": [],
   "source": [
    "# ------------------------------------------\n",
    "#        Reading in dataframe\n",
    "# ------------------------------------------\n",
    "# Reading in data dataframe from csv file, as string type\n",
    "# to preserve leading zeros in speaker id\n",
    "#data_train_df = pd.read_csv(data_train_fp, dtype={'speaker_id': str})\n",
    "#data_dev_df = pd.read_csv(data_dev_fp, dtype={'speaker_id': str})\n",
    "#data_test_df = pd.read_csv(data_test_fp, dtype={'speaker_id': str})\n",
    "data_train_df = pd.read_csv(data_train_fp, dtype=str)\n",
    "data_dev_df = pd.read_csv(data_dev_fp, dtype=str)\n",
    "data_test_df = pd.read_csv(data_test_fp, dtype=str)\n",
    "\n",
    "# Converting duration column to float64\n",
    "data_train_df[\"duration\"] = data_train_df[\"duration\"].apply(pd.to_numeric)\n",
    "data_dev_df[\"duration\"] = data_dev_df[\"duration\"].apply(pd.to_numeric)\n",
    "data_test_df[\"duration\"] = data_test_df[\"duration\"].apply(pd.to_numeric)"
   ]
  },
  {
   "cell_type": "code",
   "execution_count": 6,
   "id": "e9700014-b105-4695-aef7-971d98f40b2b",
   "metadata": {},
   "outputs": [
    {
     "name": "stdout",
     "output_type": "stream",
     "text": [
      "Total duration in train dataset is 3.98029457949032 hours\n",
      "                                                filepath  duration speaker_id   \n",
      "0      /srv/scratch/chacmod/auskidtalk_scripted_audio...  0.540000        228  \\\n",
      "1      /srv/scratch/chacmod/auskidtalk_scripted_audio...  0.510000        304   \n",
      "2      /srv/scratch/chacmod/auskidtalk_scripted_audio...  1.062668        899   \n",
      "3      /srv/scratch/chacmod/auskidtalk_scripted_audio...  0.396053        539   \n",
      "4      /srv/scratch/chacmod/auskidtalk_scripted_audio...  0.780000        682   \n",
      "...                                                  ...       ...        ...   \n",
      "18491  /srv/scratch/chacmod/auskidtalk_scripted_audio...  0.810000        603   \n",
      "18492  /srv/scratch/chacmod/auskidtalk_scripted_audio...  0.810088        439   \n",
      "18493  /srv/scratch/chacmod/auskidtalk_scripted_audio...  1.050000       1464   \n",
      "18494  /srv/scratch/chacmod/auskidtalk_scripted_audio...  0.760174        456   \n",
      "18495  /srv/scratch/chacmod/auskidtalk_scripted_audio...  0.880000        970   \n",
      "\n",
      "      transcription  \n",
      "0                no  \n",
      "1               boy  \n",
      "2         crocodile  \n",
      "3              pull  \n",
      "4              leaf  \n",
      "...             ...  \n",
      "18491          duck  \n",
      "18492     spaghetti  \n",
      "18493     crocodile  \n",
      "18494          leaf  \n",
      "18495       martian  \n",
      "\n",
      "[18496 rows x 4 columns]\n"
     ]
    }
   ],
   "source": [
    "shuffled_train = data_train_df.sample(frac=1.0, random_state=seed)\n",
    "shuffled_train = shuffled_train.reset_index(drop=True)\n",
    "shuffled_train['speaker_id'] = shuffled_train['speaker_id'].astype(str) # preverse leading zeros\n",
    "shuffled_train.to_csv(data_train_shuffled_fp, index=False)\n",
    "duration = shuffled_train['duration'].sum()\n",
    "print(f'Total duration in train dataset is {duration/(60*60)} hours')\n",
    "print(shuffled_train)"
   ]
  },
  {
   "cell_type": "code",
   "execution_count": 7,
   "id": "dd42bac0-eb1a-4df4-9df5-ae1f492c336d",
   "metadata": {},
   "outputs": [
    {
     "name": "stdout",
     "output_type": "stream",
     "text": [
      "Total duration in dev dataset is 0.8430717370619673 hours\n",
      "                                               filepath  duration speaker_id   \n",
      "0     /srv/scratch/chacmod/auskidtalk_scripted_audio...  0.780000        222  \\\n",
      "1     /srv/scratch/chacmod/auskidtalk_scripted_audio...  0.930000        694   \n",
      "2     /srv/scratch/chacmod/auskidtalk_scripted_audio...  0.420000       1032   \n",
      "3     /srv/scratch/chacmod/auskidtalk_scripted_audio...  0.810000        671   \n",
      "4     /srv/scratch/chacmod/auskidtalk_scripted_audio...  0.580211        431   \n",
      "...                                                 ...       ...        ...   \n",
      "4028  /srv/scratch/chacmod/auskidtalk_scripted_audio...  0.411644        547   \n",
      "4029  /srv/scratch/chacmod/auskidtalk_scripted_audio...  0.630000        715   \n",
      "4030  /srv/scratch/chacmod/auskidtalk_scripted_audio...  0.420000       1150   \n",
      "4031  /srv/scratch/chacmod/auskidtalk_scripted_audio...  0.900000        218   \n",
      "4032  /srv/scratch/chacmod/auskidtalk_scripted_audio...  0.195745        776   \n",
      "\n",
      "     transcription  \n",
      "0           attack  \n",
      "1         treasure  \n",
      "2             duck  \n",
      "3         kangaroo  \n",
      "4             head  \n",
      "...            ...  \n",
      "4028         eight  \n",
      "4029      kangaroo  \n",
      "4030           two  \n",
      "4031   grasshopper  \n",
      "4032         eight  \n",
      "\n",
      "[4033 rows x 4 columns]\n"
     ]
    }
   ],
   "source": [
    "shuffled_dev = data_dev_df.sample(frac=1.0, random_state=seed)\n",
    "shuffled_dev = shuffled_dev.reset_index(drop=True)\n",
    "shuffled_dev['speaker_id'] = shuffled_dev['speaker_id'].astype(str) # preverse leading zeros\n",
    "shuffled_dev.to_csv(data_dev_shuffled_fp, index=False)\n",
    "duration = shuffled_dev['duration'].sum()\n",
    "print(f'Total duration in dev dataset is {duration/(60*60)} hours')\n",
    "print(shuffled_dev)"
   ]
  },
  {
   "cell_type": "code",
   "execution_count": 8,
   "id": "7c2ed880-17d7-4de8-ae53-e00357eca2b5",
   "metadata": {},
   "outputs": [
    {
     "name": "stdout",
     "output_type": "stream",
     "text": [
      "Total duration in test dataset is 0.8739776574554781 hours\n",
      "                                               filepath  duration speaker_id   \n",
      "0     /srv/scratch/chacmod/auskidtalk_scripted_audio...  0.390000       1050  \\\n",
      "1     /srv/scratch/chacmod/auskidtalk_scripted_audio...  0.600000       1050   \n",
      "2     /srv/scratch/chacmod/auskidtalk_scripted_audio...  0.530000        772   \n",
      "3     /srv/scratch/chacmod/auskidtalk_scripted_audio...  0.300000        954   \n",
      "4     /srv/scratch/chacmod/auskidtalk_scripted_audio...  0.990000        651   \n",
      "...                                                 ...       ...        ...   \n",
      "3989  /srv/scratch/chacmod/auskidtalk_scripted_audio...  0.780000        774   \n",
      "3990  /srv/scratch/chacmod/auskidtalk_scripted_audio...  0.540000        973   \n",
      "3991  /srv/scratch/chacmod/auskidtalk_scripted_audio...  0.630000        203   \n",
      "3992  /srv/scratch/chacmod/auskidtalk_scripted_audio...  0.575779        620   \n",
      "3993  /srv/scratch/chacmod/auskidtalk_scripted_audio...  0.810000        353   \n",
      "\n",
      "     transcription  \n",
      "0             hill  \n",
      "1            mouth  \n",
      "2           bridge  \n",
      "3            eight  \n",
      "4         cucumber  \n",
      "...            ...  \n",
      "3989        sprout  \n",
      "3990       breathe  \n",
      "3991          hole  \n",
      "3992        garden  \n",
      "3993         mouth  \n",
      "\n",
      "[3994 rows x 4 columns]\n"
     ]
    }
   ],
   "source": [
    "shuffled_test = data_test_df.sample(frac=1.0, random_state=seed)\n",
    "shuffled_test = shuffled_test.reset_index(drop=True)\n",
    "shuffled_test['speaker_id'] = shuffled_test['speaker_id'].astype(str) \n",
    "shuffled_test.to_csv(data_test_shuffled_fp, index=False)\n",
    "duration = shuffled_test['duration'].sum()\n",
    "print(f'Total duration in test dataset is {duration/(60*60)} hours')\n",
    "print(shuffled_test)"
   ]
  },
  {
   "cell_type": "code",
   "execution_count": null,
   "id": "048ca63c-4111-4ad7-be21-e1ad1479ff81",
   "metadata": {},
   "outputs": [],
   "source": []
  },
  {
   "cell_type": "code",
   "execution_count": 9,
   "id": "5f77fc18-e68c-498a-a06a-01f8fbfc0943",
   "metadata": {},
   "outputs": [
    {
     "data": {
      "text/plain": [
       "3035.058253423082"
      ]
     },
     "execution_count": 9,
     "metadata": {},
     "output_type": "execute_result"
    }
   ],
   "source": [
    "shuffled_dev['duration'].sum()"
   ]
  },
  {
   "cell_type": "code",
   "execution_count": null,
   "id": "12115e3f-a0e7-4a9e-8c5f-7adc27fcf0d8",
   "metadata": {},
   "outputs": [],
   "source": []
  },
  {
   "cell_type": "code",
   "execution_count": null,
   "id": "2eb90847-7350-4ba6-99d9-e007ac7ceaca",
   "metadata": {},
   "outputs": [],
   "source": []
  }
 ],
 "metadata": {
  "kernelspec": {
   "display_name": "Python 3.10.8 (ipykernel)",
   "language": "python",
   "name": "python-3.10.8"
  },
  "language_info": {
   "codemirror_mode": {
    "name": "ipython",
    "version": 3
   },
   "file_extension": ".py",
   "mimetype": "text/x-python",
   "name": "python",
   "nbconvert_exporter": "python",
   "pygments_lexer": "ipython3",
   "version": "3.10.8"
  }
 },
 "nbformat": 4,
 "nbformat_minor": 5
}

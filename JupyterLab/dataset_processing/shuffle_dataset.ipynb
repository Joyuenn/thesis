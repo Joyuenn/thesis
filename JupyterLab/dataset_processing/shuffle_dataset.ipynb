{
 "cells": [
  {
   "cell_type": "code",
   "execution_count": 37,
   "id": "82cfdbf9-8a52-47e0-96ac-d2d84267908e",
   "metadata": {},
   "outputs": [],
   "source": [
    "# Purpose: shuffle the full dataset of training, development and testing sets\n",
    "# Requirement: prepare_scripted_datasets.py (ipynb)\n",
    "#              Check_duration_15sec.py (ipynb)\n",
    "#              group_speaker_id.py (ipynb)\n",
    "#              dataset_splitting.py (ipynb)"
   ]
  },
  {
   "cell_type": "code",
   "execution_count": 38,
   "id": "7d3964cc-f20e-48b9-b1cc-a5a2adf0403b",
   "metadata": {},
   "outputs": [],
   "source": [
    "# ------------------------------------------\n",
    "#        Importing libraies\n",
    "# ------------------------------------------\n",
    "\n",
    "# For dataframes\n",
    "import pandas as pd\n",
    "# For splitting data\n",
    "from sklearn.model_selection import train_test_split\n",
    "# For printing filepath\n",
    "import os"
   ]
  },
  {
   "cell_type": "code",
   "execution_count": 39,
   "id": "e9626e50-8290-474d-8ab7-c13f139c73d5",
   "metadata": {},
   "outputs": [
    {
     "name": "stdout",
     "output_type": "stream",
     "text": [
      "\n",
      "------> Setting seed... ----------------------------------------------\n",
      "\n",
      "--> Setting seed as: 230\n"
     ]
    }
   ],
   "source": [
    "# ------------------------------------------\n",
    "#           Setting seed\n",
    "# ------------------------------------------\n",
    "print(\"\\n------> Setting seed... ----------------------------------------------\\n\")\n",
    "# Set a seed to ensure random split can be reproducible\n",
    "seed = 230\n",
    "print(\"--> Setting seed as:\", seed)"
   ]
  },
  {
   "cell_type": "code",
   "execution_count": 40,
   "id": "74bcac2f-e002-4692-aa0a-1c55f1148f40",
   "metadata": {},
   "outputs": [],
   "source": [
    "# ------------------------------------------\n",
    "#        Setting filepath\n",
    "# ------------------------------------------\n",
    "# These data filepath contain dataframes generated from 'dataset_splitting.py'\n",
    "#data_train_fp = '/srv/scratch/z5313567/thesis/OGI_local/OGI_scripted_train_dataframe.csv'\n",
    "#data_dev_fp = '/srv/scratch/z5313567/thesis/OGI_local/OGI_scripted_dev_dataframe.csv'\n",
    "#data_test_fp = '/srv/scratch/z5313567/thesis/OGI_local/OGI_scripted_test_dataframe.csv'\n",
    "\n",
    "#data_train_fp = '/srv/scratch/z5313567/thesis/OGI_AusKidTalk_local/scripted_OGI_scripted_AusKidTalk_train_dataframe.csv'\n",
    "data_train_fp = '/srv/scratch/z5313567/thesis/CU_local/CU_full_train_dataframs_15sec.csv'\n",
    "data_dev_fp = '/srv/scratch/z5313567/thesis/CU_local/CU_full_dev_dataframs_15sec.csv'\n",
    "data_test_fp = '/srv/scratch/z5313567/thesis/CU_local/CU_full_test_dataframs_15sec.csv'"
   ]
  },
  {
   "cell_type": "code",
   "execution_count": 41,
   "id": "51dae384-e3f8-404d-b929-0487cefbac68",
   "metadata": {},
   "outputs": [],
   "source": [
    "# where full datasets are saved\n",
    "data_train_full_fp = '/srv/scratch/z5313567/thesis/CU_local/CU_full_train_15sec_shuffled.csv'\n",
    "data_dev_full_fp = '/srv/scratch/z5313567/thesis/CU_local/CU_full_dev_15sec_shuffled.csv'\n",
    "data_test_full_fp = '/srv/scratch/z5313567/thesis/CU_local/CU_full_test_15sec_shuffled.csv'"
   ]
  },
  {
   "cell_type": "code",
   "execution_count": 42,
   "id": "effa8868-f92e-4a4a-b06b-3f3b63c586a1",
   "metadata": {},
   "outputs": [],
   "source": [
    "# ------------------------------------------\n",
    "#        Reading in dataframe\n",
    "# ------------------------------------------\n",
    "# Reading in data dataframe from csv file, as string type\n",
    "# to preserve leading zeros in speaker id\n",
    "#data_train_df = pd.read_csv(data_train_fp, dtype={'speaker_id': str})\n",
    "#data_dev_df = pd.read_csv(data_dev_fp, dtype={'speaker_id': str})\n",
    "#data_test_df = pd.read_csv(data_test_fp, dtype={'speaker_id': str})\n",
    "data_train_df = pd.read_csv(data_train_fp, dtype=str)\n",
    "data_dev_df = pd.read_csv(data_dev_fp, dtype=str)\n",
    "data_test_df = pd.read_csv(data_test_fp, dtype=str)\n",
    "\n",
    "# Converting duration column to float64\n",
    "data_train_df[\"duration\"] = data_train_df[\"duration\"].apply(pd.to_numeric)\n",
    "data_dev_df[\"duration\"] = data_dev_df[\"duration\"].apply(pd.to_numeric)\n",
    "data_test_df[\"duration\"] = data_test_df[\"duration\"].apply(pd.to_numeric)"
   ]
  },
  {
   "cell_type": "code",
   "execution_count": 43,
   "id": "e9700014-b105-4695-aef7-971d98f40b2b",
   "metadata": {},
   "outputs": [
    {
     "name": "stdout",
     "output_type": "stream",
     "text": [
      "Total duration in train dataset is 49.866753917863434 hours\n",
      "                                                filepath  duration speaker_id   \n",
      "0      /srv/scratch/chacmod/CU_2/corpus/data/train-pa...  6.185034      00152  \\\n",
      "1      /srv/scratch/chacmod/CU_2/corpus/data/train-pa...  1.170023      00095   \n",
      "2      /srv/scratch/chacmod/CU_2/corpus/data/train-pa...  1.930068        111   \n",
      "3      /srv/scratch/chacmod/CU_2/corpus/data/train-pa...  2.938141        110   \n",
      "4      /srv/scratch/chacmod/CU_2/corpus/data/train-pa...  2.310023        117   \n",
      "...                                                  ...       ...        ...   \n",
      "54453  /srv/scratch/chacmod/CU_2/corpus/data/train-pa...  4.468163        008   \n",
      "54454  /srv/scratch/chacmod/CU_2/corpus/data/train-pa...  1.100000      00023   \n",
      "54455  /srv/scratch/chacmod/CU_2/corpus/data/train-pa...  2.500000      00002   \n",
      "54456  /srv/scratch/chacmod/CU_2/corpus/data/train-pa...  1.210159        196   \n",
      "54457  /srv/scratch/chacmod/CU_2/corpus/data/train-pa...  5.230068        238   \n",
      "\n",
      "                              transcription  \n",
      "0                              I DON'T KNOW  \n",
      "1                                    DEMURE  \n",
      "2                                TO A PLACE  \n",
      "3             I FORGOT WHAT SHE HAD TO FIND  \n",
      "4                             TO A CRACK IN  \n",
      "...                                     ...  \n",
      "54453              SOME SOMETHING WAS WRONG  \n",
      "54454                                TOMBOY  \n",
      "54455  DUNE ROSE FROM THE EDGE OF THE WATER  \n",
      "54456                                  ONES  \n",
      "54457  TIME TO GO TO THE ZOO ADDED LOU LOIS  \n",
      "\n",
      "[54458 rows x 4 columns]\n"
     ]
    }
   ],
   "source": [
    "shuffled_train = data_train_df.sample(frac=1.0, random_state=seed)\n",
    "shuffled_train = shuffled_train.reset_index(drop=True)\n",
    "shuffled_train['speaker_id'] = shuffled_train['speaker_id'].astype(str) # preverse leading zeros\n",
    "shuffled_train.to_csv(data_train_full_fp, index=False)\n",
    "duration = shuffled_train['duration'].sum()\n",
    "print(f'Total duration in train dataset is {duration/(60*60)} hours')\n",
    "print(shuffled_train)"
   ]
  },
  {
   "cell_type": "code",
   "execution_count": 44,
   "id": "dd42bac0-eb1a-4df4-9df5-ae1f492c336d",
   "metadata": {},
   "outputs": [
    {
     "name": "stdout",
     "output_type": "stream",
     "text": [
      "Total duration in dev dataset is 10.17157481733434 hours\n",
      "                                                filepath  duration speaker_id   \n",
      "0      /srv/scratch/chacmod/CU_2/corpus/data/train-pa...  1.030068        169  \\\n",
      "1      /srv/scratch/chacmod/CU_2/corpus/data/train-pa...  5.310068        285   \n",
      "2      /srv/scratch/chacmod/CU_2/corpus/data/train-pa...  5.215011      02078   \n",
      "3      /srv/scratch/chacmod/CU_2/corpus/data/train-pa...  1.205034      00081   \n",
      "4      /srv/scratch/chacmod/CU_2/corpus/data/train-pa...  2.490023        288   \n",
      "...                                                  ...       ...        ...   \n",
      "10679  /srv/scratch/chacmod/CU_2/corpus/data/train-pa...  1.615011      00171   \n",
      "10680  /srv/scratch/chacmod/CU_2/corpus/data/train-pa...  1.230023      01007   \n",
      "10681  /srv/scratch/chacmod/CU_2/corpus/data/train-pa...  4.130159        219   \n",
      "10682  /srv/scratch/chacmod/CU_2/corpus/data/train-pa...  0.740000      00120   \n",
      "10683  /srv/scratch/chacmod/CU_2/corpus/data/train-pa...  1.210023      02046   \n",
      "\n",
      "                                      transcription  \n",
      "0                                              LIKE  \n",
      "1      CAN MAGNETS PULL OTHER TH MAGNETS ASKED JACK  \n",
      "2                          ONE THREE SIX THREE ZERO  \n",
      "3                                           SLITHER  \n",
      "4                             IS THAT ALL DAD ASKED  \n",
      "...                                             ...  \n",
      "10679                                     SKIPJACKS  \n",
      "10680                                  GREATER THAN  \n",
      "10681       KNOW THE WHAT TOMMY VICTOR SAID I THINK  \n",
      "10682                                          CASE  \n",
      "10683                                   R ROUGHSHOD  \n",
      "\n",
      "[10684 rows x 4 columns]\n"
     ]
    }
   ],
   "source": [
    "shuffled_dev = data_dev_df.sample(frac=1.0, random_state=seed)\n",
    "shuffled_dev = shuffled_dev.reset_index(drop=True)\n",
    "shuffled_dev['speaker_id'] = shuffled_dev['speaker_id'].astype(str) # preverse leading zeros\n",
    "shuffled_dev.to_csv(data_dev_full_fp, index=False)\n",
    "duration = shuffled_dev['duration'].sum()\n",
    "print(f'Total duration in dev dataset is {duration/(60*60)} hours')\n",
    "print(shuffled_dev)"
   ]
  },
  {
   "cell_type": "code",
   "execution_count": 45,
   "id": "7c2ed880-17d7-4de8-ae53-e00357eca2b5",
   "metadata": {},
   "outputs": [
    {
     "name": "stdout",
     "output_type": "stream",
     "text": [
      "Total duration in test dataset is 12.121990942302848 hours\n",
      "                                                filepath  duration speaker_id   \n",
      "0      /srv/scratch/chacmod/CU_2/corpus/data/train-pa...  9.770023        158  \\\n",
      "1      /srv/scratch/chacmod/CU_2/corpus/data/train-pa...  6.209070        064   \n",
      "2      /srv/scratch/chacmod/CU_2/corpus/data/train-pa...  2.760000        200   \n",
      "3      /srv/scratch/chacmod/CU_2/corpus/data/train-pa...  7.500091        160   \n",
      "4      /srv/scratch/chacmod/CU_2/corpus/data/train-pa...  2.560091        202   \n",
      "...                                                  ...       ...        ...   \n",
      "14887  /srv/scratch/chacmod/CU_2/corpus/data/train-pa...  1.070023      01070   \n",
      "14888  /srv/scratch/chacmod/CU_2/corpus/data/train-pa...  2.690068        179   \n",
      "14889  /srv/scratch/chacmod/CU_2/corpus/data/train-pa...  6.960091        321   \n",
      "14890  /srv/scratch/chacmod/CU_2/corpus/data/train-pa...  1.155011      00122   \n",
      "14891  /srv/scratch/chacmod/CU_2/corpus/data/train-pa...  1.145034      02089   \n",
      "\n",
      "                                           transcription  \n",
      "0      YOU KNOW WHAT TOMMY YOU KNOW WHAT TOMMY VICTOR...  \n",
      "1      YOUR JOB IS TO BE CUTE SO PEOPLE WILL TO RUN T...  \n",
      "2                                     SOMETHING IS WRONG  \n",
      "3      HI AUNT JANE SAID BILL CAN I USE YOUR OLD MARB...  \n",
      "4                                       MS GORDON SMILED  \n",
      "...                                                  ...  \n",
      "14887                                          DEAD RATS  \n",
      "14888                            SUDDENLY A DOOR SLAMMED  \n",
      "14889  WE'LL CROSS THEM SOON F F FROM HERE THEY LOOK ...  \n",
      "14890                                            COWHERD  \n",
      "14891                                                 AS  \n",
      "\n",
      "[14892 rows x 4 columns]\n"
     ]
    }
   ],
   "source": [
    "shuffled_test = data_test_df.sample(frac=1.0, random_state=seed)\n",
    "shuffled_test = shuffled_test.reset_index(drop=True)\n",
    "shuffled_test['speaker_id'] = shuffled_test['speaker_id'].astype(str) \n",
    "shuffled_test.to_csv(data_test_full_fp, index=False)\n",
    "duration = shuffled_test['duration'].sum()\n",
    "print(f'Total duration in test dataset is {duration/(60*60)} hours')\n",
    "print(shuffled_test)"
   ]
  },
  {
   "cell_type": "code",
   "execution_count": null,
   "id": "048ca63c-4111-4ad7-be21-e1ad1479ff81",
   "metadata": {},
   "outputs": [],
   "source": []
  },
  {
   "cell_type": "code",
   "execution_count": 46,
   "id": "5f77fc18-e68c-498a-a06a-01f8fbfc0943",
   "metadata": {},
   "outputs": [
    {
     "data": {
      "text/plain": [
       "36617.66934240363"
      ]
     },
     "execution_count": 46,
     "metadata": {},
     "output_type": "execute_result"
    }
   ],
   "source": [
    "shuffled_dev['duration'].sum()"
   ]
  },
  {
   "cell_type": "code",
   "execution_count": null,
   "id": "12115e3f-a0e7-4a9e-8c5f-7adc27fcf0d8",
   "metadata": {},
   "outputs": [],
   "source": []
  },
  {
   "cell_type": "code",
   "execution_count": null,
   "id": "2eb90847-7350-4ba6-99d9-e007ac7ceaca",
   "metadata": {},
   "outputs": [],
   "source": []
  }
 ],
 "metadata": {
  "kernelspec": {
   "display_name": "Python 3.10.8 (ipykernel)",
   "language": "python",
   "name": "python-3.10.8"
  },
  "language_info": {
   "codemirror_mode": {
    "name": "ipython",
    "version": 3
   },
   "file_extension": ".py",
   "mimetype": "text/x-python",
   "name": "python",
   "nbconvert_exporter": "python",
   "pygments_lexer": "ipython3",
   "version": "3.10.8"
  }
 },
 "nbformat": 4,
 "nbformat_minor": 5
}

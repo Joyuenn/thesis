{
 "cells": [
  {
   "cell_type": "code",
   "execution_count": 4,
   "id": "82cfdbf9-8a52-47e0-96ac-d2d84267908e",
   "metadata": {},
   "outputs": [],
   "source": [
    "# Purpose: shuffle the full dataset of training, development and testing sets\n",
    "# Requirement: prepare_scripted_datasets.py (ipynb)\n",
    "#              Check_duration_15sec.py (ipynb)\n",
    "#              group_speaker_id.py (ipynb)\n",
    "#              dataset_splitting.py (ipynb)"
   ]
  },
  {
   "cell_type": "code",
   "execution_count": 5,
   "id": "7d3964cc-f20e-48b9-b1cc-a5a2adf0403b",
   "metadata": {},
   "outputs": [],
   "source": [
    "# ------------------------------------------\n",
    "#        Importing libraies\n",
    "# ------------------------------------------\n",
    "\n",
    "# For dataframes\n",
    "import pandas as pd\n",
    "# For splitting data\n",
    "from sklearn.model_selection import train_test_split\n",
    "# For printing filepath\n",
    "import os"
   ]
  },
  {
   "cell_type": "code",
   "execution_count": 6,
   "id": "e9626e50-8290-474d-8ab7-c13f139c73d5",
   "metadata": {},
   "outputs": [
    {
     "name": "stdout",
     "output_type": "stream",
     "text": [
      "\n",
      "------> Setting seed... ----------------------------------------------\n",
      "\n",
      "--> Setting seed as: 230\n"
     ]
    }
   ],
   "source": [
    "# ------------------------------------------\n",
    "#           Setting seed\n",
    "# ------------------------------------------\n",
    "print(\"\\n------> Setting seed... ----------------------------------------------\\n\")\n",
    "# Set a seed to ensure random split can be reproducible\n",
    "seed = 230\n",
    "print(\"--> Setting seed as:\", seed)"
   ]
  },
  {
   "cell_type": "code",
   "execution_count": 7,
   "id": "74bcac2f-e002-4692-aa0a-1c55f1148f40",
   "metadata": {},
   "outputs": [],
   "source": [
    "# ------------------------------------------\n",
    "#        Setting filepath\n",
    "# ------------------------------------------\n",
    "# These data filepath contain dataframes generated from 'dataset_splitting.py'\n",
    "#data_train_fp = '/srv/scratch/z5313567/thesis/OGI_local/OGI_scripted_train_dataframe.csv'\n",
    "#data_dev_fp = '/srv/scratch/z5313567/thesis/OGI_local/OGI_scripted_dev_dataframe.csv'\n",
    "#data_test_fp = '/srv/scratch/z5313567/thesis/OGI_local/OGI_scripted_test_dataframe.csv'\n",
    "\n",
    "#data_train_fp = '/srv/scratch/z5313567/thesis/OGI_AusKidTalk_local/scripted_OGI_scripted_AusKidTalk_train_dataframe.csv'\n",
    "data_train_fp = '/srv/scratch/z5313567/thesis/CU_local/CU_full_train_dataframe_15sec.csv'\n",
    "data_dev_fp = '/srv/scratch/z5313567/thesis/CU_local/CU_full_dev_dataframe_15sec.csv'\n",
    "data_test_fp = '/srv/scratch/z5313567/thesis/CU_local/CU_full_test_dataframe_15sec.csv'"
   ]
  },
  {
   "cell_type": "code",
   "execution_count": 8,
   "id": "51dae384-e3f8-404d-b929-0487cefbac68",
   "metadata": {},
   "outputs": [],
   "source": [
    "# where full datasets are saved\n",
    "data_train_full_fp = '/srv/scratch/z5313567/thesis/CU_local/CU_full_train_15sec_shuffled.csv'\n",
    "data_dev_full_fp = '/srv/scratch/z5313567/thesis/CU_local/CU_full_dev_15sec_shuffled.csv'\n",
    "data_test_full_fp = '/srv/scratch/z5313567/thesis/CU_local/CU_full_test_15sec_shuffled.csv'"
   ]
  },
  {
   "cell_type": "code",
   "execution_count": 9,
   "id": "effa8868-f92e-4a4a-b06b-3f3b63c586a1",
   "metadata": {},
   "outputs": [],
   "source": [
    "# ------------------------------------------\n",
    "#        Reading in dataframe\n",
    "# ------------------------------------------\n",
    "# Reading in data dataframe from csv file, as string type\n",
    "# to preserve leading zeros in speaker id\n",
    "#data_train_df = pd.read_csv(data_train_fp, dtype={'speaker_id': str})\n",
    "#data_dev_df = pd.read_csv(data_dev_fp, dtype={'speaker_id': str})\n",
    "#data_test_df = pd.read_csv(data_test_fp, dtype={'speaker_id': str})\n",
    "data_train_df = pd.read_csv(data_train_fp, dtype=str)\n",
    "data_dev_df = pd.read_csv(data_dev_fp, dtype=str)\n",
    "data_test_df = pd.read_csv(data_test_fp, dtype=str)\n",
    "\n",
    "# Converting duration column to float64\n",
    "data_train_df[\"duration\"] = data_train_df[\"duration\"].apply(pd.to_numeric)\n",
    "data_dev_df[\"duration\"] = data_dev_df[\"duration\"].apply(pd.to_numeric)\n",
    "data_test_df[\"duration\"] = data_test_df[\"duration\"].apply(pd.to_numeric)"
   ]
  },
  {
   "cell_type": "code",
   "execution_count": 10,
   "id": "e9700014-b105-4695-aef7-971d98f40b2b",
   "metadata": {},
   "outputs": [
    {
     "name": "stdout",
     "output_type": "stream",
     "text": [
      "Total duration in train dataset is 47.131229100529104 hours\n",
      "                                                filepath  duration speaker_id   \n",
      "0      /srv/scratch/chacmod/CU_2/corpus/data/train-pa...  2.930068    0200236  \\\n",
      "1      /srv/scratch/chacmod/CU_2/corpus/data/train-pa...  1.780000    0200126   \n",
      "2      /srv/scratch/chacmod/CU_2/corpus/data/train-pa...  0.860000    0300095   \n",
      "3      /srv/scratch/chacmod/CU_2/corpus/data/train-pa...  1.120136    0200211   \n",
      "4      /srv/scratch/chacmod/CU_2/corpus/data/train-pa...  1.075011    0100343   \n",
      "...                                                  ...       ...        ...   \n",
      "57324  /srv/scratch/chacmod/CU_2/corpus/data/train-pa...  2.520000    0100032   \n",
      "57325  /srv/scratch/chacmod/CU_2/corpus/data/train-pa...  7.391066    0300037   \n",
      "57326  /srv/scratch/chacmod/CU_2/corpus/data/train-pa...  3.955011    0200018   \n",
      "57327  /srv/scratch/chacmod/CU_2/corpus/data/train-pa...  0.960000    0100042   \n",
      "57328  /srv/scratch/chacmod/CU_2/corpus/data/train-pa...  1.410023    0200124   \n",
      "\n",
      "                                           transcription  \n",
      "0                      BI BUBBLES BIG WHY ARE SOME SMALL  \n",
      "1                                            JANE'S FROG  \n",
      "2                                                 SEEMED  \n",
      "3                                                    CAN  \n",
      "4                                               MEASURED  \n",
      "...                                                  ...  \n",
      "57324                                                 EH  \n",
      "57325  IT WAS SUPPOSED TO BE IT WAS JUST LIKE HE REME...  \n",
      "57326                        ONE EIGHT FOUR ONE ZERO ONE  \n",
      "57327                                              WIDTH  \n",
      "57328                                             MOUTHS  \n",
      "\n",
      "[57329 rows x 4 columns]\n"
     ]
    }
   ],
   "source": [
    "shuffled_train = data_train_df.sample(frac=1.0, random_state=seed)\n",
    "shuffled_train = shuffled_train.reset_index(drop=True)\n",
    "shuffled_train['speaker_id'] = shuffled_train['speaker_id'].astype(str) # preverse leading zeros\n",
    "shuffled_train.to_csv(data_train_full_fp, index=False)\n",
    "duration = shuffled_train['duration'].sum()\n",
    "print(f'Total duration in train dataset is {duration/(60*60)} hours')\n",
    "print(shuffled_train)"
   ]
  },
  {
   "cell_type": "code",
   "execution_count": 11,
   "id": "dd42bac0-eb1a-4df4-9df5-ae1f492c336d",
   "metadata": {},
   "outputs": [
    {
     "name": "stdout",
     "output_type": "stream",
     "text": [
      "Total duration in dev dataset is 8.942813466868229 hours\n",
      "                                                filepath  duration speaker_id   \n",
      "0      /srv/scratch/chacmod/CU_2/corpus/data/train-pa...  1.645034    0200305  \\\n",
      "1      /srv/scratch/chacmod/CU_2/corpus/data/train-pa...  1.205034    0000056   \n",
      "2      /srv/scratch/chacmod/CU_2/corpus/data/train-pa...  4.610068    0200151   \n",
      "3      /srv/scratch/chacmod/CU_2/corpus/data/train-pa...  2.860000    0401006   \n",
      "4      /srv/scratch/chacmod/CU_2/corpus/data/train-pa...  1.840000    0200185   \n",
      "...                                                  ...       ...        ...   \n",
      "11052  /srv/scratch/chacmod/CU_2/corpus/data/train-pa...  1.055011    0300097   \n",
      "11053  /srv/scratch/chacmod/CU_2/corpus/data/train-pa...  1.205034    0100044   \n",
      "11054  /srv/scratch/chacmod/CU_2/corpus/data/train-pa...  0.955011    0401006   \n",
      "11055  /srv/scratch/chacmod/CU_2/corpus/data/train-pa...  2.860000    0402034   \n",
      "11056  /srv/scratch/chacmod/CU_2/corpus/data/train-pa...  2.600091    0200117   \n",
      "\n",
      "                            transcription  \n",
      "0                               STAUNCHLY  \n",
      "1                                   SHARE  \n",
      "2      HE SPRINTED TO HIS OWNERS AND GAVE  \n",
      "3                ZERO FIVE SEVEN NINE TWO  \n",
      "4                                SPRINTED  \n",
      "...                                   ...  \n",
      "11052                                  ON  \n",
      "11053                            INK PINK  \n",
      "11054                                OOPS  \n",
      "11055                           FLASHBULB  \n",
      "11056    WHAT DO WHAT DO THEY MEAN HE WAS  \n",
      "\n",
      "[11057 rows x 4 columns]\n"
     ]
    }
   ],
   "source": [
    "shuffled_dev = data_dev_df.sample(frac=1.0, random_state=seed)\n",
    "shuffled_dev = shuffled_dev.reset_index(drop=True)\n",
    "shuffled_dev['speaker_id'] = shuffled_dev['speaker_id'].astype(str) # preverse leading zeros\n",
    "shuffled_dev.to_csv(data_dev_full_fp, index=False)\n",
    "duration = shuffled_dev['duration'].sum()\n",
    "print(f'Total duration in dev dataset is {duration/(60*60)} hours')\n",
    "print(shuffled_dev)"
   ]
  },
  {
   "cell_type": "code",
   "execution_count": 12,
   "id": "7c2ed880-17d7-4de8-ae53-e00357eca2b5",
   "metadata": {},
   "outputs": [
    {
     "name": "stdout",
     "output_type": "stream",
     "text": [
      "Total duration in test dataset is 8.584900818846055 hours\n",
      "                                                filepath  duration speaker_id   \n",
      "0      /srv/scratch/chacmod/CU_2/corpus/data/train-pa...  2.960091    0100301  \\\n",
      "1      /srv/scratch/chacmod/CU_2/corpus/data/train-pa...  1.320000    0300091   \n",
      "2      /srv/scratch/chacmod/CU_2/corpus/data/train-pa...  1.270068    0200202   \n",
      "3      /srv/scratch/chacmod/CU_2/corpus/data/train-pa...  4.012154    0500047   \n",
      "4      /srv/scratch/chacmod/CU_2/corpus/data/train-pa...  1.130023    0000011   \n",
      "...                                                  ...       ...        ...   \n",
      "10484  /srv/scratch/chacmod/CU_2/corpus/data/train-pa...  1.325034    0102207   \n",
      "10485  /srv/scratch/chacmod/CU_2/corpus/data/train-pa...  5.570068    0100314   \n",
      "10486  /srv/scratch/chacmod/CU_2/corpus/data/train-pa...  1.260000    0300098   \n",
      "10487  /srv/scratch/chacmod/CU_2/corpus/data/train-pa...  3.940000    0200239   \n",
      "10488  /srv/scratch/chacmod/CU_2/corpus/data/train-pa...  2.360091    0200122   \n",
      "\n",
      "                                           transcription  \n",
      "0                         JACK HELD THE MAGNETS OVER HIS  \n",
      "1                                                WOLFMAN  \n",
      "2                                                   INTO  \n",
      "3      NO ONE COULD HEAR ANYTHING PEOPLE WERE GETTING...  \n",
      "4                                              SHIPSHAPE  \n",
      "...                                                  ...  \n",
      "10484                                            PRORATE  \n",
      "10485         JACK SAID NO MAGNETS ONLY PULL SOME THINGS  \n",
      "10486                                               HUGE  \n",
      "10487                      SHOW THAT THERE HAS BEEN SOME  \n",
      "10488                        THAT LEFT FLOAT THROUGH THE  \n",
      "\n",
      "[10489 rows x 4 columns]\n"
     ]
    }
   ],
   "source": [
    "shuffled_test = data_test_df.sample(frac=1.0, random_state=seed)\n",
    "shuffled_test = shuffled_test.reset_index(drop=True)\n",
    "shuffled_test['speaker_id'] = shuffled_test['speaker_id'].astype(str) \n",
    "shuffled_test.to_csv(data_test_full_fp, index=False)\n",
    "duration = shuffled_test['duration'].sum()\n",
    "print(f'Total duration in test dataset is {duration/(60*60)} hours')\n",
    "print(shuffled_test)"
   ]
  },
  {
   "cell_type": "code",
   "execution_count": null,
   "id": "048ca63c-4111-4ad7-be21-e1ad1479ff81",
   "metadata": {},
   "outputs": [],
   "source": []
  },
  {
   "cell_type": "code",
   "execution_count": 13,
   "id": "5f77fc18-e68c-498a-a06a-01f8fbfc0943",
   "metadata": {},
   "outputs": [
    {
     "data": {
      "text/plain": [
       "32194.128480725623"
      ]
     },
     "execution_count": 13,
     "metadata": {},
     "output_type": "execute_result"
    }
   ],
   "source": [
    "shuffled_dev['duration'].sum()"
   ]
  },
  {
   "cell_type": "code",
   "execution_count": null,
   "id": "12115e3f-a0e7-4a9e-8c5f-7adc27fcf0d8",
   "metadata": {},
   "outputs": [],
   "source": []
  },
  {
   "cell_type": "code",
   "execution_count": null,
   "id": "2eb90847-7350-4ba6-99d9-e007ac7ceaca",
   "metadata": {},
   "outputs": [],
   "source": []
  }
 ],
 "metadata": {
  "kernelspec": {
   "display_name": "Python 3.10.8 (ipykernel)",
   "language": "python",
   "name": "python-3.10.8"
  },
  "language_info": {
   "codemirror_mode": {
    "name": "ipython",
    "version": 3
   },
   "file_extension": ".py",
   "mimetype": "text/x-python",
   "name": "python",
   "nbconvert_exporter": "python",
   "pygments_lexer": "ipython3",
   "version": "3.10.8"
  }
 },
 "nbformat": 4,
 "nbformat_minor": 5
}

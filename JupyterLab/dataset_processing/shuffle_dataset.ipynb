{
 "cells": [
  {
   "cell_type": "code",
   "execution_count": 2,
   "id": "82cfdbf9-8a52-47e0-96ac-d2d84267908e",
   "metadata": {},
   "outputs": [],
   "source": [
    "# Purpose: shuffle the full dataset of training, development and testing sets\n",
    "# Requirement: prepare_scripted_datasets.py (ipynb)\n",
    "#              group_speaker_id.py (ipynb)\n",
    "#              dataset_splitting.py (ipynb)"
   ]
  },
  {
   "cell_type": "code",
   "execution_count": 3,
   "id": "7d3964cc-f20e-48b9-b1cc-a5a2adf0403b",
   "metadata": {},
   "outputs": [],
   "source": [
    "# ------------------------------------------\n",
    "#        Importing libraies\n",
    "# ------------------------------------------\n",
    "\n",
    "# For dataframes\n",
    "import pandas as pd\n",
    "# For splitting data\n",
    "from sklearn.model_selection import train_test_split\n",
    "# For printing filepath\n",
    "import os"
   ]
  },
  {
   "cell_type": "code",
   "execution_count": 4,
   "id": "e9626e50-8290-474d-8ab7-c13f139c73d5",
   "metadata": {},
   "outputs": [
    {
     "name": "stdout",
     "output_type": "stream",
     "text": [
      "\n",
      "------> Setting seed... ----------------------------------------------\n",
      "\n",
      "--> Setting seed as: 230\n"
     ]
    }
   ],
   "source": [
    "# ------------------------------------------\n",
    "#           Setting seed\n",
    "# ------------------------------------------\n",
    "print(\"\\n------> Setting seed... ----------------------------------------------\\n\")\n",
    "# Set a seed to ensure random split can be reproducible\n",
    "seed = 230\n",
    "print(\"--> Setting seed as:\", seed)"
   ]
  },
  {
   "cell_type": "code",
   "execution_count": 5,
   "id": "74bcac2f-e002-4692-aa0a-1c55f1148f40",
   "metadata": {},
   "outputs": [],
   "source": [
    "# ------------------------------------------\n",
    "#        Setting filepath\n",
    "# ------------------------------------------\n",
    "# These data filepath contain dataframes generated from 'dataset_splitting.py'\n",
    "#data_train_fp = '/srv/scratch/z5313567/thesis/OGI_local/OGI_scripted_train_dataframe.csv'\n",
    "#data_dev_fp = '/srv/scratch/z5313567/thesis/OGI_local/OGI_scripted_dev_dataframe.csv'\n",
    "#data_test_fp = '/srv/scratch/z5313567/thesis/OGI_local/OGI_scripted_test_dataframe.csv'\n",
    "\n",
    "data_train_fp = '/srv/scratch/z5313567/thesis/OGI_local/new_full_combined_scripted_spontaneous/full_OGI_combined_scripted_spontaneous_train_dataframe.csv'\n",
    "data_dev_fp = '/srv/scratch/z5313567/thesis/OGI_local/new_full_combined_scripted_spontaneous/full_OGI_combined_scripted_spontaneous_dev_dataframe.csv'\n",
    "data_test_fp = '/srv/scratch/z5313567/thesis/OGI_local/new_full_combined_scripted_spontaneous/full_OGI_combined_scripted_spontaneous_test_dataframe.csv'"
   ]
  },
  {
   "cell_type": "code",
   "execution_count": 6,
   "id": "51dae384-e3f8-404d-b929-0487cefbac68",
   "metadata": {},
   "outputs": [],
   "source": [
    "# where full datasets are saved\n",
    "data_train_full_fp = '/srv/scratch/z5313567/thesis/OGI_local/new_full_combined_scripted_spontaneous/full_OGI_combined_scripted_spontaneous_train_shuffle.csv'\n",
    "data_dev_full_fp = '/srv/scratch/z5313567/thesis/OGI_local/new_full_combined_scripted_spontaneous/full_OGI_combined_scripted_spontaneous_dev_shuffle.csv'\n",
    "data_test_full_fp = '/srv/scratch/z5313567/thesis/OGI_local/new_full_combined_scripted_spontaneous/full_OGI_combined_scripted_spontaneous_test_shuffle.csv'"
   ]
  },
  {
   "cell_type": "code",
   "execution_count": 7,
   "id": "effa8868-f92e-4a4a-b06b-3f3b63c586a1",
   "metadata": {},
   "outputs": [],
   "source": [
    "# ------------------------------------------\n",
    "#        Reading in dataframe\n",
    "# ------------------------------------------\n",
    "# Reading in data dataframe from csv file, as string type\n",
    "# to preserve leading zeros in speaker id\n",
    "data_train_df = pd.read_csv(data_train_fp, dtype=str)\n",
    "data_dev_df = pd.read_csv(data_dev_fp, dtype=str)\n",
    "data_test_df = pd.read_csv(data_test_fp, dtype=str)\n",
    "# Converting duration column to float64\n",
    "data_train_df[\"duration\"] = data_train_df[\"duration\"].apply(pd.to_numeric)\n",
    "data_dev_df[\"duration\"] = data_dev_df[\"duration\"].apply(pd.to_numeric)\n",
    "data_test_df[\"duration\"] = data_test_df[\"duration\"].apply(pd.to_numeric)"
   ]
  },
  {
   "cell_type": "code",
   "execution_count": 8,
   "id": "e9700014-b105-4695-aef7-971d98f40b2b",
   "metadata": {},
   "outputs": [
    {
     "name": "stdout",
     "output_type": "stream",
     "text": [
      "Total duration in train dataset is 69.86795187704712 hours\n",
      "                                                filepath  duration speaker_id   \n",
      "0      /srv/scratch/chacmod/OGI/speech/scripted/05/0/...  3.156689      ks50a  \\\n",
      "1      /srv/scratch/chacmod/OGI/speech/scripted/05/2/...  1.302222      ksg40   \n",
      "2      /srv/scratch/chacmod/OGI/speech/scripted/06/0/...  1.607574      ksh3s   \n",
      "3      /srv/scratch/chacmod/OGI/speech/scripted/10/1/...  6.119002      ksa3n   \n",
      "4      /srv/scratch/chacmod/OGI/speech/scripted/08/2/...  2.359501      ks83l   \n",
      "...                                                  ...       ...        ...   \n",
      "50949  /srv/scratch/chacmod/OGI/speech/scripted/09/3/...  1.987710      ks937   \n",
      "50950  /srv/scratch/chacmod/OGI/speech/scripted/05/2/...  4.239138      ksg02   \n",
      "50951  /srv/scratch/chacmod/OGI/speech/scripted/05/3/...  4.963220      ksg14   \n",
      "50952  /srv/scratch/chacmod/OGI/speech/scripted/00/0/...  3.114649      ks03g   \n",
      "50953  /srv/scratch/chacmod/OGI/speech/scripted/08/3/...  2.359501      ks82s   \n",
      "\n",
      "                                      transcription  \n",
      "0                                          crenshaw  \n",
      "1                                            yellow  \n",
      "2                                               two  \n",
      "3      the herd became angry and started a stampede  \n",
      "4                                            bronco  \n",
      "...                                             ...  \n",
      "50949                                          shoe  \n",
      "50950                 don't think about it too much  \n",
      "50951       eating blueberries gives you blue hands  \n",
      "50952                                        design  \n",
      "50953                                    represents  \n",
      "\n",
      "[50954 rows x 4 columns]\n"
     ]
    }
   ],
   "source": [
    "shuffled_train = data_train_df.sample(frac=1.0, random_state=seed)\n",
    "shuffled_train = shuffled_train.reset_index(drop=True)\n",
    "shuffled_train.to_csv(data_train_full_fp, index=False)\n",
    "duration = shuffled_train['duration'].sum()\n",
    "print(f'Total duration in train dataset is {duration/(60*60)} hours')\n",
    "print(shuffled_train)"
   ]
  },
  {
   "cell_type": "code",
   "execution_count": 9,
   "id": "dd42bac0-eb1a-4df4-9df5-ae1f492c336d",
   "metadata": {},
   "outputs": [
    {
     "name": "stdout",
     "output_type": "stream",
     "text": [
      "Total duration in dev dataset is 15.218279768203578 hours\n",
      "                                                filepath  duration speaker_id   \n",
      "0      /srv/scratch/chacmod/OGI/speech/scripted/08/4/...  2.338957      ks80v  \\\n",
      "1      /srv/scratch/chacmod/OGI/speech/scripted/06/0/...  5.734512      ks63i   \n",
      "2      /srv/scratch/chacmod/OGI/speech/scripted/09/3/...  2.719592      ks90f   \n",
      "3      /srv/scratch/chacmod/OGI/speech/scripted/03/2/...  3.155646      ks30x   \n",
      "4      /srv/scratch/chacmod/OGI/speech/scripted/06/2/...  2.339093      ks61i   \n",
      "...                                                  ...       ...        ...   \n",
      "11127  /srv/scratch/chacmod/OGI/speech/scripted/03/2/...  3.155964      ks31d   \n",
      "11128  /srv/scratch/chacmod/OGI/speech/scripted/01/2/...  3.112698      ksc3y   \n",
      "11129  /srv/scratch/chacmod/OGI/speech/scripted/07/0/...  2.338821      ksi0y   \n",
      "11130  /srv/scratch/chacmod/OGI/speech/scripted/01/2/...  5.117143      ksc3y   \n",
      "11131  /srv/scratch/chacmod/OGI/speech/scripted/03/3/...  6.605261      ks333   \n",
      "\n",
      "                                transcription  \n",
      "0                                      spoons  \n",
      "1      they put my computer next to the books  \n",
      "2                                        sour  \n",
      "3                                        push  \n",
      "4                                        push  \n",
      "...                                       ...  \n",
      "11127                              microwaves  \n",
      "11128                                  normal  \n",
      "11129                                  design  \n",
      "11130                  pass their notes along  \n",
      "11131    search in between the couch cushions  \n",
      "\n",
      "[11132 rows x 4 columns]\n"
     ]
    }
   ],
   "source": [
    "shuffled_dev = data_dev_df.sample(frac=1.0, random_state=seed)\n",
    "shuffled_dev = shuffled_dev.reset_index(drop=True)\n",
    "shuffled_dev.to_csv(data_dev_full_fp, index=False)\n",
    "duration = shuffled_dev['duration'].sum()\n",
    "print(f'Total duration in dev dataset is {duration/(60*60)} hours')\n",
    "print(shuffled_dev)"
   ]
  },
  {
   "cell_type": "code",
   "execution_count": 10,
   "id": "7c2ed880-17d7-4de8-ae53-e00357eca2b5",
   "metadata": {},
   "outputs": [
    {
     "name": "stdout",
     "output_type": "stream",
     "text": [
      "Total duration in test dataset is 15.296677059712776 hours\n",
      "                                                filepath  duration speaker_id   \n",
      "0      /srv/scratch/chacmod/OGI/speech/scripted/08/0/...  1.407846      ks81c  \\\n",
      "1      /srv/scratch/chacmod/OGI/speech/scripted/01/3/...  3.591293      ks10d   \n",
      "2      /srv/scratch/chacmod/OGI/speech/scripted/01/3/...  4.092154      ks10u   \n",
      "3      /srv/scratch/chacmod/OGI/speech/scripted/05/0/...  4.952653      ksg4a   \n",
      "4      /srv/scratch/chacmod/OGI/speech/scripted/05/0/...  1.588073      ks50c   \n",
      "...                                                  ...       ...        ...   \n",
      "11009  /srv/scratch/chacmod/OGI/speech/scripted/09/0/...  4.982766      ks92x   \n",
      "11010  /srv/scratch/chacmod/OGI/speech/scripted/01/1/...  3.103537      ksc39   \n",
      "11011  /srv/scratch/chacmod/OGI/speech/scripted/02/0/...  5.118639      ks23o   \n",
      "11012  /srv/scratch/chacmod/OGI/speech/scripted/01/3/...  2.614694      ksc01   \n",
      "11013  /srv/scratch/chacmod/OGI/speech/scripted/05/2/...  1.607846      ksg3x   \n",
      "\n",
      "                           transcription  \n",
      "0                                 singer  \n",
      "1                              hawthorne  \n",
      "2                    don't leave so soon  \n",
      "3      that pink marble cost me a dollar  \n",
      "4                                  logic  \n",
      "...                                  ...  \n",
      "11009          that person eats pancakes  \n",
      "11010                             spoons  \n",
      "11011            bill has purple glasses  \n",
      "11012                           overalls  \n",
      "11013                         pathfinder  \n",
      "\n",
      "[11014 rows x 4 columns]\n"
     ]
    }
   ],
   "source": [
    "shuffled_test = data_test_df.sample(frac=1.0, random_state=seed)\n",
    "shuffled_test = shuffled_test.reset_index(drop=True)\n",
    "shuffled_test.to_csv(data_test_full_fp, index=False)\n",
    "duration = shuffled_test['duration'].sum()\n",
    "print(f'Total duration in test dataset is {duration/(60*60)} hours')\n",
    "print(shuffled_test)"
   ]
  },
  {
   "cell_type": "code",
   "execution_count": null,
   "id": "048ca63c-4111-4ad7-be21-e1ad1479ff81",
   "metadata": {},
   "outputs": [],
   "source": []
  },
  {
   "cell_type": "code",
   "execution_count": 11,
   "id": "5f77fc18-e68c-498a-a06a-01f8fbfc0943",
   "metadata": {},
   "outputs": [
    {
     "data": {
      "text/plain": [
       "54785.80716553288"
      ]
     },
     "execution_count": 11,
     "metadata": {},
     "output_type": "execute_result"
    }
   ],
   "source": [
    "shuffled_dev['duration'].sum()"
   ]
  },
  {
   "cell_type": "code",
   "execution_count": null,
   "id": "12115e3f-a0e7-4a9e-8c5f-7adc27fcf0d8",
   "metadata": {},
   "outputs": [],
   "source": []
  },
  {
   "cell_type": "code",
   "execution_count": null,
   "id": "2eb90847-7350-4ba6-99d9-e007ac7ceaca",
   "metadata": {},
   "outputs": [],
   "source": []
  }
 ],
 "metadata": {
  "kernelspec": {
   "display_name": "Python 3.10.8 (ipykernel)",
   "language": "python",
   "name": "python-3.10.8"
  },
  "language_info": {
   "codemirror_mode": {
    "name": "ipython",
    "version": 3
   },
   "file_extension": ".py",
   "mimetype": "text/x-python",
   "name": "python",
   "nbconvert_exporter": "python",
   "pygments_lexer": "ipython3",
   "version": "3.10.8"
  }
 },
 "nbformat": 4,
 "nbformat_minor": 5
}

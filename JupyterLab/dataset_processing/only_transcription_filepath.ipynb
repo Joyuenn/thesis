{
 "cells": [
  {
   "cell_type": "code",
   "execution_count": 1,
   "id": "18adbf57-b897-45b8-bcdf-c945112de0ff",
   "metadata": {},
   "outputs": [],
   "source": [
    "# Purpose: Process the dataset such that it only contains 'filepath' and 'transcription_clean'\n",
    "# Requirement: prepare_scripted_datasets.py (ipynb)\n",
    "#              Check_duration_15sec.py (ipynb)\n",
    "#              group_speaker_id.py (ipynb)\n",
    "#              dataset_splitting.py (ipynb)\n",
    "#  (optional)  shuffle_dataset.py (ipynb)"
   ]
  },
  {
   "cell_type": "code",
   "execution_count": 2,
   "id": "39d2ba36-a6aa-4252-ac3d-1cc833f5e113",
   "metadata": {},
   "outputs": [
    {
     "name": "stderr",
     "output_type": "stream",
     "text": [
      "/home/z5313567/.local/lib/python3.10/site-packages/pydub/utils.py:170: RuntimeWarning: Couldn't find ffmpeg or avconv - defaulting to ffmpeg, but may not work\n",
      "  warn(\"Couldn't find ffmpeg or avconv - defaulting to ffmpeg, but may not work\", RuntimeWarning)\n"
     ]
    }
   ],
   "source": [
    "from os.path import join\n",
    "from praatio import tgio\n",
    "from pydub import AudioSegment\n",
    "import pandas as pd\n",
    "import os"
   ]
  },
  {
   "cell_type": "code",
   "execution_count": 8,
   "id": "07419a87-9bd3-46fc-a373-c92a0e667504",
   "metadata": {},
   "outputs": [],
   "source": [
    "data_fp =  '/srv/scratch/z5313567/thesis/AusKidTalk_local/spontaneous_v2/test_speaker_219/train_15sec.csv'\n",
    "save_fp =  '/srv/scratch/z5313567/thesis/AusKidTalk_local/spontaneous_v2/test_speaker_219/train_15sec_only_transcription_filepath.csv'"
   ]
  },
  {
   "cell_type": "code",
   "execution_count": 9,
   "id": "b092de62-9c19-44ef-9854-c23aed60116b",
   "metadata": {},
   "outputs": [
    {
     "name": "stdout",
     "output_type": "stream",
     "text": [
      "\n",
      "------> Extracting transcription and filepath... ------\n",
      "\n"
     ]
    }
   ],
   "source": [
    "print(\"\\n------> Extracting transcription and filepath... ------\\n\")\n",
    "df = pd.read_csv(data_fp)\n",
    "new_df = df[['filepath', 'transcription']]"
   ]
  },
  {
   "cell_type": "code",
   "execution_count": 10,
   "id": "fe85f9e0-9ba6-4cc7-996a-589beead6200",
   "metadata": {},
   "outputs": [],
   "source": [
    "# rename the 'transcriptions' column to 'transcription_clean'\n",
    "new_df = new_df.rename(columns={'transcription': 'transcription_clean'})"
   ]
  },
  {
   "cell_type": "code",
   "execution_count": 11,
   "id": "d7ad523c-922e-4121-84f8-af7970adbc61",
   "metadata": {},
   "outputs": [
    {
     "name": "stdout",
     "output_type": "stream",
     "text": [
      "\n",
      "------> Saving dataframe to csv file... ------\n",
      "\n",
      "Successfully saved dataframe to csv file at:  /srv/scratch/z5313567/thesis/AusKidTalk_local/spontaneous_v2/test_speaker_219/train_15sec_only_transcription_filepath.csv\n"
     ]
    }
   ],
   "source": [
    "print(\"\\n------> Saving dataframe to csv file... ------\\n\")\n",
    "new_df.to_csv(save_fp, index=False)\n",
    "print('Successfully saved dataframe to csv file at: ', save_fp)"
   ]
  },
  {
   "cell_type": "code",
   "execution_count": 12,
   "id": "a976bf40-09dd-470b-9a59-13f387e8e81b",
   "metadata": {},
   "outputs": [
    {
     "data": {
      "text/html": [
       "<div>\n",
       "<style scoped>\n",
       "    .dataframe tbody tr th:only-of-type {\n",
       "        vertical-align: middle;\n",
       "    }\n",
       "\n",
       "    .dataframe tbody tr th {\n",
       "        vertical-align: top;\n",
       "    }\n",
       "\n",
       "    .dataframe thead th {\n",
       "        text-align: right;\n",
       "    }\n",
       "</style>\n",
       "<table border=\"1\" class=\"dataframe\">\n",
       "  <thead>\n",
       "    <tr style=\"text-align: right;\">\n",
       "      <th></th>\n",
       "      <th>filepath</th>\n",
       "      <th>transcription_clean</th>\n",
       "    </tr>\n",
       "  </thead>\n",
       "  <tbody>\n",
       "    <tr>\n",
       "      <th>0</th>\n",
       "      <td>/srv/scratch/chacmod/auskidtalk_spontaneous_v2...</td>\n",
       "      <td>the boy was just riding his skateboard</td>\n",
       "    </tr>\n",
       "    <tr>\n",
       "      <th>1</th>\n",
       "      <td>/srv/scratch/chacmod/auskidtalk_spontaneous_v2...</td>\n",
       "      <td>the while the boy was riding the skateboard he...</td>\n",
       "    </tr>\n",
       "    <tr>\n",
       "      <th>2</th>\n",
       "      <td>/srv/scratch/chacmod/auskidtalk_spontaneous_v2...</td>\n",
       "      <td>he looked to see what was inside of the egg  egg</td>\n",
       "    </tr>\n",
       "    <tr>\n",
       "      <th>3</th>\n",
       "      <td>/srv/scratch/chacmod/auskidtalk_spontaneous_v2...</td>\n",
       "      <td>while doing that the egg cracked open and he w...</td>\n",
       "    </tr>\n",
       "    <tr>\n",
       "      <th>4</th>\n",
       "      <td>/srv/scratch/chacmod/auskidtalk_spontaneous_v2...</td>\n",
       "      <td>a dinosaur appeared from the egg and yeah</td>\n",
       "    </tr>\n",
       "    <tr>\n",
       "      <th>...</th>\n",
       "      <td>...</td>\n",
       "      <td>...</td>\n",
       "    </tr>\n",
       "    <tr>\n",
       "      <th>124</th>\n",
       "      <td>/srv/scratch/chacmod/auskidtalk_spontaneous/10...</td>\n",
       "      <td>the green dinosaur is on the ground being sad</td>\n",
       "    </tr>\n",
       "    <tr>\n",
       "      <th>125</th>\n",
       "      <td>/srv/scratch/chacmod/auskidtalk_spontaneous/10...</td>\n",
       "      <td>the green baby has second thoughts about playi...</td>\n",
       "    </tr>\n",
       "    <tr>\n",
       "      <th>126</th>\n",
       "      <td>/srv/scratch/chacmod/auskidtalk_spontaneous/10...</td>\n",
       "      <td>the green baby goes over to the green dinosaur...</td>\n",
       "    </tr>\n",
       "    <tr>\n",
       "      <th>127</th>\n",
       "      <td>/srv/scratch/chacmod/auskidtalk_spontaneous/10...</td>\n",
       "      <td>the green baby stuffs his bottle of milk into ...</td>\n",
       "    </tr>\n",
       "    <tr>\n",
       "      <th>128</th>\n",
       "      <td>/srv/scratch/chacmod/auskidtalk_spontaneous/10...</td>\n",
       "      <td>the green baby is laughing while the green din...</td>\n",
       "    </tr>\n",
       "  </tbody>\n",
       "</table>\n",
       "<p>129 rows × 2 columns</p>\n",
       "</div>"
      ],
      "text/plain": [
       "                                              filepath   \n",
       "0    /srv/scratch/chacmod/auskidtalk_spontaneous_v2...  \\\n",
       "1    /srv/scratch/chacmod/auskidtalk_spontaneous_v2...   \n",
       "2    /srv/scratch/chacmod/auskidtalk_spontaneous_v2...   \n",
       "3    /srv/scratch/chacmod/auskidtalk_spontaneous_v2...   \n",
       "4    /srv/scratch/chacmod/auskidtalk_spontaneous_v2...   \n",
       "..                                                 ...   \n",
       "124  /srv/scratch/chacmod/auskidtalk_spontaneous/10...   \n",
       "125  /srv/scratch/chacmod/auskidtalk_spontaneous/10...   \n",
       "126  /srv/scratch/chacmod/auskidtalk_spontaneous/10...   \n",
       "127  /srv/scratch/chacmod/auskidtalk_spontaneous/10...   \n",
       "128  /srv/scratch/chacmod/auskidtalk_spontaneous/10...   \n",
       "\n",
       "                                   transcription_clean  \n",
       "0               the boy was just riding his skateboard  \n",
       "1    the while the boy was riding the skateboard he...  \n",
       "2     he looked to see what was inside of the egg  egg  \n",
       "3    while doing that the egg cracked open and he w...  \n",
       "4            a dinosaur appeared from the egg and yeah  \n",
       "..                                                 ...  \n",
       "124      the green dinosaur is on the ground being sad  \n",
       "125  the green baby has second thoughts about playi...  \n",
       "126  the green baby goes over to the green dinosaur...  \n",
       "127  the green baby stuffs his bottle of milk into ...  \n",
       "128  the green baby is laughing while the green din...  \n",
       "\n",
       "[129 rows x 2 columns]"
      ]
     },
     "execution_count": 12,
     "metadata": {},
     "output_type": "execute_result"
    }
   ],
   "source": [
    "new_df"
   ]
  },
  {
   "cell_type": "code",
   "execution_count": null,
   "id": "b8a0f0e1-d367-41eb-8029-9b0ccee23491",
   "metadata": {},
   "outputs": [],
   "source": []
  },
  {
   "cell_type": "code",
   "execution_count": null,
   "id": "da1f2413-0d01-41a4-b4d5-1e58199f18ae",
   "metadata": {},
   "outputs": [],
   "source": []
  },
  {
   "cell_type": "code",
   "execution_count": null,
   "id": "4671ba82-7a82-490a-a791-7f45ad14a0e4",
   "metadata": {},
   "outputs": [],
   "source": []
  }
 ],
 "metadata": {
  "kernelspec": {
   "display_name": "Python 3.10.8 (ipykernel)",
   "language": "python",
   "name": "python-3.10.8"
  },
  "language_info": {
   "codemirror_mode": {
    "name": "ipython",
    "version": 3
   },
   "file_extension": ".py",
   "mimetype": "text/x-python",
   "name": "python",
   "nbconvert_exporter": "python",
   "pygments_lexer": "ipython3",
   "version": "3.10.8"
  }
 },
 "nbformat": 4,
 "nbformat_minor": 5
}

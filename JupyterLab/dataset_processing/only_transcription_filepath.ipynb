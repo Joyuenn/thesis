{
 "cells": [
  {
   "cell_type": "code",
   "execution_count": 1,
   "id": "18adbf57-b897-45b8-bcdf-c945112de0ff",
   "metadata": {},
   "outputs": [],
   "source": [
    "# Purpose: Process the dataset such that it only contains 'filepath' and 'transcription_clean'\n",
    "# Requirement: prepare_scripted_datasets.py (ipynb)\n",
    "#              Check_duration_15sec.py (ipynb)\n",
    "#              group_speaker_id.py (ipynb)\n",
    "#              dataset_splitting.py (ipynb)\n",
    "#  (optional)  dataset_shuffle.py (ipynb)"
   ]
  },
  {
   "cell_type": "code",
   "execution_count": 2,
   "id": "39d2ba36-a6aa-4252-ac3d-1cc833f5e113",
   "metadata": {},
   "outputs": [
    {
     "name": "stderr",
     "output_type": "stream",
     "text": [
      "/home/z5313567/.local/lib/python3.10/site-packages/pydub/utils.py:170: RuntimeWarning: Couldn't find ffmpeg or avconv - defaulting to ffmpeg, but may not work\n",
      "  warn(\"Couldn't find ffmpeg or avconv - defaulting to ffmpeg, but may not work\", RuntimeWarning)\n"
     ]
    }
   ],
   "source": [
    "from os.path import join\n",
    "from praatio import tgio\n",
    "from pydub import AudioSegment\n",
    "import pandas as pd\n",
    "import os"
   ]
  },
  {
   "cell_type": "code",
   "execution_count": 12,
   "id": "07419a87-9bd3-46fc-a373-c92a0e667504",
   "metadata": {},
   "outputs": [],
   "source": [
    "data_fp =  '/srv/scratch/z5313567/thesis/CU_local/CU_full_test_15sec_shuffled.csv'\n",
    "\n",
    "save_fp =  '/srv/scratch/z5313567/thesis/CU_local/CU_full_test_15sec_only_transcription_filepath.csv'"
   ]
  },
  {
   "cell_type": "code",
   "execution_count": 13,
   "id": "b092de62-9c19-44ef-9854-c23aed60116b",
   "metadata": {},
   "outputs": [
    {
     "name": "stdout",
     "output_type": "stream",
     "text": [
      "\n",
      "------> Extracting transcription and filepath... ------\n",
      "\n"
     ]
    }
   ],
   "source": [
    "print(\"\\n------> Extracting transcription and filepath... ------\\n\")\n",
    "df = pd.read_csv(data_fp)\n",
    "new_df = df[['filepath', 'transcription']]\n",
    "\n",
    "# rename the 'transcriptions' column to 'transcription_clean'\n",
    "new_df = new_df.rename(columns={'transcription': 'transcription_clean'})"
   ]
  },
  {
   "cell_type": "code",
   "execution_count": 14,
   "id": "d7ad523c-922e-4121-84f8-af7970adbc61",
   "metadata": {},
   "outputs": [
    {
     "name": "stdout",
     "output_type": "stream",
     "text": [
      "\n",
      "------> Saving dataframe to csv file... ------\n",
      "\n",
      "Successfully saved dataframe to csv file at:  /srv/scratch/z5313567/thesis/CU_local/CU_full_test_15sec_only_transcription_filepath.csv\n"
     ]
    }
   ],
   "source": [
    "print(\"\\n------> Saving dataframe to csv file... ------\\n\")\n",
    "new_df.to_csv(save_fp, index=False)\n",
    "print('Successfully saved dataframe to csv file at: ', save_fp)"
   ]
  },
  {
   "cell_type": "code",
   "execution_count": 15,
   "id": "a976bf40-09dd-470b-9a59-13f387e8e81b",
   "metadata": {},
   "outputs": [
    {
     "data": {
      "text/html": [
       "<div>\n",
       "<style scoped>\n",
       "    .dataframe tbody tr th:only-of-type {\n",
       "        vertical-align: middle;\n",
       "    }\n",
       "\n",
       "    .dataframe tbody tr th {\n",
       "        vertical-align: top;\n",
       "    }\n",
       "\n",
       "    .dataframe thead th {\n",
       "        text-align: right;\n",
       "    }\n",
       "</style>\n",
       "<table border=\"1\" class=\"dataframe\">\n",
       "  <thead>\n",
       "    <tr style=\"text-align: right;\">\n",
       "      <th></th>\n",
       "      <th>filepath</th>\n",
       "      <th>transcription_clean</th>\n",
       "    </tr>\n",
       "  </thead>\n",
       "  <tbody>\n",
       "    <tr>\n",
       "      <th>0</th>\n",
       "      <td>/srv/scratch/chacmod/CU_2/corpus/data/train-pa...</td>\n",
       "      <td>YOU KNOW WHAT TOMMY YOU KNOW WHAT TOMMY VICTOR...</td>\n",
       "    </tr>\n",
       "    <tr>\n",
       "      <th>1</th>\n",
       "      <td>/srv/scratch/chacmod/CU_2/corpus/data/train-pa...</td>\n",
       "      <td>YOUR JOB IS TO BE CUTE SO PEOPLE WILL TO RUN T...</td>\n",
       "    </tr>\n",
       "    <tr>\n",
       "      <th>2</th>\n",
       "      <td>/srv/scratch/chacmod/CU_2/corpus/data/train-pa...</td>\n",
       "      <td>SOMETHING IS WRONG</td>\n",
       "    </tr>\n",
       "    <tr>\n",
       "      <th>3</th>\n",
       "      <td>/srv/scratch/chacmod/CU_2/corpus/data/train-pa...</td>\n",
       "      <td>HI AUNT JANE SAID BILL CAN I USE YOUR OLD MARB...</td>\n",
       "    </tr>\n",
       "    <tr>\n",
       "      <th>4</th>\n",
       "      <td>/srv/scratch/chacmod/CU_2/corpus/data/train-pa...</td>\n",
       "      <td>MS GORDON SMILED</td>\n",
       "    </tr>\n",
       "    <tr>\n",
       "      <th>...</th>\n",
       "      <td>...</td>\n",
       "      <td>...</td>\n",
       "    </tr>\n",
       "    <tr>\n",
       "      <th>14887</th>\n",
       "      <td>/srv/scratch/chacmod/CU_2/corpus/data/train-pa...</td>\n",
       "      <td>DEAD RATS</td>\n",
       "    </tr>\n",
       "    <tr>\n",
       "      <th>14888</th>\n",
       "      <td>/srv/scratch/chacmod/CU_2/corpus/data/train-pa...</td>\n",
       "      <td>SUDDENLY A DOOR SLAMMED</td>\n",
       "    </tr>\n",
       "    <tr>\n",
       "      <th>14889</th>\n",
       "      <td>/srv/scratch/chacmod/CU_2/corpus/data/train-pa...</td>\n",
       "      <td>WE'LL CROSS THEM SOON F F FROM HERE THEY LOOK ...</td>\n",
       "    </tr>\n",
       "    <tr>\n",
       "      <th>14890</th>\n",
       "      <td>/srv/scratch/chacmod/CU_2/corpus/data/train-pa...</td>\n",
       "      <td>COWHERD</td>\n",
       "    </tr>\n",
       "    <tr>\n",
       "      <th>14891</th>\n",
       "      <td>/srv/scratch/chacmod/CU_2/corpus/data/train-pa...</td>\n",
       "      <td>AS</td>\n",
       "    </tr>\n",
       "  </tbody>\n",
       "</table>\n",
       "<p>14892 rows × 2 columns</p>\n",
       "</div>"
      ],
      "text/plain": [
       "                                                filepath   \n",
       "0      /srv/scratch/chacmod/CU_2/corpus/data/train-pa...  \\\n",
       "1      /srv/scratch/chacmod/CU_2/corpus/data/train-pa...   \n",
       "2      /srv/scratch/chacmod/CU_2/corpus/data/train-pa...   \n",
       "3      /srv/scratch/chacmod/CU_2/corpus/data/train-pa...   \n",
       "4      /srv/scratch/chacmod/CU_2/corpus/data/train-pa...   \n",
       "...                                                  ...   \n",
       "14887  /srv/scratch/chacmod/CU_2/corpus/data/train-pa...   \n",
       "14888  /srv/scratch/chacmod/CU_2/corpus/data/train-pa...   \n",
       "14889  /srv/scratch/chacmod/CU_2/corpus/data/train-pa...   \n",
       "14890  /srv/scratch/chacmod/CU_2/corpus/data/train-pa...   \n",
       "14891  /srv/scratch/chacmod/CU_2/corpus/data/train-pa...   \n",
       "\n",
       "                                     transcription_clean  \n",
       "0      YOU KNOW WHAT TOMMY YOU KNOW WHAT TOMMY VICTOR...  \n",
       "1      YOUR JOB IS TO BE CUTE SO PEOPLE WILL TO RUN T...  \n",
       "2                                     SOMETHING IS WRONG  \n",
       "3      HI AUNT JANE SAID BILL CAN I USE YOUR OLD MARB...  \n",
       "4                                       MS GORDON SMILED  \n",
       "...                                                  ...  \n",
       "14887                                          DEAD RATS  \n",
       "14888                            SUDDENLY A DOOR SLAMMED  \n",
       "14889  WE'LL CROSS THEM SOON F F FROM HERE THEY LOOK ...  \n",
       "14890                                            COWHERD  \n",
       "14891                                                 AS  \n",
       "\n",
       "[14892 rows x 2 columns]"
      ]
     },
     "execution_count": 15,
     "metadata": {},
     "output_type": "execute_result"
    }
   ],
   "source": [
    "new_df"
   ]
  },
  {
   "cell_type": "code",
   "execution_count": null,
   "id": "4028b38e-1ce4-474e-81e0-4a8c85f7d007",
   "metadata": {},
   "outputs": [],
   "source": []
  },
  {
   "cell_type": "code",
   "execution_count": null,
   "id": "5ec86030-c83e-47f3-8240-9fbc4fac7eef",
   "metadata": {},
   "outputs": [],
   "source": []
  }
 ],
 "metadata": {
  "kernelspec": {
   "display_name": "Python 3.10.8 (ipykernel)",
   "language": "python",
   "name": "python-3.10.8"
  },
  "language_info": {
   "codemirror_mode": {
    "name": "ipython",
    "version": 3
   },
   "file_extension": ".py",
   "mimetype": "text/x-python",
   "name": "python",
   "nbconvert_exporter": "python",
   "pygments_lexer": "ipython3",
   "version": "3.10.8"
  }
 },
 "nbformat": 4,
 "nbformat_minor": 5
}

{
 "cells": [
  {
   "cell_type": "code",
   "execution_count": 1,
   "id": "18adbf57-b897-45b8-bcdf-c945112de0ff",
   "metadata": {},
   "outputs": [],
   "source": [
    "# Purpose: Process the dataset such that it only contains 'filepath' and 'transcription_clean'\n",
    "# Requirement: prepare_scripted_datasets.py (ipynb)\n",
    "#              group_speaker_id.py (ipynb)\n",
    "#              dataset_splitting.py (ipynb)\n",
    "#  (optional)  full_dataset_shuffle.py (ipynb)"
   ]
  },
  {
   "cell_type": "code",
   "execution_count": 7,
   "id": "39d2ba36-a6aa-4252-ac3d-1cc833f5e113",
   "metadata": {},
   "outputs": [],
   "source": [
    "from os.path import join\n",
    "from praatio import tgio\n",
    "from pydub import AudioSegment\n",
    "import pandas as pd\n",
    "import os"
   ]
  },
  {
   "cell_type": "code",
   "execution_count": 12,
   "id": "07419a87-9bd3-46fc-a373-c92a0e667504",
   "metadata": {},
   "outputs": [],
   "source": [
    "data_fp = '/srv/scratch/z5313567/thesis/OGI_local/new_full_combined_scripted_spontaneous/full_OGI_combined_scripted_spontaneous_test_shuffle.csv'\n",
    "save_fp = '/srv/scratch/z5313567/thesis/OGI_local/new_full_combined_scripted_spontaneous/full_OGI_combined_scripted_spontaneous_test_shuffled_only_transcription_filepath.csv'"
   ]
  },
  {
   "cell_type": "code",
   "execution_count": 13,
   "id": "b092de62-9c19-44ef-9854-c23aed60116b",
   "metadata": {},
   "outputs": [
    {
     "name": "stdout",
     "output_type": "stream",
     "text": [
      "\n",
      "------> Extracting transcription and filepath... ------\n",
      "\n"
     ]
    }
   ],
   "source": [
    "print(\"\\n------> Extracting transcription and filepath... ------\\n\")\n",
    "df = pd.read_csv(data_fp)\n",
    "new_df = df[['filepath', 'transcription']]\n",
    "\n",
    "# rename the 'transcriptions' column to 'transcription_clean'\n",
    "new_df = new_df.rename(columns={'transcription': 'transcription_clean'})"
   ]
  },
  {
   "cell_type": "code",
   "execution_count": 14,
   "id": "d7ad523c-922e-4121-84f8-af7970adbc61",
   "metadata": {},
   "outputs": [
    {
     "name": "stdout",
     "output_type": "stream",
     "text": [
      "\n",
      "------> Saving dataframe to csv file... ------\n",
      "\n",
      "Successfully saved dataframe to csv file at:  /srv/scratch/z5313567/thesis/OGI_local/new_full_combined_scripted_spontaneous/full_OGI_combined_scripted_spontaneous_test_shuffled_only_transcription_filepath.csv\n"
     ]
    }
   ],
   "source": [
    "print(\"\\n------> Saving dataframe to csv file... ------\\n\")\n",
    "new_df.to_csv(save_fp, index=False)\n",
    "print('Successfully saved dataframe to csv file at: ', save_fp)"
   ]
  },
  {
   "cell_type": "code",
   "execution_count": 15,
   "id": "a976bf40-09dd-470b-9a59-13f387e8e81b",
   "metadata": {},
   "outputs": [
    {
     "data": {
      "text/html": [
       "<div>\n",
       "<style scoped>\n",
       "    .dataframe tbody tr th:only-of-type {\n",
       "        vertical-align: middle;\n",
       "    }\n",
       "\n",
       "    .dataframe tbody tr th {\n",
       "        vertical-align: top;\n",
       "    }\n",
       "\n",
       "    .dataframe thead th {\n",
       "        text-align: right;\n",
       "    }\n",
       "</style>\n",
       "<table border=\"1\" class=\"dataframe\">\n",
       "  <thead>\n",
       "    <tr style=\"text-align: right;\">\n",
       "      <th></th>\n",
       "      <th>filepath</th>\n",
       "      <th>transcription_clean</th>\n",
       "    </tr>\n",
       "  </thead>\n",
       "  <tbody>\n",
       "    <tr>\n",
       "      <th>0</th>\n",
       "      <td>/srv/scratch/chacmod/OGI/speech/scripted/08/0/...</td>\n",
       "      <td>singer</td>\n",
       "    </tr>\n",
       "    <tr>\n",
       "      <th>1</th>\n",
       "      <td>/srv/scratch/chacmod/OGI/speech/scripted/01/3/...</td>\n",
       "      <td>hawthorne</td>\n",
       "    </tr>\n",
       "    <tr>\n",
       "      <th>2</th>\n",
       "      <td>/srv/scratch/chacmod/OGI/speech/scripted/01/3/...</td>\n",
       "      <td>don't leave so soon</td>\n",
       "    </tr>\n",
       "    <tr>\n",
       "      <th>3</th>\n",
       "      <td>/srv/scratch/chacmod/OGI/speech/scripted/05/0/...</td>\n",
       "      <td>that pink marble cost me a dollar</td>\n",
       "    </tr>\n",
       "    <tr>\n",
       "      <th>4</th>\n",
       "      <td>/srv/scratch/chacmod/OGI/speech/scripted/05/0/...</td>\n",
       "      <td>logic</td>\n",
       "    </tr>\n",
       "    <tr>\n",
       "      <th>...</th>\n",
       "      <td>...</td>\n",
       "      <td>...</td>\n",
       "    </tr>\n",
       "    <tr>\n",
       "      <th>11009</th>\n",
       "      <td>/srv/scratch/chacmod/OGI/speech/scripted/09/0/...</td>\n",
       "      <td>that person eats pancakes</td>\n",
       "    </tr>\n",
       "    <tr>\n",
       "      <th>11010</th>\n",
       "      <td>/srv/scratch/chacmod/OGI/speech/scripted/01/1/...</td>\n",
       "      <td>spoons</td>\n",
       "    </tr>\n",
       "    <tr>\n",
       "      <th>11011</th>\n",
       "      <td>/srv/scratch/chacmod/OGI/speech/scripted/02/0/...</td>\n",
       "      <td>bill has purple glasses</td>\n",
       "    </tr>\n",
       "    <tr>\n",
       "      <th>11012</th>\n",
       "      <td>/srv/scratch/chacmod/OGI/speech/scripted/01/3/...</td>\n",
       "      <td>overalls</td>\n",
       "    </tr>\n",
       "    <tr>\n",
       "      <th>11013</th>\n",
       "      <td>/srv/scratch/chacmod/OGI/speech/scripted/05/2/...</td>\n",
       "      <td>pathfinder</td>\n",
       "    </tr>\n",
       "  </tbody>\n",
       "</table>\n",
       "<p>11014 rows × 2 columns</p>\n",
       "</div>"
      ],
      "text/plain": [
       "                                                filepath   \n",
       "0      /srv/scratch/chacmod/OGI/speech/scripted/08/0/...  \\\n",
       "1      /srv/scratch/chacmod/OGI/speech/scripted/01/3/...   \n",
       "2      /srv/scratch/chacmod/OGI/speech/scripted/01/3/...   \n",
       "3      /srv/scratch/chacmod/OGI/speech/scripted/05/0/...   \n",
       "4      /srv/scratch/chacmod/OGI/speech/scripted/05/0/...   \n",
       "...                                                  ...   \n",
       "11009  /srv/scratch/chacmod/OGI/speech/scripted/09/0/...   \n",
       "11010  /srv/scratch/chacmod/OGI/speech/scripted/01/1/...   \n",
       "11011  /srv/scratch/chacmod/OGI/speech/scripted/02/0/...   \n",
       "11012  /srv/scratch/chacmod/OGI/speech/scripted/01/3/...   \n",
       "11013  /srv/scratch/chacmod/OGI/speech/scripted/05/2/...   \n",
       "\n",
       "                     transcription_clean  \n",
       "0                                 singer  \n",
       "1                              hawthorne  \n",
       "2                    don't leave so soon  \n",
       "3      that pink marble cost me a dollar  \n",
       "4                                  logic  \n",
       "...                                  ...  \n",
       "11009          that person eats pancakes  \n",
       "11010                             spoons  \n",
       "11011            bill has purple glasses  \n",
       "11012                           overalls  \n",
       "11013                         pathfinder  \n",
       "\n",
       "[11014 rows x 2 columns]"
      ]
     },
     "execution_count": 15,
     "metadata": {},
     "output_type": "execute_result"
    }
   ],
   "source": [
    "new_df"
   ]
  },
  {
   "cell_type": "code",
   "execution_count": null,
   "id": "8366275e-2e3c-4e0e-b392-f3c8f536c083",
   "metadata": {},
   "outputs": [],
   "source": []
  },
  {
   "cell_type": "code",
   "execution_count": null,
   "id": "4028b38e-1ce4-474e-81e0-4a8c85f7d007",
   "metadata": {},
   "outputs": [],
   "source": []
  },
  {
   "cell_type": "code",
   "execution_count": null,
   "id": "5ec86030-c83e-47f3-8240-9fbc4fac7eef",
   "metadata": {},
   "outputs": [],
   "source": []
  }
 ],
 "metadata": {
  "kernelspec": {
   "display_name": "Python 3.10.8 (ipykernel)",
   "language": "python",
   "name": "python-3.10.8"
  },
  "language_info": {
   "codemirror_mode": {
    "name": "ipython",
    "version": 3
   },
   "file_extension": ".py",
   "mimetype": "text/x-python",
   "name": "python",
   "nbconvert_exporter": "python",
   "pygments_lexer": "ipython3",
   "version": "3.10.8"
  }
 },
 "nbformat": 4,
 "nbformat_minor": 5
}

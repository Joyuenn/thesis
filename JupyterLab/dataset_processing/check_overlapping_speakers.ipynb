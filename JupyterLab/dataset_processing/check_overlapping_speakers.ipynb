{
 "cells": [
  {
   "cell_type": "code",
   "execution_count": 1,
   "id": "fd355f8e-392a-47c7-bcd5-a697ace2f51b",
   "metadata": {},
   "outputs": [],
   "source": [
    "import pandas as pd"
   ]
  },
  {
   "cell_type": "code",
   "execution_count": 26,
   "id": "1a048749-ee13-44ee-bec5-618d7108592f",
   "metadata": {},
   "outputs": [],
   "source": [
    "target_fp1 = '/srv/scratch/z5313567/thesis/OGI_local/new_spontaneous_datasets/full_OGI_spontaneous_train_dataframe.csv'\n",
    "target_fp2 = '/srv/scratch/z5313567/thesis/OGI_local/new_spontaneous_datasets/full_OGI_spontaneous_dev_dataframe.csv'\n",
    "target_fp3 = '/srv/scratch/z5313567/thesis/OGI_local/new_spontaneous_datasets/full_OGI_spontaneous_test_dataframe.csv'\n",
    "\n",
    "check_fp1 = '/srv/scratch/z5313567/thesis/OGI_local/new_full_datasets/full_OGI_scripted_train_dataframe.csv'\n",
    "check_fp2 = '/srv/scratch/z5313567/thesis/OGI_local/new_full_datasets/full_OGI_scripted_dev_dataframe.csv'\n",
    "check_fp3 = '/srv/scratch/z5313567/thesis/OGI_local/new_full_datasets/full_OGI_scripted_test_dataframe.csv'"
   ]
  },
  {
   "cell_type": "code",
   "execution_count": 27,
   "id": "bdb48a5f-719a-4d27-8303-d7f0bd29a333",
   "metadata": {},
   "outputs": [],
   "source": [
    "target_fps = [target_fp1, target_fp2, target_fp3]\n",
    "check_fps = [check_fp1, check_fp2, check_fp3]"
   ]
  },
  {
   "cell_type": "code",
   "execution_count": 30,
   "id": "53203d5a-8df5-4b3c-a916-e29ea608a22c",
   "metadata": {},
   "outputs": [],
   "source": [
    "def check_overlapping(target_fp, check_fp):\n",
    "    target_df = pd.read_csv(target_fp)\n",
    "    check_df = pd.read_csv(check_fp)\n",
    "    \n",
    "    # obtain the uniques speakers from both dataframes\n",
    "    target_speakers = set(target_df['speaker_id'])\n",
    "    check_speakers = set(check_df['speaker_id'])\n",
    "    \n",
    "    # obtain the numbers of speakers in both dataframes\n",
    "    num_target_speakers = len(target_speakers)\n",
    "    num_check_speakers = len(check_speakers)\n",
    "    \n",
    "    # Determine the overlapping spealers\n",
    "    overlapping_speakers = target_speakers.intersection(check_speakers)\n",
    "    num_overlapping_speakers = len(overlapping_speakers)\n",
    "    \n",
    "    print(f'The number of speakers in {target_fp} is: {num_target_speakers}')\n",
    "    print(f'The number of speakers in {check_fp} is: {num_check_speakers}')\n",
    "    print(f'The number of overlapping speakers is: {num_overlapping_speakers}')\n",
    "    print(f'The overlapping speakers are: {overlapping_speakers}')\n",
    "    print('\\n')"
   ]
  },
  {
   "cell_type": "code",
   "execution_count": 31,
   "id": "500aacbf-6b34-486b-9e12-c3c0a386e4e8",
   "metadata": {},
   "outputs": [
    {
     "name": "stdout",
     "output_type": "stream",
     "text": [
      "The number of speakers in /srv/scratch/z5313567/thesis/OGI_local/new_spontaneous_datasets/full_OGI_spontaneous_train_dataframe.csv is: 767\n",
      "The number of speakers in /srv/scratch/z5313567/thesis/OGI_local/new_full_datasets/full_OGI_scripted_train_dataframe.csv is: 782\n",
      "The number of overlapping speakers is: 767\n",
      "The overlapping speakers are: {'kse46', 'ks23m', 'ksh44', 'ksh0l', 'ks62w', 'ks715', 'ks245', 'ksb05', 'ksf16', 'ksc32', 'ksg3g', 'ks72s', 'ks638', 'ksh46', 'ksg04', 'ksb3o', 'kse3x', 'ks31j', 'ksb3n', 'ksh01', 'ksb3s', 'ks948', 'ksa3j', 'kse3b', 'ksg0q', 'ks50z', 'ks53q', 'ks513', 'kse19', 'ks940', 'ks83j', 'ks616', 'ks434', 'ksa13', 'ksa31', 'kse47', 'ks50u', 'ks43s', 'ksj44', 'ks21e', 'ksl2x', 'ks33p', 'ks80b', 'ksh3p', 'kse3z', 'ksh3j', 'ks33r', 'ks136', 'ksa05', 'ksh48', 'ksg2y', 'ksd42', 'ksb0z', 'ks911', 'ksg14', 'ks916', 'ks03q', 'ksj3g', 'ks93m', 'ksi0w', 'ksi3d', 'ksi10', 'ksa1d', 'kse3s', 'ksc16', 'ksd36', 'ks33o', 'ksg46', 'ksi11', 'ks91i', 'ksk0u', 'ksh1d', 'ksf3b', 'ks20v', 'ks23u', 'ks23l', 'ksk02', 'ksg4c', 'ks70e', 'ksa3z', 'ks732', 'ksj38', 'ks548', 'ks942', 'ksk1h', 'ks70t', 'ksh02', 'ks405', 'ksk39', 'ksb15', 'ksa30', 'ksa3l', 'ksd3i', 'ksj36', 'ksf2t', 'ks53v', 'ksk12', 'ksj3r', 'ksb3x', 'ksj30', 'ksh0r', 'ks93i', 'ks54d', 'ks40s', 'ksf0n', 'ks937', 'ksa32', 'ks62s', 'ks541', 'ksg3c', 'ks90t', 'kse4c', 'ks61m', 'ksk08', 'ksf0p', 'ksi3m', 'ksb17', 'ksf3c', 'ksd3w', 'ksk3a', 'ks734', 'ks61g', 'ks935', 'ks72x', 'ks93r', 'ks83w', 'ksk3c', 'ksg49', 'ks431', 'ksb0l', 'ks91f', 'ks63c', 'ksb0c', 'ksa3s', 'ksj3n', 'ksf0x', 'ks13p', 'ks500', 'ksc14', 'ks12v', 'ksb13', 'ksi0j', 'ks40y', 'ks53z', 'kse3i', 'ks006', 'ks805', 'ksf38', 'ksa3a', 'ksj0s', 'ks104', 'ksi3r', 'ksa3g', 'ks135', 'ksa03', 'ksj0z', 'ks90g', 'ksl0a', 'ksa3i', 'ks033', 'ks91a', 'ks21c', 'ks33v', 'ksi0b', 'ks631', 'ksl0l', 'ks10c', 'ks60x', 'ksg3r', 'ks949', 'ks201', 'ks92y', 'ksg3e', 'ksb0i', 'ks20u', 'ks70g', 'ksi0r', 'ksa3q', 'ks316', 'ksa0y', 'ks10r', 'ksa3y', 'ksl0h', 'ks307', 'ks216', 'kse2t', 'ks947', 'ks30h', 'ks02y', 'ks33m', 'ksb0m', 'ks90z', 'ksd0d', 'ksk2s', 'ksa16', 'ks804', 'ks43h', 'ks93q', 'ks23f', 'ks50o', 'ks20p', 'ks606', 'ks308', 'ksj0l', 'ks70a', 'ks24c', 'ks53t', 'ks83v', 'ks93j', 'ks40m', 'ks10q', 'ksi42', 'ksf3a', 'ks13a', 'ksa11', 'ksg33', 'ks31h', 'ks12s', 'ks10n', 'ks110', 'ks20y', 'ks53b', 'ks213', 'ksd3n', 'ks20r', 'ks70o', 'ksh3n', 'ksg3i', 'ksd0e', 'ksc0m', 'ks53m', 'ksa2u', 'ks539', 'ks105', 'ks31i', 'ksj0u', 'ksd0x', 'ks31a', 'ksh49', 'ks018', 'ksi00', 'ksf3t', 'ks03c', 'ksd08', 'ksj0p', 'kse09', 'ks62y', 'ksj3b', 'ksl0p', 'ks442', 'ks730', 'ks001', 'ksg2u', 'ksb2x', 'ks60e', 'ksb0k', 'ksh03', 'ksb09', 'ksk0a', 'ks02t', 'ks80r', 'ksg44', 'ks349', 'ksh3m', 'ks43m', 'ks21h', 'ks618', 'ks10f', 'ks30m', 'ksd05', 'ksf3v', 'ks13s', 'ksb0n', 'ks13x', 'ks82s', 'kse3h', 'ks03y', 'ks30j', 'ks12y', 'ksi18', 'ksa12', 'ks93v', 'ks73a', 'ksi03', 'ksh17', 'ksf3p', 'ksa38', 'ksb07', 'ksf3j', 'ks210', 'ksd41', 'ksa0o', 'ks33d', 'ksl0f', 'ksf2z', 'ksa3t', 'ksc0s', 'ks23t', 'ksd2s', 'ksi3l', 'ksj0j', 'kse43', 'ksl04', 'ksh3k', 'ksl0t', 'ksg10', 'ks437', 'kse0l', 'ksg3w', 'ksd0l', 'ks21a', 'ks82u', 'ks415', 'ksd2z', 'ksl1e', 'ks337', 'ksl1b', 'ksl0k', 'ksj45', 'ksi0u', 'ks536', 'ks10z', 'ksi3e', 'ks137', 'ks934', 'ksj2t', 'ksi3u', 'ks00e', 'ksi3y', 'ksb35', 'ksd1j', 'ksd2y', 'ksh3r', 'ksa3m', 'ksg43', 'ks20n', 'ks60g', 'kse4a', 'ksk0j', 'ksg0p', 'kse0o', 'ks600', 'ksa47', 'ksk3b', 'ks118', 'ks62u', 'ks312', 'ksk0y', 'ks338', 'ks113', 'ksh3o', 'ks00q', 'ks440', 'ksk1e', 'ksd49', 'ksl18', 'ks82w', 'ks22w', 'ksh3s', 'kse02', 'ksj2z', 'ksa3c', 'ks943', 'ks636', 'ks43r', 'ks031', 'ks43d', 'ksi08', 'ks83k', 'ks412', 'ks40f', 'ksh3t', 'ks909', 'ksc2x', 'kse42', 'kse04', 'ksi04', 'ks62z', 'ks03l', 'ksi06', 'ksh13', 'ks30w', 'ksl2t', 'ksa09', 'ks63a', 'ks012', 'ks91d', 'ksg0e', 'ksh08', 'ksi0l', 'ks80g', 'ksd2u', 'kse39', 'ksf13', 'ks039', 'ksg3l', 'ksd3e', 'ks61f', 'ksa45', 'ksb3p', 'ks313', 'ks83p', 'ks72y', 'ksi1e', 'ksd43', 'ksd1f', 'ks13u', 'ks609', 'ksf0w', 'ks831', 'ks63g', 'kse0v', 'ksb30', 'ks61l', 'ks13b', 'ksg0d', 'ks30n', 'ks23a', 'ks43z', 'ksk1b', 'ksd3q', 'ksl01', 'ks93t', 'ks233', 'ksl1a', 'ks509', 'ks93y', 'ks907', 'ks614', 'ksl0x', 'ks632', 'ks73b', 'ks50r', 'kse3n', 'ksg08', 'ksc3f', 'ks50b', 'ks80o', 'ks20o', 'ks234', 'ks50n', 'ks53d', 'ksb3i', 'ks832', 'ksa3p', 'ks90x', 'ksg3f', 'kse0i', 'ksb3u', 'ks117', 'kse1g', 'ks60h', 'kse45', 'ksd0m', 'ks13z', 'ksb2u', 'ks00b', 'ksj1d', 'ks31c', 'ksh1h', 'ks112', 'ksb3w', 'ks81a', 'ksa0d', 'ks20w', 'kse2s', 'ks33w', 'ksj35', 'ksk0h', 'ks630', 'ksf3n', 'ks80i', 'ksh1b', 'ksb0u', 'ks31n', 'ks930', 'ks90n', 'ksg0j', 'ks03b', 'ks90c', 'ks40e', 'ksi3w', 'kse44', 'ks23y', 'ks63e', 'ks130', 'ksa00', 'kse0t', 'ks409', 'ks93x', 'ks240', 'ksk14', 'ksd0b', 'ksh3y', 'ks80x', 'ksg03', 'ks505', 'ks10k', 'ksa3b', 'kse3f', 'ks50x', 'ksb04', 'ksi3o', 'ks32y', 'ksa0g', 'ksa35', 'ksk0e', 'ks003', 'ks60f', 'ksc03', 'kse2u', 'ksb3h', 'ksc02', 'ksa0q', 'ks70h', 'ksb0a', 'ksa41', 'ks946', 'ks52v', 'ksd07', 'ks93k', 'ksj3h', 'ks03g', 'ksk0m', 'kse0s', 'ksg30', 'ksd3z', 'ks13r', 'ks535', 'ksh12', 'ksa3n', 'ksa2y', 'ksa0s', 'ks13v', 'ks93u', 'ks53p', 'ksj3z', 'ks21d', 'ksi3z', 'ksi1c', 'ks50m', 'ks248', 'ks739', 'ksk0i', 'ksi0s', 'ksi3s', 'ksh11', 'ksg3h', 'ksc3l', 'ks70k', 'ks131', 'ksg47', 'ksa39', 'ks50a', 'ks53y', 'ks933', 'ksk0k', 'ksb3r', 'ksa37', 'ksb34', 'ks72t', 'ks60p', 'ksh10', 'ks72z', 'ks20a', 'ks43u', 'ks237', 'ks231', 'ksj33', 'ksb3f', 'ks633', 'ksj02', 'ksk13', 'ksa42', 'ks30a', 'ks00w', 'ksi40', 'ksi3x', 'ksb32', 'kse2w', 'ks719', 'ks931', 'ksj13', 'ks341', 'ksh0a', 'ksa3r', 'ks53u', 'ksi3n', 'ks10e', 'ks13i', 'ks70x', 'ksk1j', 'ks20q', 'ks814', 'kse11', 'ksd0i', 'ksh41', 'ksa3o', 'ksa0m', 'ks83q', 'ksa34', 'ksg2t', 'ks03z', 'ks80f', 'ks810', 'ksh0m', 'ksc08', 'ksl0e', 'ks332', 'ksd2t', 'ks10a', 'ksf2u', 'ks432', 'ksc3n', 'ks109', 'ksl15', 'ks70d', 'ks507', 'ksb0v', 'kse4b', 'ksj3o', 'ks30f', 'ksi3t', 'ks50t', 'ksd38', 'ksh0t', 'ks62x', 'ks40g', 'ks63b', 'ksf0t', 'ksa3d', 'ks336', 'ks83u', 'ksd4b', 'ks33t', 'ks709', 'ks10x', 'kse3u', 'ksd14', 'ksh45', 'ks737', 'ks919', 'ksj3y', 'ks40h', 'ks60w', 'ks30r', 'ksa0j', 'ks016', 'ks43g', 'ks111', 'ks941', 'ks43f', 'ks235', 'ks90r', 'ksa48', 'ks30c', 'ksf2x', 'ks20j', 'ksb0s', 'ksd3r', 'ksg0f', 'ks03d', 'ksi1b', 'ks410', 'ks03t', 'ksl17', 'ks31b', 'ks414', 'ksa36', 'kse35', 'ks43q', 'ksa3w', 'ks43y', 'ksh0c', 'ksk0s', 'ksg40', 'ks50s', 'ks60d', 'ks10l', 'ksg3n', 'ks32z', 'ksl0c', 'ks717', 'ks90p', 'ksg42', 'ksj40', 'ksf3x', 'ksf3i', 'ksd39', 'ks900', 'ks70f', 'ksd0s', 'ksf0i', 'ks52w', 'ks348', 'ksc0o', 'ks83l', 'ks60s', 'ksi3h', 'ksf03', 'ksj2x', 'ksf30', 'ks735', 'ksa2z', 'ksf3w', 'ksd32', 'ksj2y', 'ksk03', 'ks50y', 'ks803', 'ks40z', 'ksl2v', 'ksl14', 'ks615', 'ks70i', 'ks10i', 'ksa3v', 'ks12z', 'ksj06', 'ks10y', 'ksj3t', 'ksa06', 'ksl0v', 'kse2v', 'ksg02', 'ksd2x', 'ksf04', 'ks932', 'ks31l', 'ksi3j', 'ks40q', 'ksh3x', 'ks43k', 'ksi3p', 'ksc0t', 'ksh0i', 'ks03v', 'ksf39', 'ks43l', 'ksd3g', 'ks008', 'ks90b', 'ksd18', 'ks303', 'ksd30', 'ksk3d', 'ksd3c', 'ks80h', 'ks538', 'ks60v', 'ksk0q', 'ksj0k', 'ksd3d', 'ksh40', 'ks31m', 'ksg34', 'ks03a', 'ksa0z', 'ks738', 'ks807', 'ks70v', 'ks635', 'ksc3c', 'ks53j', 'ks70p', 'ks63h', 'ks93h'}\n",
      "\n",
      "\n",
      "The number of speakers in /srv/scratch/z5313567/thesis/OGI_local/new_spontaneous_datasets/full_OGI_spontaneous_train_dataframe.csv is: 767\n",
      "The number of speakers in /srv/scratch/z5313567/thesis/OGI_local/new_full_datasets/full_OGI_scripted_dev_dataframe.csv is: 168\n",
      "The number of overlapping speakers is: 0\n",
      "The overlapping speakers are: set()\n",
      "\n",
      "\n",
      "The number of speakers in /srv/scratch/z5313567/thesis/OGI_local/new_spontaneous_datasets/full_OGI_spontaneous_train_dataframe.csv is: 767\n",
      "The number of speakers in /srv/scratch/z5313567/thesis/OGI_local/new_full_datasets/full_OGI_scripted_test_dataframe.csv is: 168\n",
      "The number of overlapping speakers is: 0\n",
      "The overlapping speakers are: set()\n",
      "\n",
      "\n",
      "The number of speakers in /srv/scratch/z5313567/thesis/OGI_local/new_spontaneous_datasets/full_OGI_spontaneous_dev_dataframe.csv is: 167\n",
      "The number of speakers in /srv/scratch/z5313567/thesis/OGI_local/new_full_datasets/full_OGI_scripted_train_dataframe.csv is: 782\n",
      "The number of overlapping speakers is: 0\n",
      "The overlapping speakers are: set()\n",
      "\n",
      "\n",
      "The number of speakers in /srv/scratch/z5313567/thesis/OGI_local/new_spontaneous_datasets/full_OGI_spontaneous_dev_dataframe.csv is: 167\n",
      "The number of speakers in /srv/scratch/z5313567/thesis/OGI_local/new_full_datasets/full_OGI_scripted_dev_dataframe.csv is: 168\n",
      "The number of overlapping speakers is: 167\n",
      "The overlapping speakers are: {'ksg3o', 'ks80a', 'ksj41', 'ksi3i', 'ksk0o', 'ksa0u', 'ks93o', 'kse0b', 'ks60o', 'ksd1i', 'ksf07', 'ks71d', 'ksd3s', 'ksc3w', 'ks61a', 'ks905', 'ks83s', 'ks63f', 'ksa0n', 'ks10w', 'ks515', 'ksc0j', 'ksa46', 'ksl1f', 'kse1f', 'ksf0r', 'ks83f', 'ks219', 'ks42s', 'ksh43', 'ksa3x', 'ks731', 'ks72u', 'ks13k', 'ks73c', 'ks134', 'ksj01', 'ks30x', 'ksg12', 'ksb0o', 'ks839', 'ksf0b', 'ksj43', 'ksh3v', 'kse0y', 'ks80v', 'ks83c', 'kse3y', 'ksa0b', 'ks00y', 'ksd06', 'ksf18', 'ksa43', 'ksd0h', 'ks305', 'ksc3g', 'ksj09', 'ks00d', 'ksh0z', 'ks314', 'ks000', 'ks80q', 'ksc0p', 'ks736', 'ks63d', 'ks30d', 'ksd3k', 'ks93p', 'ks70c', 'ks90f', 'ks637', 'ks83a', 'ksg4b', 'ksg2x', 'ks639', 'ksh04', 'ksd44', 'ks037', 'ks50g', 'ksd0t', 'ksi14', 'ksf36', 'ks545', 'ksa0r', 'kse0u', 'ksf33', 'ks63i', 'ks91c', 'ksi3g', 'ksi3q', 'ksj3m', 'ks819', 'ksf0k', 'ksi05', 'ksj2v', 'ks733', 'ksh1c', 'ks33l', 'ks81b', 'ks12u', 'kse06', 'ks333', 'ks02v', 'ksl07', 'ks936', 'ksk1g', 'ks204', 'ksc3o', 'ksc3y', 'ksd1g', 'ksb0g', 'ks115', 'ksh3u', 'ksd4a', 'ksl10', 'ks50w', 'ks501', 'kse34', 'ks331', 'kse17', 'ks71a', 'ks910', 'ksd3b', 'ksg0v', 'ks21k', 'ksj0y', 'ks62t', 'ks61i', 'ksj00', 'ks634', 'ksa19', 'ks532', 'ks330', 'ks010', 'ksh0j', 'ksb3j', 'ks10v', 'ksk2v', 'ks119', 'ks212', 'ksi41', 'ks40d', 'ks80d', 'ks808', 'ks60k', 'ksj0t', 'ks817', 'ksi0y', 'ksi02', 'ksj12', 'ks605', 'ksg3k', 'ks62v', 'ksc3t', 'ksh1j', 'ks904', 'ks93n', 'ksc0b', 'ksh47', 'ksa2s', 'ksd0f', 'ksb3e', 'ks834', 'ks31d', 'ks531', 'ks33c', 'ks80w'}\n",
      "\n",
      "\n",
      "The number of speakers in /srv/scratch/z5313567/thesis/OGI_local/new_spontaneous_datasets/full_OGI_spontaneous_dev_dataframe.csv is: 167\n",
      "The number of speakers in /srv/scratch/z5313567/thesis/OGI_local/new_full_datasets/full_OGI_scripted_test_dataframe.csv is: 168\n",
      "The number of overlapping speakers is: 0\n",
      "The overlapping speakers are: set()\n",
      "\n",
      "\n",
      "The number of speakers in /srv/scratch/z5313567/thesis/OGI_local/new_spontaneous_datasets/full_OGI_spontaneous_test_dataframe.csv is: 167\n",
      "The number of speakers in /srv/scratch/z5313567/thesis/OGI_local/new_full_datasets/full_OGI_scripted_train_dataframe.csv is: 782\n",
      "The number of overlapping speakers is: 0\n",
      "The overlapping speakers are: set()\n",
      "\n",
      "\n",
      "The number of speakers in /srv/scratch/z5313567/thesis/OGI_local/new_spontaneous_datasets/full_OGI_spontaneous_test_dataframe.csv is: 167\n",
      "The number of speakers in /srv/scratch/z5313567/thesis/OGI_local/new_full_datasets/full_OGI_scripted_dev_dataframe.csv is: 168\n",
      "The number of overlapping speakers is: 0\n",
      "The overlapping speakers are: set()\n",
      "\n",
      "\n",
      "The number of speakers in /srv/scratch/z5313567/thesis/OGI_local/new_spontaneous_datasets/full_OGI_spontaneous_test_dataframe.csv is: 167\n",
      "The number of speakers in /srv/scratch/z5313567/thesis/OGI_local/new_full_datasets/full_OGI_scripted_test_dataframe.csv is: 168\n",
      "The number of overlapping speakers is: 167\n",
      "The overlapping speakers are: {'ksi0m', 'ksd17', 'ksc39', 'ks52s', 'ksd09', 'ksb3m', 'ksh3w', 'ks13j', 'ks72w', 'ksf41', 'ks310', 'ksj37', 'ksa08', 'ksa0i', 'ksf2w', 'ks30p', 'ks70z', 'ks011', 'ksk3e', 'kse3k', 'ksh0n', 'ksg0k', 'ksb14', 'ksg3x', 'ksh3z', 'ksc3e', 'ks80e', 'ks92x', 'ksd46', 'ksc0h', 'ksd0c', 'ks815', 'ks406', 'ks038', 'ksi0q', 'ksf0u', 'ks918', 'ks34d', 'ks340', 'ks33q', 'ksd3h', 'ksh19', 'ks22v', 'ksl1g', 'ksb0j', 'ksc3q', 'ksf17', 'ks419', 'ks20g', 'ksd3p', 'ks40a', 'ksd15', 'ksl1c', 'ksj0c', 'ksj11', 'ksd00', 'ksa3e', 'ks50i', 'ksf0c', 'ks10u', 'ks31k', 'ksi3k', 'ksi3v', 'ks106', 'ks61k', 'ksf08', 'ks50c', 'ks92t', 'ksc01', 'ks43e', 'ks02s', 'ksf3o', 'ksk17', 'ksg3a', 'ks713', 'ks945', 'ks61e', 'ksh3l', 'ks511', 'ksi16', 'ks036', 'ksj0n', 'ksa0w', 'ks33g', 'ksb02', 'ks23o', 'ks938', 'ks93w', 'ks402', 'ksb2z', 'ksh0b', 'ks10g', 'ks10d', 'ksj3x', 'ksi3f', 'ksa33', 'ks81c', 'ks400', 'ksg4a', 'ks211', 'ks60y', 'ksc00', 'ks842', 'ksk0v', 'kse0g', 'ks31e', 'ksk06', 'ks816', 'ksh0q', 'ksj3i', 'ksg0h', 'ksk2u', 'ksj0m', 'ks107', 'ks93z', 'ks707', 'ks40v', 'ksf01', 'kse0q', 'ks42v', 'ks202', 'ksa40', 'ks20k', 'ks00t', 'ks30k', 'ksg2z', 'ksb2w', 'ks506', 'ks23v', 'ksf2y', 'ks23j', 'ksb0p', 'ksl2w', 'ksb0h', 'kse00', 'ks92w', 'kse3a', 'ks247', 'ksa3u', 'kse15', 'ks13d', 'ks435', 'ks133', 'ksk3g', 'ks203', 'ks32x', 'ksj3d', 'ks607', 'kse3e', 'ksb0x', 'ks712', 'ks13m', 'ksc2t', 'ks411', 'ks00f', 'ksh42', 'ks818', 'ks21b', 'ksg37', 'ksk0w', 'ks30e', 'ks72v', 'ksk3f', 'ks20z', 'ksd3x', 'ks40l', 'ksa3k'}\n",
      "\n",
      "\n"
     ]
    }
   ],
   "source": [
    "for target_fp in target_fps:\n",
    "    for check_fp in check_fps:\n",
    "        check_overlapping(target_fp, check_fp)"
   ]
  },
  {
   "cell_type": "code",
   "execution_count": null,
   "id": "39fcac52-c0d3-4a19-bca5-88c35901ec67",
   "metadata": {},
   "outputs": [],
   "source": []
  }
 ],
 "metadata": {
  "kernelspec": {
   "display_name": "Python 3.10.8 (ipykernel)",
   "language": "python",
   "name": "python-3.10.8"
  },
  "language_info": {
   "codemirror_mode": {
    "name": "ipython",
    "version": 3
   },
   "file_extension": ".py",
   "mimetype": "text/x-python",
   "name": "python",
   "nbconvert_exporter": "python",
   "pygments_lexer": "ipython3",
   "version": "3.10.8"
  }
 },
 "nbformat": 4,
 "nbformat_minor": 5
}

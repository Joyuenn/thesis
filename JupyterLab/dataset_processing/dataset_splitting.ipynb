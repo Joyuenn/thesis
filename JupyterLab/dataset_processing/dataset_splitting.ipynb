{
 "cells": [
  {
   "cell_type": "code",
   "execution_count": 9,
   "id": "89c6fbfa-3d1d-464e-8bae-5dac627d17f6",
   "metadata": {},
   "outputs": [],
   "source": [
    "# Purpose: partition datasets into training, development and testiong sets\n",
    "# Requirement: prepare_scripted_datasets.py (ipynb)\n",
    "#              Check_duration_15sec.py (ipynb)\n",
    "#              group_speaker_id.py (ipynb)"
   ]
  },
  {
   "cell_type": "code",
   "execution_count": 1,
   "id": "ec47aec8-cf1c-44f4-8fbc-b38765f9e96e",
   "metadata": {},
   "outputs": [
    {
     "name": "stdout",
     "output_type": "stream",
     "text": [
      "\n",
      "------> Importing libraries... ------\n",
      "\n"
     ]
    }
   ],
   "source": [
    "print(\"\\n------> Importing libraries... ------\\n\")\n",
    "\n",
    "import pandas as pd\n",
    "from sklearn.model_selection import train_test_split"
   ]
  },
  {
   "cell_type": "code",
   "execution_count": 2,
   "id": "160d23b4-668a-4dc4-88ee-a5895c0f1a30",
   "metadata": {},
   "outputs": [],
   "source": [
    "# (cannot be changed) seed = 230\n",
    "seed = 230 \n",
    "\n",
    "# !!!!!! When changing the proportion, go to group_speaker_id.ipynb to change the parameter \"prop_training\"\n",
    "train_num = 0.70\n",
    "dev_num = 0.15\n",
    "test_num = 0.15"
   ]
  },
  {
   "cell_type": "code",
   "execution_count": 3,
   "id": "c4a12114-11ec-42cb-b5bd-a2739081530d",
   "metadata": {},
   "outputs": [
    {
     "name": "stdout",
     "output_type": "stream",
     "text": [
      "\n",
      "------> Loading files... ------\n",
      "\n",
      "OFI dataframe is stored at /srv/scratch/z5313567/thesis/CU_local/CU_full_dataframs.csv\n",
      "OGI group-by-speaker dataframe is stored at /srv/scratch/z5313567/thesis/CU_local/CU_full_train_dataframs_15sec.csv\n",
      "OGI train daraframe is stored at /srv/scratch/z5313567/thesis/CU_local/CU_full_train_dataframs_15sec.csv\n",
      "OGI development daraframe is stored at /srv/scratch/z5313567/thesis/CU_local/CU_full_dev_dataframs_15sec.csv\n",
      "OGI test daraframe is stored at /srv/scratch/z5313567/thesis/CU_local/CU_full_test_dataframs_15sec.csv\n"
     ]
    }
   ],
   "source": [
    "print(\"\\n------> Loading files... ------\\n\")\n",
    "'''\n",
    "OGI_df_fp = '/srv/scratch/z5313567/thesis/OGI_local/OGI_scripted_dataframe.csv'\n",
    "OGI_speaker_df_fp = '/srv/scratch/z5313567/thesis/OGI_local/OGI_scripted_speaker_dataframe.csv'\n",
    "\n",
    "OGI_train_df_fp = '/srv/scratch/z5313567/thesis/OGI_local/OGI_scripted_train_dataframe.csv'\n",
    "OGI_dev_df_fp = '/srv/scratch/z5313567/thesis/OGI_local/OGI_scripted_dev_dataframe.csv'\n",
    "OGI_test_df_fp = '/srv/scratch/z5313567/thesis/OGI_local/OGI_scripted_test_dataframe.csv'\n",
    "'''\n",
    "'''\n",
    "OGI_df_fp = '/srv/scratch/z5313567/thesis/OGI_local/OGI_scripted_dataframe.csv'\n",
    "OGI_speaker_df_fp = '/srv/scratch/z5313567/thesis/OGI_local/10hour_datasets/OGI_scripted_speaker_dataframe_10hour.csv'\n",
    "\n",
    "OGI_train_df_fp = '/srv/scratch/z5313567/thesis/OGI_local/10hour_datasets/OGI_scripted_train_dataframe_10hour.csv'\n",
    "OGI_dev_df_fp = '/srv/scratch/z5313567/thesis/OGI_local/10hour_datasets/OGI_scripted_dev_dataframe_10hour.csv'\n",
    "OGI_test_df_fp = '/srv/scratch/z5313567/thesis/OGI_local/10hour_datasets/OGI_scripted_test_dataframe_10hour.csv'\n",
    "'''\n",
    "OGI_df_fp = '/srv/scratch/z5313567/thesis/CU_local/CU_full_dataframs.csv'\n",
    "OGI_speaker_df_fp = '/srv/scratch/z5313567/thesis/CU_local/CU_full_speaker_dataframe_15sec.csv'\n",
    "\n",
    "OGI_train_df_fp = '/srv/scratch/z5313567/thesis/CU_local/CU_full_train_dataframs_15sec.csv'\n",
    "OGI_dev_df_fp = '/srv/scratch/z5313567/thesis/CU_local/CU_full_dev_dataframs_15sec.csv'\n",
    "OGI_test_df_fp = '/srv/scratch/z5313567/thesis/CU_local/CU_full_test_dataframs_15sec.csv'\n",
    "\n",
    "print(f'OFI dataframe is stored at {OGI_df_fp}')\n",
    "print(f'OGI group-by-speaker dataframe is stored at {OGI_train_df_fp}')\n",
    "print(f'OGI train daraframe is stored at {OGI_train_df_fp}')\n",
    "print(f'OGI development daraframe is stored at {OGI_dev_df_fp}')\n",
    "print(f'OGI test daraframe is stored at {OGI_test_df_fp}')"
   ]
  },
  {
   "cell_type": "code",
   "execution_count": 4,
   "id": "80e8a85c-5018-4ed7-8462-1034c6605991",
   "metadata": {},
   "outputs": [
    {
     "name": "stdout",
     "output_type": "stream",
     "text": [
      "\n",
      "------> Splitting the group-by-speaker dataframe... ------\n",
      "\n"
     ]
    }
   ],
   "source": [
    "print(\"\\n------> Splitting the group-by-speaker dataframe... ------\\n\")\n",
    "OGI_speaker_df = pd.read_csv(OGI_speaker_df_fp, dtype={'speaker_id': str})\n",
    "train_speaker_set, dev_test_speaker_set = train_test_split(OGI_speaker_df, test_size=(dev_num+test_num), random_state=seed, shuffle=True)\n",
    "\n",
    "prop_test = test_num/(dev_num+test_num)\n",
    "dev_speaker_set, test_speaker_set = train_test_split(dev_test_speaker_set, test_size=prop_test, random_state=seed, shuffle=True)"
   ]
  },
  {
   "cell_type": "code",
   "execution_count": 5,
   "id": "e30491f4-4c2a-4469-b271-bd41edd4cf27",
   "metadata": {},
   "outputs": [
    {
     "name": "stdout",
     "output_type": "stream",
     "text": [
      "Training dataset includes 428 speakers and 47.296143436633905 hours\n",
      "Development dataset includes 92 speakers and 7.513443877551019 hours\n",
      "Testing dataset includes 92 speakers and 9.848853287981857 hours\n"
     ]
    }
   ],
   "source": [
    "print(f\"Training dataset includes {len(train_speaker_set)} speakers and {train_speaker_set['duration'].sum()/(60*60)} hours\")\n",
    "print(f\"Development dataset includes {len(dev_speaker_set)} speakers and {dev_speaker_set['duration'].sum()/(60*60)} hours\")\n",
    "print(f\"Testing dataset includes {len(test_speaker_set)} speakers and {test_speaker_set['duration'].sum()/(60*60)} hours\")"
   ]
  },
  {
   "cell_type": "code",
   "execution_count": 6,
   "id": "3e59f0eb-55f2-4e94-af3d-1e73fc7d5836",
   "metadata": {},
   "outputs": [
    {
     "name": "stdout",
     "output_type": "stream",
     "text": [
      "                                                filepath   duration   \n",
      "29979  /srv/scratch/chacmod/CU_2/corpus/data/train-pa...   2.040000  \\\n",
      "29980  /srv/scratch/chacmod/CU_2/corpus/data/train-pa...   0.915011   \n",
      "29981  /srv/scratch/chacmod/CU_2/corpus/data/train-pa...   0.700000   \n",
      "29982  /srv/scratch/chacmod/CU_2/corpus/data/train-pa...   1.030023   \n",
      "29983  /srv/scratch/chacmod/CU_2/corpus/data/train-pa...   1.060000   \n",
      "...                                                  ...        ...   \n",
      "77232  /srv/scratch/chacmod/CU_2/corpus/data/train-pa...  12.328163   \n",
      "77233  /srv/scratch/chacmod/CU_2/corpus/data/train-pa...   5.547166   \n",
      "77234  /srv/scratch/chacmod/CU_2/corpus/data/train-pa...  12.096009   \n",
      "77235  /srv/scratch/chacmod/CU_2/corpus/data/train-pa...  14.107029   \n",
      "77236  /srv/scratch/chacmod/CU_2/corpus/data/train-pa...  17.984082   \n",
      "\n",
      "      speaker_id                                      transcription  \n",
      "29979          3                                 WHAT WAIT A MINUTE  \n",
      "29980          3                                              VINCE  \n",
      "29981          3                                                  F  \n",
      "29982          3                                        AT WAS GLAD  \n",
      "29983          3                                              QUIET  \n",
      "...          ...                                                ...  \n",
      "77232          3  WELL UM RICK CHASED UH FRICK AND FRICK GOT PUS...  \n",
      "77233          3            AND NEVER BIT HIM AGAIN LEAVE HIM ALONE  \n",
      "77234          3  RICK WAS A DOG THAT HAD A BLACK LEG AND UM THE...  \n",
      "77235          3  I MEAN UM UH WHAT'S HIS NAME FAG COULDN'T CATC...  \n",
      "77236          3  AND UM H UM THEY HAD TO TAKE HIM TO THE UM VET...  \n",
      "\n",
      "[177 rows x 4 columns]\n"
     ]
    }
   ],
   "source": [
    "# this code snippet is used for testing purposes\n",
    "OGI_df = pd.read_csv(OGI_df_fp, dtype={'speaker_id': str})\n",
    "\n",
    "id_to_match = train_speaker_set['speaker_id'].values[2]\n",
    "matching_row = OGI_df[OGI_df['speaker_id']==id_to_match]\n",
    "print(matching_row)"
   ]
  },
  {
   "cell_type": "code",
   "execution_count": 7,
   "id": "74d65747-ac54-46b8-9766-89d8a88d240b",
   "metadata": {},
   "outputs": [
    {
     "name": "stdout",
     "output_type": "stream",
     "text": [
      "\n",
      "------> Obtaining training dataframe... ------\n",
      "\n",
      "Number of speech files: 58703\n",
      "Total hours: 52.80841084656085\n",
      "Total minutes: 3168.504650793651\n",
      "Total seconds: 190110.27904761906\n",
      "Successfully saved training dataframe to csv file at:  /srv/scratch/z5313567/thesis/CU_local/CU_full_train_dataframs_15sec.csv\n"
     ]
    }
   ],
   "source": [
    "print(\"\\n------> Obtaining training dataframe... ------\\n\")\n",
    "\n",
    "# Extra filepath, duration, speaker_id and transcription corresponsing training dataset from the original OGI dataframe\n",
    "train_dp = pd.DataFrame(\n",
    "        {'filepath': [],\n",
    "         'duration': [],\n",
    "         'speaker_id': [],\n",
    "         'transcription': []\n",
    "         })\n",
    "for i in range(len(train_speaker_set)):\n",
    "    id_to_match = train_speaker_set['speaker_id'].values[i]\n",
    "    matching_speakers = OGI_df[OGI_df['speaker_id']==id_to_match]\n",
    "    train_dp = pd.concat([train_dp, matching_speakers], ignore_index=True)  # Concatenate training dataframe with matching speakers, setting ignore_index=True to reindex the training dataframe\n",
    "    train_dp['speaker_id'] = train_dp['speaker_id'].astype(str)  # preverse leading zeros\n",
    "    train_dp.to_csv(OGI_train_df_fp, index=False)\n",
    "\n",
    "print(\"Number of speech files:\", len(train_dp))\n",
    "print(\"Total hours:\", train_dp['duration'].sum()/(60*60))\n",
    "print(\"Total minutes:\", train_dp['duration'].sum()/(60))\n",
    "print(\"Total seconds:\", train_dp['duration'].sum())\n",
    "print('Successfully saved training dataframe to csv file at: ', OGI_train_df_fp)"
   ]
  },
  {
   "cell_type": "code",
   "execution_count": 8,
   "id": "706d6005-b1d9-4457-a019-98d073e6a8eb",
   "metadata": {},
   "outputs": [
    {
     "name": "stdout",
     "output_type": "stream",
     "text": [
      "\n",
      "------> Obtaining development dataframe... ------\n",
      "\n",
      "Number of speech files: 9219\n",
      "Total hours: 8.578177928949357\n",
      "Total minutes: 514.6906757369615\n",
      "Total seconds: 30881.440544217687\n",
      "Successfully saved development dataframe to csv file at:  /srv/scratch/z5313567/thesis/CU_local/CU_full_dev_dataframs_15sec.csv\n"
     ]
    }
   ],
   "source": [
    "print(\"\\n------> Obtaining development dataframe... ------\\n\")\n",
    "\n",
    "# Extra filepath, duration, speaker_id and transcription corresponsing development dataset from the original OGI dataframe\n",
    "dev_dp = pd.DataFrame(\n",
    "        {'filepath': [],\n",
    "         'duration': [],\n",
    "         'speaker_id': [],\n",
    "         'transcription': []\n",
    "         })\n",
    "for i in range(len(dev_speaker_set)):\n",
    "    id_to_match = dev_speaker_set['speaker_id'].values[i]\n",
    "    matching_speakers = OGI_df[OGI_df['speaker_id']==id_to_match]\n",
    "    dev_dp = pd.concat([dev_dp, matching_speakers], ignore_index=True)  # Concatenate training dataframe with matching speakers, setting ignore_index=True to reindex the training dataframe\n",
    "    dev_dp['speaker_id'] = dev_dp['speaker_id'].astype(str)  # preverse leading zeros\n",
    "    dev_dp.to_csv(OGI_dev_df_fp, index=False)\n",
    "    \n",
    "print(\"Number of speech files:\", len(dev_dp))\n",
    "print(\"Total hours:\", dev_dp['duration'].sum()/(60*60))\n",
    "print(\"Total minutes:\", dev_dp['duration'].sum()/(60))\n",
    "print(\"Total seconds:\", dev_dp['duration'].sum())\n",
    "print('Successfully saved development dataframe to csv file at: ', OGI_dev_df_fp)"
   ]
  },
  {
   "cell_type": "code",
   "execution_count": 9,
   "id": "35c01de6-db62-4136-bbf1-2fe4751da727",
   "metadata": {},
   "outputs": [
    {
     "name": "stdout",
     "output_type": "stream",
     "text": [
      "\n",
      "------> Obtaining testing dataframe... ------\n",
      "\n",
      "Number of speech files: 12110\n",
      "Total hours: 10.773228117913831\n",
      "Total minutes: 646.3936870748298\n",
      "Total seconds: 38783.62122448979\n",
      "Successfully saved testing dataset to csv file at:  /srv/scratch/z5313567/thesis/CU_local/CU_full_test_dataframs_15sec.csv\n"
     ]
    }
   ],
   "source": [
    "print(\"\\n------> Obtaining testing dataframe... ------\\n\")\n",
    "\n",
    "# Extra filepath, duration, speaker_id and transcription corresponsing testing dataset from the original OGI dataframe\n",
    "test_dp = pd.DataFrame(\n",
    "        {'filepath': [],\n",
    "         'duration': [],\n",
    "         'speaker_id': [],\n",
    "         'transcription': []\n",
    "         })\n",
    "for i in range(len(test_speaker_set)):\n",
    "    id_to_match = test_speaker_set['speaker_id'].values[i]\n",
    "    matching_speakers = OGI_df[OGI_df['speaker_id']==id_to_match]\n",
    "    test_dp = pd.concat([test_dp, matching_speakers], ignore_index=True)  # Concatenate training dataframe with matching speakers, setting ignore_index=True to reindex the training dataframe\n",
    "    test_dp['speaker_id'] = test_dp['speaker_id'].astype(str)  # preverse leading zeros\n",
    "    test_dp.to_csv(OGI_test_df_fp, index=False)\n",
    "    \n",
    "print(\"Number of speech files:\", len(test_dp))\n",
    "print(\"Total hours:\", test_dp['duration'].sum()/(60*60))\n",
    "print(\"Total minutes:\", test_dp['duration'].sum()/(60))\n",
    "print(\"Total seconds:\", test_dp['duration'].sum())\n",
    "print('Successfully saved testing dataset to csv file at: ', OGI_test_df_fp)"
   ]
  },
  {
   "cell_type": "code",
   "execution_count": null,
   "id": "79e09ff8-b307-4dc8-a0d6-60510cc5de35",
   "metadata": {},
   "outputs": [],
   "source": []
  },
  {
   "cell_type": "code",
   "execution_count": null,
   "id": "5aae97d4-6c4b-4090-bf10-9ae50bc8cfbe",
   "metadata": {},
   "outputs": [],
   "source": []
  }
 ],
 "metadata": {
  "kernelspec": {
   "display_name": "Python 3.10.8 (ipykernel)",
   "language": "python",
   "name": "python-3.10.8"
  },
  "language_info": {
   "codemirror_mode": {
    "name": "ipython",
    "version": 3
   },
   "file_extension": ".py",
   "mimetype": "text/x-python",
   "name": "python",
   "nbconvert_exporter": "python",
   "pygments_lexer": "ipython3",
   "version": "3.10.8"
  }
 },
 "nbformat": 4,
 "nbformat_minor": 5
}

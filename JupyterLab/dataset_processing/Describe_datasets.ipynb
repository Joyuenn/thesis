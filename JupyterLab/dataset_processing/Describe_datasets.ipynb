{
 "cells": [
  {
   "cell_type": "code",
   "execution_count": 1,
   "id": "9e467caf-86c1-408e-be0d-0265fa3cd0f9",
   "metadata": {},
   "outputs": [
    {
     "name": "stdout",
     "output_type": "stream",
     "text": [
      "\n",
      "------> Importing libraries... ------\n",
      "\n"
     ]
    }
   ],
   "source": [
    "print(\"\\n------> Importing libraries... ------\\n\")\n",
    "\n",
    "import pandas as pd"
   ]
  },
  {
   "cell_type": "code",
   "execution_count": 3,
   "id": "3c8d5672-d7b9-4327-bb9e-6a969cc2b794",
   "metadata": {},
   "outputs": [],
   "source": [
    "OGI_train_full_df_fp = '/srv/scratch/z5313567/thesis/OGI_local/new_full_datasets/full_OGI_scripted_train_dataframe.csv'"
   ]
  },
  {
   "cell_type": "code",
   "execution_count": 14,
   "id": "3905b0f3-65c9-4ed5-bd2c-0ffb47224b23",
   "metadata": {},
   "outputs": [],
   "source": [
    "OGI_train_full_df_fp = '/srv/scratch/z5313567/thesis/OGI_local/new_full_datasets/full_OGI_scripted_train_dataframe.csv'\n",
    "OGI_dev_full_df_fp = '/srv/scratch/z5313567/thesis/OGI_local/new_full_datasets/full_OGI_scripted_dev_dataframe.csv'\n",
    "OGI_test_full_df_fp = '/srv/scratch/z5313567/thesis/OGI_local/new_full_datasets/full_OGI_scripted_test_dataframe.csv'"
   ]
  },
  {
   "cell_type": "code",
   "execution_count": 4,
   "id": "1fb33621-ebe1-456d-a9b1-299487c22f98",
   "metadata": {},
   "outputs": [],
   "source": [
    "OGI_train_10min_df_fp = '/srv/scratch/z5313567/thesis/OGI_local/new_10min_datasets/10min_OGI_scripted_train_dataframe.csv'\n",
    "OGI_dev_10min_df_fp = '/srv/scratch/z5313567/thesis/OGI_local/new_10min_datasets/10min_OGI_scripted_dev_dataframe.csv'\n",
    "OGI_test_10min_df_fp = '/srv/scratch/z5313567/thesis/OGI_local/new_10min_datasets/10min_OGI_scripted_test_dataframe.csv'"
   ]
  },
  {
   "cell_type": "code",
   "execution_count": 5,
   "id": "e5b609dd-764a-4fc1-a6eb-1e317b1da870",
   "metadata": {},
   "outputs": [],
   "source": [
    "OGI_train_1hour_df_fp = '/srv/scratch/z5313567/thesis/OGI_local/new_1hour_datasets/1hour_OGI_scripted_train_dataframe.csv'\n",
    "OGI_dev_1hour_df_fp = '/srv/scratch/z5313567/thesis/OGI_local/new_1hour_datasets/1hour_OGI_scripted_dev_dataframe.csv'\n",
    "OGI_test_1hour_df_fp = '/srv/scratch/z5313567/thesis/OGI_local/new_1hour_datasets/1hour_OGI_scripted_test_dataframe.csv'"
   ]
  },
  {
   "cell_type": "code",
   "execution_count": 6,
   "id": "8e7fc67d-235a-45f8-80c4-83ab422229aa",
   "metadata": {},
   "outputs": [],
   "source": [
    "OGI_train_5hour_df_fp = '/srv/scratch/z5313567/thesis/OGI_local/new_5hour_datasets/5hour_OGI_scripted_train_dataframe.csv'\n",
    "OGI_dev_5hour_df_fp = '/srv/scratch/z5313567/thesis/OGI_local/new_5hour_datasets/5hour_OGI_scripted_dev_dataframe.csv'\n",
    "OGI_test_5hour_df_fp = '/srv/scratch/z5313567/thesis/OGI_local/new_5hour_datasets/5hour_OGI_scripted_test_dataframe.csv'"
   ]
  },
  {
   "cell_type": "code",
   "execution_count": 7,
   "id": "fd7cc16d-ea49-435b-8ca9-63d8452990ed",
   "metadata": {},
   "outputs": [],
   "source": [
    "OGI_train_10hour_df_fp = '/srv/scratch/z5313567/thesis/OGI_local/new_10hour_datasets/10hour_OGI_scripted_train_dataframe.csv'\n",
    "OGI_dev_10hour_df_fp = '/srv/scratch/z5313567/thesis/OGI_local/new_10hour_datasets/10hour_OGI_scripted_dev_dataframe.csv'\n",
    "OGI_test_10hour_df_fp = '/srv/scratch/z5313567/thesis/OGI_local/new_10hour_datasets/10hour_OGI_scripted_test_dataframe.csv'"
   ]
  },
  {
   "cell_type": "code",
   "execution_count": 8,
   "id": "7edb909d-825d-4d2f-9b6e-b41892680f1e",
   "metadata": {},
   "outputs": [],
   "source": [
    "AusKidTalk_train_df_fp = '/srv/scratch/z5313567/thesis/AusKidTalk_local/AusKidTalk_train_dataframe.csv'\n",
    "AusKidTalk_dev_df_fp = '/srv/scratch/z5313567/thesis/AusKidTalk_local/AusKidTalk_dev_dataframe.csv'\n",
    "AusKidTalk_test_df_fp = '/srv/scratch/z5313567/thesis/AusKidTalk_local/AusKidTalk_test_dataframe.csv'"
   ]
  },
  {
   "cell_type": "code",
   "execution_count": 9,
   "id": "0deba27d-97ac-4aaa-962d-e8810d8d6c4c",
   "metadata": {},
   "outputs": [],
   "source": [
    "OGI_train_20hour_df_fp = '/srv/scratch/z5313567/thesis/CU_local/4h/CU_4h_train_dataframe_15sec.csv'\n",
    "OGI_dev_20hour_df_fp = '/srv/scratch/z5313567/thesis/CU_local/4h/CU_4h_dev_dataframe_15sec.csv'\n",
    "OGI_test_20hour_df_fp = '/srv/scratch/z5313567/thesis/CU_local/4h/CU_4h_test_dataframe_15sec.csv'"
   ]
  },
  {
   "cell_type": "code",
   "execution_count": 10,
   "id": "9b315aeb-43d8-4a2c-a268-ee447810a355",
   "metadata": {},
   "outputs": [],
   "source": [
    "def describe_dataset(df):\n",
    "    for i in range(len(df)):\n",
    "        OGI_df = pd.read_csv(df[i])\n",
    "        duration = OGI_df['duration'].sum()\n",
    "        print(f'Total duration is {duration/60} in minutes')\n",
    "        print(f'Total duration is {duration/(60*60)} in hours')\n",
    "        print(OGI_df.speaker_id.describe())\n",
    "        print('\\nThe number of speakers is:')\n",
    "        print(len(OGI_df.speaker_id.unique()))\n",
    "        print('\\n')"
   ]
  },
  {
   "cell_type": "code",
   "execution_count": 4,
   "id": "963a41f4-a006-403f-9894-f9b470f6fc47",
   "metadata": {},
   "outputs": [
    {
     "ename": "NameError",
     "evalue": "name 'OGI_train_full_df_fp' is not defined",
     "output_type": "error",
     "traceback": [
      "\u001b[0;31m---------------------------------------------------------------------------\u001b[0m",
      "\u001b[0;31mNameError\u001b[0m                                 Traceback (most recent call last)",
      "Cell \u001b[0;32mIn[4], line 1\u001b[0m\n\u001b[0;32m----> 1\u001b[0m full_df \u001b[38;5;241m=\u001b[39m [\u001b[43mOGI_train_full_df_fp\u001b[49m, OGI_dev_full_df_fp, OGI_test_full_df_fp]\n\u001b[1;32m      2\u001b[0m describe_dataset(full_df)\n",
      "\u001b[0;31mNameError\u001b[0m: name 'OGI_train_full_df_fp' is not defined"
     ]
    }
   ],
   "source": [
    "full_df = [OGI_train_full_df_fp, OGI_dev_full_df_fp, OGI_test_full_df_fp]\n",
    "describe_dataset(full_df)"
   ]
  },
  {
   "cell_type": "code",
   "execution_count": 11,
   "id": "0385089c-d503-4379-ae80-c71c8959419a",
   "metadata": {},
   "outputs": [
    {
     "name": "stdout",
     "output_type": "stream",
     "text": [
      "Total duration is 9.90883597883598 in minutes\n",
      "Total duration is 0.16514726631393298 in hours\n",
      "count       173\n",
      "unique      152\n",
      "top       ksl0l\n",
      "freq          3\n",
      "Name: speaker_id, dtype: object\n",
      "\n",
      "\n",
      "Total duration is 2.3871662887377165 in minutes\n",
      "Total duration is 0.039786104812295275 in hours\n",
      "count        37\n",
      "unique       33\n",
      "top       ksc3t\n",
      "freq          3\n",
      "Name: speaker_id, dtype: object\n",
      "\n",
      "\n",
      "Total duration is 2.362996976568405 in minutes\n",
      "Total duration is 0.039383282942806755 in hours\n",
      "count        37\n",
      "unique       34\n",
      "top       ksj3x\n",
      "freq          2\n",
      "Name: speaker_id, dtype: object\n",
      "\n",
      "\n"
     ]
    }
   ],
   "source": [
    "df_10min = [OGI_train_10min_df_fp, OGI_dev_10min_df_fp, OGI_test_10min_df_fp]\n",
    "describe_dataset(df_10min)"
   ]
  },
  {
   "cell_type": "code",
   "execution_count": 12,
   "id": "ae33c77e-2121-4a79-b825-7cf369bb10ff",
   "metadata": {},
   "outputs": [
    {
     "name": "stdout",
     "output_type": "stream",
     "text": [
      "Total duration is 61.041448223733944 in minutes\n",
      "Total duration is 1.0173574703955657 in hours\n",
      "count      1036\n",
      "unique      577\n",
      "top       ks60d\n",
      "freq          5\n",
      "Name: speaker_id, dtype: object\n",
      "\n",
      "\n",
      "Total duration is 13.488173847316705 in minutes\n",
      "Total duration is 0.2248028974552784 in hours\n",
      "count       222\n",
      "unique      119\n",
      "top       ksh1j\n",
      "freq          5\n",
      "Name: speaker_id, dtype: object\n",
      "\n",
      "\n",
      "Total duration is 13.249337112622827 in minutes\n",
      "Total duration is 0.22082228521038044 in hours\n",
      "count       218\n",
      "unique      118\n",
      "top       ksd15\n",
      "freq          6\n",
      "Name: speaker_id, dtype: object\n",
      "\n",
      "\n"
     ]
    }
   ],
   "source": [
    "df_1hour = [OGI_train_1hour_df_fp, OGI_dev_1hour_df_fp, OGI_test_1hour_df_fp]\n",
    "describe_dataset(df_1hour)"
   ]
  },
  {
   "cell_type": "code",
   "execution_count": 13,
   "id": "5bd165c1-7ee9-40f7-977c-fd3d22d2b25d",
   "metadata": {},
   "outputs": [
    {
     "name": "stdout",
     "output_type": "stream",
     "text": [
      "Total duration is 301.0804066515495 in minutes\n",
      "Total duration is 5.018006777525825 in hours\n",
      "count      5177\n",
      "unique      777\n",
      "top       ksg47\n",
      "freq         15\n",
      "Name: speaker_id, dtype: object\n",
      "\n",
      "\n",
      "Total duration is 65.10667044595615 in minutes\n",
      "Total duration is 1.0851111740992694 in hours\n",
      "count      1109\n",
      "unique      167\n",
      "top       ksi3i\n",
      "freq         14\n",
      "Name: speaker_id, dtype: object\n",
      "\n",
      "\n",
      "Total duration is 65.51051549508693 in minutes\n",
      "Total duration is 1.0918419249181155 in hours\n",
      "count      1086\n",
      "unique      168\n",
      "top       ks50i\n",
      "freq         13\n",
      "Name: speaker_id, dtype: object\n",
      "\n",
      "\n"
     ]
    }
   ],
   "source": [
    "df_5hour = [OGI_train_5hour_df_fp, OGI_dev_5hour_df_fp, OGI_test_5hour_df_fp]\n",
    "describe_dataset(df_5hour)"
   ]
  },
  {
   "cell_type": "code",
   "execution_count": 14,
   "id": "7a4fbb3e-d927-40ce-a2af-f207371e50c2",
   "metadata": {},
   "outputs": [
    {
     "name": "stdout",
     "output_type": "stream",
     "text": [
      "Total duration is 602.1403779289493 in minutes\n",
      "Total duration is 10.035672965482489 in hours\n",
      "count     10354\n",
      "unique      779\n",
      "top       ksk0j\n",
      "freq         25\n",
      "Name: speaker_id, dtype: object\n",
      "\n",
      "\n",
      "Total duration is 128.19080952380952 in minutes\n",
      "Total duration is 2.136513492063492 in hours\n",
      "count      2217\n",
      "unique      167\n",
      "top       ks12u\n",
      "freq         22\n",
      "Name: speaker_id, dtype: object\n",
      "\n",
      "\n",
      "Total duration is 129.79531368102798 in minutes\n",
      "Total duration is 2.1632552280171327 in hours\n",
      "count      2171\n",
      "unique      168\n",
      "top       ks32x\n",
      "freq         23\n",
      "Name: speaker_id, dtype: object\n",
      "\n",
      "\n"
     ]
    }
   ],
   "source": [
    "df_10hour = [OGI_train_10hour_df_fp, OGI_dev_10hour_df_fp, OGI_test_10hour_df_fp]\n",
    "describe_dataset(df_10hour)"
   ]
  },
  {
   "cell_type": "code",
   "execution_count": 15,
   "id": "9d928296-5494-4ef9-8322-269f414c7056",
   "metadata": {},
   "outputs": [
    {
     "name": "stdout",
     "output_type": "stream",
     "text": [
      "Total duration is 96.78078351733977 in minutes\n",
      "Total duration is 1.6130130586223295 in hours\n",
      "count           8093\n",
      "unique            55\n",
      "top       1075_task1\n",
      "freq             172\n",
      "Name: speaker_id, dtype: object\n",
      "\n",
      "\n",
      "Total duration is 22.91442961961894 in minutes\n",
      "Total duration is 0.3819071603269823 in hours\n",
      "count          1744\n",
      "unique           12\n",
      "top       222_task1\n",
      "freq            158\n",
      "Name: speaker_id, dtype: object\n",
      "\n",
      "\n",
      "Total duration is 21.36285924792413 in minutes\n",
      "Total duration is 0.35604765413206885 in hours\n",
      "count          1774\n",
      "unique           12\n",
      "top       251_task1\n",
      "freq            167\n",
      "Name: speaker_id, dtype: object\n",
      "\n",
      "\n"
     ]
    }
   ],
   "source": [
    "df_AusKidTalk = [AusKidTalk_train_df_fp, AusKidTalk_dev_df_fp, AusKidTalk_test_df_fp]\n",
    "describe_dataset(df_AusKidTalk)"
   ]
  },
  {
   "cell_type": "code",
   "execution_count": 11,
   "id": "f59d78fb-2f43-4a1a-8ef2-adab38d72207",
   "metadata": {},
   "outputs": [
    {
     "name": "stdout",
     "output_type": "stream",
     "text": [
      "Total duration is 244.1725873015873 in minutes\n",
      "Total duration is 4.069543121693122 in hours\n",
      "count      4842.000000\n",
      "mean     254483.678232\n",
      "std      142844.031788\n",
      "min           3.000000\n",
      "25%      200107.000000\n",
      "50%      200206.000000\n",
      "75%      400014.750000\n",
      "max      502045.000000\n",
      "Name: speaker_id, dtype: float64\n",
      "\n",
      "The number of speakers is:\n",
      "630\n",
      "\n",
      "\n",
      "Total duration is 53.001559334845055 in minutes\n",
      "Total duration is 0.8833593222474175 in hours\n",
      "count      1055.000000\n",
      "mean     247399.704265\n",
      "std      146692.080802\n",
      "min          10.000000\n",
      "25%      100728.500000\n",
      "50%      200185.000000\n",
      "75%      400009.000000\n",
      "max      502029.000000\n",
      "Name: speaker_id, dtype: float64\n",
      "\n",
      "The number of speakers is:\n",
      "138\n",
      "\n",
      "\n",
      "Total duration is 51.65965003779289 in minutes\n",
      "Total duration is 0.8609941672965482 in hours\n",
      "count      1043.000000\n",
      "mean     270281.834132\n",
      "std      157728.236983\n",
      "min           1.000000\n",
      "25%      200010.000000\n",
      "50%      200318.000000\n",
      "75%      401203.000000\n",
      "max      502043.000000\n",
      "Name: speaker_id, dtype: float64\n",
      "\n",
      "The number of speakers is:\n",
      "136\n",
      "\n",
      "\n"
     ]
    }
   ],
   "source": [
    "df_AusKidTalk = [OGI_train_20hour_df_fp, OGI_dev_20hour_df_fp, OGI_test_20hour_df_fp]\n",
    "describe_dataset(df_AusKidTalk)"
   ]
  },
  {
   "cell_type": "code",
   "execution_count": null,
   "id": "6b780536-20d4-49bc-a0bc-81d4bc0a615e",
   "metadata": {},
   "outputs": [],
   "source": []
  },
  {
   "cell_type": "code",
   "execution_count": null,
   "id": "204dce5a-3ee2-4b11-b4f7-bb6866f8dc7f",
   "metadata": {},
   "outputs": [],
   "source": []
  }
 ],
 "metadata": {
  "kernelspec": {
   "display_name": "Python 3.10.8 (ipykernel)",
   "language": "python",
   "name": "python-3.10.8"
  },
  "language_info": {
   "codemirror_mode": {
    "name": "ipython",
    "version": 3
   },
   "file_extension": ".py",
   "mimetype": "text/x-python",
   "name": "python",
   "nbconvert_exporter": "python",
   "pygments_lexer": "ipython3",
   "version": "3.10.8"
  }
 },
 "nbformat": 4,
 "nbformat_minor": 5
}

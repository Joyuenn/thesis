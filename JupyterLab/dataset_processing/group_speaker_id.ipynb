{
 "cells": [
  {
   "cell_type": "code",
   "execution_count": 1,
   "id": "79b34c6a-cdbd-4876-b742-67410197e92e",
   "metadata": {},
   "outputs": [],
   "source": [
    "# Purpose: Extract and group the speakers from the datasets to ensure that the speakers appear in train datasets\n",
    "#          do not appear in dev or test datasets.\n",
    "#          (Optional) to extract speakers by the desired durations\n",
    "# Requirement: prepare_scripted_datasets.py (ipynb)\n",
    "#              Check_duration_15sec.py (ipynb)\n",
    "# Based on https://github.com/monomest/Thesis/blob/3a15f747dfd934535ffb7a02bf3fee97d9c546cb/s5/wav2vec_projects/OGI_getSpkrs.py"
   ]
  },
  {
   "cell_type": "code",
   "execution_count": 2,
   "id": "7c9c3938-a822-453a-8550-1717e2c9e944",
   "metadata": {},
   "outputs": [
    {
     "name": "stdout",
     "output_type": "stream",
     "text": [
      "\n",
      "------> Importing libraries... ------\n",
      "\n"
     ]
    }
   ],
   "source": [
    "print(\"\\n------> Importing libraries... ------\\n\")\n",
    "\n",
    "import pandas as pd"
   ]
  },
  {
   "cell_type": "code",
   "execution_count": 3,
   "id": "519f34f1-34b1-4383-88c4-fa0c6041e81a",
   "metadata": {},
   "outputs": [
    {
     "data": {
      "text/plain": [
       "\"\\nextract_by_duration = True\\ndesired_training_duration = 10*60*60 # hours*minutes*seconds, convert to seconds\\nprop_training = 0.7 \\nif extract_by_duration:\\n    print(f'The desired duration of the training dataset is {desired_training_duration} seconds, {desired_training_duration/60} minutes, and {desired_training_duration/(60*60)} hours')\\n    # !!!!!! Refer to data_splitting.ipynb, the entire dataset is split into training, development and testing sets by 0.7:0.15:0.15\\n    total_duration = desired_training_duration / prop_training\\n    print(f'The total duration including training, development and testing sets should be {total_duration} seconds, {total_duration/60} minutes, and {total_duration/(60*60)} hours')\\n    \""
      ]
     },
     "execution_count": 3,
     "metadata": {},
     "output_type": "execute_result"
    }
   ],
   "source": [
    "'''\n",
    "extract_by_duration = True\n",
    "desired_training_duration = 10*60*60 # hours*minutes*seconds, convert to seconds\n",
    "prop_training = 0.7 \n",
    "if extract_by_duration:\n",
    "    print(f'The desired duration of the training dataset is {desired_training_duration} seconds, {desired_training_duration/60} minutes, and {desired_training_duration/(60*60)} hours')\n",
    "    # !!!!!! Refer to data_splitting.ipynb, the entire dataset is split into training, development and testing sets by 0.7:0.15:0.15\n",
    "    total_duration = desired_training_duration / prop_training\n",
    "    print(f'The total duration including training, development and testing sets should be {total_duration} seconds, {total_duration/60} minutes, and {total_duration/(60*60)} hours')\n",
    "    '''"
   ]
  },
  {
   "cell_type": "code",
   "execution_count": 4,
   "id": "af7b8d32-cd5b-4590-b6d4-adaa78ab27bf",
   "metadata": {},
   "outputs": [
    {
     "name": "stdout",
     "output_type": "stream",
     "text": [
      "\n",
      "------> Loading files... ------\n",
      "\n",
      "OGI dataframe is stored at /srv/scratch/z5313567/thesis/AusKidTalk_local/AusKidTalk_spontaneous_dataframe.csv\n",
      "OGI group-by-speaker daraframe is stored at /srv/scratch/z5313567/thesis/AusKidTalk_local/AusKidTalk_spontaneous_speaker_dataframe.csv\n"
     ]
    },
    {
     "data": {
      "text/plain": [
       "\"\\nif extract_by_duration:\\n    print(f'OGI group-by-duration daraframe is stored at {OGI_speaker_duration_df_fp}')\\n    \""
      ]
     },
     "execution_count": 4,
     "metadata": {},
     "output_type": "execute_result"
    }
   ],
   "source": [
    "print(\"\\n------> Loading files... ------\\n\")\n",
    "\n",
    "# Path where the OGI dataframe are stored\n",
    "#OGI_df_fp = '/srv/scratch/z5313567/thesis/OGI_local/OGI_scripted_dataframe.csv'\n",
    "#OGI_df_fp = '/srv/scratch/z5313567/thesis/OGI_local/OGI_spontaneous_dataframe.csv'\n",
    "OGI_df_fp = '/srv/scratch/z5313567/thesis/AusKidTalk_local/AusKidTalk_spontaneous_dataframe.csv'\n",
    "\n",
    "# Path to save the OGI group-by-speaker daraframe \n",
    "#OGI_speaker_df_fp = '/srv/scratch/z5313567/thesis/OGI_local/OGI_scripted_speaker_dataframe.csv'\n",
    "#OGI_speaker_df_fp = '/srv/scratch/z5313567/thesis/OGI_local/OGI_spontaneous_speaker_dataframe.csv'\n",
    "OGI_speaker_df_fp = '/srv/scratch/z5313567/thesis/AusKidTalk_local/AusKidTalk_spontaneous_speaker_dataframe.csv'\n",
    "\n",
    "# Path to save the OGI group-by-speaker dataframe according to desired duration\n",
    "#OGI_speaker_duration_df_fp = '/srv/scratch/z5313567/thesis/OGI_local/10hour_datasets/OGI_scripted_speaker_dataframe_10hour.csv'\n",
    "\n",
    "print(f'OGI dataframe is stored at {OGI_df_fp}')\n",
    "print(f'OGI group-by-speaker daraframe is stored at {OGI_speaker_df_fp}')\n",
    "'''\n",
    "if extract_by_duration:\n",
    "    print(f'OGI group-by-duration daraframe is stored at {OGI_speaker_duration_df_fp}')\n",
    "    '''"
   ]
  },
  {
   "cell_type": "code",
   "execution_count": 5,
   "id": "a18cb535-b020-4c95-9dee-3641949f2a67",
   "metadata": {},
   "outputs": [
    {
     "name": "stdout",
     "output_type": "stream",
     "text": [
      "\n",
      "------> Describing dataset... ------\n",
      "\n",
      "count     111\n",
      "unique      8\n",
      "top       228\n",
      "freq       22\n",
      "Name: speaker_id, dtype: object\n"
     ]
    }
   ],
   "source": [
    "OGI_df = pd.read_csv(OGI_df_fp, dtype={'speaker_id': str})\n",
    "print(\"\\n------> Describing dataset... ------\\n\")\n",
    "print(OGI_df.speaker_id.describe())"
   ]
  },
  {
   "cell_type": "code",
   "execution_count": 6,
   "id": "43070a48-e377-4331-b83e-81a2faf1539d",
   "metadata": {},
   "outputs": [
    {
     "name": "stdout",
     "output_type": "stream",
     "text": [
      "\n",
      "------> Grouping according to speakers... ------\n",
      "\n",
      "  speaker_id   duration\n",
      "0       1050  70.867607\n",
      "1       1075  42.691941\n",
      "2       1150  39.692045\n",
      "3        228  66.464440\n",
      "4        255  38.381486\n",
      "5        516  37.207127\n",
      "6        651  29.252647\n",
      "7        819  43.156701\n"
     ]
    }
   ],
   "source": [
    "OGI_df.drop(columns=['filepath', 'transcription'], inplace=True)\n",
    "\n",
    "print(\"\\n------> Grouping according to speakers... ------\\n\")\n",
    "OGI_speaker_df = OGI_df.groupby('speaker_id')['duration'].sum()\n",
    "OGI_speaker_df = OGI_speaker_df.reset_index()\n",
    "print(OGI_speaker_df)"
   ]
  },
  {
   "cell_type": "code",
   "execution_count": 7,
   "id": "d1f5d9e1-7b62-48a2-94da-49e3d195c81b",
   "metadata": {},
   "outputs": [
    {
     "name": "stdout",
     "output_type": "stream",
     "text": [
      "\n",
      "------> Saving dataframe to csv file... ------\n",
      "\n",
      "Successfully saved group-by-speaker dataframe to csv file at: /srv/scratch/z5313567/thesis/AusKidTalk_local/AusKidTalk_spontaneous_speaker_dataframe.csv\n"
     ]
    }
   ],
   "source": [
    "print(\"\\n------> Saving dataframe to csv file... ------\\n\")\n",
    "OGI_speaker_df.to_csv(OGI_speaker_df_fp, index = False)\n",
    "print('Successfully saved group-by-speaker dataframe to csv file at:', OGI_speaker_df_fp)"
   ]
  },
  {
   "cell_type": "code",
   "execution_count": 8,
   "id": "f87b814e-6858-46fb-b746-1ae2ba2cc762",
   "metadata": {},
   "outputs": [
    {
     "name": "stdout",
     "output_type": "stream",
     "text": [
      "Total number of speakers: 8\n",
      "Total hours: 0.10214277614853146\n"
     ]
    }
   ],
   "source": [
    "print('Total number of speakers:', len(OGI_speaker_df))\n",
    "print(\"Total hours:\", OGI_speaker_df['duration'].sum()/(60*60))"
   ]
  },
  {
   "cell_type": "code",
   "execution_count": 12,
   "id": "02a849c7-dea8-4b72-928d-b1842f433ff9",
   "metadata": {},
   "outputs": [
    {
     "data": {
      "text/plain": [
       "'\\nduration_count = 0\\nextracted_rows = []\\nif extract_by_duration:\\n    print(\"\\n------> Extracting dataframe according to the desired duration... ------\\n\")\\n    for index, row in OGI_speaker_df.iterrows():\\n        if duration_count <= total_duration:\\n            extracted_rows.append(row)\\n            duration_count += row[\\'duration\\']\\n    extracted_df_by_duration = pd.DataFrame(extracted_rows)\\n    print(\\'Total number of speakers:\\', len(extracted_df_by_duration))\\n    print(\"Total hours:\", extracted_df_by_duration[\\'duration\\'].sum()/(60*60))\\n    print(\"Total minutes:\", extracted_df_by_duration[\\'duration\\'].sum()/(60))\\n    print(\"Total seconds:\", extracted_df_by_duration[\\'duration\\'].sum())\\n    \\n    print(\"\\n------> Saving dataframe to csv file... ------\\n\")\\n    extracted_df_by_duration.to_csv(OGI_speaker_duration_df_fp, index = False)\\n    print(\\'Successfully saved group-by-speaker dataframe to csv file at:\\', OGI_speaker_duration_df_fp)\\n'"
      ]
     },
     "execution_count": 12,
     "metadata": {},
     "output_type": "execute_result"
    }
   ],
   "source": [
    "'''\n",
    "duration_count = 0\n",
    "extracted_rows = []\n",
    "if extract_by_duration:\n",
    "    print(\"\\n------> Extracting dataframe according to the desired duration... ------\\n\")\n",
    "    for index, row in OGI_speaker_df.iterrows():\n",
    "        if duration_count <= total_duration:\n",
    "            extracted_rows.append(row)\n",
    "            duration_count += row['duration']\n",
    "    extracted_df_by_duration = pd.DataFrame(extracted_rows)\n",
    "    print('Total number of speakers:', len(extracted_df_by_duration))\n",
    "    print(\"Total hours:\", extracted_df_by_duration['duration'].sum()/(60*60))\n",
    "    print(\"Total minutes:\", extracted_df_by_duration['duration'].sum()/(60))\n",
    "    print(\"Total seconds:\", extracted_df_by_duration['duration'].sum())\n",
    "    \n",
    "    print(\"\\n------> Saving dataframe to csv file... ------\\n\")\n",
    "    extracted_df_by_duration.to_csv(OGI_speaker_duration_df_fp, index = False)\n",
    "    print('Successfully saved group-by-speaker dataframe to csv file at:', OGI_speaker_duration_df_fp)\n",
    "'''"
   ]
  },
  {
   "cell_type": "code",
   "execution_count": null,
   "id": "becb4f5a-a58f-4c0d-8a4b-ae44efa8cf6e",
   "metadata": {},
   "outputs": [],
   "source": []
  },
  {
   "cell_type": "code",
   "execution_count": null,
   "id": "25fbe52c-39ec-4d5b-9b1d-fb9db33f3362",
   "metadata": {},
   "outputs": [],
   "source": []
  }
 ],
 "metadata": {
  "kernelspec": {
   "display_name": "Python 3.10.8 (ipykernel)",
   "language": "python",
   "name": "python-3.10.8"
  },
  "language_info": {
   "codemirror_mode": {
    "name": "ipython",
    "version": 3
   },
   "file_extension": ".py",
   "mimetype": "text/x-python",
   "name": "python",
   "nbconvert_exporter": "python",
   "pygments_lexer": "ipython3",
   "version": "3.10.8"
  }
 },
 "nbformat": 4,
 "nbformat_minor": 5
}

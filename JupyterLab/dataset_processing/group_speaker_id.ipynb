{
 "cells": [
  {
   "cell_type": "code",
   "execution_count": 1,
   "id": "79b34c6a-cdbd-4876-b742-67410197e92e",
   "metadata": {},
   "outputs": [],
   "source": [
    "# Purpose: Extract and group the speakers from the datasets to ensure that the speakers appear in train datasets\n",
    "#          do not appear in dev or test datasets.\n",
    "# Requirement: prepare_scripted_datasets.py (ipynb)\n",
    "#              Check_duration_15sec.py (ipynb)\n",
    "# Based on https://github.com/monomest/Thesis/blob/3a15f747dfd934535ffb7a02bf3fee97d9c546cb/s5/wav2vec_projects/OGI_getSpkrs.py"
   ]
  },
  {
   "cell_type": "code",
   "execution_count": 1,
   "id": "7c9c3938-a822-453a-8550-1717e2c9e944",
   "metadata": {},
   "outputs": [
    {
     "name": "stdout",
     "output_type": "stream",
     "text": [
      "\n",
      "------> Importing libraries... ------\n",
      "\n"
     ]
    }
   ],
   "source": [
    "print(\"\\n------> Importing libraries... ------\\n\")\n",
    "\n",
    "import pandas as pd"
   ]
  },
  {
   "cell_type": "code",
   "execution_count": 2,
   "id": "af7b8d32-cd5b-4590-b6d4-adaa78ab27bf",
   "metadata": {},
   "outputs": [
    {
     "name": "stdout",
     "output_type": "stream",
     "text": [
      "\n",
      "------> Loading files... ------\n",
      "\n",
      "Dataframe is stored at /srv/scratch/z5313567/thesis/AusKidTalk_local/combined_scripted_spontaneous_v2/AusKidTalk_combined_scripted_spontaneous_dataframe_v2.csv\n",
      "Group-by-speaker daraframe is stored at /srv/scratch/z5313567/thesis/AusKidTalk_local/combined_scripted_spontaneous_v2/AusKidTalk_combined_scripted_spontaneous_speaker_dataframe_v2.csv\n"
     ]
    }
   ],
   "source": [
    "print(\"\\n------> Loading files... ------\\n\")\n",
    "\n",
    "# Path where the dataframe are stored\n",
    "df_fp = '/srv/scratch/z5313567/thesis/AusKidTalk_local/combined_scripted_spontaneous_v2/AusKidTalk_combined_scripted_spontaneous_dataframe_v2.csv'\n",
    "\n",
    "# Path to save the group-by-speaker daraframe \n",
    "speaker_df_fp = '/srv/scratch/z5313567/thesis/AusKidTalk_local/combined_scripted_spontaneous_v2/AusKidTalk_combined_scripted_spontaneous_speaker_dataframe_v2.csv'\n",
    "\n",
    "print(f'Dataframe is stored at {df_fp}')\n",
    "print(f'Group-by-speaker daraframe is stored at {speaker_df_fp}')\n"
   ]
  },
  {
   "cell_type": "code",
   "execution_count": 3,
   "id": "a18cb535-b020-4c95-9dee-3641949f2a67",
   "metadata": {},
   "outputs": [
    {
     "name": "stdout",
     "output_type": "stream",
     "text": [
      "\n",
      "------> Describing dataset... ------\n",
      "\n",
      "count     26523\n",
      "unique      180\n",
      "top         219\n",
      "freq        178\n",
      "Name: speaker_id, dtype: object\n"
     ]
    }
   ],
   "source": [
    "df = pd.read_csv(df_fp, dtype={'speaker_id': str})\n",
    "print(\"\\n------> Describing dataset... ------\\n\")\n",
    "print(df.speaker_id.describe())"
   ]
  },
  {
   "cell_type": "code",
   "execution_count": 4,
   "id": "43070a48-e377-4331-b83e-81a2faf1539d",
   "metadata": {},
   "outputs": [
    {
     "name": "stdout",
     "output_type": "stream",
     "text": [
      "\n",
      "------> Grouping according to speakers... ------\n",
      "\n",
      "    speaker_id    duration\n",
      "0         1000   94.662074\n",
      "1         1001  131.205357\n",
      "2         1032   97.057435\n",
      "3         1050  163.756414\n",
      "4         1075  154.897349\n",
      "..         ...         ...\n",
      "175        973   88.415174\n",
      "176        975  107.345394\n",
      "177        977  141.991467\n",
      "178        978  119.092942\n",
      "179        982  119.394804\n",
      "\n",
      "[180 rows x 2 columns]\n"
     ]
    }
   ],
   "source": [
    "df.drop(columns=['filepath', 'transcription'], inplace=True) \n",
    "\n",
    "\n",
    "print(\"\\n------> Grouping according to speakers... ------\\n\")\n",
    "speaker_df = df.groupby('speaker_id')['duration'].sum()\n",
    "speaker_df = speaker_df.reset_index()\n",
    "print(speaker_df)"
   ]
  },
  {
   "cell_type": "code",
   "execution_count": 5,
   "id": "d1f5d9e1-7b62-48a2-94da-49e3d195c81b",
   "metadata": {},
   "outputs": [
    {
     "name": "stdout",
     "output_type": "stream",
     "text": [
      "\n",
      "------> Saving dataframe to csv file... ------\n",
      "\n",
      "Successfully saved group-by-speaker dataframe to csv file at: /srv/scratch/z5313567/thesis/AusKidTalk_local/combined_scripted_spontaneous_v2/AusKidTalk_combined_scripted_spontaneous_speaker_dataframe_v2.csv\n"
     ]
    }
   ],
   "source": [
    "print(\"\\n------> Saving dataframe to csv file... ------\\n\")\n",
    "speaker_df.to_csv(speaker_df_fp, index = False)\n",
    "print('Successfully saved group-by-speaker dataframe to csv file at:', speaker_df_fp)"
   ]
  },
  {
   "cell_type": "code",
   "execution_count": 6,
   "id": "f87b814e-6858-46fb-b746-1ae2ba2cc762",
   "metadata": {},
   "outputs": [
    {
     "name": "stdout",
     "output_type": "stream",
     "text": [
      "Total number of speakers: 180\n",
      "Total hours: 5.697343974007766\n"
     ]
    }
   ],
   "source": [
    "print('Total number of speakers:', len(speaker_df))\n",
    "print(\"Total hours:\", speaker_df['duration'].sum()/(60*60))"
   ]
  },
  {
   "cell_type": "code",
   "execution_count": null,
   "id": "becb4f5a-a58f-4c0d-8a4b-ae44efa8cf6e",
   "metadata": {},
   "outputs": [],
   "source": []
  },
  {
   "cell_type": "code",
   "execution_count": null,
   "id": "25fbe52c-39ec-4d5b-9b1d-fb9db33f3362",
   "metadata": {},
   "outputs": [],
   "source": []
  }
 ],
 "metadata": {
  "kernelspec": {
   "display_name": "Python 3.10.8 (ipykernel)",
   "language": "python",
   "name": "python-3.10.8"
  },
  "language_info": {
   "codemirror_mode": {
    "name": "ipython",
    "version": 3
   },
   "file_extension": ".py",
   "mimetype": "text/x-python",
   "name": "python",
   "nbconvert_exporter": "python",
   "pygments_lexer": "ipython3",
   "version": "3.10.8"
  }
 },
 "nbformat": 4,
 "nbformat_minor": 5
}

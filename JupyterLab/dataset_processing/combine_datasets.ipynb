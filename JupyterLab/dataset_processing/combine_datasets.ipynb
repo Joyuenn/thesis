{
 "cells": [
  {
   "cell_type": "code",
   "execution_count": 2,
   "id": "a2283ba7-0845-4a44-8442-69f8695aa892",
   "metadata": {},
   "outputs": [],
   "source": [
    "import pandas as pd"
   ]
  },
  {
   "cell_type": "code",
   "execution_count": 15,
   "id": "fc6fb01f-44ba-4075-9cda-833509bd5301",
   "metadata": {},
   "outputs": [],
   "source": [
    "fp_1_train = '/srv/scratch/z5313567/thesis/AusKidTalk_local/spontaneous_v2/AusKidTalk_spontaneous_dataframe_v2.csv'\n",
    "fp_1_dev = '/srv/scratch/z5313567/thesis/CU_local/CU_full_dev_dataframe_15sec.csv'\n",
    "fp_1_test = '/srv/scratch/z5313567/thesis/CU_local/CU_full_test_dataframe_15sec.csv'\n",
    "\n",
    "fp_2_train = '/srv/scratch/z5313567/thesis/MyST_local/myST_train_15sec.csv'\n",
    "fp_2_dev = '/srv/scratch/z5313567/thesis/MyST_local/myST_dev_15sec.csv'\n",
    "fp_2_test = '/srv/scratch/z5313567/thesis/MyST_local/myST_test_15sec.csv'\n",
    "\n",
    "fp_3_train = '/srv/scratch/z5313567/thesis/AusKidTalk_local/AusKidTalk_train_dataframe.csv'\n",
    "fp_3_dev = '/srv/scratch/z5313567/thesis/AusKidTalk_local/AusKidTalk_dev_dataframe.csv'\n",
    "fp_3_test = '/srv/scratch/z5313567/thesis/AusKidTalk_local/AusKidTalk_test_dataframe.csv'\n",
    "\n",
    "combined_fp_train = '/srv/scratch/z5313567/thesis/AusKidTalk_local/spontaneous_v2/AusKidTalk_spontaneous_dataframe_combined_v2.csv'\n",
    "combined_fp_dev = '/srv/scratch/z5313567/thesis/CU_MyST_AusKidTalk_local/CU_MyST_AusKidTalk_dev_15sec.csv'\n",
    "combined_fp_test = '/srv/scratch/z5313567/thesis/AusKidTalk_local/spontaneous_v2/AusKidTalk_spontaneous_dataframe_combined_v2.csv'"
   ]
  },
  {
   "cell_type": "code",
   "execution_count": 7,
   "id": "1048cccf-2192-48c5-846c-1e457306f1a8",
   "metadata": {},
   "outputs": [],
   "source": [
    "df_1_train = pd.read_csv(fp_1_train)\n",
    "df_1_dev = pd.read_csv(fp_1_dev)\n",
    "df_1_test = pd.read_csv(fp_1_test)\n",
    "\n",
    "df_2_train = pd.read_csv(fp_2_train)\n",
    "df_2_dev = pd.read_csv(fp_2_dev)\n",
    "df_2_test = pd.read_csv(fp_2_test)\n",
    "\n",
    "df_3_train = pd.read_csv(fp_3_train)\n",
    "df_3_dev = pd.read_csv(fp_3_dev)\n",
    "df_3_test = pd.read_csv(fp_3_test)"
   ]
  },
  {
   "cell_type": "code",
   "execution_count": 9,
   "id": "aac48c7a-93b6-44c5-aba9-1845cde60881",
   "metadata": {},
   "outputs": [],
   "source": [
    "combined_df_train = pd.concat([df_1_train, df_2_train, df_3_train], ignore_index=True)\n",
    "combined_df_dev = pd.concat([df_1_dev, df_2_dev, df_3_dev], ignore_index=True)\n",
    "combined_df_test = pd.concat([df_1_test, df_2_test, df_3_test], ignore_index=True)\n",
    "#combined_df_test = pd.concat([df_1_train, df_2_train, ], ignore_index=True)"
   ]
  },
  {
   "cell_type": "code",
   "execution_count": null,
   "id": "a2fc93e5-b2a1-42d9-954a-c34286af5804",
   "metadata": {},
   "outputs": [],
   "source": [
    "print(f'---------------Saving combined training dataframe to {combined_df_train}-------------------\\n')\n",
    "combined_df_train.to_csv(combined_fp_train, index=False)\n",
    "\n",
    "duration = combined_df_train['duration'].sum()\n",
    "num_speakers = combined_df_train['speaker_id'].nunique()\n",
    "\n",
    "print(f'Total duration in combined training dataset is {duration/(60*60)} hours')\n",
    "print(f'The total number of speakers is {num_speakers}')\n",
    "print(f'The total number of speeches is {len(combined_df_train)}\\n')"
   ]
  },
  {
   "cell_type": "code",
   "execution_count": null,
   "id": "14c7df9b-2c2b-47b9-bdb0-ed057fb55faf",
   "metadata": {},
   "outputs": [],
   "source": [
    "print(f'---------------Saving combined development dataframe to {combined_df_dev}-------------------\\n')\n",
    "combined_df_dev.to_csv(combined_fp_dev, index=False)\n",
    "\n",
    "duration = combined_df_dev['duration'].sum()\n",
    "num_speakers = combined_df_dev['speaker_id'].nunique()\n",
    "\n",
    "print(f'Total duration in combined development dataset is {duration/(60*60)} hours')\n",
    "print(f'The total number of speakers is {num_speakers}')\n",
    "print(f'The total number of speeches is {len(combined_df_dev)}\\n')"
   ]
  },
  {
   "cell_type": "code",
   "execution_count": 16,
   "id": "3d97b516-5389-48a3-a929-61e51868bb50",
   "metadata": {},
   "outputs": [
    {
     "name": "stdout",
     "output_type": "stream",
     "text": [
      "---------------Saving combined testing dataframe to                                               filepath   duration  speaker_id   \n",
      "0    /srv/scratch/chacmod/auskidtalk_spontaneous_v2...  59.767000         219  \\\n",
      "1    /srv/scratch/chacmod/auskidtalk_spontaneous_v2...   4.932963         219   \n",
      "2    /srv/scratch/chacmod/auskidtalk_spontaneous_v2...   1.443618         219   \n",
      "3    /srv/scratch/chacmod/auskidtalk_spontaneous_v2...   1.569500         219   \n",
      "4    /srv/scratch/chacmod/auskidtalk_spontaneous_v2...   1.171959         219   \n",
      "..                                                 ...        ...         ...   \n",
      "147  /srv/scratch/chacmod/auskidtalk_spontaneous/10...   3.554519        1075   \n",
      "148  /srv/scratch/chacmod/auskidtalk_spontaneous/10...   9.515755        1075   \n",
      "149  /srv/scratch/chacmod/auskidtalk_spontaneous/10...   4.571170        1075   \n",
      "150  /srv/scratch/chacmod/auskidtalk_spontaneous/10...   3.327774        1075   \n",
      "151  /srv/scratch/chacmod/auskidtalk_spontaneous/10...   3.719902        1075   \n",
      "\n",
      "                                         transcription  \n",
      "0    arrive very good so now i want you to tell me ...  \n",
      "1      the the boy got touch the egg on the skateboard  \n",
      "2                                 the boy hugs the egg  \n",
      "3                               the boy hugged the egg  \n",
      "4                                       and it cracked  \n",
      "..                                                 ...  \n",
      "147                    the boy is hiding behind a tree  \n",
      "148                    dinosaur is in there by himself  \n",
      "149  the dinosaur is still there by himself but on ...  \n",
      "150                    the boy is hiding behind a tree  \n",
      "151            the boy is pet the dinosaur on the head  \n",
      "\n",
      "[152 rows x 4 columns]-------------------\n",
      "\n",
      "Total duration in combined testing dataset is 0.15955119217534128 hours\n",
      "The total number of speakers is 11\n",
      "The total number of speeches is 152\n",
      "\n"
     ]
    }
   ],
   "source": [
    "print(f'---------------Saving combined testing dataframe to {combined_df_test}-------------------\\n')\n",
    "combined_df_test.to_csv(combined_fp_test, index=False)\n",
    "\n",
    "duration = combined_df_test['duration'].sum()\n",
    "num_speakers = combined_df_test['speaker_id'].nunique()\n",
    "\n",
    "print(f'Total duration in combined testing dataset is {duration/(60*60)} hours')\n",
    "print(f'The total number of speakers is {num_speakers}')\n",
    "print(f'The total number of speeches is {len(combined_df_test)}\\n')"
   ]
  },
  {
   "cell_type": "code",
   "execution_count": null,
   "id": "228a392e-ab95-41b3-857e-e5514cad2e07",
   "metadata": {},
   "outputs": [],
   "source": []
  },
  {
   "cell_type": "code",
   "execution_count": null,
   "id": "d0674539-2b04-4f62-bded-52191bd10431",
   "metadata": {},
   "outputs": [],
   "source": []
  }
 ],
 "metadata": {
  "kernelspec": {
   "display_name": "Python 3.10.8 (ipykernel)",
   "language": "python",
   "name": "python-3.10.8"
  },
  "language_info": {
   "codemirror_mode": {
    "name": "ipython",
    "version": 3
   },
   "file_extension": ".py",
   "mimetype": "text/x-python",
   "name": "python",
   "nbconvert_exporter": "python",
   "pygments_lexer": "ipython3",
   "version": "3.10.8"
  }
 },
 "nbformat": 4,
 "nbformat_minor": 5
}

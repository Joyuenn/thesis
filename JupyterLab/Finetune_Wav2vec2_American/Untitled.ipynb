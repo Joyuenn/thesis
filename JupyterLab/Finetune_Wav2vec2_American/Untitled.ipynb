{
 "cells": [
  {
   "cell_type": "code",
   "execution_count": 4,
   "id": "483c1138-4584-435a-a300-4eb41c29868c",
   "metadata": {},
   "outputs": [],
   "source": [
    "from datasets import load_dataset"
   ]
  },
  {
   "cell_type": "code",
   "execution_count": 5,
   "id": "d3b062d2-fd86-4736-adbb-dd560f0df989",
   "metadata": {},
   "outputs": [],
   "source": [
    "data_train_fp = '/srv/scratch/chacmod/renee_thesis/s5/myST-OGI_local/THESIS_C/myST-OGI_data_finetune_light.csv'\n",
    "data_test_fp = '/srv/scratch/chacmod/renee_thesis/s5/myST-OGI_local/THESIS_C/myST-OGI_data_dev_light.csv'\n",
    "data_cache_fp = '/srv/scratch/chacmod/.cache/huggingface/datasets/myST-OGI-finetune'"
   ]
  },
  {
   "cell_type": "code",
   "execution_count": 8,
   "id": "5c6d1547-61b6-4436-ab61-103fcae3b463",
   "metadata": {},
   "outputs": [
    {
     "name": "stderr",
     "output_type": "stream",
     "text": [
      "Found cached dataset csv (/srv/scratch/chacmod/.cache/huggingface/datasets/myST-OGI-finetune/csv/default-fb6f9fc34661f9bc/0.0.0/6954658bab30a358235fa864b05cf819af0e179325c740e4bc853bcc7ec513e1)\n",
      "100%|██████████| 2/2 [00:00<00:00, 308.03it/s]\n"
     ]
    }
   ],
   "source": [
    "dataset = load_dataset('csv', \n",
    "                    data_files={'train': data_train_fp,\n",
    "                                'test': data_test_fp},\n",
    "                    cache_dir=data_cache_fp)"
   ]
  },
  {
   "cell_type": "code",
   "execution_count": 9,
   "id": "612821dc-6900-42e8-8233-d800cb337dd9",
   "metadata": {},
   "outputs": [
    {
     "data": {
      "text/plain": [
       "DatasetDict({\n",
       "    train: Dataset({\n",
       "        features: ['filepath', 'transcription_clean'],\n",
       "        num_rows: 128484\n",
       "    })\n",
       "    test: Dataset({\n",
       "        features: ['filepath', 'transcription_clean'],\n",
       "        num_rows: 11360\n",
       "    })\n",
       "})"
      ]
     },
     "execution_count": 9,
     "metadata": {},
     "output_type": "execute_result"
    }
   ],
   "source": [
    "data"
   ]
  },
  {
   "cell_type": "code",
   "execution_count": 11,
   "id": "b81c6b97-a9b6-4567-bda5-3ef5a5b32438",
   "metadata": {},
   "outputs": [
    {
     "ename": "AttributeError",
     "evalue": "'DatasetDict' object has no attribute '_data'",
     "output_type": "error",
     "traceback": [
      "\u001b[0;31m---------------------------------------------------------------------------\u001b[0m",
      "\u001b[0;31mAttributeError\u001b[0m                            Traceback (most recent call last)",
      "Cell \u001b[0;32mIn[11], line 3\u001b[0m\n\u001b[1;32m      1\u001b[0m \u001b[38;5;66;03m# Disable shuffling for the evaluation dataset\u001b[39;00m\n\u001b[1;32m      2\u001b[0m dataset\u001b[38;5;241m.\u001b[39mset_format(\u001b[38;5;28mtype\u001b[39m\u001b[38;5;241m=\u001b[39m\u001b[38;5;124m'\u001b[39m\u001b[38;5;124mnumpy\u001b[39m\u001b[38;5;124m'\u001b[39m)\n\u001b[0;32m----> 3\u001b[0m \u001b[43mdataset\u001b[49m\u001b[38;5;241;43m.\u001b[39;49m\u001b[43m_data\u001b[49m[\u001b[38;5;124m'\u001b[39m\u001b[38;5;124mdataset\u001b[39m\u001b[38;5;124m'\u001b[39m][\u001b[38;5;124m'\u001b[39m\u001b[38;5;124mfeatures\u001b[39m\u001b[38;5;124m'\u001b[39m][\u001b[38;5;124m'\u001b[39m\u001b[38;5;124minput_values\u001b[39m\u001b[38;5;124m'\u001b[39m]\u001b[38;5;241m.\u001b[39mshuffle \u001b[38;5;241m=\u001b[39m \u001b[38;5;28;01mFalse\u001b[39;00m\n",
      "\u001b[0;31mAttributeError\u001b[0m: 'DatasetDict' object has no attribute '_data'"
     ]
    }
   ],
   "source": [
    "\n",
    "# Disable shuffling for the evaluation dataset\n",
    "dataset.set_format(type='numpy')\n",
    "dataset._data['dataset']['features']['input_values'].shuffle = False"
   ]
  },
  {
   "cell_type": "code",
   "execution_count": null,
   "id": "81c9c805-5db8-4a52-ab3d-19485e9cdf56",
   "metadata": {},
   "outputs": [],
   "source": []
  }
 ],
 "metadata": {
  "kernelspec": {
   "display_name": "Python 3.10.8 (ipykernel)",
   "language": "python",
   "name": "python-3.10.8"
  },
  "language_info": {
   "codemirror_mode": {
    "name": "ipython",
    "version": 3
   },
   "file_extension": ".py",
   "mimetype": "text/x-python",
   "name": "python",
   "nbconvert_exporter": "python",
   "pygments_lexer": "ipython3",
   "version": "3.10.8"
  }
 },
 "nbformat": 4,
 "nbformat_minor": 5
}

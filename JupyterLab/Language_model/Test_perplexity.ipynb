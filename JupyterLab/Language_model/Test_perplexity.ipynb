{
 "cells": [
  {
   "cell_type": "markdown",
   "id": "262f378b-d9a7-4a35-807e-5d23809b9f5f",
   "metadata": {},
   "source": [
    "__Test perplexity__"
   ]
  },
  {
   "cell_type": "markdown",
   "id": "a4062ac2-2813-4eed-a23e-893c8e19ac6d",
   "metadata": {},
   "source": [
    "srilm/bin/i686-m64/ngram -ppl /srv/scratch/z5313567/thesis/JupyterLab/Language_model/AusKidTalk_spontaneous_transcription.txt -order 4 -lm 4gram_big.arpa -debug 2 >out2.ppl ([Reference](https://blog.csdn.net/DataBaker/article/details/122855207?spm=1001.2101.3001.6650.15&utm_medium=distribute.pc_relevant.none-task-blog-2%7Edefault%7ECTRLIST%7ERate-15-122855207-blog-120978334.235%5Ev38%5Epc_relevant_sort&depth_1-utm_source=distribute.pc_relevant.none-task-blog-2%7Edefault%7ECTRLIST%7ERate-15-122855207-blog-120978334.235%5Ev38%5Epc_relevant_sort&utm_relevant_index=16))"
   ]
  },
  {
   "cell_type": "code",
   "execution_count": null,
   "id": "9d7a2106-a700-42c0-a8d4-7ef48d2834fd",
   "metadata": {},
   "outputs": [],
   "source": []
  }
 ],
 "metadata": {
  "kernelspec": {
   "display_name": "Python 3 (ipykernel)",
   "language": "python",
   "name": "python3"
  },
  "language_info": {
   "codemirror_mode": {
    "name": "ipython",
    "version": 3
   },
   "file_extension": ".py",
   "mimetype": "text/x-python",
   "name": "python",
   "nbconvert_exporter": "python",
   "pygments_lexer": "ipython3",
   "version": "3.10.8"
  }
 },
 "nbformat": 4,
 "nbformat_minor": 5
}

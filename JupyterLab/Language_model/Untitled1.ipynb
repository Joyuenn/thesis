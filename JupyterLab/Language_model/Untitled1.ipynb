{
 "cells": [
  {
   "cell_type": "code",
   "execution_count": 2,
   "id": "b28af83d-0cce-409c-b8a2-80d634db1d43",
   "metadata": {},
   "outputs": [
    {
     "name": "stdout",
     "output_type": "stream",
     "text": [
      "Collecting https://github.com/kpu/kenlm/archive/master.zip\n",
      "  Using cached https://github.com/kpu/kenlm/archive/master.zip\n",
      "  Installing build dependencies ... \u001b[?25ldone\n",
      "\u001b[?25hRequirement already satisfied (use --upgrade to upgrade): kenlm==0.0.0 from https://github.com/kpu/kenlm/archive/master.zip in /srv/scratch/z5313567/anaconda3/lib/python3.7/site-packages\n",
      "Building wheels for collected packages: kenlm\n",
      "  Running setup.py bdist_wheel for kenlm ... \u001b[?25ldone\n",
      "\u001b[?25h  Stored in directory: /scratch/pbs.4608544.kman.restech.unsw.edu.au/pip-ephem-wheel-cache-_5ejv0gj/wheels/2d/32/73/e3093c9d11dc8abf79c156a4db1a1c5631428059d4f9ff2cba\n",
      "Successfully built kenlm\n",
      "\u001b[31mjupyter-core 5.2.0 requires platformdirs>=2.5, which is not installed.\u001b[0m\n",
      "\u001b[31mjupyter-client 8.0.2 requires importlib-metadata>=4.8.3; python_version < \"3.10\", which is not installed.\u001b[0m\n",
      "\u001b[31mtwisted 18.7.0 requires PyHamcrest>=1.9.0, which is not installed.\u001b[0m\n",
      "\u001b[31mjupyter-console 5.2.0 has requirement prompt-toolkit<2.0.0,>=1.0.0, but you'll have prompt-toolkit 3.0.36 which is incompatible.\u001b[0m\n",
      "\u001b[33mYou are using pip version 10.0.1, however version 23.1.2 is available.\n",
      "You should consider upgrading via the 'pip install --upgrade pip' command.\u001b[0m\n"
     ]
    }
   ],
   "source": [
    "!pip install https://github.com/kpu/kenlm/archive/master.zip "
   ]
  },
  {
   "cell_type": "code",
   "execution_count": null,
   "id": "32be9f2f-6dc4-4883-bcc3-29dd1377671b",
   "metadata": {},
   "outputs": [],
   "source": [
    "pip install pyctcdecode==0.3.0"
   ]
  },
  {
   "cell_type": "code",
   "execution_count": null,
   "id": "ce0e3592-729b-4837-8a91-1d2813f047da",
   "metadata": {},
   "outputs": [],
   "source": [
    "import librosa\n",
    "import numpy as np"
   ]
  },
  {
   "cell_type": "code",
   "execution_count": null,
   "id": "f07004cd-9276-4b6b-b996-0df038383baa",
   "metadata": {},
   "outputs": [],
   "source": [
    "data_train_fp = '/srv/scratch/z5313567/thesis/AusKidTalk_local/AusKidTalk_spontaneous_1050_1150_1075_228_task3_test.csv'\n",
    "data_test_fp = '/srv/scratch/z5313567/thesis/AusKidTalk_local/AusKidTalk_spontaneous_1050_1150_1075_228_task3_test.csv'\n",
    "model_fp = '/srv/scratch/z5313567/thesis/wav2vec2/model/AusKidTalk/finetune_20230708_2'"
   ]
  },
  {
   "cell_type": "code",
   "execution_count": null,
   "id": "a357ab3b-9f4c-4ac0-8438-633064e356ba",
   "metadata": {},
   "outputs": [],
   "source": [
    "from datasets import load_dataset\n",
    "\n",
    "dataset = load_dataset('csv', \n",
    "                    data_files={'train': data_train_fp,\n",
    "                                'test': data_test_fp})"
   ]
  },
  {
   "cell_type": "code",
   "execution_count": null,
   "id": "581bac92-1dc9-4930-9671-c33e136eaae7",
   "metadata": {},
   "outputs": [],
   "source": [
    "dataset"
   ]
  },
  {
   "cell_type": "code",
   "execution_count": null,
   "id": "b0d56113-2478-425f-9f18-5920669a8c34",
   "metadata": {},
   "outputs": [],
   "source": [
    "def speech_file_to_array_fn(batch):\n",
    "    #speech_array, sampling_rate = sf.read(batch[\"filepath\"])\n",
    "    speech_array, sampling_rate = librosa.load(batch['filepath'], sr=16000)\n",
    "    batch[\"speech\"] = speech_array\n",
    "    batch[\"sampling_rate\"] = sampling_rate\n",
    "    batch[\"target_text\"] = batch[\"transcription_clean\"]\n",
    "    return batch\n",
    "\n",
    "data = dataset.map(speech_file_to_array_fn, remove_columns=dataset.column_names[\"train\"], num_proc=4)"
   ]
  },
  {
   "cell_type": "code",
   "execution_count": null,
   "id": "84396678-6894-4900-8af0-8fd2b57e5a0a",
   "metadata": {},
   "outputs": [],
   "source": [
    "data"
   ]
  },
  {
   "cell_type": "code",
   "execution_count": null,
   "id": "c7e0bcd8-5f92-4c67-b2ab-088ae7858df0",
   "metadata": {},
   "outputs": [],
   "source": [
    "import IPython.display as ipd\n",
    "\n",
    "audio_sample = data[\"test\"][2]\n",
    "print(audio_sample[\"target_text\"].lower())\n",
    "ipd.Audio(data=audio_sample[\"speech\"], autoplay=True, rate=audio_sample[\"sampling_rate\"])"
   ]
  },
  {
   "cell_type": "code",
   "execution_count": null,
   "id": "3b94a074-4ba7-4990-922f-dd2e233a50d5",
   "metadata": {},
   "outputs": [],
   "source": [
    "from transformers import Wav2Vec2Processor, Wav2Vec2ForCTC\n",
    "\n",
    "processor = Wav2Vec2Processor.from_pretrained(model_fp)\n",
    "model = Wav2Vec2ForCTC.from_pretrained(model_fp)\n",
    "#processor = Wav2Vec2Processor.from_pretrained(\"facebook/wav2vec2-base-960h\")\n",
    "#model = Wav2Vec2ForCTC.from_pretrained(\"facebook/wav2vec2-base-960h\")\n",
    "#processor = Wav2Vec2Processor.from_pretrained(\"facebook/wav2vec2-base-100h\")\n",
    "#model = Wav2Vec2ForCTC.from_pretrained(\"facebook/wav2vec2-base-960h\")"
   ]
  },
  {
   "cell_type": "code",
   "execution_count": null,
   "id": "10dae9f1-63f0-4f1e-8fa1-102658941cdb",
   "metadata": {},
   "outputs": [],
   "source": [
    "inputs = processor(audio_sample[\"speech\"], sampling_rate=16_000, return_tensors=\"pt\")"
   ]
  },
  {
   "cell_type": "code",
   "execution_count": null,
   "id": "2839147d-a0d8-4ab1-b152-71a1dc6d21e7",
   "metadata": {},
   "outputs": [],
   "source": [
    "import torch\n",
    "\n",
    "with torch.no_grad():\n",
    "  logits = model(**inputs).logits"
   ]
  },
  {
   "cell_type": "code",
   "execution_count": null,
   "id": "9fd62ea7-7e75-484f-813c-8a6f49f93af7",
   "metadata": {},
   "outputs": [],
   "source": [
    "predicted_ids = torch.argmax(logits, dim=-1)\n",
    "transcription = processor.batch_decode(predicted_ids)\n",
    "\n",
    "transcription[0].lower()"
   ]
  },
  {
   "cell_type": "code",
   "execution_count": 1,
   "id": "b003142e-eb0b-4615-bb79-58723175ee04",
   "metadata": {},
   "outputs": [
    {
     "name": "stderr",
     "output_type": "stream",
     "text": [
      "/home/z5313567/.local/lib/python3.10/site-packages/tqdm/auto.py:21: TqdmWarning: IProgress not found. Please update jupyter and ipywidgets. See https://ipywidgets.readthedocs.io/en/stable/user_install.html\n",
      "  from .autonotebook import tqdm as notebook_tqdm\n",
      "kenlm python bindings are not installed. Most likely you want to install it using: pip install https://github.com/kpu/kenlm/archive/master.zip\n",
      "kenlm python bindings are not installed. Most likely you want to install it using: pip install https://github.com/kpu/kenlm/archive/master.zip\n",
      "Fetching 4 files: 100%|██████████| 4/4 [00:00<00:00, 15635.80it/s]\n"
     ]
    },
    {
     "ename": "NameError",
     "evalue": "name 'kenlm' is not defined",
     "output_type": "error",
     "traceback": [
      "\u001b[0;31m---------------------------------------------------------------------------\u001b[0m",
      "\u001b[0;31mNameError\u001b[0m                                 Traceback (most recent call last)",
      "Cell \u001b[0;32mIn[1], line 3\u001b[0m\n\u001b[1;32m      1\u001b[0m \u001b[38;5;28;01mfrom\u001b[39;00m \u001b[38;5;21;01mtransformers\u001b[39;00m \u001b[38;5;28;01mimport\u001b[39;00m Wav2Vec2ProcessorWithLM\n\u001b[0;32m----> 3\u001b[0m processor \u001b[38;5;241m=\u001b[39m \u001b[43mWav2Vec2ProcessorWithLM\u001b[49m\u001b[38;5;241;43m.\u001b[39;49m\u001b[43mfrom_pretrained\u001b[49m\u001b[43m(\u001b[49m\u001b[38;5;124;43m\"\u001b[39;49m\u001b[38;5;124;43mpatrickvonplaten/wav2vec2-base-100h-with-lm\u001b[39;49m\u001b[38;5;124;43m\"\u001b[39;49m\u001b[43m)\u001b[49m\n",
      "File \u001b[0;32m~/.local/lib/python3.10/site-packages/transformers/models/wav2vec2_with_lm/processing_wav2vec2_with_lm.py:161\u001b[0m, in \u001b[0;36mWav2Vec2ProcessorWithLM.from_pretrained\u001b[0;34m(cls, pretrained_model_name_or_path, **kwargs)\u001b[0m\n\u001b[1;32m    158\u001b[0m     alphabet_filename \u001b[38;5;241m=\u001b[39m BeamSearchDecoderCTC\u001b[38;5;241m.\u001b[39m_ALPHABET_SERIALIZED_FILENAME\n\u001b[1;32m    159\u001b[0m     allow_patterns \u001b[38;5;241m=\u001b[39m [language_model_filenames, alphabet_filename]\n\u001b[0;32m--> 161\u001b[0m     decoder \u001b[38;5;241m=\u001b[39m \u001b[43mBeamSearchDecoderCTC\u001b[49m\u001b[38;5;241;43m.\u001b[39;49m\u001b[43mload_from_hf_hub\u001b[49m\u001b[43m(\u001b[49m\n\u001b[1;32m    162\u001b[0m \u001b[43m        \u001b[49m\u001b[43mpretrained_model_name_or_path\u001b[49m\u001b[43m,\u001b[49m\u001b[43m \u001b[49m\u001b[43mallow_patterns\u001b[49m\u001b[38;5;241;43m=\u001b[39;49m\u001b[43mallow_patterns\u001b[49m\u001b[43m,\u001b[49m\u001b[43m \u001b[49m\u001b[38;5;241;43m*\u001b[39;49m\u001b[38;5;241;43m*\u001b[39;49m\u001b[43mkwargs\u001b[49m\n\u001b[1;32m    163\u001b[0m \u001b[43m    \u001b[49m\u001b[43m)\u001b[49m\n\u001b[1;32m    165\u001b[0m \u001b[38;5;66;03m# set language model attributes\u001b[39;00m\n\u001b[1;32m    166\u001b[0m \u001b[38;5;28;01mfor\u001b[39;00m attribute \u001b[38;5;129;01min\u001b[39;00m [\u001b[38;5;124m\"\u001b[39m\u001b[38;5;124malpha\u001b[39m\u001b[38;5;124m\"\u001b[39m, \u001b[38;5;124m\"\u001b[39m\u001b[38;5;124mbeta\u001b[39m\u001b[38;5;124m\"\u001b[39m, \u001b[38;5;124m\"\u001b[39m\u001b[38;5;124munk_score_offset\u001b[39m\u001b[38;5;124m\"\u001b[39m, \u001b[38;5;124m\"\u001b[39m\u001b[38;5;124mscore_boundary\u001b[39m\u001b[38;5;124m\"\u001b[39m]:\n",
      "File \u001b[0;32m~/.local/lib/python3.10/site-packages/pyctcdecode/decoder.py:759\u001b[0m, in \u001b[0;36mBeamSearchDecoderCTC.load_from_hf_hub\u001b[0;34m(cls, model_id, cache_dir, **kwargs)\u001b[0m\n\u001b[1;32m    752\u001b[0m     \u001b[38;5;28;01mraise\u001b[39;00m \u001b[38;5;167;01mImportError\u001b[39;00m(\n\u001b[1;32m    753\u001b[0m         \u001b[38;5;124m\"\u001b[39m\u001b[38;5;124mYou need to install huggingface_hub to use `load_from_hf_hub`. \u001b[39m\u001b[38;5;124m\"\u001b[39m\n\u001b[1;32m    754\u001b[0m         \u001b[38;5;124m\"\u001b[39m\u001b[38;5;124mSee https://pypi.org/project/huggingface-hub/ for installation.\u001b[39m\u001b[38;5;124m\"\u001b[39m\n\u001b[1;32m    755\u001b[0m     )\n\u001b[1;32m    757\u001b[0m cached_directory \u001b[38;5;241m=\u001b[39m snapshot_download(model_id, cache_dir\u001b[38;5;241m=\u001b[39mcache_dir, \u001b[38;5;241m*\u001b[39m\u001b[38;5;241m*\u001b[39mkwargs)\n\u001b[0;32m--> 759\u001b[0m \u001b[38;5;28;01mreturn\u001b[39;00m \u001b[38;5;28;43mcls\u001b[39;49m\u001b[38;5;241;43m.\u001b[39;49m\u001b[43mload_from_dir\u001b[49m\u001b[43m(\u001b[49m\u001b[43mcached_directory\u001b[49m\u001b[43m)\u001b[49m\n",
      "File \u001b[0;32m~/.local/lib/python3.10/site-packages/pyctcdecode/decoder.py:726\u001b[0m, in \u001b[0;36mBeamSearchDecoderCTC.load_from_dir\u001b[0;34m(cls, filepath)\u001b[0m\n\u001b[1;32m    724\u001b[0m     language_model \u001b[38;5;241m=\u001b[39m \u001b[38;5;28;01mNone\u001b[39;00m\n\u001b[1;32m    725\u001b[0m \u001b[38;5;28;01melse\u001b[39;00m:\n\u001b[0;32m--> 726\u001b[0m     language_model \u001b[38;5;241m=\u001b[39m \u001b[43mLanguageModel\u001b[49m\u001b[38;5;241;43m.\u001b[39;49m\u001b[43mload_from_dir\u001b[49m\u001b[43m(\u001b[49m\u001b[43mfilenames\u001b[49m\u001b[43m[\u001b[49m\u001b[38;5;124;43m\"\u001b[39;49m\u001b[38;5;124;43mlanguage_model\u001b[39;49m\u001b[38;5;124;43m\"\u001b[39;49m\u001b[43m]\u001b[49m\u001b[43m)\u001b[49m\n\u001b[1;32m    727\u001b[0m \u001b[38;5;28;01mreturn\u001b[39;00m \u001b[38;5;28mcls\u001b[39m(alphabet, language_model\u001b[38;5;241m=\u001b[39mlanguage_model)\n",
      "File \u001b[0;32m~/.local/lib/python3.10/site-packages/pyctcdecode/language_model.py:379\u001b[0m, in \u001b[0;36mLanguageModel.load_from_dir\u001b[0;34m(cls, filepath)\u001b[0m\n\u001b[1;32m    376\u001b[0m \u001b[38;5;28;01mwith\u001b[39;00m \u001b[38;5;28mopen\u001b[39m(filenames[\u001b[38;5;124m\"\u001b[39m\u001b[38;5;124munigrams\u001b[39m\u001b[38;5;124m\"\u001b[39m], \u001b[38;5;124m\"\u001b[39m\u001b[38;5;124mr\u001b[39m\u001b[38;5;124m\"\u001b[39m) \u001b[38;5;28;01mas\u001b[39;00m fi:\n\u001b[1;32m    377\u001b[0m     unigrams \u001b[38;5;241m=\u001b[39m fi\u001b[38;5;241m.\u001b[39mread()\u001b[38;5;241m.\u001b[39msplitlines()\n\u001b[0;32m--> 379\u001b[0m kenlm_model \u001b[38;5;241m=\u001b[39m \u001b[43mkenlm\u001b[49m\u001b[38;5;241m.\u001b[39mModel(filenames[\u001b[38;5;124m\"\u001b[39m\u001b[38;5;124mkenlm\u001b[39m\u001b[38;5;124m\"\u001b[39m])\n\u001b[1;32m    380\u001b[0m \u001b[38;5;28;01mreturn\u001b[39;00m \u001b[38;5;28mcls\u001b[39m(kenlm_model, unigrams, \u001b[38;5;241m*\u001b[39m\u001b[38;5;241m*\u001b[39mjson_attrs)\n",
      "\u001b[0;31mNameError\u001b[0m: name 'kenlm' is not defined"
     ]
    }
   ],
   "source": [
    "from transformers import Wav2Vec2ProcessorWithLM\n",
    "\n",
    "processor = Wav2Vec2ProcessorWithLM.from_pretrained(\"patrickvonplaten/wav2vec2-base-100h-with-lm\")"
   ]
  },
  {
   "cell_type": "code",
   "execution_count": null,
   "id": "b88109a5-0538-49e9-aa80-ff69a4c8394e",
   "metadata": {},
   "outputs": [],
   "source": [
    "logits.shape"
   ]
  },
  {
   "cell_type": "code",
   "execution_count": null,
   "id": "fabc5bf6-ff9a-4fd0-a612-a522cdb72947",
   "metadata": {},
   "outputs": [],
   "source": [
    "\" \".join(sorted(processor.tokenizer.get_vocab()))"
   ]
  },
  {
   "cell_type": "code",
   "execution_count": null,
   "id": "b5716c56-5925-42bb-b559-7098f1703791",
   "metadata": {},
   "outputs": [],
   "source": [
    "pred_ids = np.argmax(logits, axis=-1)\n",
    "transcription = processor.batch_decode(pred_ids)\n",
    "transcription[0].lower()"
   ]
  }
 ],
 "metadata": {
  "kernelspec": {
   "display_name": "Python 3.10.8 (ipykernel)",
   "language": "python",
   "name": "python-3.10.8"
  },
  "language_info": {
   "codemirror_mode": {
    "name": "ipython",
    "version": 3
   },
   "file_extension": ".py",
   "mimetype": "text/x-python",
   "name": "python",
   "nbconvert_exporter": "python",
   "pygments_lexer": "ipython3",
   "version": "3.10.8"
  }
 },
 "nbformat": 4,
 "nbformat_minor": 5
}

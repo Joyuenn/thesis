{
 "cells": [
  {
   "cell_type": "code",
   "execution_count": 6,
   "id": "1c62af31-68b3-49cb-b295-868d91965a9a",
   "metadata": {},
   "outputs": [],
   "source": [
    "import librosa\n",
    "import os\n",
    "import json\n",
    "import re\n",
    "import pandas as pd"
   ]
  },
  {
   "cell_type": "code",
   "execution_count": 24,
   "id": "f2df7a42-687e-4157-88a2-d29edfbac8b5",
   "metadata": {},
   "outputs": [],
   "source": [
    "data_fp = '/srv/scratch/z5313567/thesis/AusKidTalk_local/AusKidTalk_Storytelling/fairy_tales_story.txt'\n",
    "data_save_fp = '/srv/scratch/z5313567/thesis/AusKidTalk_local/AusKidTalk_Storytelling/cleaned_fairy_tales_story.txt'\n",
    "df_fp = '/srv/scratch/z5313567/thesis/AusKidTalk_local/AusKidTalk_Storytelling/AusKidTalk_storytelling_texts.csv'\n",
    "df_save_fp = '/srv/scratch/z5313567/thesis/AusKidTalk_local/AusKidTalk_Storytelling/storytelling.csv'\n",
    "cache_fp = '/srv/scratch/z5313567/thesis/cache'"
   ]
  },
  {
   "cell_type": "code",
   "execution_count": 25,
   "id": "7cf2e7e8-39dd-40ae-afff-0d0efdc01863",
   "metadata": {},
   "outputs": [],
   "source": [
    "chars_to_ignore_regex = '[,?.!*\\-\\;\\:\\\"“%‘”�—’…–]'\n",
    "pattern = r\"\\[.*?\\]|\\(.*?\\)|\\{.*?\\}\""
   ]
  },
  {
   "cell_type": "code",
   "execution_count": 52,
   "id": "af6573fd-5b29-4196-af8a-4b6536157c4f",
   "metadata": {},
   "outputs": [],
   "source": [
    "def clean_line(line):\n",
    "    # remove unnecessary symbols\n",
    "    cleaned_line = re.sub(chars_to_ignore_regex, \"\", line)\n",
    "    # remove all the texts inside (), {}, []\n",
    "    cleaned_line = re.sub(pattern, \"\", cleaned_line)\n",
    "    # remove 'a'\n",
    "    cleaned_line = re.sub(r\"'a'\", \"\", cleaned_line)\n",
    "    # remove extra whitespace between words\n",
    "    cleaned_line = re.sub(r\"\\s+\", \" \", cleaned_line)\n",
    "    # remove leading and trailing whitespaces\n",
    "    cleaned_line = cleaned_line.strip()\n",
    "    # convert to lower case\n",
    "    cleaned_line = cleaned_line.lower()\n",
    "    \n",
    "    return cleaned_line"
   ]
  },
  {
   "cell_type": "code",
   "execution_count": 53,
   "id": "107746a5-3f50-4ba3-b756-9f7707cdebd1",
   "metadata": {},
   "outputs": [],
   "source": [
    "'''\n",
    "with open(data_fp,'r') as input_file:\n",
    "    lines = input_file.readlines();\n",
    "    cleaned_lines = []\n",
    "    for line in lines:\n",
    "        cleaned_line = clean_line(line);\n",
    "        if cleaned_line.strip():  # Check if the cleaned line is not empty\n",
    "            cleaned_lines.append(cleaned_line)\n",
    "'''\n",
    "with open(data_fp,'r') as input_file:\n",
    "    text = input_file.read();"
   ]
  },
  {
   "cell_type": "code",
   "execution_count": 54,
   "id": "09f7bead-83c9-42c3-8a3f-0aab848b593d",
   "metadata": {},
   "outputs": [],
   "source": [
    "cleaned_text = clean_line(text)"
   ]
  },
  {
   "cell_type": "code",
   "execution_count": 55,
   "id": "8ddcc39c-dd91-4a30-bf75-7cc15c9691a0",
   "metadata": {},
   "outputs": [],
   "source": [
    "with open(data_save_fp, \"w\") as output_file:\n",
    "    #output_file.write('\\n'.join(cleaned_lines))\n",
    "    output_file.write(cleaned_text)"
   ]
  },
  {
   "cell_type": "code",
   "execution_count": 56,
   "id": "7857a836-46d8-4669-919b-5cd7cad0d3f4",
   "metadata": {},
   "outputs": [],
   "source": [
    "df = pd.read_csv(df_fp)"
   ]
  },
  {
   "cell_type": "code",
   "execution_count": 57,
   "id": "3cab8ab7-04b7-465b-8bf9-3bb646b48a9c",
   "metadata": {},
   "outputs": [],
   "source": [
    "# new_df = pd.DataFrame({\"transcription\":cleaned_lines})\n",
    "new_df = pd.DataFrame({\"transcription\":[cleaned_text]})\n",
    "df = pd.concat([df,new_df],ignore_index=True)\n",
    "df.to_csv(df_save_fp, index=False)"
   ]
  },
  {
   "cell_type": "code",
   "execution_count": null,
   "id": "f6538dd0-7782-4606-8250-c4ca9f342239",
   "metadata": {},
   "outputs": [],
   "source": []
  },
  {
   "cell_type": "code",
   "execution_count": null,
   "id": "8db9ad94-8600-4d54-945e-fcb23d85a76e",
   "metadata": {},
   "outputs": [],
   "source": []
  },
  {
   "cell_type": "code",
   "execution_count": 48,
   "id": "fce80a6e-a143-47bd-b1af-e43e3d252499",
   "metadata": {},
   "outputs": [
    {
     "name": "stderr",
     "output_type": "stream",
     "text": [
      "Found cached dataset csv (/srv/scratch/z5313567/thesis/cache/csv/default-6ddd9c20e7248d22/0.0.0/6954658bab30a358235fa864b05cf819af0e179325c740e4bc853bcc7ec513e1)\n",
      "100%|██████████| 1/1 [00:00<00:00, 370.03it/s]\n"
     ]
    }
   ],
   "source": [
    "from datasets import load_dataset\n",
    "\n",
    "dataset = load_dataset('csv', \n",
    "                        data_files = data_fp,\n",
    "                        cache_dir = cache_fp)"
   ]
  },
  {
   "cell_type": "code",
   "execution_count": 49,
   "id": "7fc5f406-1b3c-4048-928e-9f39a0856847",
   "metadata": {},
   "outputs": [],
   "source": [
    "import re\n",
    "\n",
    "def extract_text(batch):\n",
    "    text = batch[\"transcription\"]\n",
    "    # remove unnecessary symbols\n",
    "    cleaned_text = re.sub(chars_to_ignore_regex, \"\", text)\n",
    "    # remove all the texts inside (), {}, []\n",
    "    cleaned_text = re.sub(pattern, \"\", cleaned_text)\n",
    "    # remove extra whitespace between words\n",
    "    cleaned_text = re.sub(r\"\\s+\", \" \", cleaned_text)\n",
    "    # remove leading and trailing whitespaces\n",
    "    cleaned_text = cleaned_text.strip()\n",
    "    # remove empty rows\n",
    "    cleaned_text = cleaned_text.strip()\n",
    "    # convert to lower case\n",
    "    cleaned_text = cleaned_text.lower()\n",
    "    \n",
    "    batch[\"text\"] = cleaned_text\n",
    "    return batch"
   ]
  },
  {
   "cell_type": "code",
   "execution_count": 50,
   "id": "fbf92280-9f91-46d0-bc8b-9308367141a5",
   "metadata": {},
   "outputs": [
    {
     "name": "stderr",
     "output_type": "stream",
     "text": [
      "                                                                    \r"
     ]
    },
    {
     "ename": "AttributeError",
     "evalue": "'DatasetDict' object has no attribute 'to_pandas'",
     "output_type": "error",
     "traceback": [
      "\u001b[0;31m---------------------------------------------------------------------------\u001b[0m",
      "\u001b[0;31mAttributeError\u001b[0m                            Traceback (most recent call last)",
      "Cell \u001b[0;32mIn[50], line 2\u001b[0m\n\u001b[1;32m      1\u001b[0m dataset \u001b[38;5;241m=\u001b[39m dataset\u001b[38;5;241m.\u001b[39mmap(extract_text, remove_columns\u001b[38;5;241m=\u001b[39mdataset\u001b[38;5;241m.\u001b[39mcolumn_names[\u001b[38;5;124m'\u001b[39m\u001b[38;5;124mtrain\u001b[39m\u001b[38;5;124m'\u001b[39m])\n\u001b[0;32m----> 2\u001b[0m dataset \u001b[38;5;241m=\u001b[39m \u001b[43mdataset\u001b[49m\u001b[38;5;241;43m.\u001b[39;49m\u001b[43mto_pandas\u001b[49m()\n\u001b[1;32m      3\u001b[0m dataset\u001b[38;5;241m.\u001b[39mto_csv(data_save_fp, index\u001b[38;5;241m=\u001b[39m\u001b[38;5;28;01mFalse\u001b[39;00m)\n",
      "\u001b[0;31mAttributeError\u001b[0m: 'DatasetDict' object has no attribute 'to_pandas'"
     ]
    }
   ],
   "source": [
    "dataset = dataset.map(extract_text, remove_columns=dataset.column_names['train'])\n",
    "dataset = dataset.to_pandas()\n",
    "dataset.to_csv(data_save_fp, index=False)"
   ]
  },
  {
   "cell_type": "code",
   "execution_count": 42,
   "id": "d808be59-16de-40e8-aca3-3cb5f97b8760",
   "metadata": {},
   "outputs": [
    {
     "data": {
      "text/plain": [
       "pandas.core.frame.DataFrame"
      ]
     },
     "execution_count": 42,
     "metadata": {},
     "output_type": "execute_result"
    }
   ],
   "source": [
    "type(df)"
   ]
  },
  {
   "cell_type": "code",
   "execution_count": null,
   "id": "a7090973-d800-491f-b58b-1803b4b25c84",
   "metadata": {},
   "outputs": [],
   "source": []
  }
 ],
 "metadata": {
  "kernelspec": {
   "display_name": "Python 3.10.8 (ipykernel)",
   "language": "python",
   "name": "python-3.10.8"
  },
  "language_info": {
   "codemirror_mode": {
    "name": "ipython",
    "version": 3
   },
   "file_extension": ".py",
   "mimetype": "text/x-python",
   "name": "python",
   "nbconvert_exporter": "python",
   "pygments_lexer": "ipython3",
   "version": "3.10.8"
  }
 },
 "nbformat": 4,
 "nbformat_minor": 5
}

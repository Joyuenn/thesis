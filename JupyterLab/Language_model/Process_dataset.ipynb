{
 "cells": [
  {
   "cell_type": "code",
   "execution_count": 1,
   "id": "1c62af31-68b3-49cb-b295-868d91965a9a",
   "metadata": {},
   "outputs": [],
   "source": [
    "import librosa\n",
    "import os\n",
    "import json\n",
    "import re\n",
    "import pandas as pd"
   ]
  },
  {
   "cell_type": "code",
   "execution_count": 2,
   "id": "f2df7a42-687e-4157-88a2-d29edfbac8b5",
   "metadata": {},
   "outputs": [],
   "source": [
    "data_fp = '/srv/scratch/z5313567/thesis/AusKidTalk_local/AusKidTalk_Storytelling/fairy_tales_story.txt'\n",
    "data_save_fp = '/srv/scratch/z5313567/thesis/AusKidTalk_local/AusKidTalk_Storytelling/cleaned_fairy_tales_story.txt'\n",
    "df_fp = '/srv/scratch/z5313567/thesis/AusKidTalk_local/AusKidTalk_Storytelling/AusKidTalk_storytelling_texts.csv'\n",
    "df_save_fp = '/srv/scratch/z5313567/thesis/AusKidTalk_local/AusKidTalk_Storytelling/storytelling.csv'\n",
    "cache_fp = '/srv/scratch/z5313567/thesis/cache'"
   ]
  },
  {
   "cell_type": "code",
   "execution_count": 25,
   "id": "7cf2e7e8-39dd-40ae-afff-0d0efdc01863",
   "metadata": {},
   "outputs": [],
   "source": [
    "chars_to_ignore_regex = '[,?.!*\\-\\;\\:\\\"“%‘”�—’…–]'\n",
    "pattern = r\"\\[.*?\\]|\\(.*?\\)|\\{.*?\\}\""
   ]
  },
  {
   "cell_type": "code",
   "execution_count": 52,
   "id": "af6573fd-5b29-4196-af8a-4b6536157c4f",
   "metadata": {},
   "outputs": [],
   "source": [
    "def clean_line(line):\n",
    "    # remove unnecessary symbols\n",
    "    cleaned_line = re.sub(chars_to_ignore_regex, \"\", line)\n",
    "    # remove all the texts inside (), {}, []\n",
    "    cleaned_line = re.sub(pattern, \"\", cleaned_line)\n",
    "    # remove 'a'\n",
    "    cleaned_line = re.sub(r\"'a'\", \"\", cleaned_line)\n",
    "    # remove extra whitespace between words\n",
    "    cleaned_line = re.sub(r\"\\s+\", \" \", cleaned_line)\n",
    "    # remove leading and trailing whitespaces\n",
    "    cleaned_line = cleaned_line.strip()\n",
    "    # convert to lower case\n",
    "    cleaned_line = cleaned_line.lower()\n",
    "    \n",
    "    return cleaned_line"
   ]
  },
  {
   "cell_type": "code",
   "execution_count": 53,
   "id": "107746a5-3f50-4ba3-b756-9f7707cdebd1",
   "metadata": {},
   "outputs": [],
   "source": [
    "with open(data_fp,'r') as input_file:\n",
    "    text = input_file.read();"
   ]
  },
  {
   "cell_type": "code",
   "execution_count": 54,
   "id": "09f7bead-83c9-42c3-8a3f-0aab848b593d",
   "metadata": {},
   "outputs": [],
   "source": [
    "cleaned_text = clean_line(text)"
   ]
  },
  {
   "cell_type": "code",
   "execution_count": 55,
   "id": "8ddcc39c-dd91-4a30-bf75-7cc15c9691a0",
   "metadata": {},
   "outputs": [],
   "source": [
    "with open(data_save_fp, \"w\") as output_file:\n",
    "    output_file.write(cleaned_text)"
   ]
  },
  {
   "cell_type": "code",
   "execution_count": 6,
   "id": "7857a836-46d8-4669-919b-5cd7cad0d3f4",
   "metadata": {},
   "outputs": [],
   "source": [
    "df = pd.read_csv(df_fp)"
   ]
  },
  {
   "cell_type": "code",
   "execution_count": 8,
   "id": "3cab8ab7-04b7-465b-8bf9-3bb646b48a9c",
   "metadata": {},
   "outputs": [],
   "source": [
    "new_df = pd.DataFrame({\"transcription\":[cleaned_text]})\n",
    "df = pd.concat([df,new_df],ignore_index=True)\n",
    "df.to_csv(df_save_fp, index=False)"
   ]
  },
  {
   "cell_type": "code",
   "execution_count": null,
   "id": "f13d5cce-e6f4-4eae-97e3-6d810bf346e6",
   "metadata": {},
   "outputs": [],
   "source": [
    "#-------------------------------------------------------------------------------------------------------------------------------"
   ]
  },
  {
   "cell_type": "code",
   "execution_count": 7,
   "id": "74b0dfbc-3357-4beb-8790-9030f7ba6338",
   "metadata": {},
   "outputs": [],
   "source": [
    "import pandas as pd"
   ]
  },
  {
   "cell_type": "code",
   "execution_count": 8,
   "id": "c9b1d28a-b886-4457-ad43-a55576523e77",
   "metadata": {},
   "outputs": [],
   "source": [
    "df_fp = '/srv/scratch/z5313567/thesis/CU_local/CU_stories_dataframe.csv'\n",
    "df = pd.read_csv(df_fp)"
   ]
  },
  {
   "cell_type": "code",
   "execution_count": 9,
   "id": "4f2a7261-4eff-4bc5-9cbd-4527c52151da",
   "metadata": {},
   "outputs": [],
   "source": [
    "df_fp_2 = '/srv/scratch/z5313567/thesis/AusKidTalk_local/AusKidTalk_Storytelling/AusKidTalk_storytelling_texts_v2.csv'\n",
    "df_2 = pd.read_csv(df_fp_2)"
   ]
  },
  {
   "cell_type": "code",
   "execution_count": 10,
   "id": "5dec6cd8-163b-44f2-b49e-6f5e4c11909f",
   "metadata": {},
   "outputs": [],
   "source": [
    "df_save_fp = '/srv/scratch/z5313567/thesis/AusKidTalk_local/AusKidTalk_Storytelling/AusKiaTalk_CU_storytelling_v2.csv'"
   ]
  },
  {
   "cell_type": "code",
   "execution_count": 11,
   "id": "3a1e1e99-1330-4783-86e9-0d6960b2e291",
   "metadata": {},
   "outputs": [],
   "source": [
    "new_df = df[['transcription']]"
   ]
  },
  {
   "cell_type": "code",
   "execution_count": 12,
   "id": "a8339a4e-1c7d-4644-a8d1-9d899b1b27c3",
   "metadata": {},
   "outputs": [],
   "source": [
    "df = pd.concat([df_2,new_df],ignore_index=True)"
   ]
  },
  {
   "cell_type": "code",
   "execution_count": 13,
   "id": "4a2678f1-243b-4237-81ec-c33761032ee9",
   "metadata": {},
   "outputs": [],
   "source": [
    "df['transcription'] = df['transcription'].str.lower()"
   ]
  },
  {
   "cell_type": "code",
   "execution_count": 14,
   "id": "cdd2cdb7-cb10-4fd1-8c4e-fa14411d5c84",
   "metadata": {},
   "outputs": [],
   "source": [
    "df.to_csv(df_save_fp, index=False)"
   ]
  }
 ],
 "metadata": {
  "kernelspec": {
   "display_name": "Python 3.10.8 (ipykernel)",
   "language": "python",
   "name": "python-3.10.8"
  },
  "language_info": {
   "codemirror_mode": {
    "name": "ipython",
    "version": 3
   },
   "file_extension": ".py",
   "mimetype": "text/x-python",
   "name": "python",
   "nbconvert_exporter": "python",
   "pygments_lexer": "ipython3",
   "version": "3.10.8"
  }
 },
 "nbformat": 4,
 "nbformat_minor": 5
}

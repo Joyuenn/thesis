{
 "cells": [
  {
   "cell_type": "markdown",
   "id": "e0424da1-58a9-4582-8447-531db6483bca",
   "metadata": {},
   "source": [
    "# 1. Process package"
   ]
  },
  {
   "cell_type": "markdown",
   "id": "5a4f07c9-775b-4caf-b396-1073476e6539",
   "metadata": {},
   "source": [
    "mkdir srilm"
   ]
  },
  {
   "cell_type": "markdown",
   "id": "ce60d7f0-e8b8-480d-a4a9-5d15fcc94b6b",
   "metadata": {},
   "source": [
    "mv srilm-1.7.3.tar.gz srilm"
   ]
  },
  {
   "cell_type": "markdown",
   "id": "8336c221-d601-400c-9322-231c7a4735ff",
   "metadata": {},
   "source": [
    "cd srilm"
   ]
  },
  {
   "cell_type": "markdown",
   "id": "1c5f370f-46b7-4c2e-acaa-1dd1497ebb90",
   "metadata": {
    "tags": []
   },
   "source": [
    "Then run the following command in the Putty terminal:\n",
    "tar -zxvf srilm-1.7.3.tar.gz"
   ]
  },
  {
   "cell_type": "markdown",
   "id": "88cf2654-2207-413d-b724-4ecd6affb544",
   "metadata": {},
   "source": [
    "# 2. Installation"
   ]
  },
  {
   "cell_type": "markdown",
   "id": "85f61f38-2cdd-4a60-a0f3-a233df51c395",
   "metadata": {},
   "source": [
    "## 2.1 Modify Makefile file"
   ]
  },
  {
   "cell_type": "markdown",
   "id": "bf2ac661-9e36-4098-834d-e9c50193117c",
   "metadata": {},
   "source": [
    "Find\n",
    "#SRILM = /home/speech/stolcke/project/srilm/devel\n",
    "On a separate line, type:\n",
    "SRILM = $(PWD)"
   ]
  },
  {
   "cell_type": "markdown",
   "id": "b8e963ad-9149-4098-8eeb-1720ed1ab91c",
   "metadata": {},
   "source": [
    "Find\n",
    "#Include common SRILM variable definitions.\n",
    "On a separate line, type:\n",
    "include $(SRILM)/common/Makefile.machine.i686-m64"
   ]
  },
  {
   "cell_type": "markdown",
   "id": "f17d0242-f07a-4953-8836-2ebd664b1586",
   "metadata": {},
   "source": [
    "## 2.2 Compile"
   ]
  },
  {
   "cell_type": "markdown",
   "id": "4dd7f11f-7e19-416b-844c-42f83d3242cb",
   "metadata": {},
   "source": [
    "1. In /srilm directory, run:\n",
    "make World"
   ]
  },
  {
   "cell_type": "markdown",
   "id": "f9e41ac3-4e1e-49e4-a5e7-674e09782561",
   "metadata": {},
   "source": [
    "2. Add environment \n",
    "export PATH=/your_path/srilm/bin/i686-m64:/your_path/srilm/bin:$PATH"
   ]
  },
  {
   "cell_type": "markdown",
   "id": "adcaf299-53f8-4c29-8b1d-39f5c243a977",
   "metadata": {},
   "source": [
    "3. Test\n",
    "make test"
   ]
  }
 ],
 "metadata": {
  "kernelspec": {
   "display_name": "Python 3.10.8 (ipykernel)",
   "language": "python",
   "name": "python-3.10.8"
  },
  "language_info": {
   "codemirror_mode": {
    "name": "ipython",
    "version": 3
   },
   "file_extension": ".py",
   "mimetype": "text/x-python",
   "name": "python",
   "nbconvert_exporter": "python",
   "pygments_lexer": "ipython3",
   "version": "3.10.8"
  }
 },
 "nbformat": 4,
 "nbformat_minor": 5
}

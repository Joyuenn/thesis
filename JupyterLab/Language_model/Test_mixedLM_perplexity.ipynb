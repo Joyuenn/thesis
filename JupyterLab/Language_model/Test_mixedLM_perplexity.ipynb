{
 "cells": [
  {
   "cell_type": "markdown",
   "id": "ab6105ef-06a1-49f9-bc9c-2256c1dd5ad0",
   "metadata": {},
   "source": [
    "__Test the mixed LM on test script__"
   ]
  },
  {
   "cell_type": "markdown",
   "id": "5a86601c-1b2e-456f-9cd3-c0b0c5414fbf",
   "metadata": {},
   "source": [
    "srilm/bin/i686-m64/ngram -order 4 -lm AusKidTalk_4gram_lowercase.arpa -mix-lm 4gram_big.arpa -lambda 0.49 -ppl /srv/scratch/z5313567/thesis/JupyterLab/Language_model/AusKidTalk_spontaneous_transcription.txt ([Reference](https://pages.ucsd.edu/~rlevy/teaching/2015winter/lign165/lectures/lecture13/lecture13_ngrams_with_SRILM.pdf))"
   ]
  }
 ],
 "metadata": {
  "kernelspec": {
   "display_name": "Python 3.10.8 (ipykernel)",
   "language": "python",
   "name": "python-3.10.8"
  },
  "language_info": {
   "codemirror_mode": {
    "name": "ipython",
    "version": 3
   },
   "file_extension": ".py",
   "mimetype": "text/x-python",
   "name": "python",
   "nbconvert_exporter": "python",
   "pygments_lexer": "ipython3",
   "version": "3.10.8"
  }
 },
 "nbformat": 4,
 "nbformat_minor": 5
}

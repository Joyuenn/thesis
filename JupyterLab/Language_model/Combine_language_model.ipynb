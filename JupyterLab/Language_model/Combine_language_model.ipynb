{
 "cells": [
  {
   "cell_type": "markdown",
   "id": "32f7e796-5aea-4cf3-8f4b-1135b5823c59",
   "metadata": {},
   "source": [
    "__Run the following in terminal__"
   ]
  },
  {
   "cell_type": "markdown",
   "id": "16be67b3-8abd-4206-a885-79445fb36f00",
   "metadata": {},
   "source": [
    "cd /srv/scratch/z5313567/thesis/JupyterLab/Language_model"
   ]
  },
  {
   "cell_type": "markdown",
   "id": "2c5c4371-88c6-4307-9613-e3c1daee47e9",
   "metadata": {},
   "source": [
    "- __Choice1:__ srilm/bin/i686-m64/ngram -lm model1.3.arpa -order 4 -mix-lm model2.3.arpa -lambda 0.8 -write-lm model_all.3.arpa ([Reference](https://blog.csdn.net/weixin_42069606/article/details/120978334?utm_medium=distribute.pc_relevant.none-task-blog-2~default~baidujs_baidulandingword~default-1-120978334-blog-50353689.235^v38^pc_relevant_sort&spm=1001.2101.3001.4242.2&utm_relevant_index=4))\n",
    "\n",
    "- __Choice2:__ srilm/bin/i686-m64/ngram -order 4 -lm lm1.arpa -mix-lm lm2.arpa -lambda 0.25 -write-lm output.arpa (lm1 and lm2 are the two LMs you need to mix. the number after lambda is the weight of the second LM (lm2))"
   ]
  },
  {
   "cell_type": "markdown",
   "id": "d964069b-2abe-4be8-9bb3-73042314578a",
   "metadata": {},
   "source": []
  }
 ],
 "metadata": {
  "kernelspec": {
   "display_name": "Python 3.10.8 (ipykernel)",
   "language": "python",
   "name": "python-3.10.8"
  },
  "language_info": {
   "codemirror_mode": {
    "name": "ipython",
    "version": 3
   },
   "file_extension": ".py",
   "mimetype": "text/x-python",
   "name": "python",
   "nbconvert_exporter": "python",
   "pygments_lexer": "ipython3",
   "version": "3.10.8"
  }
 },
 "nbformat": 4,
 "nbformat_minor": 5
}

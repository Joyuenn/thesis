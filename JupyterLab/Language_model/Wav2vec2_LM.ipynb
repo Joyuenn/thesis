{
 "cells": [
  {
   "cell_type": "code",
   "execution_count": 2,
   "id": "ef3b60fe-76ac-4108-8124-fd6e83853ec5",
   "metadata": {},
   "outputs": [],
   "source": [
    "\n",
    "#%%capture\n",
    "#!git clone https://github.com/ynop/py-ctc-decode\n",
    "#!pip3 install transformers datasets torchaudio\n",
    "#!pip3 install https://github.com/kpu/kenlm/archive/master.zip"
   ]
  },
  {
   "cell_type": "code",
   "execution_count": 3,
   "id": "2c73b93c-20a9-416d-ad7d-2aa12b2456be",
   "metadata": {},
   "outputs": [],
   "source": [
    "#!git clone https://github.com/ynop/py-ctc-decode"
   ]
  },
  {
   "cell_type": "code",
   "execution_count": 4,
   "id": "13ee9ced-38e7-47da-b49b-9e49a224cd87",
   "metadata": {},
   "outputs": [],
   "source": [
    "#!pip install transformers datasets torchaudio"
   ]
  },
  {
   "cell_type": "code",
   "execution_count": 5,
   "id": "c748ebae-4623-46cf-b368-db5dfd76b644",
   "metadata": {},
   "outputs": [],
   "source": [
    "#!pip install https://github.com/kpu/kenlm/archive/master.zip"
   ]
  },
  {
   "cell_type": "code",
   "execution_count": 6,
   "id": "ab724fb9-6489-432f-b4c2-94fa8ea155dc",
   "metadata": {},
   "outputs": [],
   "source": [
    "#%cd py-ctc-decode"
   ]
  },
  {
   "cell_type": "code",
   "execution_count": 7,
   "id": "93c7fd35-210d-4a79-a907-966f45c71050",
   "metadata": {},
   "outputs": [],
   "source": [
    "# ##########################################################################################################\n",
    "# ##########################################################################################################\n",
    "#\n",
    "# run the following command in the environment in Putty terminal\n",
    "# !pip install https://github.com/kpu/kenlm/archive/master.zip\n",
    "#\n",
    "# ##########################################################################################################\n",
    "# ##########################################################################################################"
   ]
  },
  {
   "cell_type": "code",
   "execution_count": 1,
   "id": "186ae802-f518-4cc7-aa7f-310e4d8cf6d3",
   "metadata": {},
   "outputs": [
    {
     "name": "stdout",
     "output_type": "stream",
     "text": [
      "/srv/scratch/z5313567/thesis/JupyterLab/Language_model\n"
     ]
    }
   ],
   "source": [
    "cd /srv/scratch/z5313567/thesis/JupyterLab/Language_model"
   ]
  },
  {
   "cell_type": "code",
   "execution_count": 2,
   "id": "9bba4264-4287-495c-b11e-d2a77dbbc0e8",
   "metadata": {},
   "outputs": [],
   "source": [
    "import librosa\n",
    "import numpy as np"
   ]
  },
  {
   "cell_type": "code",
   "execution_count": 3,
   "id": "666868a4-1988-4b28-bf42-0118e2a70af7",
   "metadata": {},
   "outputs": [],
   "source": [
    "data_train_fp = '/srv/scratch/z5313567/thesis/AusKidTalk_local/spontaneous/AusKidTalk_spontaneous_test_only_transcription_filepath.csv'\n",
    "data_test_fp = '/srv/scratch/z5313567/thesis/AusKidTalk_local/spontaneous/AusKidTalk_spontaneous_test_only_transcription_filepath.csv'\n",
    "cache_fp = '/srv/scratch/z5313567/thesis/cache'\n",
    "#model_fp = '/srv/scratch/z5313567/thesis/wav2vec2/model/AusKidTalk/finetune_20230708_2'\n",
    "model_fp = '/srv/scratch/z5313567/thesis/wav2vec2/model/AusKidTalk_scripted_spontaneous_combined/finetune_20230718'"
   ]
  },
  {
   "cell_type": "markdown",
   "id": "0dc4e394-84c7-4ca8-8624-cfbc7b822350",
   "metadata": {},
   "source": [
    "# 1. Decoding audio data with Wav2Vec2 and a language model"
   ]
  },
  {
   "cell_type": "code",
   "execution_count": 4,
   "id": "3797f4fe-7d1f-440d-a44a-7294e986c00d",
   "metadata": {},
   "outputs": [
    {
     "name": "stderr",
     "output_type": "stream",
     "text": [
      "/home/z5313567/.local/lib/python3.10/site-packages/tqdm/auto.py:21: TqdmWarning: IProgress not found. Please update jupyter and ipywidgets. See https://ipywidgets.readthedocs.io/en/stable/user_install.html\n",
      "  from .autonotebook import tqdm as notebook_tqdm\n"
     ]
    },
    {
     "name": "stdout",
     "output_type": "stream",
     "text": [
      "Downloading and preparing dataset csv/default to /srv/scratch/z5313567/thesis/cache/csv/default-f00e5d99dcfcccbc/0.0.0/6954658bab30a358235fa864b05cf819af0e179325c740e4bc853bcc7ec513e1...\n"
     ]
    },
    {
     "name": "stderr",
     "output_type": "stream",
     "text": [
      "Downloading data files: 100%|██████████| 2/2 [00:00<00:00, 4138.44it/s]\n",
      "Extracting data files: 100%|██████████| 2/2 [00:00<00:00, 69.24it/s]\n",
      "                                                        \r"
     ]
    },
    {
     "name": "stdout",
     "output_type": "stream",
     "text": [
      "Dataset csv downloaded and prepared to /srv/scratch/z5313567/thesis/cache/csv/default-f00e5d99dcfcccbc/0.0.0/6954658bab30a358235fa864b05cf819af0e179325c740e4bc853bcc7ec513e1. Subsequent calls will reuse this data.\n"
     ]
    },
    {
     "name": "stderr",
     "output_type": "stream",
     "text": [
      "100%|██████████| 2/2 [00:00<00:00, 210.21it/s]\n"
     ]
    }
   ],
   "source": [
    "from datasets import load_dataset\n",
    "\n",
    "dataset = load_dataset('csv', \n",
    "                        data_files={'train': data_train_fp,\n",
    "                                'test': data_test_fp},\n",
    "                        cache_dir = cache_fp)"
   ]
  },
  {
   "cell_type": "code",
   "execution_count": 5,
   "id": "766bb7b4-4299-4ceb-890b-398d52bc8d62",
   "metadata": {},
   "outputs": [
    {
     "data": {
      "text/plain": [
       "DatasetDict({\n",
       "    train: Dataset({\n",
       "        features: ['filepath', 'transcription_clean'],\n",
       "        num_rows: 24\n",
       "    })\n",
       "    test: Dataset({\n",
       "        features: ['filepath', 'transcription_clean'],\n",
       "        num_rows: 24\n",
       "    })\n",
       "})"
      ]
     },
     "execution_count": 5,
     "metadata": {},
     "output_type": "execute_result"
    }
   ],
   "source": [
    "dataset"
   ]
  },
  {
   "cell_type": "code",
   "execution_count": 6,
   "id": "2c7c82b5-1b5b-4784-8296-564273b10f7f",
   "metadata": {},
   "outputs": [
    {
     "name": "stderr",
     "output_type": "stream",
     "text": [
      "                                                                        \r"
     ]
    }
   ],
   "source": [
    "def speech_file_to_array_fn(batch):\n",
    "    #speech_array, sampling_rate = sf.read(batch[\"filepath\"])\n",
    "    speech_array, sampling_rate = librosa.load(batch['filepath'], sr=16000)\n",
    "    batch[\"speech\"] = speech_array\n",
    "    batch[\"sampling_rate\"] = sampling_rate\n",
    "    batch[\"target_text\"] = batch[\"transcription_clean\"]\n",
    "    return batch\n",
    "\n",
    "data = dataset.map(speech_file_to_array_fn, remove_columns=dataset.column_names[\"train\"], num_proc=4)"
   ]
  },
  {
   "cell_type": "code",
   "execution_count": 7,
   "id": "925088fd-2d5f-4c5c-a9fa-057c74c27390",
   "metadata": {},
   "outputs": [
    {
     "data": {
      "text/plain": [
       "DatasetDict({\n",
       "    train: Dataset({\n",
       "        features: ['speech', 'sampling_rate', 'target_text'],\n",
       "        num_rows: 24\n",
       "    })\n",
       "    test: Dataset({\n",
       "        features: ['speech', 'sampling_rate', 'target_text'],\n",
       "        num_rows: 24\n",
       "    })\n",
       "})"
      ]
     },
     "execution_count": 7,
     "metadata": {},
     "output_type": "execute_result"
    }
   ],
   "source": [
    "data"
   ]
  },
  {
   "cell_type": "code",
   "execution_count": 8,
   "id": "6634f5e5-a008-4879-b73d-cbd71c12391e",
   "metadata": {},
   "outputs": [
    {
     "name": "stdout",
     "output_type": "stream",
     "text": [
      "he was touching the dinosaur\n"
     ]
    },
    {
     "data": {
      "text/html": [
       "\n",
       "                <audio  controls=\"controls\" autoplay=\"autoplay\">\n",
       "                    <source src=\"data:audio/wav;base64,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\" type=\"audio/wav\" />\n",
       "                    Your browser does not support the audio element.\n",
       "                </audio>\n",
       "              "
      ],
      "text/plain": [
       "<IPython.lib.display.Audio object>"
      ]
     },
     "execution_count": 8,
     "metadata": {},
     "output_type": "execute_result"
    }
   ],
   "source": [
    "import IPython.display as ipd\n",
    "\n",
    "audio_sample = data[\"test\"][9]\n",
    "print(audio_sample[\"target_text\"].lower())\n",
    "ipd.Audio(data=audio_sample[\"speech\"], autoplay=True, rate=audio_sample[\"sampling_rate\"])"
   ]
  },
  {
   "cell_type": "code",
   "execution_count": 9,
   "id": "a6e93bca-36a2-49ed-9bf9-1ce9d633d42a",
   "metadata": {},
   "outputs": [],
   "source": [
    "from transformers import Wav2Vec2Processor, Wav2Vec2ForCTC\n",
    "\n",
    "processor = Wav2Vec2Processor.from_pretrained(model_fp, cache_dir = cache_fp)\n",
    "model = Wav2Vec2ForCTC.from_pretrained(model_fp, cache_dir = cache_fp)\n",
    "#processor = Wav2Vec2Processor.from_pretrained(\"facebook/wav2vec2-base-960h\", cache_dir = cache_fp)\n",
    "#model = Wav2Vec2ForCTC.from_pretrained(\"facebook/wav2vec2-base-960h\",  cache_dir = cache_fp)\n",
    "#processor = Wav2Vec2Processor.from_pretrained(\"facebook/wav2vec2-base-100h\", cache_dir = cache_fp)\n",
    "#model = Wav2Vec2ForCTC.from_pretrained(\"facebook/wav2vec2-base-100h\", cache_dir = cache_fp)"
   ]
  },
  {
   "cell_type": "code",
   "execution_count": 10,
   "id": "67608ae0-216e-46ba-a4c9-a822402786ac",
   "metadata": {},
   "outputs": [],
   "source": [
    "inputs = processor(audio_sample[\"speech\"], sampling_rate=16_000, return_tensors=\"pt\")"
   ]
  },
  {
   "cell_type": "code",
   "execution_count": 11,
   "id": "9e829113-e54d-4cb2-b41f-6451fd5dff38",
   "metadata": {},
   "outputs": [],
   "source": [
    "import torch\n",
    "\n",
    "with torch.no_grad():\n",
    "    logits = model(**inputs).logits"
   ]
  },
  {
   "cell_type": "code",
   "execution_count": 12,
   "id": "fff4f393-25b5-4997-b946-294bb5a70b29",
   "metadata": {},
   "outputs": [
    {
     "name": "stdout",
     "output_type": "stream",
     "text": [
      "Predicted transcription without the language model is:\n",
      "HEY WASCOCKING THE DINOSAUR\n"
     ]
    }
   ],
   "source": [
    "predicted_ids = torch.argmax(logits, dim=-1)\n",
    "transcription = processor.batch_decode(predicted_ids)[0]\n",
    "\n",
    "print(f'Predicted transcription without the language model is:\\n{transcription}')"
   ]
  },
  {
   "cell_type": "code",
   "execution_count": 13,
   "id": "22b6aac2-8637-4ef7-ad33-f246a3f67f0e",
   "metadata": {},
   "outputs": [
    {
     "name": "stderr",
     "output_type": "stream",
     "text": [
      "Fetching 4 files: 100%|██████████| 4/4 [00:00<00:00, 145.54it/s]\n"
     ]
    }
   ],
   "source": [
    "from transformers import Wav2Vec2ProcessorWithLM\n",
    "\n",
    "processor1 = Wav2Vec2ProcessorWithLM.from_pretrained(\"patrickvonplaten/wav2vec2-base-100h-with-lm\", cache_dir = cache_fp)"
   ]
  },
  {
   "cell_type": "code",
   "execution_count": 14,
   "id": "ea5fe8e2-8d79-4084-8918-0f63d3b5aeb4",
   "metadata": {},
   "outputs": [
    {
     "data": {
      "text/plain": [
       "torch.Size([1, 133, 32])"
      ]
     },
     "execution_count": 14,
     "metadata": {},
     "output_type": "execute_result"
    }
   ],
   "source": [
    "logits.shape"
   ]
  },
  {
   "cell_type": "code",
   "execution_count": 15,
   "id": "80308c22-f1c8-4a7f-92e9-e796db8ad595",
   "metadata": {},
   "outputs": [
    {
     "data": {
      "text/plain": [
       "\"' </s> <pad> <s> <unk> A B C D E F G H I J K L M N O P Q R S T U V W X Y Z |\""
      ]
     },
     "execution_count": 15,
     "metadata": {},
     "output_type": "execute_result"
    }
   ],
   "source": [
    "\" \".join(sorted(processor1.tokenizer.get_vocab()))"
   ]
  },
  {
   "cell_type": "code",
   "execution_count": 16,
   "id": "4ad016c9-a656-41fb-a781-867c4110da83",
   "metadata": {},
   "outputs": [
    {
     "name": "stdout",
     "output_type": "stream",
     "text": [
      "Predicted transcription from the pretrained language model is:\n",
      "HE WAS COCKING THE DINOSAUR\n"
     ]
    }
   ],
   "source": [
    "transcription = processor1.batch_decode(logits.numpy()).text[0]\n",
    "print(f'Predicted transcription from the pretrained language model is:\\n{transcription}')"
   ]
  },
  {
   "cell_type": "markdown",
   "id": "def00220-58d9-473d-8201-78b0fea15017",
   "metadata": {},
   "source": [
    "# 2. Getting data for the language model"
   ]
  },
  {
   "cell_type": "code",
   "execution_count": 43,
   "id": "dc439b07-3d9f-4481-aced-c428cabbb399",
   "metadata": {},
   "outputs": [],
   "source": [
    "#full_fp = '/srv/scratch/z5313567/thesis/AusKidTalk_local/AusKidTalk_Storytelling/AusKidTalk_storytelling_texts.csv'\n",
    "full_fp = '/srv/scratch/z5313567/thesis/AusKidTalk_local/AusKidTalk_Storytelling/AusKiaTalk_CU_storytelling_v2.csv'"
   ]
  },
  {
   "cell_type": "code",
   "execution_count": 44,
   "id": "30e98fd6-6eef-4016-b923-044430facee5",
   "metadata": {},
   "outputs": [
    {
     "name": "stdout",
     "output_type": "stream",
     "text": [
      "Downloading and preparing dataset csv/default to /srv/scratch/z5313567/thesis/cache/csv/default-cbbad28bad8cddb0/0.0.0/6954658bab30a358235fa864b05cf819af0e179325c740e4bc853bcc7ec513e1...\n"
     ]
    },
    {
     "name": "stderr",
     "output_type": "stream",
     "text": [
      "Downloading data files: 100%|██████████| 1/1 [00:00<00:00, 4905.62it/s]\n",
      "Extracting data files: 100%|██████████| 1/1 [00:00<00:00, 64.58it/s]\n",
      "                                                        \r"
     ]
    },
    {
     "name": "stdout",
     "output_type": "stream",
     "text": [
      "Dataset csv downloaded and prepared to /srv/scratch/z5313567/thesis/cache/csv/default-cbbad28bad8cddb0/0.0.0/6954658bab30a358235fa864b05cf819af0e179325c740e4bc853bcc7ec513e1. Subsequent calls will reuse this data.\n"
     ]
    },
    {
     "name": "stderr",
     "output_type": "stream",
     "text": [
      "100%|██████████| 1/1 [00:00<00:00, 178.90it/s]\n"
     ]
    }
   ],
   "source": [
    "from datasets import load_dataset\n",
    "\n",
    "dataset = load_dataset('csv', \n",
    "                        data_files = full_fp,\n",
    "                        cache_dir = cache_fp)"
   ]
  },
  {
   "cell_type": "code",
   "execution_count": 45,
   "id": "c5beb6d2-4eb8-4345-87f7-57f8f2adedef",
   "metadata": {},
   "outputs": [
    {
     "data": {
      "text/plain": [
       "DatasetDict({\n",
       "    train: Dataset({\n",
       "        features: ['transcription'],\n",
       "        num_rows: 34664\n",
       "    })\n",
       "})"
      ]
     },
     "execution_count": 45,
     "metadata": {},
     "output_type": "execute_result"
    }
   ],
   "source": [
    "dataset"
   ]
  },
  {
   "cell_type": "code",
   "execution_count": 46,
   "id": "028522b5-da97-4862-ab9a-5ba7c1b2a79b",
   "metadata": {},
   "outputs": [],
   "source": [
    "chars_to_ignore_regex = '[,?.!*\\-\\;\\:\\\"“%‘”�—’…–]'"
   ]
  },
  {
   "cell_type": "code",
   "execution_count": 47,
   "id": "8b171253-8127-4c2b-a3d0-704ee85b831a",
   "metadata": {},
   "outputs": [],
   "source": [
    "import re\n",
    "\n",
    "def extract_text(batch):\n",
    "    text = batch[\"transcription\"]\n",
    "    batch[\"text\"] = re.sub(chars_to_ignore_regex, \"\", text.lower())\n",
    "    #batch[\"text\"] = re.sub(chars_to_ignore_regex, \"\", text.lower())\n",
    "    return batch"
   ]
  },
  {
   "cell_type": "code",
   "execution_count": 48,
   "id": "cee0496d-15ee-494c-baa0-1a0348243107",
   "metadata": {},
   "outputs": [
    {
     "name": "stderr",
     "output_type": "stream",
     "text": [
      "                                                                    \r"
     ]
    },
    {
     "data": {
      "text/plain": [
       "DatasetDict({\n",
       "    train: Dataset({\n",
       "        features: ['text'],\n",
       "        num_rows: 34664\n",
       "    })\n",
       "})"
      ]
     },
     "execution_count": 48,
     "metadata": {},
     "output_type": "execute_result"
    }
   ],
   "source": [
    "dataset = dataset.map(extract_text, remove_columns=dataset.column_names['train'])\n",
    "dataset"
   ]
  },
  {
   "cell_type": "markdown",
   "id": "6d150dbb-274b-4537-9ced-1734ebf27a9f",
   "metadata": {},
   "source": [
    "# 3. Build an n-gram with KenLM"
   ]
  },
  {
   "cell_type": "code",
   "execution_count": 49,
   "id": "da2d2eb8-3bd0-4d19-a1ec-54a3afe599c3",
   "metadata": {},
   "outputs": [],
   "source": [
    "# ################################################################################################################################################################################\n",
    "# ################################################################################################################################################################################\n",
    "#\n",
    "# Do not run the following command, since those dependencies are available as loadable modules on Katana:\n",
    "# !sudo apt install build-essential cmake libboost-system-dev libboost-thread-dev libboost-program-options-dev libboost-test-dev libeigen3-dev zlib1g-dev libbz2-dev liblzma-dev\n",
    "#\n",
    "# Instead run the following commands in Putty terminal:\n",
    "# 1) module load boost/1.80.0 eigen/3.4.0 zlib/1.2.13 bzip2/1.0.6 lzma/4.32.7\n",
    "# 2) (can run this in JupyterLab notebook, never tried to run this in Putty termianl) ----> !wget -O - https://kheafield.com/code/kenlm.tar.gz | tar xz\n",
    "# 3) !mkdir kenlm/build -p && cd kenlm/build && cmake .. && make -j2\n",
    "#\n",
    "# ################################################################################################################################################################################\n",
    "# ################################################################################################################################################################################"
   ]
  },
  {
   "cell_type": "code",
   "execution_count": 50,
   "id": "400d9db4-1b9e-4fa1-8d21-dd0c3dc22337",
   "metadata": {},
   "outputs": [],
   "source": [
    "#!wget -O - https://kheafield.com/code/kenlm.tar.gz | tar xz"
   ]
  },
  {
   "cell_type": "code",
   "execution_count": 51,
   "id": "54a5cdd8-0caa-4bfe-9cd9-1c1e88ce6478",
   "metadata": {},
   "outputs": [],
   "source": [
    "#!mkdir kenlm/build -p && cd kenlm/build && cmake .. && make -j2\n",
    "#!ls kenlm/build/bin"
   ]
  },
  {
   "cell_type": "code",
   "execution_count": 52,
   "id": "db111f6a-da6b-4344-a04e-4f1ee42c96e3",
   "metadata": {},
   "outputs": [
    {
     "data": {
      "text/plain": [
       "DatasetDict({\n",
       "    train: Dataset({\n",
       "        features: ['text'],\n",
       "        num_rows: 34664\n",
       "    })\n",
       "})"
      ]
     },
     "execution_count": 52,
     "metadata": {},
     "output_type": "execute_result"
    }
   ],
   "source": [
    "dataset"
   ]
  },
  {
   "cell_type": "code",
   "execution_count": 53,
   "id": "1f3abd31-cd92-4045-b98d-e5158568a6ef",
   "metadata": {},
   "outputs": [],
   "source": [
    "with open(\"text.txt\", \"w\") as file:\n",
    "    file.write(\" \".join(dataset[\"train\"][\"text\"]))"
   ]
  },
  {
   "cell_type": "code",
   "execution_count": 54,
   "id": "bde5138b-738d-45a6-b985-e80575d0115a",
   "metadata": {},
   "outputs": [],
   "source": [
    "# ################################################################################################################################################################################\n",
    "# ################################################################################################################################################################################\n",
    "#\n",
    "# assume 5-gram language model\n",
    "# run the following commands in Putty terminal\n",
    "# 1) cd /srv/scratch/z5313567/thesis/JupyterLab/Language_model\n",
    "# 2) kenlm/build/bin/lmplz -o 5 --verbose header --text text.txt --arpa 5gram.arpa --discount_fallback (Reference: https://blog.csdn.net/w5688414/article/details/106994706)\n",
    "#    or kenlm/build/bin/lmplz -o 5 <\"text.txt\" > \"5gram.arpa\"  \n",
    "# !! if running 2) results in 'Killed', try running: kenlm/build/bin/lmplz -o 5 -S 50% --discount_fallback --verbose header --text text.txt --arpa 5gram.arpa (Reference: https://blog.csdn.net/wangchengjiea/article/details/102649607)\n",
    "#\n",
    "# ################################################################################################################################################################################\n",
    "# ################################################################################################################################################################################"
   ]
  },
  {
   "cell_type": "code",
   "execution_count": null,
   "id": "036649c3-1c09-4c3d-8a75-41a2ff9173ca",
   "metadata": {},
   "outputs": [
    {
     "name": "stdout",
     "output_type": "stream",
     "text": [
      "\n",
      "\\data\\\n",
      "ngram 1=200003\n",
      "ngram 2=38229161\n",
      "ngram 3=45941329\n",
      "ngram 4=60975692\n",
      "\n",
      "\\1-grams:\n",
      "-2.348754\t</s>\n",
      "-2.752519\t<UNK>\t-0.9697837\n",
      "-99\t<s>\t-2.408548\n",
      "-2.619969\tA\t-1.56262\n",
      "-7.211563\tA''S\t-0.1495221\n",
      "-6.221141\tA'BODY\t-0.2521624\n",
      "-6.583487\tA'COURT\t-0.1844242\n",
      "-6.240468\tA'D\t-0.2419162\n",
      "-7.108924\tA'GHA\t-0.1740987\n",
      "-6.260695\tA'GOIN\t-0.407374\n",
      "-5.804425\tA'LL\t-0.3104859\n",
      "-5.638036\tA'M\t-0.2983787\n"
     ]
    }
   ],
   "source": [
    "#!head -20 5gram.arpa\n",
    "!head -20 AudKidTalk_4gram_3.arpa"
   ]
  },
  {
   "cell_type": "code",
   "execution_count": 85,
   "id": "fda09e01-20be-4d80-95b1-6de58bf4dbb8",
   "metadata": {},
   "outputs": [],
   "source": [
    "# The 5-gram correctly includes a \"Unknown\" or <unk>, as well as a begin-of-sentence, <s> token, but no end-of-sentence, </s> token. \n",
    "# This sadly has to be corrected currently after the build.\n",
    "# We can simply add the end-of-sentence token by adding the line 0 </s> -0.09522562 below the begin-of-sentence token and increasing the ngram 1 count by 1.\n",
    "\n",
    "#with open(\"5gram.arpa\", \"r\") as read_file, open(\"5gram_correct.arpa\", \"w\") as write_file:\n",
    "with open(\"AudKidTalk_4gram_3.arpa\", \"r\") as read_file, open(\"AudKidTalk_4gram_correct_3.arpa\", \"w\") as write_file:\n",
    "    has_added_eos = False\n",
    "    for line in read_file:\n",
    "        if not has_added_eos and \"ngram 1=\" in line:\n",
    "            count=line.strip().split(\"=\")[-1]\n",
    "            write_file.write(line.replace(f\"{count}\", f\"{int(count)+1}\"))\n",
    "        elif not has_added_eos and \"<s>\" in line:\n",
    "            write_file.write(line)\n",
    "            write_file.write(line.replace(\"<s>\", \"</s>\"))\n",
    "            has_added_eos = True\n",
    "        else:\n",
    "            write_file.write(line)"
   ]
  },
  {
   "cell_type": "code",
   "execution_count": 49,
   "id": "e001d4a1-3ed0-42e2-bfb4-dbd6413f288b",
   "metadata": {},
   "outputs": [
    {
     "name": "stdout",
     "output_type": "stream",
     "text": [
      "\\data\\\n",
      "ngram 1=152215\n",
      "ngram 2=4878850\n",
      "ngram 3=4396708\n",
      "ngram 4=1064394\n",
      "\n",
      "\\1-grams:\n",
      "-99\t<s>\t-1.31333\n",
      "-7.51472\t'aquila\n",
      "-6.99997\taasiya\t-0.0380279\n",
      "-6.9031\tacidifies\n",
      "-5.73685\tballed\t-0.38881\n",
      "-6.57062\tparolin\t-0.24223\n",
      "-7.01366\tparoling\n",
      "-7.13837\tparonnaud\n",
      "-6.23547\tparos\t-0.111871\n",
      "-6.48544\tparotid\t-0.32514\n",
      "-6.90239\tparoubek\t-0.192235\n",
      "-6.07383\tparoxetine\t-0.41236\n",
      "-6.28606\tparoxysm\t-0.224921\n"
     ]
    }
   ],
   "source": [
    "#!head -20 5gram_correct.arpa\n",
    "#!head -20 AudKidTalk_4gram_correct_3.arpa\n",
    "!head -20 AusKidTalk_LM_combined_v1_lowercase.arpa"
   ]
  },
  {
   "cell_type": "markdown",
   "id": "f86b1105-24e9-4142-8a52-33ed842bb69f",
   "metadata": {},
   "source": [
    "# 4. Combine an n-gram with Wav2Vec2"
   ]
  },
  {
   "cell_type": "code",
   "execution_count": 1,
   "id": "c7fd4704-6bc6-4cc1-a7af-98eafeca70f8",
   "metadata": {},
   "outputs": [],
   "source": [
    "model_fp = '/srv/scratch/z5313567/thesis/wav2vec2/model/AusKidTalk/progressive_finetune_CU_AusKidTalk_lowercase_freeze_lower_transformer_20231015'"
   ]
  },
  {
   "cell_type": "code",
   "execution_count": 2,
   "id": "0cd2f416-3e8f-4486-be20-1bebc45003b4",
   "metadata": {},
   "outputs": [
    {
     "name": "stderr",
     "output_type": "stream",
     "text": [
      "/home/z5313567/.local/lib/python3.10/site-packages/tqdm/auto.py:21: TqdmWarning: IProgress not found. Please update jupyter and ipywidgets. See https://ipywidgets.readthedocs.io/en/stable/user_install.html\n",
      "  from .autonotebook import tqdm as notebook_tqdm\n"
     ]
    }
   ],
   "source": [
    "from transformers import AutoProcessor\n",
    "\n",
    "processor = AutoProcessor.from_pretrained(model_fp)"
   ]
  },
  {
   "cell_type": "code",
   "execution_count": 3,
   "id": "932eaa53-335d-49ee-baf7-037901f75d7d",
   "metadata": {},
   "outputs": [],
   "source": [
    "vocab_dict = processor.tokenizer.get_vocab()\n",
    "sorted_vocab_dict = {k: v for k, v in sorted(vocab_dict.items(), key=lambda item: item[1])}"
   ]
  },
  {
   "cell_type": "code",
   "execution_count": 4,
   "id": "e08733da-2893-4e3c-b155-900952b5055c",
   "metadata": {},
   "outputs": [
    {
     "name": "stderr",
     "output_type": "stream",
     "text": [
      "Loading the LM will be faster if you build a binary file.\n",
      "Reading /srv/scratch/z5313567/thesis/JupyterLab/Language_model/AusKidTalk_LM_combined_lowercase_v2.arpa\n",
      "----5---10---15---20---25---30---35---40---45---50---55---60---65---70---75---80---85---90---95--100\n",
      "****************************************************************************************************\n",
      "Found entries of length > 1 in alphabet. This is unusual unless style is BPE, but the alphabet was not recognized as BPE type. Is this correct?\n",
      "Unigrams and labels don't seem to agree.\n"
     ]
    }
   ],
   "source": [
    "from pyctcdecode import build_ctcdecoder\n",
    "\n",
    "decoder = build_ctcdecoder(\n",
    "    labels=list(sorted_vocab_dict.keys()),\n",
    "    kenlm_model_path=\"AusKidTalk_LM_combined_lowercase_v2.arpa\"\n",
    ")"
   ]
  },
  {
   "cell_type": "code",
   "execution_count": 5,
   "id": "b9c2cf22-ba3e-4647-a1ed-f56954b45e13",
   "metadata": {},
   "outputs": [
    {
     "data": {
      "text/plain": [
       "['e',\n",
       " 'a',\n",
       " 'h',\n",
       " 'f',\n",
       " 'x',\n",
       " 'm',\n",
       " 'k',\n",
       " 'p',\n",
       " 'o',\n",
       " 't',\n",
       " 'l',\n",
       " 'q',\n",
       " 'w',\n",
       " 'r',\n",
       " 'v',\n",
       " 'z',\n",
       " 'c',\n",
       " 'd',\n",
       " 'i',\n",
       " 'g',\n",
       " '|',\n",
       " 's',\n",
       " 'j',\n",
       " 'n',\n",
       " 'b',\n",
       " \"'\",\n",
       " 'y',\n",
       " 'u',\n",
       " '[UNK]',\n",
       " '[PAD]',\n",
       " '<s>',\n",
       " '</s>']"
      ]
     },
     "execution_count": 5,
     "metadata": {},
     "output_type": "execute_result"
    }
   ],
   "source": [
    "(list(sorted_vocab_dict.keys()))"
   ]
  },
  {
   "cell_type": "code",
   "execution_count": 6,
   "id": "5848aabe-7c1f-4ad8-bdb2-7dc498dd96fe",
   "metadata": {},
   "outputs": [],
   "source": [
    "from transformers import Wav2Vec2ProcessorWithLM\n",
    "\n",
    "processor_with_lm = Wav2Vec2ProcessorWithLM(\n",
    "    feature_extractor=processor.feature_extractor,\n",
    "    tokenizer=processor.tokenizer,\n",
    "    decoder=decoder\n",
    ")"
   ]
  },
  {
   "cell_type": "code",
   "execution_count": 7,
   "id": "b72993d6-08d9-4e4a-a41b-14e41e1514b3",
   "metadata": {},
   "outputs": [
    {
     "data": {
      "text/plain": [
       "Wav2Vec2ProcessorWithLM:\n",
       "- feature_extractor: Wav2Vec2FeatureExtractor {\n",
       "  \"do_normalize\": true,\n",
       "  \"feature_extractor_type\": \"Wav2Vec2FeatureExtractor\",\n",
       "  \"feature_size\": 1,\n",
       "  \"padding_side\": \"right\",\n",
       "  \"padding_value\": 0.0,\n",
       "  \"processor_class\": \"Wav2Vec2Processor\",\n",
       "  \"return_attention_mask\": false,\n",
       "  \"sampling_rate\": 16000\n",
       "}\n",
       "\n",
       "- tokenizer: Wav2Vec2CTCTokenizer(name_or_path='/srv/scratch/z5313567/thesis/wav2vec2/model/AusKidTalk/progressive_finetune_CU_AusKidTalk_lowercase_freeze_lower_transformer_20231015', vocab_size=30, model_max_length=1000000000000000019884624838656, is_fast=False, padding_side='right', truncation_side='right', special_tokens={'bos_token': '<s>', 'eos_token': '</s>', 'unk_token': '[UNK]', 'pad_token': '[PAD]', 'additional_special_tokens': [AddedToken(\"<s>\", rstrip=False, lstrip=False, single_word=False, normalized=True), AddedToken(\"</s>\", rstrip=False, lstrip=False, single_word=False, normalized=True), AddedToken(\"<s>\", rstrip=False, lstrip=False, single_word=False, normalized=True), AddedToken(\"</s>\", rstrip=False, lstrip=False, single_word=False, normalized=True)]}, clean_up_tokenization_spaces=True)"
      ]
     },
     "execution_count": 7,
     "metadata": {},
     "output_type": "execute_result"
    }
   ],
   "source": [
    "processor_with_lm"
   ]
  },
  {
   "cell_type": "code",
   "execution_count": 10,
   "id": "cdb75d71-a67e-4b79-8e74-48751e2e0d48",
   "metadata": {},
   "outputs": [],
   "source": [
    "lm_save_fp = '/srv/scratch/z5313567/thesis/wav2vec2/model/AusKidTalk/progressive_finetune_CU_AusKidTalk_lowercase_freeze_lower_transformer_20231015_with_lm_AusKidTalk_LM_combined_lowercase_v2'"
   ]
  },
  {
   "cell_type": "code",
   "execution_count": 11,
   "id": "dd376ac7-98d1-41d0-ac79-a50beef3b9a0",
   "metadata": {},
   "outputs": [
    {
     "ename": "FileExistsError",
     "evalue": "[Errno 17] File exists: '/srv/scratch/z5313567/thesis/wav2vec2/model/AusKidTalk/progressive_finetune_CU_AusKidTalk_lowercase_freeze_lower_transformer_20231015_with_lm_AusKidTalk_LM_combined_lowercase_v2'",
     "output_type": "error",
     "traceback": [
      "\u001b[0;31m---------------------------------------------------------------------------\u001b[0m",
      "\u001b[0;31mFileExistsError\u001b[0m                           Traceback (most recent call last)",
      "Cell \u001b[0;32mIn[11], line 4\u001b[0m\n\u001b[1;32m      1\u001b[0m \u001b[38;5;28;01mimport\u001b[39;00m \u001b[38;5;21;01mshutil\u001b[39;00m\n\u001b[1;32m      3\u001b[0m \u001b[38;5;66;03m# Copy the entire source_folder to the destination_folder\u001b[39;00m\n\u001b[0;32m----> 4\u001b[0m \u001b[43mshutil\u001b[49m\u001b[38;5;241;43m.\u001b[39;49m\u001b[43mcopytree\u001b[49m\u001b[43m(\u001b[49m\u001b[43mmodel_fp\u001b[49m\u001b[43m,\u001b[49m\u001b[43m \u001b[49m\u001b[43mlm_save_fp\u001b[49m\u001b[43m)\u001b[49m\n",
      "File \u001b[0;32m~/anaconda3/envs/py3.10/lib/python3.10/shutil.py:556\u001b[0m, in \u001b[0;36mcopytree\u001b[0;34m(src, dst, symlinks, ignore, copy_function, ignore_dangling_symlinks, dirs_exist_ok)\u001b[0m\n\u001b[1;32m    554\u001b[0m \u001b[38;5;28;01mwith\u001b[39;00m os\u001b[38;5;241m.\u001b[39mscandir(src) \u001b[38;5;28;01mas\u001b[39;00m itr:\n\u001b[1;32m    555\u001b[0m     entries \u001b[38;5;241m=\u001b[39m \u001b[38;5;28mlist\u001b[39m(itr)\n\u001b[0;32m--> 556\u001b[0m \u001b[38;5;28;01mreturn\u001b[39;00m \u001b[43m_copytree\u001b[49m\u001b[43m(\u001b[49m\u001b[43mentries\u001b[49m\u001b[38;5;241;43m=\u001b[39;49m\u001b[43mentries\u001b[49m\u001b[43m,\u001b[49m\u001b[43m \u001b[49m\u001b[43msrc\u001b[49m\u001b[38;5;241;43m=\u001b[39;49m\u001b[43msrc\u001b[49m\u001b[43m,\u001b[49m\u001b[43m \u001b[49m\u001b[43mdst\u001b[49m\u001b[38;5;241;43m=\u001b[39;49m\u001b[43mdst\u001b[49m\u001b[43m,\u001b[49m\u001b[43m \u001b[49m\u001b[43msymlinks\u001b[49m\u001b[38;5;241;43m=\u001b[39;49m\u001b[43msymlinks\u001b[49m\u001b[43m,\u001b[49m\n\u001b[1;32m    557\u001b[0m \u001b[43m                 \u001b[49m\u001b[43mignore\u001b[49m\u001b[38;5;241;43m=\u001b[39;49m\u001b[43mignore\u001b[49m\u001b[43m,\u001b[49m\u001b[43m \u001b[49m\u001b[43mcopy_function\u001b[49m\u001b[38;5;241;43m=\u001b[39;49m\u001b[43mcopy_function\u001b[49m\u001b[43m,\u001b[49m\n\u001b[1;32m    558\u001b[0m \u001b[43m                 \u001b[49m\u001b[43mignore_dangling_symlinks\u001b[49m\u001b[38;5;241;43m=\u001b[39;49m\u001b[43mignore_dangling_symlinks\u001b[49m\u001b[43m,\u001b[49m\n\u001b[1;32m    559\u001b[0m \u001b[43m                 \u001b[49m\u001b[43mdirs_exist_ok\u001b[49m\u001b[38;5;241;43m=\u001b[39;49m\u001b[43mdirs_exist_ok\u001b[49m\u001b[43m)\u001b[49m\n",
      "File \u001b[0;32m~/anaconda3/envs/py3.10/lib/python3.10/shutil.py:457\u001b[0m, in \u001b[0;36m_copytree\u001b[0;34m(entries, src, dst, symlinks, ignore, copy_function, ignore_dangling_symlinks, dirs_exist_ok)\u001b[0m\n\u001b[1;32m    454\u001b[0m \u001b[38;5;28;01melse\u001b[39;00m:\n\u001b[1;32m    455\u001b[0m     ignored_names \u001b[38;5;241m=\u001b[39m \u001b[38;5;28mset\u001b[39m()\n\u001b[0;32m--> 457\u001b[0m \u001b[43mos\u001b[49m\u001b[38;5;241;43m.\u001b[39;49m\u001b[43mmakedirs\u001b[49m\u001b[43m(\u001b[49m\u001b[43mdst\u001b[49m\u001b[43m,\u001b[49m\u001b[43m \u001b[49m\u001b[43mexist_ok\u001b[49m\u001b[38;5;241;43m=\u001b[39;49m\u001b[43mdirs_exist_ok\u001b[49m\u001b[43m)\u001b[49m\n\u001b[1;32m    458\u001b[0m errors \u001b[38;5;241m=\u001b[39m []\n\u001b[1;32m    459\u001b[0m use_srcentry \u001b[38;5;241m=\u001b[39m copy_function \u001b[38;5;129;01mis\u001b[39;00m copy2 \u001b[38;5;129;01mor\u001b[39;00m copy_function \u001b[38;5;129;01mis\u001b[39;00m copy\n",
      "File \u001b[0;32m~/anaconda3/envs/py3.10/lib/python3.10/os.py:225\u001b[0m, in \u001b[0;36mmakedirs\u001b[0;34m(name, mode, exist_ok)\u001b[0m\n\u001b[1;32m    223\u001b[0m         \u001b[38;5;28;01mreturn\u001b[39;00m\n\u001b[1;32m    224\u001b[0m \u001b[38;5;28;01mtry\u001b[39;00m:\n\u001b[0;32m--> 225\u001b[0m     \u001b[43mmkdir\u001b[49m\u001b[43m(\u001b[49m\u001b[43mname\u001b[49m\u001b[43m,\u001b[49m\u001b[43m \u001b[49m\u001b[43mmode\u001b[49m\u001b[43m)\u001b[49m\n\u001b[1;32m    226\u001b[0m \u001b[38;5;28;01mexcept\u001b[39;00m \u001b[38;5;167;01mOSError\u001b[39;00m:\n\u001b[1;32m    227\u001b[0m     \u001b[38;5;66;03m# Cannot rely on checking for EEXIST, since the operating system\u001b[39;00m\n\u001b[1;32m    228\u001b[0m     \u001b[38;5;66;03m# could give priority to other errors like EACCES or EROFS\u001b[39;00m\n\u001b[1;32m    229\u001b[0m     \u001b[38;5;28;01mif\u001b[39;00m \u001b[38;5;129;01mnot\u001b[39;00m exist_ok \u001b[38;5;129;01mor\u001b[39;00m \u001b[38;5;129;01mnot\u001b[39;00m path\u001b[38;5;241m.\u001b[39misdir(name):\n",
      "\u001b[0;31mFileExistsError\u001b[0m: [Errno 17] File exists: '/srv/scratch/z5313567/thesis/wav2vec2/model/AusKidTalk/progressive_finetune_CU_AusKidTalk_lowercase_freeze_lower_transformer_20231015_with_lm_AusKidTalk_LM_combined_lowercase_v2'"
     ]
    }
   ],
   "source": [
    "import shutil\n",
    "\n",
    "# Copy the entire source_folder to the destination_folder\n",
    "shutil.copytree(model_fp, lm_save_fp)"
   ]
  },
  {
   "cell_type": "code",
   "execution_count": 12,
   "id": "178ee944-77a4-492f-a658-a2c19ada2be7",
   "metadata": {},
   "outputs": [],
   "source": [
    "processor_with_lm.save_pretrained(lm_save_fp)"
   ]
  },
  {
   "cell_type": "code",
   "execution_count": 11,
   "id": "52668d9c-e28d-4624-9465-93c3081d0fdd",
   "metadata": {},
   "outputs": [
    {
     "ename": "SyntaxError",
     "evalue": "invalid decimal literal (2245687693.py, line 1)",
     "output_type": "error",
     "traceback": [
      "\u001b[0;36m  Cell \u001b[0;32mIn[11], line 1\u001b[0;36m\u001b[0m\n\u001b[0;31m    arpa_fp = /srv/scratch/z5313567/thesis/wav2vec2/model/AusKidTalk/progressive_finetune_AusTalk_CU_AusKidTalk_lowercase_freeze_base_model_20231003_with_lm_4gram_big/language_model/4gram_big.arpa\u001b[0m\n\u001b[0m                                                                                                                                                                                      ^\u001b[0m\n\u001b[0;31mSyntaxError\u001b[0m\u001b[0;31m:\u001b[0m invalid decimal literal\n"
     ]
    }
   ],
   "source": [
    "arpa_fp = /srv/scratch/z5313567/thesis/wav2vec2/model/AusKidTalk/progressive_finetune_CU_AusKidTalk_lowercase_freeze_lower_transformer_20231015_with_lm_AusKidTalk_LM_combined_lowercase_v2/language_model/AusKidTalk_LM_combined_lowercase_v2.arpa\n",
    "bin_fp = '/srv/scratch/z5313567/thesis/wav2vec2/model/AusKidTalk/progressive_finetune_CU_AusKidTalk_lowercase_freeze_base_model_20231004_with_lm_AusKidTalk_LM_combined_lowercase_v2/language_model/AusKidTalk_LM_combined_lowercase_v2.bin'"
   ]
  },
  {
   "cell_type": "code",
   "execution_count": 13,
   "id": "3484a75a-beb0-48fd-9387-797bdfa704b4",
   "metadata": {},
   "outputs": [
    {
     "name": "stdout",
     "output_type": "stream",
     "text": [
      "Reading /srv/scratch/z5313567/thesis/wav2vec2/model/AusKidTalk/progressive_finetune_CU_AusKidTalk_lowercase_freeze_lower_transformer_20231015_with_lm_AusKidTalk_LM_combined_lowercase_v2/language_model/AusKidTalk_LM_combined_lowercase_v2.arpa\n",
      "----5---10---15---20---25---30---35---40---45---50---55---60---65---70---75---80---85---90---95--100\n",
      "****************************************************************************************************\n",
      "SUCCESS\n"
     ]
    }
   ],
   "source": [
    "#!kenlm/build/bin/build_binary /srv/scratch/z5313567/thesis/wav2vec2/model/AusKidTalk_scripted_spontaneous_combined/finetune_20230718_with_lm_3/language_model/5gram_correct.arpa /srv/scratch/z5313567/thesis/wav2vec2/model/AusKidTalk_scripted_spontaneous_combined/finetune_20230718_with_lm_3/language_model/5gram.bin\n",
    "!kenlm/build/bin/build_binary /srv/scratch/z5313567/thesis/wav2vec2/model/AusKidTalk/progressive_finetune_CU_AusKidTalk_lowercase_freeze_lower_transformer_20231015_with_lm_AusKidTalk_LM_combined_lowercase_v2/language_model/AusKidTalk_LM_combined_lowercase_v2.arpa /srv/scratch/z5313567/thesis/wav2vec2/model/AusKidTalk/progressive_finetune_CU_AusKidTalk_lowercase_freeze_lower_transformer_20231015_with_lm_AusKidTalk_LM_combined_lowercase_v2/language_model/AusKidTalk_LM_combined_lowercase_v2.bin"
   ]
  },
  {
   "cell_type": "code",
   "execution_count": 14,
   "id": "355d4f54-883c-496d-87c9-c1ffaadc5fff",
   "metadata": {},
   "outputs": [],
   "source": [
    "!rm /srv/scratch/z5313567/thesis/wav2vec2/model/AusKidTalk/progressive_finetune_CU_AusKidTalk_lowercase_freeze_lower_transformer_20231015_with_lm_AusKidTalk_LM_combined_lowercase_v2/language_model/AusKidTalk_LM_combined_lowercase_v2.arpa"
   ]
  },
  {
   "cell_type": "code",
   "execution_count": null,
   "id": "520c8609-e6f7-44d5-a82a-05556ae8528b",
   "metadata": {},
   "outputs": [],
   "source": []
  }
 ],
 "metadata": {
  "kernelspec": {
   "display_name": "CondaEnv3",
   "language": "python",
   "name": "condaenv3"
  },
  "language_info": {
   "codemirror_mode": {
    "name": "ipython",
    "version": 3
   },
   "file_extension": ".py",
   "mimetype": "text/x-python",
   "name": "python",
   "nbconvert_exporter": "python",
   "pygments_lexer": "ipython3",
   "version": "3.10.4"
  }
 },
 "nbformat": 4,
 "nbformat_minor": 5
}
